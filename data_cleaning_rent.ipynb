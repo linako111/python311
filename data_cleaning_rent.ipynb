{
 "cells": [
  {
   "cell_type": "code",
   "execution_count": 299,
   "id": "alpine-congress",
   "metadata": {},
   "outputs": [],
   "source": [
    "import numpy as np\n",
    "import pandas as pd\n",
    "import plotly.express as px\n",
    "import scipy\n",
    "import scipy.stats"
   ]
  },
  {
   "cell_type": "code",
   "execution_count": 302,
   "id": "focal-glass",
   "metadata": {},
   "outputs": [],
   "source": [
    "fname_rents = 'medianAskingRent_All.csv'\n",
    "fname_zips = 'brooklyn_zip_neighborhood.csv'"
   ]
  },
  {
   "cell_type": "code",
   "execution_count": 303,
   "id": "outdoor-touch",
   "metadata": {},
   "outputs": [],
   "source": [
    "rent_df = pd.read_csv(fname_rents)\n",
    "rent_df['Borough'].unique()\n",
    "rent_df = rent_df[rent_df['Borough']=='Brooklyn']\n",
    "rent_df = rent_df.rename(columns={'areaName':'Neighborhood'})\n",
    "zip_df = pd.read_csv(fname_zips)"
   ]
  },
  {
   "cell_type": "code",
   "execution_count": 304,
   "id": "lonely-accent",
   "metadata": {},
   "outputs": [],
   "source": [
    "double_neighborhoods = zip_df[zip_df['Neighborhood'].str.contains(\"/\")]"
   ]
  },
  {
   "cell_type": "code",
   "execution_count": 305,
   "id": "answering-cooling",
   "metadata": {},
   "outputs": [
    {
     "name": "stdout",
     "output_type": "stream",
     "text": [
      "0 Brooklyn Heights/Cobble Hill\n",
      "1 Parkville/Bensonhurst\n",
      "2 Williamsburg/Bedford-Stuyvesant\n",
      "3 Vanderveer/Flatbush\n",
      "4 Bath Beach/Bensonhurst\n",
      "5 Kensington/Windsor Terrace\n",
      "6 Homecrest/Madison\n",
      "7 Carroll Gardens/Red Hook\n",
      "8 Sheepshead Bay/Brighton Beach\n",
      "9 Brower Park/Crown Heights\n",
      "10 Park Slope/Windsor Terrace\n",
      "11 Park Slope/Gowanus\n",
      "12 Bushwick/Bedford-Stuyvesant\n",
      "13 Gravesend/Homecrest\n",
      "14 Industry City/Sunset Park\n",
      "15 Flatlands/Mill Basin\n",
      "[['Homecrest', 'Madison']]\n",
      "[['Parkville', 'Bensonhurst'], ['Vanderveer', 'Flatbush'], ['Brower Park', 'Crown Heights'], ['Gravesend', 'Homecrest'], ['Industry City', 'Sunset Park']]\n"
     ]
    }
   ],
   "source": [
    "lst0 = []\n",
    "lst1 = []\n",
    "for i in range (double_neighborhoods.shape[0]):\n",
    "    \n",
    "    d_neighborhoods = double_neighborhoods.iloc[i]['Neighborhood']\n",
    "    print(i, d_neighborhoods)\n",
    "    n_pair = d_neighborhoods.split(\"/\")\n",
    "    n_rows = rent_df.loc[rent_df['Neighborhood'].isin(n_pair)]\n",
    "    if n_rows.shape[0] == 0:\n",
    "        lst0.append(n_pair)\n",
    "    elif n_rows.shape[0] == 1:\n",
    "        lst1.append(n_pair)\n",
    "    else:\n",
    "        row_df = pd.DataFrame([[np.nan] * len(rent_df.columns)], columns=rent_df.columns)\n",
    "        rent_df = rent_df.append(row_df, ignore_index=True)\n",
    "        rent_df.iloc[-1:]['Neighborhood'] = d_neighborhoods\n",
    "        rent_df.iloc[-1:]['Borough'] = n_rows.iloc[0]['Borough']\n",
    "        rent_df.iloc[-1:]['areaType'] = n_rows.iloc[0]['areaType']\n",
    "        rent_df.iloc[-1:,3:] = n_rows.iloc[:,3:].mean(axis=0)\n",
    "\n",
    "    \n",
    "#     print(n_pair)\n",
    "#     print(n_rows.shape[0])\n",
    "print(lst0)\n",
    "print(lst1)"
   ]
  },
  {
   "cell_type": "code",
   "execution_count": 306,
   "id": "korean-adventure",
   "metadata": {},
   "outputs": [],
   "source": [
    "rent_df.loc[rent_df['Neighborhood']=='Crown Heights','Neighborhood'] = 'Parkville/Bensonhurst'\n",
    "rent_df.loc[rent_df['Neighborhood']=='Gravesend','Neighborhood'] = 'Gravesend/Homecrest'\n",
    "rent_df.loc[rent_df['Neighborhood']=='Sunset Park','Neighborhood'] = 'Industry City/Sunset Park'\n",
    "rent_df.loc[rent_df['Neighborhood']=='Bensonhurst','Neighborhood'] = 'Parkville/Bensonhurst'\n",
    "rent_df.loc[rent_df['Neighborhood']=='Flatbush','Neighborhood'] = 'Vanderveer/Flatbush'"
   ]
  },
  {
   "cell_type": "code",
   "execution_count": 307,
   "id": "according-dealer",
   "metadata": {},
   "outputs": [],
   "source": [
    "# axisvalues=list(range(1,len(rent_df.columns)-2))\n",
    "# def calc_slope(row):\n",
    "#     a = scipy.stats.linregress(row, y=axisvalues)\n",
    "#     return a.slope \n",
    "\n",
    "# rent_df[\"Slope\"]=rent_df.iloc[:,3:].apply(calc_slope,axis=1)\n",
    "# rent_df.drop([\"Slope\"], axis = 1)"
   ]
  },
  {
   "cell_type": "code",
   "execution_count": 308,
   "id": "based-stable",
   "metadata": {},
   "outputs": [],
   "source": [
    "# rent_df.loc[rent_df['Neighborhood']=='Red Hook'].iloc[0,3:-1].plot.line()"
   ]
  },
  {
   "cell_type": "code",
   "execution_count": 309,
   "id": "excited-chapter",
   "metadata": {},
   "outputs": [],
   "source": [
    "rent_df.iloc[:,3:] = round(rent_df.iloc[:,3:].interpolate(axis=1),2)"
   ]
  },
  {
   "cell_type": "code",
   "execution_count": 310,
   "id": "fiscal-metabolism",
   "metadata": {},
   "outputs": [],
   "source": [
    "# rent_df.iloc[:,3:].dropna(how=\"all\")\n",
    "cols = rent_df.columns[3:]\n",
    "rent_df = rent_df.dropna(subset=cols,how=\"all\")\n",
    "# rent_df.iloc[:,3:] = rent_df.iloc[:,3:].dropna(how=\"all\")"
   ]
  },
  {
   "cell_type": "code",
   "execution_count": 311,
   "id": "compliant-necessity",
   "metadata": {},
   "outputs": [],
   "source": [
    "# rent_df"
   ]
  },
  {
   "cell_type": "code",
   "execution_count": 312,
   "id": "altered-pledge",
   "metadata": {},
   "outputs": [],
   "source": [
    "# rent_df.iloc[:,3:].apply(pd.Series.first_valid_index, axis=0)"
   ]
  },
  {
   "cell_type": "code",
   "execution_count": 313,
   "id": "bibliographic-couple",
   "metadata": {},
   "outputs": [],
   "source": [
    "rent_df.to_csv(\"rent_cleaned.csv\")"
   ]
  },
  {
   "cell_type": "code",
   "execution_count": null,
   "id": "dress-assumption",
   "metadata": {},
   "outputs": [],
   "source": []
  }
 ],
 "metadata": {
  "kernelspec": {
   "display_name": "Python 3",
   "language": "python",
   "name": "python3"
  },
  "language_info": {
   "codemirror_mode": {
    "name": "ipython",
    "version": 3
   },
   "file_extension": ".py",
   "mimetype": "text/x-python",
   "name": "python",
   "nbconvert_exporter": "python",
   "pygments_lexer": "ipython3",
   "version": "3.7.4"
  }
 },
 "nbformat": 4,
 "nbformat_minor": 5
}
