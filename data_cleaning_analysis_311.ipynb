{
 "cells": [
  {
   "cell_type": "code",
   "execution_count": 843,
   "id": "animated-nightlife",
   "metadata": {},
   "outputs": [],
   "source": [
    "import numpy as np\n",
    "import pandas as pd\n",
    "import plotly.express as px\n",
    "\n",
    "from dask import dataframe as dd\n",
    "import time\n",
    "import os\n",
    "from dask.distributed import Client\n",
    "\n",
    "fname_311 = '311_Service_Requests_from_2010_to_Present.csv'\n",
    "fname_zips = 'brooklyn_zip_neighborhood.csv'\n",
    "fname_population = 'NY_population_by_zip.csv'\n",
    "fname_rents = 'rent_cleaned.csv'"
   ]
  },
  {
   "cell_type": "code",
   "execution_count": 840,
   "id": "raising-cincinnati",
   "metadata": {},
   "outputs": [
    {
     "name": "stdout",
     "output_type": "stream",
     "text": [
      "6.567031293176115 GB\n"
     ]
    }
   ],
   "source": [
    "# rows_to_keep = [::100, :]\n",
    "print(os.path.getsize(fname_311)/1024/1024/1024 , \"GB\")\n"
   ]
  },
  {
   "cell_type": "code",
   "execution_count": 844,
   "id": "competitive-theme",
   "metadata": {},
   "outputs": [
    {
     "name": "stderr",
     "output_type": "stream",
     "text": [
      "/Users/epavlov/.pyenv/versions/3.7.4/lib/python3.7/site-packages/distributed/node.py:161: UserWarning:\n",
      "\n",
      "Port 8787 is already in use.\n",
      "Perhaps you already have a cluster running?\n",
      "Hosting the HTTP server on port 58507 instead\n",
      "\n"
     ]
    },
    {
     "data": {
      "text/html": [
       "<div>\n",
       "    <div style=\"width: 24px; height: 24px; background-color: #e1e1e1; border: 3px solid #9D9D9D; border-radius: 5px; position: absolute;\"> </div>\n",
       "    <div style=\"margin-left: 48px;\">\n",
       "        <h3 style=\"margin-bottom: 0px;\">Client</h3>\n",
       "        <p style=\"color: #9D9D9D; margin-bottom: 0px;\">Client-f1488498-300d-11ec-ab4b-b29c4acd1aef</p>\n",
       "        <table style=\"width: 100%; text-align: left;\">\n",
       "\n",
       "        <tr>\n",
       "        \n",
       "            <td style=\"text-align: left;\"><strong>Connection method:</strong> Cluster object</td>\n",
       "            <td style=\"text-align: left;\"><strong>Cluster type:</strong> distributed.LocalCluster</td>\n",
       "        \n",
       "        </tr>\n",
       "\n",
       "        \n",
       "            <tr>\n",
       "                <td style=\"text-align: left;\">\n",
       "                    <strong>Dashboard: </strong> <a href=\"http://192.168.1.179:58507/status\" target=\"_blank\">http://192.168.1.179:58507/status</a>\n",
       "                </td>\n",
       "                <td style=\"text-align: left;\"></td>\n",
       "            </tr>\n",
       "        \n",
       "\n",
       "        </table>\n",
       "\n",
       "        \n",
       "            <details>\n",
       "            <summary style=\"margin-bottom: 20px;\"><h3 style=\"display: inline;\">Cluster Info</h3></summary>\n",
       "            <div class=\"jp-RenderedHTMLCommon jp-RenderedHTML jp-mod-trusted jp-OutputArea-output\">\n",
       "    <div style=\"width: 24px; height: 24px; background-color: #e1e1e1; border: 3px solid #9D9D9D; border-radius: 5px; position: absolute;\">\n",
       "    </div>\n",
       "    <div style=\"margin-left: 48px;\">\n",
       "        <h3 style=\"margin-bottom: 0px; margin-top: 0px;\">LocalCluster</h3>\n",
       "        <p style=\"color: #9D9D9D; margin-bottom: 0px;\">5cc7cd41</p>\n",
       "        <table style=\"width: 100%; text-align: left;\">\n",
       "            <tr>\n",
       "                <td style=\"text-align: left;\">\n",
       "                    <strong>Dashboard:</strong> <a href=\"http://192.168.1.179:58507/status\" target=\"_blank\">http://192.168.1.179:58507/status</a>\n",
       "                </td>\n",
       "                <td style=\"text-align: left;\">\n",
       "                    <strong>Workers:</strong> 1\n",
       "                </td>\n",
       "            </tr>\n",
       "            <tr>\n",
       "                <td style=\"text-align: left;\">\n",
       "                    <strong>Total threads:</strong> 8\n",
       "                </td>\n",
       "                <td style=\"text-align: left;\">\n",
       "                    <strong>Total memory:</strong> 16.00 GiB\n",
       "                </td>\n",
       "            </tr>\n",
       "            \n",
       "            <tr>\n",
       "    <td style=\"text-align: left;\"><strong>Status:</strong> running</td>\n",
       "    <td style=\"text-align: left;\"><strong>Using processes:</strong> False</td>\n",
       "</tr>\n",
       "\n",
       "            \n",
       "        </table>\n",
       "\n",
       "        <details>\n",
       "            <summary style=\"margin-bottom: 20px;\">\n",
       "                <h3 style=\"display: inline;\">Scheduler Info</h3>\n",
       "            </summary>\n",
       "\n",
       "            <div style=\"\">\n",
       "    <div>\n",
       "        <div style=\"width: 24px; height: 24px; background-color: #FFF7E5; border: 3px solid #FF6132; border-radius: 5px; position: absolute;\"> </div>\n",
       "        <div style=\"margin-left: 48px;\">\n",
       "            <h3 style=\"margin-bottom: 0px;\">Scheduler</h3>\n",
       "            <p style=\"color: #9D9D9D; margin-bottom: 0px;\">Scheduler-adc60acb-ef81-4053-9863-7610de0ee1d1</p>\n",
       "            <table style=\"width: 100%; text-align: left;\">\n",
       "                <tr>\n",
       "                    <td style=\"text-align: left;\">\n",
       "                        <strong>Comm:</strong> inproc://192.168.1.179/27467/52\n",
       "                    </td>\n",
       "                    <td style=\"text-align: left;\">\n",
       "                        <strong>Workers:</strong> 1\n",
       "                    </td>\n",
       "                </tr>\n",
       "                <tr>\n",
       "                    <td style=\"text-align: left;\">\n",
       "                        <strong>Dashboard:</strong> <a href=\"http://192.168.1.179:58507/status\" target=\"_blank\">http://192.168.1.179:58507/status</a>\n",
       "                    </td>\n",
       "                    <td style=\"text-align: left;\">\n",
       "                        <strong>Total threads:</strong> 8\n",
       "                    </td>\n",
       "                </tr>\n",
       "                <tr>\n",
       "                    <td style=\"text-align: left;\">\n",
       "                        <strong>Started:</strong> Just now\n",
       "                    </td>\n",
       "                    <td style=\"text-align: left;\">\n",
       "                        <strong>Total memory:</strong> 16.00 GiB\n",
       "                    </td>\n",
       "                </tr>\n",
       "            </table>\n",
       "        </div>\n",
       "    </div>\n",
       "\n",
       "    <details style=\"margin-left: 48px;\">\n",
       "        <summary style=\"margin-bottom: 20px;\">\n",
       "            <h3 style=\"display: inline;\">Workers</h3>\n",
       "        </summary>\n",
       "\n",
       "        \n",
       "        <div style=\"margin-bottom: 20px;\">\n",
       "            <div style=\"width: 24px; height: 24px; background-color: #DBF5FF; border: 3px solid #4CC9FF; border-radius: 5px; position: absolute;\"> </div>\n",
       "            <div style=\"margin-left: 48px;\">\n",
       "            <details>\n",
       "                <summary>\n",
       "                    <h4 style=\"margin-bottom: 0px; display: inline;\">Worker: 0</h4>\n",
       "                </summary>\n",
       "                <table style=\"width: 100%; text-align: left;\">\n",
       "                    <tr>\n",
       "                        <td style=\"text-align: left;\">\n",
       "                            <strong>Comm: </strong> inproc://192.168.1.179/27467/55\n",
       "                        </td>\n",
       "                        <td style=\"text-align: left;\">\n",
       "                            <strong>Total threads: </strong> 8\n",
       "                        </td>\n",
       "                    </tr>\n",
       "                    <tr>\n",
       "                        <td style=\"text-align: left;\">\n",
       "                            <strong>Dashboard: </strong> <a href=\"http://192.168.1.179:58508/status\" target=\"_blank\">http://192.168.1.179:58508/status</a>\n",
       "                        </td>\n",
       "                        <td style=\"text-align: left;\">\n",
       "                            <strong>Memory: </strong> 16.00 GiB\n",
       "                        </td>\n",
       "                    </tr>\n",
       "                    <tr>\n",
       "                        <td style=\"text-align: left;\">\n",
       "                            <strong>Nanny: </strong> None\n",
       "                        </td>\n",
       "                        <td style=\"text-align: left;\"></td>\n",
       "                    </tr>\n",
       "                    <tr>\n",
       "                        <td colspan=\"2\" style=\"text-align: left;\">\n",
       "                            <strong>Local directory: </strong> /Users/epavlov/projects/bootcamp/python/project/dask-worker-space/worker-qvrjjvew\n",
       "                        </td>\n",
       "                    </tr>\n",
       "\n",
       "                    \n",
       "\n",
       "                    \n",
       "\n",
       "                </table>\n",
       "            </details>\n",
       "            </div>\n",
       "        </div>\n",
       "        \n",
       "\n",
       "    </details>\n",
       "</div>\n",
       "\n",
       "        </details>\n",
       "    </div>\n",
       "</div>\n",
       "            </details>\n",
       "        \n",
       "\n",
       "    </div>\n",
       "</div>"
      ],
      "text/plain": [
       "<Client: 'inproc://192.168.1.179/27467/52' processes=1 threads=8, memory=16.00 GiB>"
      ]
     },
     "execution_count": 844,
     "metadata": {},
     "output_type": "execute_result"
    }
   ],
   "source": [
    "client = Client(processes=False)\n",
    "client"
   ]
  },
  {
   "cell_type": "code",
   "execution_count": 842,
   "id": "equivalent-shipping",
   "metadata": {},
   "outputs": [
    {
     "name": "stdout",
     "output_type": "stream",
     "text": [
      "Once deleted, variables cannot be recovered. Proceed (y/[n])? y\n"
     ]
    }
   ],
   "source": [
    "%reset"
   ]
  },
  {
   "cell_type": "code",
   "execution_count": 845,
   "id": "dutch-instruction",
   "metadata": {},
   "outputs": [
    {
     "name": "stdout",
     "output_type": "stream",
     "text": [
      "Read csv with dask:  0.10929608345031738 sec\n",
      "Computed csv with dask:  42.23346424102783 sec\n"
     ]
    }
   ],
   "source": [
    "# could not read 7GB file using pandas, found package 'dask' which provides multithreaded capabilities\n",
    "start = time.time()\n",
    "# cols_to_read = [0,1,2,3,5,8,16,19,20,23,24,25]\n",
    "cols_to_read = [0,1,5,8,16,25]\n",
    "# dates = ['Created Date'] \n",
    "# types = {'Unique Key':object, 'Incident Zip':object}\n",
    "types = {'Unique Key':object, 'Incident Zip':object}\n",
    "dask_df = dd.read_csv(fname_311, usecols=cols_to_read, dtype = types)\n",
    "end = time.time()\n",
    "print(\"Read csv with dask: \",(end-start),\"sec\")\n",
    "dask_df = dask_df.compute(scheduler='threads')\n",
    "end1 = time.time()\n",
    "print(\"Computed csv with dask: \",(end1-end),\"sec\")\n",
    "dask_df.to_csv(\"311_short.csv\")"
   ]
  },
  {
   "cell_type": "code",
   "execution_count": 846,
   "id": "thick-fourth",
   "metadata": {},
   "outputs": [
    {
     "name": "stderr",
     "output_type": "stream",
     "text": [
      "/Users/epavlov/.pyenv/versions/3.7.4/lib/python3.7/site-packages/IPython/core/interactiveshell.py:3427: DtypeWarning:\n",
      "\n",
      "Columns (1,4) have mixed types.Specify dtype option on import or set low_memory=False.\n",
      "\n"
     ]
    }
   ],
   "source": [
    "short_311_df = pd.read_csv(\"311_short.csv\")\n",
    "short_311_df['Created Date'] = pd.to_datetime(short_311_df['Created Date'])"
   ]
  },
  {
   "cell_type": "code",
   "execution_count": 853,
   "id": "traditional-symphony",
   "metadata": {},
   "outputs": [],
   "source": [
    "rent_df = pd.read_csv(fname_rents)"
   ]
  },
  {
   "cell_type": "code",
   "execution_count": 854,
   "id": "alert-november",
   "metadata": {},
   "outputs": [],
   "source": [
    "# load a file mapping nyc Brooklyn zip codes to neighborhood names\n",
    "zip_df = pd.read_csv(fname_zips)"
   ]
  },
  {
   "cell_type": "code",
   "execution_count": 856,
   "id": "prostate-anthropology",
   "metadata": {},
   "outputs": [],
   "source": [
    "pop_df = pd.read_csv(fname_population,thousands=',')"
   ]
  },
  {
   "cell_type": "code",
   "execution_count": 857,
   "id": "respected-infrastructure",
   "metadata": {},
   "outputs": [],
   "source": [
    "# df1 = short_311_df.groupby(['Complaint Type']).filter(lambda x : len(x)>5000)\n",
    "res = short_311_df[~(short_311_df['Created Date'] < '2013-06-01')]"
   ]
  },
  {
   "cell_type": "code",
   "execution_count": 858,
   "id": "standard-edmonton",
   "metadata": {},
   "outputs": [],
   "source": [
    "# b_df = dask_df.drop(dask_df[dask_df.Borough != 'BROOKLYN'].index)\n",
    "b_df = res[res.Borough == 'BROOKLYN']"
   ]
  },
  {
   "cell_type": "code",
   "execution_count": 859,
   "id": "demonstrated-guest",
   "metadata": {},
   "outputs": [
    {
     "name": "stderr",
     "output_type": "stream",
     "text": [
      "/Users/epavlov/.pyenv/versions/3.7.4/lib/python3.7/site-packages/pandas/core/frame.py:5042: SettingWithCopyWarning:\n",
      "\n",
      "\n",
      "A value is trying to be set on a copy of a slice from a DataFrame\n",
      "\n",
      "See the caveats in the documentation: https://pandas.pydata.org/pandas-docs/stable/user_guide/indexing.html#returning-a-view-versus-a-copy\n",
      "\n",
      "/Users/epavlov/.pyenv/versions/3.7.4/lib/python3.7/site-packages/pandas/util/_decorators.py:311: SettingWithCopyWarning:\n",
      "\n",
      "\n",
      "A value is trying to be set on a copy of a slice from a DataFrame\n",
      "\n",
      "See the caveats in the documentation: https://pandas.pydata.org/pandas-docs/stable/user_guide/indexing.html#returning-a-view-versus-a-copy\n",
      "\n"
     ]
    }
   ],
   "source": [
    "b_df.rename(columns={\"Incident Zip\": \"Zip\"}, inplace = True)\n",
    "b_df.dropna(subset=['Zip'], inplace=True)\n",
    "b_df = b_df[b_df['Zip'] != 'UNKNOWN']\n",
    "b_df['Zip'] = b_df['Zip'].astype(np.int64)"
   ]
  },
  {
   "cell_type": "code",
   "execution_count": 860,
   "id": "labeled-button",
   "metadata": {},
   "outputs": [],
   "source": [
    "# we only need to keep zip codes for which there is a mapping\n",
    "b_df = b_df[b_df['Zip'].isin(list(zip_df['Zip'].unique()))]"
   ]
  },
  {
   "cell_type": "code",
   "execution_count": 861,
   "id": "asian-chest",
   "metadata": {},
   "outputs": [
    {
     "data": {
      "text/plain": [
       "array([11236, 11214, 11210, 11203, 11237, 11212, 11230, 11219, 11213,\n",
       "       11238, 11234, 11221, 11233, 11229, 11235, 11206, 11211, 11201,\n",
       "       11207, 11217, 11223, 11220, 11232, 11215, 11226, 11209, 11208,\n",
       "       11205, 11204, 11228, 11216, 11218, 11231, 11224, 11225, 11222,\n",
       "       11239])"
      ]
     },
     "execution_count": 861,
     "metadata": {},
     "output_type": "execute_result"
    }
   ],
   "source": [
    "b_df['Zip'].unique()"
   ]
  },
  {
   "cell_type": "code",
   "execution_count": 862,
   "id": "optional-settle",
   "metadata": {},
   "outputs": [],
   "source": [
    "complaints = ['Illegal Parking', \n",
    "        'Noise - Commercial', 'Noise - Residential',\n",
    "       'Derelict Vehicle',\n",
    "       'Indoor Air Quality', 'Noise - Street/Sidewalk', 'Noise - Park',\n",
    "       'Non-Emergency Police Matter', 'Noise - Vehicle',\n",
    "       'Blocked Driveway', 'Drinking', 'Vending', 'Food Establishment',\n",
    "       'BEST/Site Safety',\n",
    "       'General Construction/Plumbing', 'Unsanitary Animal Pvt Property',\n",
    "       'Sidewalk Condition', 'Air Quality', 'Noise', \n",
    "       'Lead', 'Street Condition',\n",
    "       'Hazardous Materials','Curb Condition',\n",
    "       'Root/Sewer/Sidewalk Condition',\n",
    "       'Special Projects Inspection Team (SPIT)', 'Building/Use',\n",
    "       'Graffiti', 'Construction', \n",
    "       'Bus Stop Shelter Complaint', 'Asbestos','Water Quality',\n",
    "       'Industrial Waste', 'Emergency Response Team (ERT)',\n",
    "       'Noise - House of Worship',\n",
    "       'Homeless Encampment', 'Miscellaneous Categories', \n",
    "       'Derelict Vehicles', 'Sanitation Condition', 'Smoking',\n",
    "       'Overflowing Litter Baskets', 'Homeless Person Assistance',\n",
    "       'Other Enforcement', 'PAINT/PLASTER', \n",
    "       'Derelict Bicycle', 'GENERAL', 'Dirty Conditions',\n",
    "       'ELECTRIC', \n",
    "       'Missed Collection (All Materials)', 'Litter Basket / Request',\n",
    "       'Sweeping/Missed', 'SAFETY', 'UNSANITARY CONDITION', \n",
    "       'Broken Parking Meter',\n",
    "       'Construction Safety Enforcement', \n",
    "       'Drug Activity',\n",
    "       'DOF Property - Payment Issue', 'Building Marshals office',\n",
    "       'Borough Office']"
   ]
  },
  {
   "cell_type": "code",
   "execution_count": 863,
   "id": "ranging-palestine",
   "metadata": {},
   "outputs": [],
   "source": [
    "b_df_copy = b_df.copy()"
   ]
  },
  {
   "cell_type": "code",
   "execution_count": 864,
   "id": "permanent-shape",
   "metadata": {},
   "outputs": [
    {
     "data": {
      "text/html": [
       "<div>\n",
       "<style scoped>\n",
       "    .dataframe tbody tr th:only-of-type {\n",
       "        vertical-align: middle;\n",
       "    }\n",
       "\n",
       "    .dataframe tbody tr th {\n",
       "        vertical-align: top;\n",
       "    }\n",
       "\n",
       "    .dataframe thead th {\n",
       "        text-align: right;\n",
       "    }\n",
       "</style>\n",
       "<table border=\"1\" class=\"dataframe\">\n",
       "  <thead>\n",
       "    <tr style=\"text-align: right;\">\n",
       "      <th></th>\n",
       "      <th>Complaint Type</th>\n",
       "      <th>Zip</th>\n",
       "      <th>Created Date</th>\n",
       "      <th>Unnamed: 0</th>\n",
       "      <th>Count</th>\n",
       "      <th>City</th>\n",
       "      <th>Borough</th>\n",
       "      <th>Population</th>\n",
       "      <th>Neighborhood</th>\n",
       "      <th>Incident Density</th>\n",
       "    </tr>\n",
       "  </thead>\n",
       "  <tbody>\n",
       "    <tr>\n",
       "      <th>0</th>\n",
       "      <td>AGENCY</td>\n",
       "      <td>11204</td>\n",
       "      <td>2016-02-29</td>\n",
       "      <td>1</td>\n",
       "      <td>1</td>\n",
       "      <td>1</td>\n",
       "      <td>1</td>\n",
       "      <td>76395</td>\n",
       "      <td>Parkville/Bensonhurst</td>\n",
       "      <td>1.308986</td>\n",
       "    </tr>\n",
       "    <tr>\n",
       "      <th>1</th>\n",
       "      <td>APPLIANCE</td>\n",
       "      <td>11204</td>\n",
       "      <td>2014-01-31</td>\n",
       "      <td>1</td>\n",
       "      <td>1</td>\n",
       "      <td>1</td>\n",
       "      <td>1</td>\n",
       "      <td>76395</td>\n",
       "      <td>Parkville/Bensonhurst</td>\n",
       "      <td>1.308986</td>\n",
       "    </tr>\n",
       "    <tr>\n",
       "      <th>2</th>\n",
       "      <td>APPLIANCE</td>\n",
       "      <td>11204</td>\n",
       "      <td>2014-02-28</td>\n",
       "      <td>1</td>\n",
       "      <td>1</td>\n",
       "      <td>1</td>\n",
       "      <td>1</td>\n",
       "      <td>76395</td>\n",
       "      <td>Parkville/Bensonhurst</td>\n",
       "      <td>1.308986</td>\n",
       "    </tr>\n",
       "    <tr>\n",
       "      <th>3</th>\n",
       "      <td>APPLIANCE</td>\n",
       "      <td>11204</td>\n",
       "      <td>2014-03-31</td>\n",
       "      <td>2</td>\n",
       "      <td>2</td>\n",
       "      <td>2</td>\n",
       "      <td>2</td>\n",
       "      <td>76395</td>\n",
       "      <td>Parkville/Bensonhurst</td>\n",
       "      <td>2.617972</td>\n",
       "    </tr>\n",
       "    <tr>\n",
       "      <th>4</th>\n",
       "      <td>APPLIANCE</td>\n",
       "      <td>11204</td>\n",
       "      <td>2014-04-30</td>\n",
       "      <td>5</td>\n",
       "      <td>5</td>\n",
       "      <td>5</td>\n",
       "      <td>5</td>\n",
       "      <td>76395</td>\n",
       "      <td>Parkville/Bensonhurst</td>\n",
       "      <td>6.544931</td>\n",
       "    </tr>\n",
       "    <tr>\n",
       "      <th>...</th>\n",
       "      <td>...</td>\n",
       "      <td>...</td>\n",
       "      <td>...</td>\n",
       "      <td>...</td>\n",
       "      <td>...</td>\n",
       "      <td>...</td>\n",
       "      <td>...</td>\n",
       "      <td>...</td>\n",
       "      <td>...</td>\n",
       "      <td>...</td>\n",
       "    </tr>\n",
       "    <tr>\n",
       "      <th>210020</th>\n",
       "      <td>Water System</td>\n",
       "      <td>11239</td>\n",
       "      <td>2018-11-30</td>\n",
       "      <td>4</td>\n",
       "      <td>4</td>\n",
       "      <td>4</td>\n",
       "      <td>4</td>\n",
       "      <td>12772</td>\n",
       "      <td>Starrett City</td>\n",
       "      <td>31.318509</td>\n",
       "    </tr>\n",
       "    <tr>\n",
       "      <th>210021</th>\n",
       "      <td>Water System</td>\n",
       "      <td>11239</td>\n",
       "      <td>2018-12-31</td>\n",
       "      <td>5</td>\n",
       "      <td>5</td>\n",
       "      <td>5</td>\n",
       "      <td>5</td>\n",
       "      <td>12772</td>\n",
       "      <td>Starrett City</td>\n",
       "      <td>39.148137</td>\n",
       "    </tr>\n",
       "    <tr>\n",
       "      <th>210022</th>\n",
       "      <td>Water System</td>\n",
       "      <td>11239</td>\n",
       "      <td>2019-01-31</td>\n",
       "      <td>8</td>\n",
       "      <td>8</td>\n",
       "      <td>8</td>\n",
       "      <td>8</td>\n",
       "      <td>12772</td>\n",
       "      <td>Starrett City</td>\n",
       "      <td>62.637018</td>\n",
       "    </tr>\n",
       "    <tr>\n",
       "      <th>210023</th>\n",
       "      <td>Water System</td>\n",
       "      <td>11239</td>\n",
       "      <td>2019-02-28</td>\n",
       "      <td>2</td>\n",
       "      <td>2</td>\n",
       "      <td>2</td>\n",
       "      <td>2</td>\n",
       "      <td>12772</td>\n",
       "      <td>Starrett City</td>\n",
       "      <td>15.659255</td>\n",
       "    </tr>\n",
       "    <tr>\n",
       "      <th>210024</th>\n",
       "      <td>Water System</td>\n",
       "      <td>11239</td>\n",
       "      <td>2019-03-31</td>\n",
       "      <td>1</td>\n",
       "      <td>1</td>\n",
       "      <td>1</td>\n",
       "      <td>1</td>\n",
       "      <td>12772</td>\n",
       "      <td>Starrett City</td>\n",
       "      <td>7.829627</td>\n",
       "    </tr>\n",
       "  </tbody>\n",
       "</table>\n",
       "<p>210025 rows × 10 columns</p>\n",
       "</div>"
      ],
      "text/plain": [
       "       Complaint Type    Zip Created Date  Unnamed: 0  Count  City  Borough  \\\n",
       "0              AGENCY  11204   2016-02-29           1      1     1        1   \n",
       "1           APPLIANCE  11204   2014-01-31           1      1     1        1   \n",
       "2           APPLIANCE  11204   2014-02-28           1      1     1        1   \n",
       "3           APPLIANCE  11204   2014-03-31           2      2     2        2   \n",
       "4           APPLIANCE  11204   2014-04-30           5      5     5        5   \n",
       "...               ...    ...          ...         ...    ...   ...      ...   \n",
       "210020   Water System  11239   2018-11-30           4      4     4        4   \n",
       "210021   Water System  11239   2018-12-31           5      5     5        5   \n",
       "210022   Water System  11239   2019-01-31           8      8     8        8   \n",
       "210023   Water System  11239   2019-02-28           2      2     2        2   \n",
       "210024   Water System  11239   2019-03-31           1      1     1        1   \n",
       "\n",
       "        Population           Neighborhood  Incident Density  \n",
       "0            76395  Parkville/Bensonhurst          1.308986  \n",
       "1            76395  Parkville/Bensonhurst          1.308986  \n",
       "2            76395  Parkville/Bensonhurst          1.308986  \n",
       "3            76395  Parkville/Bensonhurst          2.617972  \n",
       "4            76395  Parkville/Bensonhurst          6.544931  \n",
       "...            ...                    ...               ...  \n",
       "210020       12772          Starrett City         31.318509  \n",
       "210021       12772          Starrett City         39.148137  \n",
       "210022       12772          Starrett City         62.637018  \n",
       "210023       12772          Starrett City         15.659255  \n",
       "210024       12772          Starrett City          7.829627  \n",
       "\n",
       "[210025 rows x 10 columns]"
      ]
     },
     "execution_count": 864,
     "metadata": {},
     "output_type": "execute_result"
    }
   ],
   "source": [
    "# count_df = df1[['Creation Date','Complaint Type','Incident Zip']].groupby([pd.Grouper(key='Created Date', freq='Y'),'Complaint Type','Incident Zip'])['id'].count().reset_index(name=\"count\")\n",
    "count_b_df = b_df.groupby(by = ['Complaint Type', 'Zip', pd.Grouper(key='Created Date', freq='M')]).count()\n",
    "count_b_df.to_csv(\"b_counted_complaints.csv\")\n",
    "# resetting index did not help as after groupby the columns that were used for sorting stopped being columns\n",
    "count_b_df = pd.read_csv(\"b_counted_complaints.csv\")\n",
    "# combine Brooklyn data set with population per zip code\n",
    "count_b_df = pd.merge(count_b_df, pop_df, on=\"Zip\")\n",
    "count_b_df = pd.merge(count_b_df, zip_df, on=\"Zip\")\n",
    "count_b_df.rename(columns={\"Unique Key\": \"Count\"}, inplace = True)\n",
    "count_b_df['Incident Density'] = count_b_df['Count']*100000/count_b_df['Population']\n",
    "count_b_df\n",
    "\n"
   ]
  },
  {
   "cell_type": "code",
   "execution_count": 865,
   "id": "helpful-sweden",
   "metadata": {},
   "outputs": [
    {
     "data": {
      "application/vnd.plotly.v1+json": {
       "config": {
        "plotlyServerURL": "https://plot.ly"
       },
       "data": [
        {
         "hovertemplate": "Neighborhood=Parkville/Bensonhurst<br>Created Date=%{x}<br>Incident Density=%{y}<extra></extra>",
         "legendgroup": "Parkville/Bensonhurst",
         "line": {
          "color": "#636efa",
          "dash": "solid"
         },
         "marker": {
          "symbol": "circle"
         },
         "mode": "lines",
         "name": "Parkville/Bensonhurst",
         "showlegend": true,
         "type": "scattergl",
         "x": [
          "2014-07-31",
          "2014-08-31",
          "2014-09-30",
          "2014-10-31",
          "2015-02-28",
          "2015-05-31",
          "2015-07-31",
          "2015-08-31",
          "2015-09-30",
          "2016-05-31",
          "2016-06-30",
          "2016-07-31",
          "2016-10-31",
          "2017-03-31",
          "2017-04-30",
          "2017-06-30",
          "2017-07-31",
          "2017-08-31",
          "2018-03-31",
          "2018-05-31",
          "2018-07-31",
          "2018-08-31",
          "2018-10-31"
         ],
         "xaxis": "x",
         "y": [
          1.3089861901956934,
          6.544930950978467,
          10.471889521565547,
          1.3089861901956934,
          1.3089861901956934,
          1.3089861901956934,
          1.3089861901956934,
          1.3089861901956934,
          3.92695857058708,
          1.3089861901956934,
          2.617972380391387,
          1.3089861901956934,
          3.92695857058708,
          1.3089861901956934,
          1.3089861901956934,
          1.3089861901956934,
          1.3089861901956934,
          1.3089861901956934,
          1.3089861901956934,
          1.3089861901956934,
          1.3089861901956934,
          2.617972380391387,
          1.3089861901956934
         ],
         "yaxis": "y"
        },
        {
         "hovertemplate": "Neighborhood=Brooklyn Heights/Cobble Hill<br>Created Date=%{x}<br>Incident Density=%{y}<extra></extra>",
         "legendgroup": "Brooklyn Heights/Cobble Hill",
         "line": {
          "color": "#EF553B",
          "dash": "solid"
         },
         "marker": {
          "symbol": "circle"
         },
         "mode": "lines",
         "name": "Brooklyn Heights/Cobble Hill",
         "showlegend": true,
         "type": "scattergl",
         "x": [
          "2013-06-30",
          "2013-07-31",
          "2013-08-31",
          "2013-09-30",
          "2013-11-30",
          "2013-12-31",
          "2014-03-31",
          "2014-05-31",
          "2014-06-30",
          "2014-08-31",
          "2014-09-30",
          "2014-10-31",
          "2014-11-30",
          "2014-12-31",
          "2015-01-31",
          "2015-02-28",
          "2015-04-30",
          "2015-05-31",
          "2015-06-30",
          "2015-08-31",
          "2015-09-30",
          "2015-10-31",
          "2015-11-30",
          "2015-12-31",
          "2016-01-31",
          "2016-02-29",
          "2016-03-31",
          "2016-04-30",
          "2016-05-31",
          "2016-06-30",
          "2016-07-31",
          "2016-08-31",
          "2016-09-30",
          "2016-10-31",
          "2016-11-30",
          "2016-12-31",
          "2017-01-31",
          "2017-06-30",
          "2017-09-30",
          "2017-10-31",
          "2017-11-30",
          "2018-01-31",
          "2018-03-31",
          "2018-04-30",
          "2018-05-31",
          "2018-07-31",
          "2018-08-31",
          "2018-09-30",
          "2018-10-31",
          "2018-11-30",
          "2018-12-31",
          "2019-01-31",
          "2019-03-31",
          "2019-04-30"
         ],
         "xaxis": "x",
         "y": [
          3.155669159645303,
          7.889172899113257,
          4.733503739467954,
          7.889172899113257,
          3.155669159645303,
          1.5778345798226514,
          1.5778345798226514,
          4.733503739467954,
          6.311338319290606,
          7.889172899113257,
          3.155669159645303,
          9.467007478935908,
          3.155669159645303,
          1.5778345798226514,
          1.5778345798226514,
          1.5778345798226514,
          7.889172899113257,
          3.155669159645303,
          6.311338319290606,
          4.733503739467954,
          14.200511218403863,
          14.200511218403863,
          22.08968411751712,
          4.733503739467954,
          1.5778345798226514,
          1.5778345798226514,
          1.5778345798226514,
          1.5778345798226514,
          4.733503739467954,
          4.733503739467954,
          6.311338319290606,
          3.155669159645303,
          6.311338319290606,
          4.733503739467954,
          3.155669159645303,
          3.155669159645303,
          3.155669159645303,
          1.5778345798226514,
          4.733503739467954,
          7.889172899113257,
          1.5778345798226514,
          1.5778345798226514,
          1.5778345798226514,
          1.5778345798226514,
          11.04484205875856,
          3.155669159645303,
          3.155669159645303,
          6.311338319290606,
          4.733503739467954,
          4.733503739467954,
          14.200511218403863,
          1.5778345798226514,
          11.04484205875856,
          4.733503739467954
         ],
         "yaxis": "y"
        },
        {
         "hovertemplate": "Neighborhood=East Flatbush<br>Created Date=%{x}<br>Incident Density=%{y}<extra></extra>",
         "legendgroup": "East Flatbush",
         "line": {
          "color": "#00cc96",
          "dash": "solid"
         },
         "marker": {
          "symbol": "circle"
         },
         "mode": "lines",
         "name": "East Flatbush",
         "showlegend": true,
         "type": "scattergl",
         "x": [
          "2013-06-30",
          "2013-07-31",
          "2013-09-30",
          "2013-10-31",
          "2013-11-30",
          "2013-12-31",
          "2014-01-31",
          "2014-02-28",
          "2014-06-30",
          "2014-07-31",
          "2014-08-31",
          "2014-09-30",
          "2014-11-30",
          "2015-03-31",
          "2015-05-31",
          "2015-07-31",
          "2015-08-31",
          "2015-09-30",
          "2016-01-31",
          "2016-02-29",
          "2016-03-31",
          "2016-04-30",
          "2016-05-31",
          "2016-06-30",
          "2016-07-31",
          "2016-08-31",
          "2016-09-30",
          "2016-10-31",
          "2016-11-30",
          "2017-01-31",
          "2017-04-30",
          "2017-05-31",
          "2017-06-30",
          "2017-07-31",
          "2017-08-31",
          "2017-09-30",
          "2017-10-31",
          "2018-02-28",
          "2018-03-31",
          "2018-04-30",
          "2018-05-31",
          "2018-07-31",
          "2018-08-31",
          "2018-09-30",
          "2018-10-31",
          "2018-12-31"
         ],
         "xaxis": "x",
         "y": [
          5.257278044292567,
          3.9429585332194255,
          2.6286390221462836,
          6.5715975553657096,
          1.3143195110731418,
          2.6286390221462836,
          1.3143195110731418,
          1.3143195110731418,
          6.5715975553657096,
          5.257278044292567,
          3.9429585332194255,
          2.6286390221462836,
          2.6286390221462836,
          2.6286390221462836,
          1.3143195110731418,
          1.3143195110731418,
          1.3143195110731418,
          1.3143195110731418,
          2.6286390221462836,
          1.3143195110731418,
          1.3143195110731418,
          1.3143195110731418,
          3.9429585332194255,
          2.6286390221462836,
          1.3143195110731418,
          2.6286390221462836,
          3.9429585332194255,
          1.3143195110731418,
          3.9429585332194255,
          1.3143195110731418,
          1.3143195110731418,
          2.6286390221462836,
          1.3143195110731418,
          9.200236577511992,
          3.9429585332194255,
          2.6286390221462836,
          3.9429585332194255,
          1.3143195110731418,
          5.257278044292567,
          3.9429585332194255,
          2.6286390221462836,
          1.3143195110731418,
          5.257278044292567,
          14.457514621804561,
          2.6286390221462836,
          1.3143195110731418
         ],
         "yaxis": "y"
        },
        {
         "hovertemplate": "Neighborhood=Fort Greene<br>Created Date=%{x}<br>Incident Density=%{y}<extra></extra>",
         "legendgroup": "Fort Greene",
         "line": {
          "color": "#ab63fa",
          "dash": "solid"
         },
         "marker": {
          "symbol": "circle"
         },
         "mode": "lines",
         "name": "Fort Greene",
         "showlegend": true,
         "type": "scattergl",
         "x": [
          "2013-06-30",
          "2013-07-31",
          "2013-08-31",
          "2013-09-30",
          "2013-10-31",
          "2014-01-31",
          "2014-07-31",
          "2014-09-30",
          "2014-10-31",
          "2014-11-30",
          "2014-12-31",
          "2015-03-31",
          "2015-04-30",
          "2015-05-31",
          "2015-06-30",
          "2015-07-31",
          "2015-08-31",
          "2015-09-30",
          "2015-10-31",
          "2015-11-30",
          "2015-12-31",
          "2016-02-29",
          "2016-05-31",
          "2016-07-31",
          "2016-08-31",
          "2016-09-30",
          "2016-10-31",
          "2017-03-31",
          "2017-05-31",
          "2017-06-30",
          "2017-08-31",
          "2017-09-30",
          "2017-10-31",
          "2017-11-30",
          "2017-12-31",
          "2018-02-28",
          "2018-05-31",
          "2018-06-30",
          "2018-07-31",
          "2018-08-31",
          "2018-09-30",
          "2018-10-31",
          "2018-12-31",
          "2019-01-31"
         ],
         "xaxis": "x",
         "y": [
          2.134790683773456,
          2.134790683773456,
          2.134790683773456,
          2.134790683773456,
          4.269581367546912,
          2.134790683773456,
          2.134790683773456,
          8.539162735093823,
          8.539162735093823,
          2.134790683773456,
          2.134790683773456,
          2.134790683773456,
          10.67395341886728,
          14.943534786414192,
          10.67395341886728,
          4.269581367546912,
          10.67395341886728,
          4.269581367546912,
          6.404372051320368,
          10.67395341886728,
          4.269581367546912,
          2.134790683773456,
          2.134790683773456,
          4.269581367546912,
          6.404372051320368,
          6.404372051320368,
          6.404372051320368,
          2.134790683773456,
          4.269581367546912,
          6.404372051320368,
          2.134790683773456,
          2.134790683773456,
          4.269581367546912,
          2.134790683773456,
          2.134790683773456,
          2.134790683773456,
          8.539162735093823,
          2.134790683773456,
          6.404372051320368,
          8.539162735093823,
          4.269581367546912,
          12.808744102640736,
          4.269581367546912,
          2.134790683773456
         ],
         "yaxis": "y"
        },
        {
         "hovertemplate": "Neighborhood=Williamsburg/Bedford-Stuyvesant<br>Created Date=%{x}<br>Incident Density=%{y}<extra></extra>",
         "legendgroup": "Williamsburg/Bedford-Stuyvesant",
         "line": {
          "color": "#FFA15A",
          "dash": "solid"
         },
         "marker": {
          "symbol": "circle"
         },
         "mode": "lines",
         "name": "Williamsburg/Bedford-Stuyvesant",
         "showlegend": true,
         "type": "scattergl",
         "x": [
          "2013-07-31",
          "2013-08-31",
          "2013-09-30",
          "2013-11-30",
          "2013-12-31",
          "2014-01-31",
          "2014-02-28",
          "2014-03-31",
          "2014-06-30",
          "2014-07-31",
          "2014-08-31",
          "2014-09-30",
          "2014-10-31",
          "2014-11-30",
          "2015-02-28",
          "2015-04-30",
          "2015-05-31",
          "2015-06-30",
          "2015-07-31",
          "2015-08-31",
          "2015-09-30",
          "2015-10-31",
          "2015-11-30",
          "2015-12-31",
          "2016-01-31",
          "2016-02-29",
          "2016-03-31",
          "2016-04-30",
          "2016-05-31",
          "2016-06-30",
          "2016-07-31",
          "2016-08-31",
          "2016-09-30",
          "2016-10-31",
          "2016-11-30",
          "2016-12-31",
          "2017-02-28",
          "2017-03-31",
          "2017-04-30",
          "2017-05-31",
          "2017-06-30",
          "2017-07-31",
          "2017-08-31",
          "2017-09-30",
          "2017-10-31",
          "2017-11-30",
          "2017-12-31",
          "2018-01-31",
          "2018-04-30",
          "2018-05-31",
          "2018-06-30",
          "2018-07-31",
          "2018-08-31",
          "2018-09-30",
          "2018-10-31",
          "2018-11-30",
          "2018-12-31",
          "2019-01-31",
          "2019-02-28",
          "2019-03-31",
          "2019-04-30",
          "2019-05-31"
         ],
         "xaxis": "x",
         "y": [
          1.1309402637352695,
          1.1309402637352695,
          1.1309402637352695,
          4.523761054941078,
          3.3928207912058084,
          1.1309402637352695,
          2.261880527470539,
          2.261880527470539,
          2.261880527470539,
          4.523761054941078,
          4.523761054941078,
          6.785641582411617,
          5.654701318676348,
          3.3928207912058084,
          1.1309402637352695,
          1.1309402637352695,
          2.261880527470539,
          20.35692474723485,
          20.35692474723485,
          14.702223428558504,
          20.35692474723485,
          4.523761054941078,
          4.523761054941078,
          2.261880527470539,
          3.3928207912058084,
          3.3928207912058084,
          5.654701318676348,
          2.261880527470539,
          6.785641582411617,
          7.916581846146887,
          19.22598448349958,
          19.22598448349958,
          3.3928207912058084,
          3.3928207912058084,
          5.654701318676348,
          2.261880527470539,
          2.261880527470539,
          2.261880527470539,
          3.3928207912058084,
          5.654701318676348,
          6.785641582411617,
          7.916581846146887,
          7.916581846146887,
          9.047522109882156,
          2.261880527470539,
          6.785641582411617,
          6.785641582411617,
          5.654701318676348,
          4.523761054941078,
          4.523761054941078,
          5.654701318676348,
          99.52274320870372,
          23.74974553844066,
          5.654701318676348,
          11.309402637352695,
          2.261880527470539,
          2.261880527470539,
          7.916581846146887,
          2.261880527470539,
          1.1309402637352695,
          1.1309402637352695,
          1.1309402637352695
         ],
         "yaxis": "y"
        },
        {
         "hovertemplate": "Neighborhood=East New York<br>Created Date=%{x}<br>Incident Density=%{y}<extra></extra>",
         "legendgroup": "East New York",
         "line": {
          "color": "#19d3f3",
          "dash": "solid"
         },
         "marker": {
          "symbol": "circle"
         },
         "mode": "lines",
         "name": "East New York",
         "showlegend": true,
         "type": "scattergl",
         "x": [
          "2013-06-30",
          "2013-07-31",
          "2013-08-31",
          "2013-09-30",
          "2013-10-31",
          "2013-11-30",
          "2013-12-31",
          "2014-01-31",
          "2014-03-31",
          "2014-04-30",
          "2014-05-31",
          "2014-06-30",
          "2014-07-31",
          "2014-08-31",
          "2014-09-30",
          "2014-10-31",
          "2014-11-30",
          "2015-01-31",
          "2015-03-31",
          "2015-05-31",
          "2015-06-30",
          "2015-07-31",
          "2015-08-31",
          "2015-09-30",
          "2015-10-31",
          "2015-11-30",
          "2015-12-31",
          "2016-02-29",
          "2016-03-31",
          "2016-04-30",
          "2016-05-31",
          "2016-06-30",
          "2016-07-31",
          "2016-08-31",
          "2016-09-30",
          "2016-10-31",
          "2016-11-30",
          "2016-12-31",
          "2017-01-31",
          "2017-03-31",
          "2017-04-30",
          "2017-05-31",
          "2017-06-30",
          "2017-07-31",
          "2017-08-31",
          "2017-09-30",
          "2017-10-31",
          "2017-11-30",
          "2017-12-31",
          "2018-02-28",
          "2018-03-31",
          "2018-04-30",
          "2018-05-31",
          "2018-06-30",
          "2018-07-31",
          "2018-08-31",
          "2018-09-30",
          "2018-10-31",
          "2018-11-30",
          "2018-12-31",
          "2019-02-28",
          "2019-04-30"
         ],
         "xaxis": "x",
         "y": [
          1.0978997178397725,
          4.39159887135909,
          5.489498589198862,
          1.0978997178397725,
          2.195799435679545,
          2.195799435679545,
          1.0978997178397725,
          1.0978997178397725,
          3.2936991535193174,
          1.0978997178397725,
          2.195799435679545,
          1.0978997178397725,
          7.685298024878407,
          1.0978997178397725,
          2.195799435679545,
          7.685298024878407,
          1.0978997178397725,
          2.195799435679545,
          1.0978997178397725,
          6.587398307038635,
          5.489498589198862,
          7.685298024878407,
          2.195799435679545,
          3.2936991535193174,
          6.587398307038635,
          4.39159887135909,
          2.195799435679545,
          6.587398307038635,
          2.195799435679545,
          3.2936991535193174,
          6.587398307038635,
          1.0978997178397725,
          3.2936991535193174,
          13.17479661407727,
          5.489498589198862,
          1.0978997178397725,
          1.0978997178397725,
          1.0978997178397725,
          1.0978997178397725,
          1.0978997178397725,
          5.489498589198862,
          6.587398307038635,
          7.685298024878407,
          14.272696331917043,
          12.076896896237498,
          3.2936991535193174,
          3.2936991535193174,
          1.0978997178397725,
          1.0978997178397725,
          2.195799435679545,
          1.0978997178397725,
          4.39159887135909,
          2.195799435679545,
          5.489498589198862,
          5.489498589198862,
          8.78319774271818,
          3.2936991535193174,
          10.978997178397725,
          3.2936991535193174,
          2.195799435679545,
          1.0978997178397725,
          1.0978997178397725
         ],
         "yaxis": "y"
        },
        {
         "hovertemplate": "Neighborhood=Cypress Hills<br>Created Date=%{x}<br>Incident Density=%{y}<extra></extra>",
         "legendgroup": "Cypress Hills",
         "line": {
          "color": "#FF6692",
          "dash": "solid"
         },
         "marker": {
          "symbol": "circle"
         },
         "mode": "lines",
         "name": "Cypress Hills",
         "showlegend": true,
         "type": "scattergl",
         "x": [
          "2013-07-31",
          "2013-08-31",
          "2013-09-30",
          "2013-11-30",
          "2013-12-31",
          "2014-02-28",
          "2014-03-31",
          "2014-05-31",
          "2014-06-30",
          "2014-07-31",
          "2014-08-31",
          "2014-09-30",
          "2014-11-30",
          "2014-12-31",
          "2015-01-31",
          "2015-04-30",
          "2015-05-31",
          "2015-07-31",
          "2015-08-31",
          "2015-09-30",
          "2015-10-31",
          "2015-11-30",
          "2016-01-31",
          "2016-02-29",
          "2016-03-31",
          "2016-04-30",
          "2016-05-31",
          "2016-06-30",
          "2016-07-31",
          "2016-08-31",
          "2016-09-30",
          "2016-10-31",
          "2016-12-31",
          "2017-02-28",
          "2017-03-31",
          "2017-04-30",
          "2017-05-31",
          "2017-06-30",
          "2017-07-31",
          "2017-09-30",
          "2017-10-31",
          "2017-11-30",
          "2017-12-31",
          "2018-01-31",
          "2018-02-28",
          "2018-03-31",
          "2018-04-30",
          "2018-05-31",
          "2018-06-30",
          "2018-07-31",
          "2018-08-31",
          "2018-09-30",
          "2018-10-31",
          "2018-11-30",
          "2018-12-31",
          "2019-01-31"
         ],
         "xaxis": "x",
         "y": [
          5.9222409759853125,
          1.9740803253284376,
          0.9870401626642188,
          1.9740803253284376,
          0.9870401626642188,
          1.9740803253284376,
          0.9870401626642188,
          0.9870401626642188,
          2.9611204879926563,
          0.9870401626642188,
          0.9870401626642188,
          1.9740803253284376,
          4.935200813321094,
          4.935200813321094,
          2.9611204879926563,
          4.935200813321094,
          0.9870401626642188,
          2.9611204879926563,
          4.935200813321094,
          1.9740803253284376,
          1.9740803253284376,
          1.9740803253284376,
          3.948160650656875,
          0.9870401626642188,
          0.9870401626642188,
          1.9740803253284376,
          0.9870401626642188,
          2.9611204879926563,
          2.9611204879926563,
          1.9740803253284376,
          6.909281138649532,
          0.9870401626642188,
          0.9870401626642188,
          3.948160650656875,
          0.9870401626642188,
          0.9870401626642188,
          3.948160650656875,
          2.9611204879926563,
          2.9611204879926563,
          3.948160650656875,
          3.948160650656875,
          3.948160650656875,
          0.9870401626642188,
          1.9740803253284376,
          0.9870401626642188,
          0.9870401626642188,
          3.948160650656875,
          3.948160650656875,
          2.9611204879926563,
          1.9740803253284376,
          1.9740803253284376,
          0.9870401626642188,
          1.9740803253284376,
          1.9740803253284376,
          0.9870401626642188,
          0.9870401626642188
         ],
         "yaxis": "y"
        },
        {
         "hovertemplate": "Neighborhood=Bay Ridge<br>Created Date=%{x}<br>Incident Density=%{y}<extra></extra>",
         "legendgroup": "Bay Ridge",
         "line": {
          "color": "#B6E880",
          "dash": "solid"
         },
         "marker": {
          "symbol": "circle"
         },
         "mode": "lines",
         "name": "Bay Ridge",
         "showlegend": true,
         "type": "scattergl",
         "x": [
          "2013-07-31",
          "2013-08-31",
          "2013-09-30",
          "2013-10-31",
          "2013-11-30",
          "2013-12-31",
          "2014-01-31",
          "2014-03-31",
          "2014-05-31",
          "2014-06-30",
          "2015-07-31",
          "2015-08-31",
          "2015-09-30",
          "2015-12-31",
          "2016-01-31",
          "2016-02-29",
          "2016-03-31",
          "2016-05-31",
          "2016-07-31",
          "2016-08-31",
          "2016-09-30",
          "2016-10-31",
          "2017-03-31",
          "2017-04-30",
          "2017-06-30",
          "2017-07-31",
          "2017-09-30",
          "2017-10-31",
          "2017-12-31",
          "2018-01-31",
          "2018-02-28",
          "2018-03-31",
          "2018-04-30",
          "2018-05-31",
          "2018-06-30",
          "2018-07-31",
          "2018-08-31",
          "2018-09-30",
          "2018-10-31",
          "2018-11-30",
          "2018-12-31",
          "2019-01-31"
         ],
         "xaxis": "x",
         "y": [
          2.950635862028267,
          2.950635862028267,
          1.4753179310141336,
          1.4753179310141336,
          1.4753179310141336,
          1.4753179310141336,
          1.4753179310141336,
          2.950635862028267,
          1.4753179310141336,
          1.4753179310141336,
          2.950635862028267,
          7.376589655070668,
          4.4259537930424,
          1.4753179310141336,
          1.4753179310141336,
          1.4753179310141336,
          2.950635862028267,
          1.4753179310141336,
          1.4753179310141336,
          4.4259537930424,
          4.4259537930424,
          4.4259537930424,
          1.4753179310141336,
          2.950635862028267,
          4.4259537930424,
          5.901271724056534,
          5.901271724056534,
          14.753179310141336,
          1.4753179310141336,
          4.4259537930424,
          2.950635862028267,
          1.4753179310141336,
          8.8519075860848,
          1.4753179310141336,
          1.4753179310141336,
          1.4753179310141336,
          1.4753179310141336,
          2.950635862028267,
          1.4753179310141336,
          1.4753179310141336,
          2.950635862028267,
          1.4753179310141336
         ],
         "yaxis": "y"
        },
        {
         "hovertemplate": "Neighborhood=Vanderveer/Flatbush<br>Created Date=%{x}<br>Incident Density=%{y}<extra></extra>",
         "legendgroup": "Vanderveer/Flatbush",
         "line": {
          "color": "#FF97FF",
          "dash": "solid"
         },
         "marker": {
          "symbol": "circle"
         },
         "mode": "lines",
         "name": "Vanderveer/Flatbush",
         "showlegend": true,
         "type": "scattergl",
         "x": [
          "2013-08-31",
          "2013-11-30",
          "2013-12-31",
          "2014-01-31",
          "2014-07-31",
          "2014-08-31",
          "2014-09-30",
          "2015-01-31",
          "2015-05-31",
          "2015-07-31",
          "2015-09-30",
          "2015-10-31",
          "2015-12-31",
          "2016-04-30",
          "2016-05-31",
          "2016-06-30",
          "2016-07-31",
          "2016-08-31",
          "2016-09-30",
          "2016-10-31",
          "2016-12-31",
          "2017-05-31",
          "2017-06-30",
          "2017-07-31",
          "2017-08-31",
          "2017-09-30",
          "2017-10-31",
          "2017-11-30",
          "2018-01-31",
          "2018-03-31",
          "2018-04-30",
          "2018-07-31",
          "2018-08-31",
          "2018-09-30",
          "2018-10-31",
          "2018-11-30",
          "2018-12-31",
          "2019-02-28",
          "2019-03-31",
          "2019-04-30"
         ],
         "xaxis": "x",
         "y": [
          1.5464316090620893,
          1.5464316090620893,
          1.5464316090620893,
          1.5464316090620893,
          3.0928632181241786,
          3.0928632181241786,
          4.6392948271862675,
          1.5464316090620893,
          3.0928632181241786,
          3.0928632181241786,
          3.0928632181241786,
          3.0928632181241786,
          3.0928632181241786,
          1.5464316090620893,
          1.5464316090620893,
          4.6392948271862675,
          1.5464316090620893,
          1.5464316090620893,
          4.6392948271862675,
          10.825021263434625,
          1.5464316090620893,
          1.5464316090620893,
          1.5464316090620893,
          3.0928632181241786,
          1.5464316090620893,
          3.0928632181241786,
          4.6392948271862675,
          3.0928632181241786,
          1.5464316090620893,
          1.5464316090620893,
          1.5464316090620893,
          1.5464316090620893,
          1.5464316090620893,
          1.5464316090620893,
          1.5464316090620893,
          1.5464316090620893,
          1.5464316090620893,
          1.5464316090620893,
          1.5464316090620893,
          1.5464316090620893
         ],
         "yaxis": "y"
        },
        {
         "hovertemplate": "Neighborhood=Williamsburg<br>Created Date=%{x}<br>Incident Density=%{y}<extra></extra>",
         "legendgroup": "Williamsburg",
         "line": {
          "color": "#FECB52",
          "dash": "solid"
         },
         "marker": {
          "symbol": "circle"
         },
         "mode": "lines",
         "name": "Williamsburg",
         "showlegend": true,
         "type": "scattergl",
         "x": [
          "2013-06-30",
          "2013-07-31",
          "2013-08-31",
          "2013-09-30",
          "2013-10-31",
          "2014-04-30",
          "2014-05-31",
          "2014-06-30",
          "2014-07-31",
          "2014-08-31",
          "2014-09-30",
          "2014-10-31",
          "2015-01-31",
          "2015-02-28",
          "2015-03-31",
          "2015-04-30",
          "2015-05-31",
          "2015-06-30",
          "2015-07-31",
          "2015-08-31",
          "2015-09-30",
          "2015-10-31",
          "2015-11-30",
          "2015-12-31",
          "2016-03-31",
          "2016-07-31",
          "2016-08-31",
          "2016-09-30",
          "2016-10-31",
          "2016-12-31",
          "2017-02-28",
          "2017-04-30",
          "2017-05-31",
          "2017-06-30",
          "2017-07-31",
          "2017-08-31",
          "2017-09-30",
          "2017-11-30",
          "2017-12-31",
          "2018-01-31",
          "2018-02-28",
          "2018-03-31",
          "2018-04-30",
          "2018-05-31",
          "2018-06-30",
          "2018-07-31",
          "2018-08-31",
          "2018-09-30",
          "2018-10-31",
          "2018-11-30",
          "2018-12-31",
          "2019-01-31",
          "2019-02-28",
          "2019-03-31",
          "2019-04-30",
          "2019-05-31"
         ],
         "xaxis": "x",
         "y": [
          0.9697157763059647,
          1.9394315526119295,
          3.878863105223859,
          2.909147328917894,
          1.9394315526119295,
          0.9697157763059647,
          0.9697157763059647,
          1.9394315526119295,
          1.9394315526119295,
          4.848578881529823,
          10.666873539365612,
          3.878863105223859,
          0.9697157763059647,
          0.9697157763059647,
          2.909147328917894,
          0.9697157763059647,
          2.909147328917894,
          2.909147328917894,
          5.818294657835788,
          11.636589315671577,
          6.788010434141753,
          5.818294657835788,
          5.818294657835788,
          0.9697157763059647,
          0.9697157763059647,
          5.818294657835788,
          2.909147328917894,
          3.878863105223859,
          1.9394315526119295,
          0.9697157763059647,
          1.9394315526119295,
          6.788010434141753,
          6.788010434141753,
          1.9394315526119295,
          0.9697157763059647,
          8.727441986753682,
          5.818294657835788,
          0.9697157763059647,
          0.9697157763059647,
          2.909147328917894,
          5.818294657835788,
          11.636589315671577,
          3.878863105223859,
          3.878863105223859,
          1.9394315526119295,
          5.818294657835788,
          2.909147328917894,
          1.9394315526119295,
          4.848578881529823,
          1.9394315526119295,
          0.9697157763059647,
          2.909147328917894,
          0.9697157763059647,
          3.878863105223859,
          0.9697157763059647,
          1.9394315526119295
         ],
         "yaxis": "y"
        },
        {
         "hovertemplate": "Neighborhood=Brownsville<br>Created Date=%{x}<br>Incident Density=%{y}<extra></extra>",
         "legendgroup": "Brownsville",
         "line": {
          "color": "#636efa",
          "dash": "solid"
         },
         "marker": {
          "symbol": "circle"
         },
         "mode": "lines",
         "name": "Brownsville",
         "showlegend": true,
         "type": "scattergl",
         "x": [
          "2013-07-31",
          "2013-08-31",
          "2013-09-30",
          "2013-10-31",
          "2013-12-31",
          "2014-03-31",
          "2014-07-31",
          "2014-08-31",
          "2014-09-30",
          "2014-10-31",
          "2014-11-30",
          "2015-01-31",
          "2015-02-28",
          "2015-07-31",
          "2015-08-31",
          "2015-12-31",
          "2016-01-31",
          "2016-03-31",
          "2016-06-30",
          "2016-07-31",
          "2016-08-31",
          "2016-09-30",
          "2016-10-31",
          "2017-01-31",
          "2017-06-30",
          "2017-07-31",
          "2017-08-31",
          "2017-09-30",
          "2017-10-31",
          "2017-11-30",
          "2018-01-31",
          "2018-02-28",
          "2018-04-30",
          "2018-05-31",
          "2018-06-30",
          "2018-07-31",
          "2018-08-31",
          "2018-10-31",
          "2018-11-30",
          "2018-12-31"
         ],
         "xaxis": "x",
         "y": [
          1.3226638449837973,
          1.3226638449837973,
          1.3226638449837973,
          2.6453276899675946,
          1.3226638449837973,
          1.3226638449837973,
          1.3226638449837973,
          1.3226638449837973,
          1.3226638449837973,
          2.6453276899675946,
          1.3226638449837973,
          3.967991534951392,
          2.6453276899675946,
          1.3226638449837973,
          3.967991534951392,
          1.3226638449837973,
          1.3226638449837973,
          1.3226638449837973,
          1.3226638449837973,
          2.6453276899675946,
          3.967991534951392,
          1.3226638449837973,
          1.3226638449837973,
          2.6453276899675946,
          2.6453276899675946,
          2.6453276899675946,
          2.6453276899675946,
          5.290655379935189,
          2.6453276899675946,
          3.967991534951392,
          3.967991534951392,
          1.3226638449837973,
          1.3226638449837973,
          2.6453276899675946,
          2.6453276899675946,
          3.967991534951392,
          2.6453276899675946,
          1.3226638449837973,
          1.3226638449837973,
          1.3226638449837973
         ],
         "yaxis": "y"
        },
        {
         "hovertemplate": "Neighborhood=Brower Park/Crown Heights<br>Created Date=%{x}<br>Incident Density=%{y}<extra></extra>",
         "legendgroup": "Brower Park/Crown Heights",
         "line": {
          "color": "#EF553B",
          "dash": "solid"
         },
         "marker": {
          "symbol": "circle"
         },
         "mode": "lines",
         "name": "Brower Park/Crown Heights",
         "showlegend": true,
         "type": "scattergl",
         "x": [
          "2013-07-31",
          "2013-08-31",
          "2013-09-30",
          "2013-11-30",
          "2014-01-31",
          "2014-02-28",
          "2014-05-31",
          "2014-06-30",
          "2014-08-31",
          "2014-10-31",
          "2014-11-30",
          "2015-01-31",
          "2015-02-28",
          "2015-04-30",
          "2015-07-31",
          "2015-08-31",
          "2015-09-30",
          "2015-10-31",
          "2015-12-31",
          "2016-06-30",
          "2016-07-31",
          "2016-08-31",
          "2016-09-30",
          "2016-10-31",
          "2016-11-30",
          "2016-12-31",
          "2017-01-31",
          "2017-05-31",
          "2017-06-30",
          "2017-07-31",
          "2017-10-31",
          "2017-11-30",
          "2018-02-28",
          "2018-03-31",
          "2018-04-30",
          "2018-05-31",
          "2018-06-30",
          "2018-08-31",
          "2018-09-30",
          "2018-10-31",
          "2018-12-31",
          "2019-01-31",
          "2019-02-28",
          "2019-04-30"
         ],
         "xaxis": "x",
         "y": [
          1.4912908613696014,
          2.982581722739203,
          2.982581722739203,
          2.982581722739203,
          1.4912908613696014,
          1.4912908613696014,
          1.4912908613696014,
          2.982581722739203,
          2.982581722739203,
          1.4912908613696014,
          2.982581722739203,
          13.421617752326414,
          2.982581722739203,
          1.4912908613696014,
          7.456454306848007,
          1.4912908613696014,
          2.982581722739203,
          1.4912908613696014,
          1.4912908613696014,
          2.982581722739203,
          8.94774516821761,
          2.982581722739203,
          4.473872584108805,
          1.4912908613696014,
          1.4912908613696014,
          1.4912908613696014,
          1.4912908613696014,
          2.982581722739203,
          1.4912908613696014,
          2.982581722739203,
          1.4912908613696014,
          2.982581722739203,
          2.982581722739203,
          1.4912908613696014,
          1.4912908613696014,
          2.982581722739203,
          2.982581722739203,
          7.456454306848007,
          2.982581722739203,
          5.965163445478406,
          1.4912908613696014,
          1.4912908613696014,
          1.4912908613696014,
          1.4912908613696014
         ],
         "yaxis": "y"
        },
        {
         "hovertemplate": "Neighborhood=Bath Beach/Bensonhurst<br>Created Date=%{x}<br>Incident Density=%{y}<extra></extra>",
         "legendgroup": "Bath Beach/Bensonhurst",
         "line": {
          "color": "#00cc96",
          "dash": "solid"
         },
         "marker": {
          "symbol": "circle"
         },
         "mode": "lines",
         "name": "Bath Beach/Bensonhurst",
         "showlegend": true,
         "type": "scattergl",
         "x": [
          "2013-10-31",
          "2014-04-30",
          "2014-07-31",
          "2014-08-31",
          "2014-09-30",
          "2014-12-31",
          "2015-04-30",
          "2015-06-30",
          "2015-08-31",
          "2015-10-31",
          "2015-11-30",
          "2015-12-31",
          "2016-03-31",
          "2016-04-30",
          "2016-06-30",
          "2016-07-31",
          "2016-08-31",
          "2016-09-30",
          "2017-02-28",
          "2017-04-30",
          "2017-07-31",
          "2017-08-31",
          "2017-09-30",
          "2017-10-31",
          "2017-11-30",
          "2017-12-31",
          "2018-02-28",
          "2018-03-31",
          "2018-04-30",
          "2018-05-31",
          "2018-06-30",
          "2018-07-31",
          "2018-08-31",
          "2018-09-30",
          "2018-10-31",
          "2018-11-30",
          "2018-12-31",
          "2019-01-31",
          "2019-02-28",
          "2019-04-30",
          "2019-05-31"
         ],
         "xaxis": "x",
         "y": [
          2.1588014334441517,
          1.0794007167220758,
          2.1588014334441517,
          1.0794007167220758,
          1.0794007167220758,
          1.0794007167220758,
          2.1588014334441517,
          1.0794007167220758,
          2.1588014334441517,
          1.0794007167220758,
          4.317602866888303,
          1.0794007167220758,
          1.0794007167220758,
          1.0794007167220758,
          1.0794007167220758,
          1.0794007167220758,
          1.0794007167220758,
          1.0794007167220758,
          1.0794007167220758,
          1.0794007167220758,
          2.1588014334441517,
          5.397003583610379,
          6.476404300332455,
          1.0794007167220758,
          3.2382021501662277,
          1.0794007167220758,
          1.0794007167220758,
          1.0794007167220758,
          5.397003583610379,
          7.5558050170545314,
          2.1588014334441517,
          5.397003583610379,
          3.2382021501662277,
          1.0794007167220758,
          3.2382021501662277,
          3.2382021501662277,
          3.2382021501662277,
          1.0794007167220758,
          1.0794007167220758,
          3.2382021501662277,
          1.0794007167220758
         ],
         "yaxis": "y"
        },
        {
         "hovertemplate": "Neighborhood=Park Slope/Windsor Terrace<br>Created Date=%{x}<br>Incident Density=%{y}<extra></extra>",
         "legendgroup": "Park Slope/Windsor Terrace",
         "line": {
          "color": "#ab63fa",
          "dash": "solid"
         },
         "marker": {
          "symbol": "circle"
         },
         "mode": "lines",
         "name": "Park Slope/Windsor Terrace",
         "showlegend": true,
         "type": "scattergl",
         "x": [
          "2013-06-30",
          "2013-07-31",
          "2013-08-31",
          "2013-09-30",
          "2013-10-31",
          "2013-12-31",
          "2014-04-30",
          "2014-05-31",
          "2014-06-30",
          "2014-07-31",
          "2014-08-31",
          "2014-09-30",
          "2014-10-31",
          "2014-12-31",
          "2015-01-31",
          "2015-04-30",
          "2015-07-31",
          "2015-08-31",
          "2015-09-30",
          "2015-10-31",
          "2015-11-30",
          "2015-12-31",
          "2016-01-31",
          "2016-03-31",
          "2016-05-31",
          "2016-08-31",
          "2016-09-30",
          "2016-10-31",
          "2016-11-30",
          "2016-12-31",
          "2017-01-31",
          "2017-02-28",
          "2017-03-31",
          "2017-04-30",
          "2017-05-31",
          "2017-06-30",
          "2017-07-31",
          "2017-08-31",
          "2017-09-30",
          "2017-10-31",
          "2017-11-30",
          "2018-01-31",
          "2018-03-31",
          "2018-04-30",
          "2018-06-30",
          "2018-07-31",
          "2018-08-31",
          "2018-09-30",
          "2018-10-31",
          "2018-11-30",
          "2018-12-31",
          "2019-01-31",
          "2019-03-31"
         ],
         "xaxis": "x",
         "y": [
          1.4311679761853648,
          4.2935039285560945,
          2.8623359523707297,
          1.4311679761853648,
          4.2935039285560945,
          4.2935039285560945,
          4.2935039285560945,
          2.8623359523707297,
          7.155839880926824,
          4.2935039285560945,
          14.311679761853648,
          1.4311679761853648,
          4.2935039285560945,
          2.8623359523707297,
          1.4311679761853648,
          5.724671904741459,
          2.8623359523707297,
          8.587007857112189,
          2.8623359523707297,
          1.4311679761853648,
          7.155839880926824,
          1.4311679761853648,
          4.2935039285560945,
          1.4311679761853648,
          2.8623359523707297,
          11.449343809482919,
          10.018175833297555,
          1.4311679761853648,
          4.2935039285560945,
          2.8623359523707297,
          4.2935039285560945,
          1.4311679761853648,
          4.2935039285560945,
          4.2935039285560945,
          11.449343809482919,
          30.05452749989266,
          17.174015714224378,
          8.587007857112189,
          11.449343809482919,
          2.8623359523707297,
          1.4311679761853648,
          5.724671904741459,
          2.8623359523707297,
          4.2935039285560945,
          4.2935039285560945,
          1.4311679761853648,
          7.155839880926824,
          1.4311679761853648,
          1.4311679761853648,
          2.8623359523707297,
          1.4311679761853648,
          1.4311679761853648,
          4.2935039285560945
         ],
         "yaxis": "y"
        },
        {
         "hovertemplate": "Neighborhood=Bedford-Stuyvesant<br>Created Date=%{x}<br>Incident Density=%{y}<extra></extra>",
         "legendgroup": "Bedford-Stuyvesant",
         "line": {
          "color": "#FFA15A",
          "dash": "solid"
         },
         "marker": {
          "symbol": "circle"
         },
         "mode": "lines",
         "name": "Bedford-Stuyvesant",
         "showlegend": true,
         "type": "scattergl",
         "x": [
          "2013-07-31",
          "2013-08-31",
          "2013-09-30",
          "2013-11-30",
          "2013-12-31",
          "2014-05-31",
          "2014-06-30",
          "2014-07-31",
          "2014-08-31",
          "2014-09-30",
          "2014-10-31",
          "2014-11-30",
          "2014-12-31",
          "2015-03-31",
          "2015-04-30",
          "2015-05-31",
          "2015-06-30",
          "2015-07-31",
          "2015-08-31",
          "2015-10-31",
          "2015-12-31",
          "2016-01-31",
          "2016-03-31",
          "2016-04-30",
          "2016-06-30",
          "2016-07-31",
          "2016-08-31",
          "2016-09-30",
          "2016-10-31",
          "2016-11-30",
          "2016-12-31",
          "2017-02-28",
          "2017-04-30",
          "2017-05-31",
          "2017-06-30",
          "2017-07-31",
          "2017-08-31",
          "2017-09-30",
          "2017-10-31",
          "2017-11-30",
          "2018-02-28",
          "2018-03-31",
          "2018-04-30",
          "2018-05-31",
          "2018-06-30",
          "2018-07-31",
          "2018-08-31",
          "2018-09-30",
          "2018-10-31",
          "2018-11-30",
          "2019-02-28",
          "2019-03-31",
          "2019-04-30",
          "2019-05-31"
         ],
         "xaxis": "x",
         "y": [
          3.4610459280794657,
          1.7305229640397328,
          6.922091856158931,
          1.7305229640397328,
          1.7305229640397328,
          12.11366074827813,
          13.844183712317863,
          8.652614820198664,
          8.652614820198664,
          1.7305229640397328,
          1.7305229640397328,
          3.4610459280794657,
          3.4610459280794657,
          1.7305229640397328,
          1.7305229640397328,
          5.191568892119198,
          3.4610459280794657,
          8.652614820198664,
          3.4610459280794657,
          5.191568892119198,
          1.7305229640397328,
          3.4610459280794657,
          10.383137784238397,
          1.7305229640397328,
          6.922091856158931,
          1.7305229640397328,
          15.574706676357595,
          20.766275568476793,
          8.652614820198664,
          13.844183712317863,
          1.7305229640397328,
          1.7305229640397328,
          3.4610459280794657,
          6.922091856158931,
          6.922091856158931,
          15.574706676357595,
          10.383137784238397,
          12.11366074827813,
          20.766275568476793,
          13.844183712317863,
          3.4610459280794657,
          1.7305229640397328,
          13.844183712317863,
          8.652614820198664,
          10.383137784238397,
          29.418890388675457,
          19.03575260443706,
          5.191568892119198,
          8.652614820198664,
          10.383137784238397,
          3.4610459280794657,
          8.652614820198664,
          10.383137784238397,
          1.7305229640397328
         ],
         "yaxis": "y"
        },
        {
         "hovertemplate": "Neighborhood=Park Slope/Gowanus<br>Created Date=%{x}<br>Incident Density=%{y}<extra></extra>",
         "legendgroup": "Park Slope/Gowanus",
         "line": {
          "color": "#19d3f3",
          "dash": "solid"
         },
         "marker": {
          "symbol": "circle"
         },
         "mode": "lines",
         "name": "Park Slope/Gowanus",
         "showlegend": true,
         "type": "scattergl",
         "x": [
          "2013-07-31",
          "2013-08-31",
          "2013-09-30",
          "2013-10-31",
          "2013-11-30",
          "2013-12-31",
          "2014-01-31",
          "2014-04-30",
          "2014-05-31",
          "2014-06-30",
          "2014-07-31",
          "2014-08-31",
          "2014-09-30",
          "2014-10-31",
          "2014-11-30",
          "2014-12-31",
          "2015-01-31",
          "2015-02-28",
          "2015-03-31",
          "2015-05-31",
          "2015-06-30",
          "2015-07-31",
          "2015-08-31",
          "2015-09-30",
          "2015-10-31",
          "2015-11-30",
          "2015-12-31",
          "2016-01-31",
          "2016-02-29",
          "2016-07-31",
          "2016-08-31",
          "2016-09-30",
          "2016-10-31",
          "2016-11-30",
          "2016-12-31",
          "2017-04-30",
          "2017-06-30",
          "2017-07-31",
          "2017-08-31",
          "2017-09-30",
          "2017-10-31",
          "2018-01-31",
          "2018-03-31",
          "2018-04-30",
          "2018-05-31",
          "2018-06-30",
          "2018-07-31",
          "2018-08-31",
          "2018-09-30",
          "2018-10-31",
          "2018-11-30",
          "2018-12-31",
          "2019-03-31",
          "2019-04-30"
         ],
         "xaxis": "x",
         "y": [
          11.958003491737019,
          4.783201396694808,
          9.566402793389615,
          16.741204888431827,
          4.783201396694808,
          4.783201396694808,
          2.391600698347404,
          2.391600698347404,
          19.13280558677923,
          7.174802095042212,
          16.741204888431827,
          9.566402793389615,
          14.349604190084424,
          11.958003491737019,
          14.349604190084424,
          7.174802095042212,
          2.391600698347404,
          7.174802095042212,
          2.391600698347404,
          14.349604190084424,
          4.783201396694808,
          2.391600698347404,
          7.174802095042212,
          11.958003491737019,
          16.741204888431827,
          4.783201396694808,
          16.741204888431827,
          4.783201396694808,
          2.391600698347404,
          4.783201396694808,
          23.916006983474038,
          52.61521536364289,
          9.566402793389615,
          2.391600698347404,
          2.391600698347404,
          2.391600698347404,
          4.783201396694808,
          2.391600698347404,
          2.391600698347404,
          14.349604190084424,
          2.391600698347404,
          2.391600698347404,
          11.958003491737019,
          4.783201396694808,
          11.958003491737019,
          31.09080907851625,
          9.566402793389615,
          11.958003491737019,
          23.916006983474038,
          14.349604190084424,
          9.566402793389615,
          2.391600698347404,
          9.566402793389615,
          11.958003491737019
         ],
         "yaxis": "y"
        },
        {
         "hovertemplate": "Neighborhood=Kensington/Windsor Terrace<br>Created Date=%{x}<br>Incident Density=%{y}<extra></extra>",
         "legendgroup": "Kensington/Windsor Terrace",
         "line": {
          "color": "#FF6692",
          "dash": "solid"
         },
         "marker": {
          "symbol": "circle"
         },
         "mode": "lines",
         "name": "Kensington/Windsor Terrace",
         "showlegend": true,
         "type": "scattergl",
         "x": [
          "2013-07-31",
          "2013-08-31",
          "2013-09-30",
          "2013-10-31",
          "2013-11-30",
          "2013-12-31",
          "2014-07-31",
          "2014-09-30",
          "2014-10-31",
          "2014-11-30",
          "2014-12-31",
          "2015-04-30",
          "2015-05-31",
          "2015-06-30",
          "2015-07-31",
          "2015-08-31",
          "2015-09-30",
          "2015-10-31",
          "2015-11-30",
          "2015-12-31",
          "2016-02-29",
          "2016-06-30",
          "2016-07-31",
          "2016-08-31",
          "2016-09-30",
          "2016-10-31",
          "2016-11-30",
          "2017-01-31",
          "2017-04-30",
          "2017-05-31",
          "2017-06-30",
          "2017-07-31",
          "2017-08-31",
          "2017-09-30",
          "2017-10-31",
          "2017-11-30",
          "2018-03-31",
          "2018-04-30",
          "2018-05-31",
          "2018-06-30",
          "2018-07-31",
          "2018-08-31",
          "2018-09-30",
          "2018-10-31",
          "2018-11-30",
          "2019-04-30"
         ],
         "xaxis": "x",
         "y": [
          2.761935011669175,
          1.3809675058345876,
          2.761935011669175,
          1.3809675058345876,
          1.3809675058345876,
          1.3809675058345876,
          1.3809675058345876,
          4.142902517503763,
          4.142902517503763,
          1.3809675058345876,
          6.904837529172939,
          2.761935011669175,
          1.3809675058345876,
          4.142902517503763,
          6.904837529172939,
          4.142902517503763,
          8.285805035007526,
          2.761935011669175,
          1.3809675058345876,
          4.142902517503763,
          1.3809675058345876,
          2.761935011669175,
          4.142902517503763,
          1.3809675058345876,
          9.666772540842114,
          5.52387002333835,
          4.142902517503763,
          4.142902517503763,
          4.142902517503763,
          11.0477400466767,
          9.666772540842114,
          6.904837529172939,
          12.42870755251129,
          4.142902517503763,
          4.142902517503763,
          1.3809675058345876,
          2.761935011669175,
          4.142902517503763,
          5.52387002333835,
          1.3809675058345876,
          2.761935011669175,
          1.3809675058345876,
          2.761935011669175,
          8.285805035007526,
          1.3809675058345876,
          1.3809675058345876
         ],
         "yaxis": "y"
        },
        {
         "hovertemplate": "Neighborhood=Borough Park<br>Created Date=%{x}<br>Incident Density=%{y}<extra></extra>",
         "legendgroup": "Borough Park",
         "line": {
          "color": "#B6E880",
          "dash": "solid"
         },
         "marker": {
          "symbol": "circle"
         },
         "mode": "lines",
         "name": "Borough Park",
         "showlegend": true,
         "type": "scattergl",
         "x": [
          "2013-10-31",
          "2014-05-31",
          "2014-07-31",
          "2014-08-31",
          "2014-09-30",
          "2014-11-30",
          "2015-01-31",
          "2015-03-31",
          "2015-04-30",
          "2015-05-31",
          "2015-06-30",
          "2015-07-31",
          "2015-08-31",
          "2015-09-30",
          "2015-10-31",
          "2015-11-30",
          "2015-12-31",
          "2016-01-31",
          "2016-03-31",
          "2016-05-31",
          "2016-06-30",
          "2016-07-31",
          "2016-08-31",
          "2016-09-30",
          "2016-10-31",
          "2016-11-30",
          "2017-01-31",
          "2017-02-28",
          "2017-03-31",
          "2017-04-30",
          "2017-05-31",
          "2017-06-30",
          "2017-07-31",
          "2017-09-30",
          "2017-10-31",
          "2017-11-30",
          "2017-12-31",
          "2018-01-31",
          "2018-02-28",
          "2018-04-30",
          "2018-05-31",
          "2018-06-30",
          "2018-07-31",
          "2018-08-31",
          "2018-09-30",
          "2018-10-31",
          "2018-11-30",
          "2018-12-31",
          "2019-01-31",
          "2019-03-31",
          "2019-04-30"
         ],
         "xaxis": "x",
         "y": [
          2.237862393841403,
          1.1189311969207014,
          4.475724787682806,
          2.237862393841403,
          3.356793590762104,
          2.237862393841403,
          1.1189311969207014,
          1.1189311969207014,
          3.356793590762104,
          2.237862393841403,
          2.237862393841403,
          1.1189311969207014,
          3.356793590762104,
          2.237862393841403,
          2.237862393841403,
          1.1189311969207014,
          2.237862393841403,
          2.237862393841403,
          2.237862393841403,
          2.237862393841403,
          7.8325183784449095,
          5.594655984603507,
          4.475724787682806,
          6.713587181524208,
          3.356793590762104,
          3.356793590762104,
          1.1189311969207014,
          1.1189311969207014,
          3.356793590762104,
          13.427174363048415,
          5.594655984603507,
          2.237862393841403,
          1.1189311969207014,
          3.356793590762104,
          1.1189311969207014,
          2.237862393841403,
          1.1189311969207014,
          1.1189311969207014,
          1.1189311969207014,
          3.356793590762104,
          4.475724787682806,
          10.070380772286311,
          2.237862393841403,
          2.237862393841403,
          2.237862393841403,
          1.1189311969207014,
          10.070380772286311,
          2.237862393841403,
          1.1189311969207014,
          2.237862393841403,
          3.356793590762104
         ],
         "yaxis": "y"
        },
        {
         "hovertemplate": "Neighborhood=Sunset Park<br>Created Date=%{x}<br>Incident Density=%{y}<extra></extra>",
         "legendgroup": "Sunset Park",
         "line": {
          "color": "#FF97FF",
          "dash": "solid"
         },
         "marker": {
          "symbol": "circle"
         },
         "mode": "lines",
         "name": "Sunset Park",
         "showlegend": true,
         "type": "scattergl",
         "x": [
          "2013-06-30",
          "2013-08-31",
          "2013-10-31",
          "2013-12-31",
          "2014-01-31",
          "2014-02-28",
          "2014-04-30",
          "2014-05-31",
          "2014-06-30",
          "2014-07-31",
          "2014-08-31",
          "2014-09-30",
          "2014-10-31",
          "2014-11-30",
          "2014-12-31",
          "2015-02-28",
          "2015-05-31",
          "2015-06-30",
          "2015-07-31",
          "2015-08-31",
          "2015-09-30",
          "2016-01-31",
          "2016-03-31",
          "2016-04-30",
          "2016-05-31",
          "2016-06-30",
          "2016-07-31",
          "2016-08-31",
          "2016-09-30",
          "2016-10-31",
          "2017-01-31",
          "2017-02-28",
          "2017-03-31",
          "2017-05-31",
          "2017-06-30",
          "2017-07-31",
          "2017-08-31",
          "2017-09-30",
          "2017-10-31",
          "2017-11-30",
          "2017-12-31",
          "2018-01-31",
          "2018-04-30",
          "2018-06-30",
          "2018-07-31",
          "2018-08-31",
          "2018-09-30",
          "2018-10-31",
          "2018-11-30",
          "2019-02-28",
          "2019-04-30",
          "2019-05-31"
         ],
         "xaxis": "x",
         "y": [
          1.0733068584308254,
          1.0733068584308254,
          2.146613716861651,
          1.0733068584308254,
          1.0733068584308254,
          1.0733068584308254,
          1.0733068584308254,
          4.293227433723302,
          2.146613716861651,
          1.0733068584308254,
          2.146613716861651,
          1.0733068584308254,
          2.146613716861651,
          1.0733068584308254,
          2.146613716861651,
          1.0733068584308254,
          2.146613716861651,
          5.366534292154127,
          8.586454867446603,
          7.513148009015778,
          5.366534292154127,
          1.0733068584308254,
          1.0733068584308254,
          1.0733068584308254,
          1.0733068584308254,
          9.659761725877429,
          5.366534292154127,
          2.146613716861651,
          3.219920575292476,
          4.293227433723302,
          1.0733068584308254,
          1.0733068584308254,
          1.0733068584308254,
          2.146613716861651,
          4.293227433723302,
          4.293227433723302,
          4.293227433723302,
          4.293227433723302,
          4.293227433723302,
          2.146613716861651,
          1.0733068584308254,
          1.0733068584308254,
          1.0733068584308254,
          1.0733068584308254,
          1.0733068584308254,
          2.146613716861651,
          2.146613716861651,
          4.293227433723302,
          2.146613716861651,
          2.146613716861651,
          2.146613716861651,
          1.0733068584308254
         ],
         "yaxis": "y"
        },
        {
         "hovertemplate": "Neighborhood=Bushwick/Bedford-Stuyvesant<br>Created Date=%{x}<br>Incident Density=%{y}<extra></extra>",
         "legendgroup": "Bushwick/Bedford-Stuyvesant",
         "line": {
          "color": "#FECB52",
          "dash": "solid"
         },
         "marker": {
          "symbol": "circle"
         },
         "mode": "lines",
         "name": "Bushwick/Bedford-Stuyvesant",
         "showlegend": true,
         "type": "scattergl",
         "x": [
          "2013-07-31",
          "2013-08-31",
          "2013-09-30",
          "2013-10-31",
          "2013-11-30",
          "2013-12-31",
          "2014-01-31",
          "2014-02-28",
          "2014-04-30",
          "2014-05-31",
          "2014-06-30",
          "2014-07-31",
          "2014-08-31",
          "2014-09-30",
          "2014-10-31",
          "2014-11-30",
          "2015-02-28",
          "2015-03-31",
          "2015-04-30",
          "2015-05-31",
          "2015-06-30",
          "2015-07-31",
          "2015-08-31",
          "2015-09-30",
          "2015-10-31",
          "2015-11-30",
          "2015-12-31",
          "2016-01-31",
          "2016-02-29",
          "2016-03-31",
          "2016-05-31",
          "2016-06-30",
          "2016-07-31",
          "2016-08-31",
          "2016-10-31",
          "2016-11-30",
          "2016-12-31",
          "2017-01-31",
          "2017-02-28",
          "2017-04-30",
          "2017-06-30",
          "2017-07-31",
          "2017-08-31",
          "2017-09-30",
          "2017-10-31",
          "2017-12-31",
          "2018-01-31",
          "2018-02-28",
          "2018-03-31",
          "2018-05-31",
          "2018-06-30",
          "2018-07-31",
          "2018-08-31",
          "2018-09-30",
          "2018-10-31",
          "2018-11-30",
          "2018-12-31",
          "2019-02-28",
          "2019-03-31",
          "2019-04-30"
         ],
         "xaxis": "x",
         "y": [
          3.600489666594657,
          3.600489666594657,
          2.400326444396438,
          3.600489666594657,
          1.200163222198219,
          3.600489666594657,
          2.400326444396438,
          3.600489666594657,
          2.400326444396438,
          2.400326444396438,
          1.200163222198219,
          8.401142555387533,
          3.600489666594657,
          4.800652888792876,
          2.400326444396438,
          2.400326444396438,
          1.200163222198219,
          1.200163222198219,
          7.200979333189314,
          3.600489666594657,
          4.800652888792876,
          9.601305777585752,
          6.000816110991095,
          4.800652888792876,
          4.800652888792876,
          3.600489666594657,
          3.600489666594657,
          1.200163222198219,
          1.200163222198219,
          3.600489666594657,
          3.600489666594657,
          4.800652888792876,
          2.400326444396438,
          6.000816110991095,
          2.400326444396438,
          2.400326444396438,
          2.400326444396438,
          1.200163222198219,
          1.200163222198219,
          3.600489666594657,
          2.400326444396438,
          8.401142555387533,
          6.000816110991095,
          6.000816110991095,
          1.200163222198219,
          3.600489666594657,
          2.400326444396438,
          1.200163222198219,
          3.600489666594657,
          7.200979333189314,
          4.800652888792876,
          3.600489666594657,
          6.000816110991095,
          16.802285110775067,
          2.400326444396438,
          4.800652888792876,
          2.400326444396438,
          2.400326444396438,
          2.400326444396438,
          1.200163222198219
         ],
         "yaxis": "y"
        },
        {
         "hovertemplate": "Neighborhood=Greenpoint<br>Created Date=%{x}<br>Incident Density=%{y}<extra></extra>",
         "legendgroup": "Greenpoint",
         "line": {
          "color": "#636efa",
          "dash": "solid"
         },
         "marker": {
          "symbol": "circle"
         },
         "mode": "lines",
         "name": "Greenpoint",
         "showlegend": true,
         "type": "scattergl",
         "x": [
          "2013-06-30",
          "2013-07-31",
          "2013-08-31",
          "2013-09-30",
          "2013-10-31",
          "2013-11-30",
          "2013-12-31",
          "2014-04-30",
          "2014-05-31",
          "2014-06-30",
          "2014-07-31",
          "2014-08-31",
          "2014-09-30",
          "2014-10-31",
          "2014-11-30",
          "2014-12-31",
          "2015-01-31",
          "2015-02-28",
          "2015-03-31",
          "2015-04-30",
          "2015-06-30",
          "2015-07-31",
          "2015-08-31",
          "2015-09-30",
          "2015-10-31",
          "2015-11-30",
          "2015-12-31",
          "2016-01-31",
          "2016-03-31",
          "2016-04-30",
          "2016-05-31",
          "2016-06-30",
          "2016-07-31",
          "2016-08-31",
          "2016-09-30",
          "2016-10-31",
          "2016-11-30",
          "2017-01-31",
          "2017-03-31",
          "2017-04-30",
          "2017-05-31",
          "2017-06-30",
          "2017-07-31",
          "2017-08-31",
          "2017-09-30",
          "2017-10-31",
          "2017-11-30",
          "2017-12-31",
          "2018-01-31",
          "2018-02-28",
          "2018-03-31",
          "2018-04-30",
          "2018-05-31",
          "2018-06-30",
          "2018-07-31",
          "2018-08-31",
          "2018-09-30",
          "2018-10-31",
          "2018-11-30",
          "2019-02-28",
          "2019-03-31",
          "2019-04-30"
         ],
         "xaxis": "x",
         "y": [
          10.848340203948796,
          16.272510305923195,
          5.424170101974398,
          13.560425254935994,
          5.424170101974398,
          5.424170101974398,
          8.136255152961597,
          2.712085050987199,
          2.712085050987199,
          5.424170101974398,
          16.272510305923195,
          10.848340203948796,
          8.136255152961597,
          8.136255152961597,
          8.136255152961597,
          8.136255152961597,
          5.424170101974398,
          5.424170101974398,
          13.560425254935994,
          37.96919071382079,
          10.848340203948796,
          13.560425254935994,
          10.848340203948796,
          21.696680407897592,
          40.681275764807985,
          10.848340203948796,
          8.136255152961597,
          2.712085050987199,
          2.712085050987199,
          2.712085050987199,
          13.560425254935994,
          18.984595356910393,
          13.560425254935994,
          32.54502061184639,
          18.984595356910393,
          21.696680407897592,
          8.136255152961597,
          2.712085050987199,
          5.424170101974398,
          5.424170101974398,
          5.424170101974398,
          5.424170101974398,
          18.984595356910393,
          13.560425254935994,
          8.136255152961597,
          10.848340203948796,
          13.560425254935994,
          2.712085050987199,
          2.712085050987199,
          27.12085050987199,
          5.424170101974398,
          10.848340203948796,
          10.848340203948796,
          5.424170101974398,
          46.10544586678238,
          21.696680407897592,
          24.40876545888479,
          8.136255152961597,
          8.136255152961597,
          2.712085050987199,
          5.424170101974398,
          2.712085050987199
         ],
         "yaxis": "y"
        },
        {
         "hovertemplate": "Neighborhood=Gravesend/Homecrest<br>Created Date=%{x}<br>Incident Density=%{y}<extra></extra>",
         "legendgroup": "Gravesend/Homecrest",
         "line": {
          "color": "#EF553B",
          "dash": "solid"
         },
         "marker": {
          "symbol": "circle"
         },
         "mode": "lines",
         "name": "Gravesend/Homecrest",
         "showlegend": true,
         "type": "scattergl",
         "x": [
          "2014-05-31",
          "2014-06-30",
          "2014-07-31",
          "2015-06-30",
          "2015-07-31",
          "2015-08-31",
          "2015-10-31",
          "2015-11-30",
          "2016-02-29",
          "2016-03-31",
          "2016-05-31",
          "2016-06-30",
          "2016-07-31",
          "2016-08-31",
          "2016-09-30",
          "2016-10-31",
          "2016-12-31",
          "2017-01-31",
          "2017-02-28",
          "2017-03-31",
          "2017-06-30",
          "2017-09-30",
          "2017-10-31",
          "2017-11-30",
          "2018-01-31",
          "2018-05-31",
          "2018-06-30",
          "2018-08-31",
          "2018-09-30",
          "2018-10-31",
          "2018-11-30",
          "2018-12-31",
          "2019-01-31",
          "2019-02-28",
          "2019-03-31",
          "2019-04-30"
         ],
         "xaxis": "x",
         "y": [
          1.228682361036025,
          1.228682361036025,
          2.45736472207205,
          1.228682361036025,
          2.45736472207205,
          8.600776527252174,
          1.228682361036025,
          1.228682361036025,
          1.228682361036025,
          2.45736472207205,
          1.228682361036025,
          8.600776527252174,
          1.228682361036025,
          1.228682361036025,
          2.45736472207205,
          1.228682361036025,
          1.228682361036025,
          1.228682361036025,
          1.228682361036025,
          1.228682361036025,
          2.45736472207205,
          2.45736472207205,
          1.228682361036025,
          1.228682361036025,
          1.228682361036025,
          1.228682361036025,
          2.45736472207205,
          3.686047083108075,
          4.9147294441441,
          1.228682361036025,
          1.228682361036025,
          1.228682361036025,
          1.228682361036025,
          1.228682361036025,
          1.228682361036025,
          2.45736472207205
         ],
         "yaxis": "y"
        },
        {
         "hovertemplate": "Neighborhood=Coney Island<br>Created Date=%{x}<br>Incident Density=%{y}<extra></extra>",
         "legendgroup": "Coney Island",
         "line": {
          "color": "#00cc96",
          "dash": "solid"
         },
         "marker": {
          "symbol": "circle"
         },
         "mode": "lines",
         "name": "Coney Island",
         "showlegend": true,
         "type": "scattergl",
         "x": [
          "2013-08-31",
          "2013-09-30",
          "2013-10-31",
          "2014-01-31",
          "2014-04-30",
          "2014-06-30",
          "2014-07-31",
          "2014-08-31",
          "2014-09-30",
          "2014-11-30",
          "2014-12-31",
          "2015-02-28",
          "2015-04-30",
          "2015-05-31",
          "2015-06-30",
          "2015-07-31",
          "2015-08-31",
          "2015-10-31",
          "2016-01-31",
          "2016-03-31",
          "2016-04-30",
          "2016-05-31",
          "2016-06-30",
          "2016-07-31",
          "2016-08-31",
          "2016-09-30",
          "2016-10-31",
          "2017-06-30",
          "2017-07-31",
          "2017-08-31",
          "2017-09-30",
          "2017-11-30",
          "2018-03-31",
          "2018-05-31",
          "2018-07-31",
          "2018-11-30",
          "2018-12-31",
          "2019-04-30"
         ],
         "xaxis": "x",
         "y": [
          4.367289005349929,
          2.1836445026749645,
          2.1836445026749645,
          2.1836445026749645,
          2.1836445026749645,
          6.550933508024894,
          8.734578010699858,
          8.734578010699858,
          2.1836445026749645,
          4.367289005349929,
          2.1836445026749645,
          2.1836445026749645,
          2.1836445026749645,
          6.550933508024894,
          4.367289005349929,
          13.101867016049788,
          4.367289005349929,
          2.1836445026749645,
          2.1836445026749645,
          2.1836445026749645,
          2.1836445026749645,
          6.550933508024894,
          8.734578010699858,
          4.367289005349929,
          4.367289005349929,
          15.285511518724752,
          2.1836445026749645,
          4.367289005349929,
          8.734578010699858,
          4.367289005349929,
          2.1836445026749645,
          2.1836445026749645,
          2.1836445026749645,
          2.1836445026749645,
          6.550933508024894,
          2.1836445026749645,
          6.550933508024894,
          4.367289005349929
         ],
         "yaxis": "y"
        },
        {
         "hovertemplate": "Neighborhood=Crown Heights<br>Created Date=%{x}<br>Incident Density=%{y}<extra></extra>",
         "legendgroup": "Crown Heights",
         "line": {
          "color": "#ab63fa",
          "dash": "solid"
         },
         "marker": {
          "symbol": "circle"
         },
         "mode": "lines",
         "name": "Crown Heights",
         "showlegend": true,
         "type": "scattergl",
         "x": [
          "2013-07-31",
          "2013-08-31",
          "2013-10-31",
          "2013-11-30",
          "2013-12-31",
          "2014-02-28",
          "2014-04-30",
          "2014-05-31",
          "2014-06-30",
          "2014-07-31",
          "2014-10-31",
          "2014-11-30",
          "2014-12-31",
          "2015-04-30",
          "2015-07-31",
          "2015-08-31",
          "2015-09-30",
          "2015-10-31",
          "2015-11-30",
          "2016-04-30",
          "2016-06-30",
          "2016-08-31",
          "2016-10-31",
          "2016-12-31",
          "2017-01-31",
          "2017-03-31",
          "2017-04-30",
          "2017-06-30",
          "2017-07-31",
          "2017-10-31",
          "2017-11-30",
          "2017-12-31",
          "2018-01-31",
          "2018-02-28",
          "2018-03-31",
          "2018-05-31",
          "2018-06-30",
          "2018-07-31",
          "2018-08-31",
          "2018-09-30",
          "2018-11-30",
          "2019-02-28",
          "2019-03-31"
         ],
         "xaxis": "x",
         "y": [
          3.5174730473627744,
          3.5174730473627744,
          3.5174730473627744,
          1.7587365236813872,
          3.5174730473627744,
          1.7587365236813872,
          1.7587365236813872,
          1.7587365236813872,
          3.5174730473627744,
          1.7587365236813872,
          3.5174730473627744,
          1.7587365236813872,
          1.7587365236813872,
          1.7587365236813872,
          3.5174730473627744,
          1.7587365236813872,
          3.5174730473627744,
          3.5174730473627744,
          1.7587365236813872,
          3.5174730473627744,
          8.793682618406937,
          5.276209571044162,
          1.7587365236813872,
          7.034946094725549,
          1.7587365236813872,
          5.276209571044162,
          5.276209571044162,
          5.276209571044162,
          1.7587365236813872,
          5.276209571044162,
          1.7587365236813872,
          1.7587365236813872,
          1.7587365236813872,
          5.276209571044162,
          3.5174730473627744,
          3.5174730473627744,
          5.276209571044162,
          1.7587365236813872,
          5.276209571044162,
          5.276209571044162,
          3.5174730473627744,
          10.552419142088324,
          8.793682618406937
         ],
         "yaxis": "y"
        },
        {
         "hovertemplate": "Neighborhood=Flatbush<br>Created Date=%{x}<br>Incident Density=%{y}<extra></extra>",
         "legendgroup": "Flatbush",
         "line": {
          "color": "#FFA15A",
          "dash": "solid"
         },
         "marker": {
          "symbol": "circle"
         },
         "mode": "lines",
         "name": "Flatbush",
         "showlegend": true,
         "type": "scattergl",
         "x": [
          "2013-06-30",
          "2013-08-31",
          "2013-09-30",
          "2013-10-31",
          "2013-11-30",
          "2013-12-31",
          "2014-03-31",
          "2014-04-30",
          "2014-05-31",
          "2014-06-30",
          "2014-07-31",
          "2014-08-31",
          "2014-09-30",
          "2014-10-31",
          "2014-11-30",
          "2014-12-31",
          "2015-01-31",
          "2015-02-28",
          "2015-03-31",
          "2015-04-30",
          "2015-05-31",
          "2015-06-30",
          "2015-07-31",
          "2015-08-31",
          "2015-09-30",
          "2015-10-31",
          "2015-11-30",
          "2015-12-31",
          "2016-02-29",
          "2016-03-31",
          "2016-05-31",
          "2016-06-30",
          "2016-07-31",
          "2016-08-31",
          "2016-09-30",
          "2016-10-31",
          "2016-11-30",
          "2017-02-28",
          "2017-03-31",
          "2017-04-30",
          "2017-05-31",
          "2017-06-30",
          "2017-07-31",
          "2017-08-31",
          "2017-09-30",
          "2017-10-31",
          "2017-11-30",
          "2017-12-31",
          "2018-01-31",
          "2018-02-28",
          "2018-03-31",
          "2018-04-30",
          "2018-05-31",
          "2018-06-30",
          "2018-07-31",
          "2018-08-31",
          "2018-09-30",
          "2018-10-31",
          "2018-11-30",
          "2018-12-31",
          "2019-01-31",
          "2019-03-31",
          "2019-04-30"
         ],
         "xaxis": "x",
         "y": [
          1.0044396231342534,
          4.017758492537014,
          2.008879246268507,
          3.0133188694027604,
          2.008879246268507,
          4.017758492537014,
          1.0044396231342534,
          1.0044396231342534,
          4.017758492537014,
          3.0133188694027604,
          2.008879246268507,
          3.0133188694027604,
          3.0133188694027604,
          1.0044396231342534,
          1.0044396231342534,
          1.0044396231342534,
          2.008879246268507,
          3.0133188694027604,
          3.0133188694027604,
          4.017758492537014,
          3.0133188694027604,
          9.03995660820828,
          7.031077361939774,
          7.031077361939774,
          6.026637738805521,
          4.017758492537014,
          3.0133188694027604,
          4.017758492537014,
          2.008879246268507,
          3.0133188694027604,
          1.0044396231342534,
          3.0133188694027604,
          1.0044396231342534,
          4.017758492537014,
          1.0044396231342534,
          4.017758492537014,
          2.008879246268507,
          1.0044396231342534,
          5.022198115671267,
          7.031077361939774,
          6.026637738805521,
          6.026637738805521,
          7.031077361939774,
          6.026637738805521,
          2.008879246268507,
          2.008879246268507,
          3.0133188694027604,
          2.008879246268507,
          5.022198115671267,
          1.0044396231342534,
          1.0044396231342534,
          1.0044396231342534,
          2.008879246268507,
          4.017758492537014,
          4.017758492537014,
          33.14650756343036,
          6.026637738805521,
          8.035516985074027,
          5.022198115671267,
          1.0044396231342534,
          5.022198115671267,
          1.0044396231342534,
          2.008879246268507
         ],
         "yaxis": "y"
        },
        {
         "hovertemplate": "Neighborhood=Dyker Heights<br>Created Date=%{x}<br>Incident Density=%{y}<extra></extra>",
         "legendgroup": "Dyker Heights",
         "line": {
          "color": "#19d3f3",
          "dash": "solid"
         },
         "marker": {
          "symbol": "circle"
         },
         "mode": "lines",
         "name": "Dyker Heights",
         "showlegend": true,
         "type": "scattergl",
         "x": [
          "2014-06-30",
          "2015-03-31",
          "2015-04-30",
          "2015-09-30",
          "2016-06-30",
          "2016-09-30",
          "2018-03-31",
          "2018-07-31",
          "2018-08-31",
          "2019-04-30"
         ],
         "xaxis": "x",
         "y": [
          4.509786236132407,
          6.764679354198611,
          2.2548931180662035,
          2.2548931180662035,
          4.509786236132407,
          2.2548931180662035,
          4.509786236132407,
          2.2548931180662035,
          2.2548931180662035,
          2.2548931180662035
         ],
         "yaxis": "y"
        },
        {
         "hovertemplate": "Neighborhood=Homecrest/Madison<br>Created Date=%{x}<br>Incident Density=%{y}<extra></extra>",
         "legendgroup": "Homecrest/Madison",
         "line": {
          "color": "#FF6692",
          "dash": "solid"
         },
         "marker": {
          "symbol": "circle"
         },
         "mode": "lines",
         "name": "Homecrest/Madison",
         "showlegend": true,
         "type": "scattergl",
         "x": [
          "2013-07-31",
          "2013-08-31",
          "2013-10-31",
          "2013-12-31",
          "2014-01-31",
          "2014-05-31",
          "2014-06-30",
          "2014-08-31",
          "2014-09-30",
          "2014-12-31",
          "2015-05-31",
          "2015-06-30",
          "2015-07-31",
          "2015-08-31",
          "2015-09-30",
          "2015-12-31",
          "2016-01-31",
          "2016-05-31",
          "2016-06-30",
          "2016-07-31",
          "2016-09-30",
          "2016-11-30",
          "2016-12-31",
          "2017-03-31",
          "2017-04-30",
          "2017-06-30",
          "2017-07-31",
          "2017-08-31",
          "2017-09-30",
          "2017-10-31",
          "2017-12-31",
          "2018-01-31",
          "2018-04-30",
          "2018-07-31",
          "2018-08-31",
          "2018-09-30",
          "2018-11-30",
          "2019-03-31",
          "2019-05-31"
         ],
         "xaxis": "x",
         "y": [
          1.203094358690552,
          2.406188717381104,
          1.203094358690552,
          1.203094358690552,
          1.203094358690552,
          1.203094358690552,
          3.609283076071656,
          2.406188717381104,
          1.203094358690552,
          2.406188717381104,
          2.406188717381104,
          8.421660510833865,
          1.203094358690552,
          3.609283076071656,
          1.203094358690552,
          1.203094358690552,
          1.203094358690552,
          2.406188717381104,
          1.203094358690552,
          2.406188717381104,
          2.406188717381104,
          2.406188717381104,
          2.406188717381104,
          1.203094358690552,
          1.203094358690552,
          1.203094358690552,
          2.406188717381104,
          9.624754869524416,
          3.609283076071656,
          7.218566152143312,
          2.406188717381104,
          3.609283076071656,
          6.01547179345276,
          1.203094358690552,
          3.609283076071656,
          2.406188717381104,
          1.203094358690552,
          1.203094358690552,
          1.203094358690552
         ],
         "yaxis": "y"
        },
        {
         "hovertemplate": "Neighborhood=Midwood<br>Created Date=%{x}<br>Incident Density=%{y}<extra></extra>",
         "legendgroup": "Midwood",
         "line": {
          "color": "#B6E880",
          "dash": "solid"
         },
         "marker": {
          "symbol": "circle"
         },
         "mode": "lines",
         "name": "Midwood",
         "showlegend": true,
         "type": "scattergl",
         "x": [
          "2013-07-31",
          "2013-08-31",
          "2013-09-30",
          "2013-10-31",
          "2013-11-30",
          "2013-12-31",
          "2014-01-31",
          "2014-03-31",
          "2014-05-31",
          "2014-06-30",
          "2014-08-31",
          "2014-09-30",
          "2014-11-30",
          "2014-12-31",
          "2015-03-31",
          "2015-04-30",
          "2015-05-31",
          "2015-06-30",
          "2015-07-31",
          "2015-08-31",
          "2015-09-30",
          "2015-10-31",
          "2015-11-30",
          "2015-12-31",
          "2016-02-29",
          "2016-05-31",
          "2016-06-30",
          "2016-07-31",
          "2016-08-31",
          "2016-09-30",
          "2016-10-31",
          "2016-11-30",
          "2017-01-31",
          "2017-02-28",
          "2017-03-31",
          "2017-04-30",
          "2017-05-31",
          "2017-06-30",
          "2017-07-31",
          "2017-10-31",
          "2018-04-30",
          "2018-06-30",
          "2018-10-31",
          "2018-11-30",
          "2019-01-31",
          "2019-05-31"
         ],
         "xaxis": "x",
         "y": [
          1.160914336131137,
          1.160914336131137,
          1.160914336131137,
          2.321828672262274,
          1.160914336131137,
          1.160914336131137,
          1.160914336131137,
          2.321828672262274,
          2.321828672262274,
          1.160914336131137,
          2.321828672262274,
          1.160914336131137,
          5.804571680655685,
          2.321828672262274,
          1.160914336131137,
          2.321828672262274,
          1.160914336131137,
          3.4827430083934106,
          1.160914336131137,
          1.160914336131137,
          3.4827430083934106,
          2.321828672262274,
          1.160914336131137,
          2.321828672262274,
          1.160914336131137,
          1.160914336131137,
          4.643657344524548,
          2.321828672262274,
          2.321828672262274,
          1.160914336131137,
          1.160914336131137,
          1.160914336131137,
          1.160914336131137,
          1.160914336131137,
          4.643657344524548,
          2.321828672262274,
          3.4827430083934106,
          5.804571680655685,
          1.160914336131137,
          1.160914336131137,
          1.160914336131137,
          2.321828672262274,
          1.160914336131137,
          2.321828672262274,
          1.160914336131137,
          1.160914336131137
         ],
         "yaxis": "y"
        },
        {
         "hovertemplate": "Neighborhood=Carroll Gardens/Red Hook<br>Created Date=%{x}<br>Incident Density=%{y}<extra></extra>",
         "legendgroup": "Carroll Gardens/Red Hook",
         "line": {
          "color": "#FF97FF",
          "dash": "solid"
         },
         "marker": {
          "symbol": "circle"
         },
         "mode": "lines",
         "name": "Carroll Gardens/Red Hook",
         "showlegend": true,
         "type": "scattergl",
         "x": [
          "2013-08-31",
          "2013-09-30",
          "2014-04-30",
          "2014-06-30",
          "2014-08-31",
          "2014-10-31",
          "2014-12-31",
          "2015-03-31",
          "2015-04-30",
          "2015-08-31",
          "2015-11-30",
          "2015-12-31",
          "2016-01-31",
          "2016-02-29",
          "2016-04-30",
          "2016-05-31",
          "2016-06-30",
          "2016-07-31",
          "2016-08-31",
          "2016-09-30",
          "2016-10-31",
          "2016-11-30",
          "2017-02-28",
          "2017-07-31",
          "2017-08-31",
          "2017-11-30",
          "2018-04-30",
          "2018-05-31",
          "2018-06-30",
          "2018-08-31",
          "2018-10-31"
         ],
         "xaxis": "x",
         "y": [
          2.6403337381845065,
          2.6403337381845065,
          2.6403337381845065,
          2.6403337381845065,
          5.280667476369013,
          2.6403337381845065,
          2.6403337381845065,
          2.6403337381845065,
          2.6403337381845065,
          5.280667476369013,
          15.842002429107039,
          10.561334952738026,
          10.561334952738026,
          5.280667476369013,
          5.280667476369013,
          2.6403337381845065,
          7.921001214553519,
          5.280667476369013,
          2.6403337381845065,
          7.921001214553519,
          7.921001214553519,
          10.561334952738026,
          2.6403337381845065,
          5.280667476369013,
          2.6403337381845065,
          5.280667476369013,
          2.6403337381845065,
          2.6403337381845065,
          5.280667476369013,
          2.6403337381845065,
          5.280667476369013
         ],
         "yaxis": "y"
        },
        {
         "hovertemplate": "Neighborhood=Industry City/Sunset Park<br>Created Date=%{x}<br>Incident Density=%{y}<extra></extra>",
         "legendgroup": "Industry City/Sunset Park",
         "line": {
          "color": "#FECB52",
          "dash": "solid"
         },
         "marker": {
          "symbol": "circle"
         },
         "mode": "lines",
         "name": "Industry City/Sunset Park",
         "showlegend": true,
         "type": "scattergl",
         "x": [
          "2013-10-31",
          "2014-06-30",
          "2014-07-31",
          "2014-08-31",
          "2015-05-31",
          "2015-06-30",
          "2015-07-31",
          "2016-05-31",
          "2016-06-30",
          "2016-07-31",
          "2016-08-31",
          "2016-09-30",
          "2017-05-31",
          "2017-07-31",
          "2017-10-31",
          "2018-05-31",
          "2018-06-30",
          "2018-07-31",
          "2018-10-31",
          "2018-12-31",
          "2019-04-30",
          "2019-05-31"
         ],
         "xaxis": "x",
         "y": [
          3.7835792659856224,
          7.567158531971245,
          11.350737797956867,
          11.350737797956867,
          11.350737797956867,
          7.567158531971245,
          18.917896329928112,
          7.567158531971245,
          11.350737797956867,
          3.7835792659856224,
          11.350737797956867,
          7.567158531971245,
          3.7835792659856224,
          7.567158531971245,
          7.567158531971245,
          3.7835792659856224,
          3.7835792659856224,
          3.7835792659856224,
          3.7835792659856224,
          3.7835792659856224,
          3.7835792659856224,
          7.567158531971245
         ],
         "yaxis": "y"
        },
        {
         "hovertemplate": "Neighborhood=Stuyvesant Heights<br>Created Date=%{x}<br>Incident Density=%{y}<extra></extra>",
         "legendgroup": "Stuyvesant Heights",
         "line": {
          "color": "#636efa",
          "dash": "solid"
         },
         "marker": {
          "symbol": "circle"
         },
         "mode": "lines",
         "name": "Stuyvesant Heights",
         "showlegend": true,
         "type": "scattergl",
         "x": [
          "2013-06-30",
          "2013-07-31",
          "2013-08-31",
          "2013-09-30",
          "2013-10-31",
          "2013-11-30",
          "2014-01-31",
          "2014-03-31",
          "2014-04-30",
          "2014-05-31",
          "2014-07-31",
          "2014-08-31",
          "2014-09-30",
          "2014-10-31",
          "2014-12-31",
          "2015-01-31",
          "2015-03-31",
          "2015-04-30",
          "2015-05-31",
          "2015-06-30",
          "2015-07-31",
          "2015-08-31",
          "2015-10-31",
          "2015-12-31",
          "2016-02-29",
          "2016-03-31",
          "2016-06-30",
          "2016-07-31",
          "2016-08-31",
          "2016-09-30",
          "2016-10-31",
          "2016-11-30",
          "2017-01-31",
          "2017-02-28",
          "2017-03-31",
          "2017-04-30",
          "2017-05-31",
          "2017-06-30",
          "2017-07-31",
          "2017-08-31",
          "2017-09-30",
          "2017-10-31",
          "2017-11-30",
          "2017-12-31",
          "2018-02-28",
          "2018-03-31",
          "2018-05-31",
          "2018-06-30",
          "2018-07-31",
          "2018-08-31",
          "2018-10-31",
          "2018-11-30",
          "2019-04-30"
         ],
         "xaxis": "x",
         "y": [
          1.2588275280403831,
          5.0353101121615325,
          3.7764825841211493,
          3.7764825841211493,
          2.5176550560807662,
          2.5176550560807662,
          1.2588275280403831,
          1.2588275280403831,
          2.5176550560807662,
          2.5176550560807662,
          2.5176550560807662,
          5.0353101121615325,
          1.2588275280403831,
          3.7764825841211493,
          2.5176550560807662,
          1.2588275280403831,
          1.2588275280403831,
          2.5176550560807662,
          6.294137640201916,
          3.7764825841211493,
          2.5176550560807662,
          5.0353101121615325,
          1.2588275280403831,
          1.2588275280403831,
          2.5176550560807662,
          1.2588275280403831,
          2.5176550560807662,
          3.7764825841211493,
          3.7764825841211493,
          1.2588275280403831,
          1.2588275280403831,
          2.5176550560807662,
          2.5176550560807662,
          1.2588275280403831,
          1.2588275280403831,
          2.5176550560807662,
          6.294137640201916,
          2.5176550560807662,
          5.0353101121615325,
          31.47068820100958,
          5.0353101121615325,
          2.5176550560807662,
          1.2588275280403831,
          1.2588275280403831,
          3.7764825841211493,
          1.2588275280403831,
          2.5176550560807662,
          1.2588275280403831,
          3.7764825841211493,
          2.5176550560807662,
          3.7764825841211493,
          1.2588275280403831,
          2.5176550560807662
         ],
         "yaxis": "y"
        },
        {
         "hovertemplate": "Neighborhood=Flatlands/Mill Basin<br>Created Date=%{x}<br>Incident Density=%{y}<extra></extra>",
         "legendgroup": "Flatlands/Mill Basin",
         "line": {
          "color": "#EF553B",
          "dash": "solid"
         },
         "marker": {
          "symbol": "circle"
         },
         "mode": "lines",
         "name": "Flatlands/Mill Basin",
         "showlegend": true,
         "type": "scattergl",
         "x": [
          "2013-07-31",
          "2013-12-31",
          "2014-07-31",
          "2014-08-31",
          "2014-10-31",
          "2014-11-30",
          "2015-03-31",
          "2015-06-30",
          "2015-07-31",
          "2015-09-30",
          "2016-01-31",
          "2016-02-29",
          "2016-04-30",
          "2016-05-31",
          "2016-06-30",
          "2016-07-31",
          "2016-08-31",
          "2016-09-30",
          "2016-10-31",
          "2016-11-30",
          "2017-03-31",
          "2017-04-30",
          "2017-06-30",
          "2017-08-31",
          "2017-11-30",
          "2018-03-31",
          "2018-04-30",
          "2018-07-31",
          "2018-08-31",
          "2018-09-30",
          "2018-10-31",
          "2018-11-30"
         ],
         "xaxis": "x",
         "y": [
          1.069129942053157,
          1.069129942053157,
          2.138259884106314,
          3.2073898261594715,
          1.069129942053157,
          2.138259884106314,
          1.069129942053157,
          1.069129942053157,
          3.2073898261594715,
          1.069129942053157,
          1.069129942053157,
          1.069129942053157,
          1.069129942053157,
          1.069129942053157,
          2.138259884106314,
          1.069129942053157,
          2.138259884106314,
          4.276519768212628,
          1.069129942053157,
          1.069129942053157,
          2.138259884106314,
          1.069129942053157,
          1.069129942053157,
          3.2073898261594715,
          1.069129942053157,
          2.138259884106314,
          2.138259884106314,
          1.069129942053157,
          1.069129942053157,
          1.069129942053157,
          1.069129942053157,
          1.069129942053157
         ],
         "yaxis": "y"
        },
        {
         "hovertemplate": "Neighborhood=Sheepshead Bay/Brighton Beach<br>Created Date=%{x}<br>Incident Density=%{y}<extra></extra>",
         "legendgroup": "Sheepshead Bay/Brighton Beach",
         "line": {
          "color": "#00cc96",
          "dash": "solid"
         },
         "marker": {
          "symbol": "circle"
         },
         "mode": "lines",
         "name": "Sheepshead Bay/Brighton Beach",
         "showlegend": true,
         "type": "scattergl",
         "x": [
          "2013-07-31",
          "2013-08-31",
          "2013-10-31",
          "2013-11-30",
          "2014-03-31",
          "2014-04-30",
          "2014-05-31",
          "2014-06-30",
          "2014-07-31",
          "2014-08-31",
          "2014-09-30",
          "2014-12-31",
          "2015-01-31",
          "2015-02-28",
          "2015-03-31",
          "2015-05-31",
          "2015-06-30",
          "2015-07-31",
          "2015-08-31",
          "2015-09-30",
          "2015-10-31",
          "2015-11-30",
          "2015-12-31",
          "2016-01-31",
          "2016-03-31",
          "2016-04-30",
          "2016-05-31",
          "2016-06-30",
          "2016-07-31",
          "2016-08-31",
          "2016-09-30",
          "2016-10-31",
          "2016-11-30",
          "2016-12-31",
          "2017-01-31",
          "2017-02-28",
          "2017-03-31",
          "2017-05-31",
          "2017-06-30",
          "2017-07-31",
          "2017-09-30",
          "2017-11-30",
          "2018-02-28",
          "2018-03-31",
          "2018-04-30",
          "2018-05-31",
          "2018-06-30",
          "2018-07-31",
          "2018-08-31",
          "2018-09-30",
          "2018-10-31",
          "2018-11-30",
          "2018-12-31",
          "2019-01-31",
          "2019-02-28",
          "2019-04-30",
          "2019-05-31"
         ],
         "xaxis": "x",
         "y": [
          11.424944462075532,
          3.808314820691844,
          12.69438273563948,
          3.808314820691844,
          2.538876547127896,
          6.34719136781974,
          6.34719136781974,
          7.616629641383688,
          1.269438273563948,
          10.155506188511584,
          13.963821009203427,
          10.155506188511584,
          2.538876547127896,
          1.269438273563948,
          3.808314820691844,
          2.538876547127896,
          8.886067914947636,
          7.616629641383688,
          7.616629641383688,
          3.808314820691844,
          5.077753094255792,
          7.616629641383688,
          7.616629641383688,
          2.538876547127896,
          2.538876547127896,
          2.538876547127896,
          6.34719136781974,
          5.077753094255792,
          5.077753094255792,
          13.963821009203427,
          13.963821009203427,
          16.502697556331324,
          1.269438273563948,
          5.077753094255792,
          1.269438273563948,
          1.269438273563948,
          1.269438273563948,
          2.538876547127896,
          3.808314820691844,
          12.69438273563948,
          8.886067914947636,
          2.538876547127896,
          1.269438273563948,
          1.269438273563948,
          2.538876547127896,
          2.538876547127896,
          6.34719136781974,
          3.808314820691844,
          8.886067914947636,
          7.616629641383688,
          3.808314820691844,
          1.269438273563948,
          2.538876547127896,
          2.538876547127896,
          2.538876547127896,
          10.155506188511584,
          2.538876547127896
         ],
         "yaxis": "y"
        },
        {
         "hovertemplate": "Neighborhood=Canarsie<br>Created Date=%{x}<br>Incident Density=%{y}<extra></extra>",
         "legendgroup": "Canarsie",
         "line": {
          "color": "#ab63fa",
          "dash": "solid"
         },
         "marker": {
          "symbol": "circle"
         },
         "mode": "lines",
         "name": "Canarsie",
         "showlegend": true,
         "type": "scattergl",
         "x": [
          "2013-07-31",
          "2013-08-31",
          "2013-10-31",
          "2014-01-31",
          "2014-04-30",
          "2014-07-31",
          "2014-08-31",
          "2014-09-30",
          "2014-10-31",
          "2014-11-30",
          "2015-01-31",
          "2015-03-31",
          "2015-04-30",
          "2015-05-31",
          "2015-06-30",
          "2015-11-30",
          "2015-12-31",
          "2016-01-31",
          "2016-02-29",
          "2016-03-31",
          "2016-05-31",
          "2016-06-30",
          "2016-09-30",
          "2016-11-30",
          "2016-12-31",
          "2017-02-28",
          "2017-03-31",
          "2017-04-30",
          "2017-07-31",
          "2017-08-31",
          "2017-09-30",
          "2017-11-30",
          "2017-12-31",
          "2018-04-30",
          "2018-05-31",
          "2018-06-30",
          "2018-07-31",
          "2018-08-31",
          "2018-09-30",
          "2018-10-31",
          "2019-01-31",
          "2019-02-28",
          "2019-03-31"
         ],
         "xaxis": "x",
         "y": [
          1.9832612748403475,
          1.9832612748403475,
          0.9916306374201738,
          0.9916306374201738,
          0.9916306374201738,
          2.9748919122605213,
          0.9916306374201738,
          1.9832612748403475,
          0.9916306374201738,
          1.9832612748403475,
          1.9832612748403475,
          1.9832612748403475,
          0.9916306374201738,
          0.9916306374201738,
          0.9916306374201738,
          0.9916306374201738,
          0.9916306374201738,
          1.9832612748403475,
          0.9916306374201738,
          0.9916306374201738,
          1.9832612748403475,
          3.966522549680695,
          1.9832612748403475,
          1.9832612748403475,
          1.9832612748403475,
          0.9916306374201738,
          1.9832612748403475,
          0.9916306374201738,
          3.966522549680695,
          0.9916306374201738,
          0.9916306374201738,
          0.9916306374201738,
          0.9916306374201738,
          2.9748919122605213,
          0.9916306374201738,
          0.9916306374201738,
          2.9748919122605213,
          2.9748919122605213,
          0.9916306374201738,
          4.958153187100868,
          0.9916306374201738,
          0.9916306374201738,
          0.9916306374201738
         ],
         "yaxis": "y"
        },
        {
         "hovertemplate": "Neighborhood=Bushwick<br>Created Date=%{x}<br>Incident Density=%{y}<extra></extra>",
         "legendgroup": "Bushwick",
         "line": {
          "color": "#FFA15A",
          "dash": "solid"
         },
         "marker": {
          "symbol": "circle"
         },
         "mode": "lines",
         "name": "Bushwick",
         "showlegend": true,
         "type": "scattergl",
         "x": [
          "2013-10-31",
          "2013-12-31",
          "2014-01-31",
          "2014-07-31",
          "2014-08-31",
          "2014-09-30",
          "2014-10-31",
          "2014-11-30",
          "2014-12-31",
          "2015-01-31",
          "2015-02-28",
          "2015-03-31",
          "2015-04-30",
          "2015-05-31",
          "2015-06-30",
          "2015-07-31",
          "2015-08-31",
          "2015-09-30",
          "2015-10-31",
          "2015-11-30",
          "2015-12-31",
          "2016-01-31",
          "2016-02-29",
          "2016-03-31",
          "2016-04-30",
          "2016-05-31",
          "2016-06-30",
          "2016-07-31",
          "2016-08-31",
          "2016-09-30",
          "2016-10-31",
          "2016-11-30",
          "2016-12-31",
          "2017-02-28",
          "2017-03-31",
          "2017-04-30",
          "2017-05-31",
          "2017-06-30",
          "2017-07-31",
          "2017-08-31",
          "2017-09-30",
          "2017-10-31",
          "2017-11-30",
          "2018-02-28",
          "2018-04-30",
          "2018-07-31",
          "2018-08-31",
          "2018-09-30",
          "2018-10-31",
          "2018-11-30",
          "2018-12-31",
          "2019-01-31",
          "2019-02-28",
          "2019-03-31",
          "2019-04-30"
         ],
         "xaxis": "x",
         "y": [
          4.091987887715852,
          2.045993943857926,
          4.091987887715852,
          8.183975775431705,
          2.045993943857926,
          18.413945494721336,
          4.091987887715852,
          2.045993943857926,
          2.045993943857926,
          2.045993943857926,
          4.091987887715852,
          10.229969719289631,
          2.045993943857926,
          10.229969719289631,
          6.137981831573779,
          16.36795155086341,
          26.59792127015304,
          10.229969719289631,
          6.137981831573779,
          8.183975775431705,
          2.045993943857926,
          4.091987887715852,
          2.045993943857926,
          2.045993943857926,
          6.137981831573779,
          6.137981831573779,
          12.275963663147557,
          2.045993943857926,
          16.36795155086341,
          47.0578607087323,
          6.137981831573779,
          10.229969719289631,
          2.045993943857926,
          2.045993943857926,
          2.045993943857926,
          16.36795155086341,
          4.091987887715852,
          6.137981831573779,
          6.137981831573779,
          6.137981831573779,
          18.413945494721336,
          6.137981831573779,
          2.045993943857926,
          4.091987887715852,
          4.091987887715852,
          6.137981831573779,
          22.50593338243719,
          20.459939438579262,
          6.137981831573779,
          12.275963663147557,
          8.183975775431705,
          10.229969719289631,
          2.045993943857926,
          6.137981831573779,
          6.137981831573779
         ],
         "yaxis": "y"
        },
        {
         "hovertemplate": "Neighborhood=Prospect Heights<br>Created Date=%{x}<br>Incident Density=%{y}<extra></extra>",
         "legendgroup": "Prospect Heights",
         "line": {
          "color": "#19d3f3",
          "dash": "solid"
         },
         "marker": {
          "symbol": "circle"
         },
         "mode": "lines",
         "name": "Prospect Heights",
         "showlegend": true,
         "type": "scattergl",
         "x": [
          "2013-07-31",
          "2013-08-31",
          "2013-10-31",
          "2013-11-30",
          "2013-12-31",
          "2014-01-31",
          "2014-02-28",
          "2014-04-30",
          "2014-05-31",
          "2014-07-31",
          "2014-08-31",
          "2014-09-30",
          "2014-10-31",
          "2014-11-30",
          "2014-12-31",
          "2015-03-31",
          "2015-04-30",
          "2015-05-31",
          "2015-06-30",
          "2015-07-31",
          "2015-08-31",
          "2015-09-30",
          "2015-10-31",
          "2015-11-30",
          "2015-12-31",
          "2016-02-29",
          "2016-06-30",
          "2016-08-31",
          "2016-10-31",
          "2016-11-30",
          "2017-01-31",
          "2017-04-30",
          "2017-05-31",
          "2017-06-30",
          "2017-07-31",
          "2017-08-31",
          "2017-09-30",
          "2017-10-31",
          "2017-11-30",
          "2017-12-31",
          "2018-01-31",
          "2018-03-31",
          "2018-04-30",
          "2018-05-31",
          "2018-06-30",
          "2018-07-31",
          "2018-08-31",
          "2018-09-30",
          "2018-10-31",
          "2018-12-31",
          "2019-01-31",
          "2019-02-28",
          "2019-03-31"
         ],
         "xaxis": "x",
         "y": [
          5.433798224959246,
          5.433798224959246,
          10.867596449918492,
          3.622532149972831,
          5.433798224959246,
          1.8112660749864156,
          1.8112660749864156,
          7.245064299945662,
          1.8112660749864156,
          3.622532149972831,
          3.622532149972831,
          3.622532149972831,
          5.433798224959246,
          7.245064299945662,
          1.8112660749864156,
          3.622532149972831,
          1.8112660749864156,
          3.622532149972831,
          3.622532149972831,
          3.622532149972831,
          7.245064299945662,
          10.867596449918492,
          7.245064299945662,
          7.245064299945662,
          1.8112660749864156,
          3.622532149972831,
          3.622532149972831,
          5.433798224959246,
          1.8112660749864156,
          12.67886252490491,
          1.8112660749864156,
          7.245064299945662,
          3.622532149972831,
          5.433798224959246,
          3.622532149972831,
          7.245064299945662,
          10.867596449918492,
          5.433798224959246,
          5.433798224959246,
          1.8112660749864156,
          1.8112660749864156,
          3.622532149972831,
          1.8112660749864156,
          3.622532149972831,
          9.056330374932077,
          7.245064299945662,
          7.245064299945662,
          18.112660749864155,
          12.67886252490491,
          1.8112660749864156,
          1.8112660749864156,
          3.622532149972831,
          3.622532149972831
         ],
         "yaxis": "y"
        },
        {
         "hovertemplate": "Neighborhood=Starrett City<br>Created Date=%{x}<br>Incident Density=%{y}<extra></extra>",
         "legendgroup": "Starrett City",
         "line": {
          "color": "#FF6692",
          "dash": "solid"
         },
         "marker": {
          "symbol": "circle"
         },
         "mode": "lines",
         "name": "Starrett City",
         "showlegend": true,
         "type": "scattergl",
         "x": [
          "2017-09-30",
          "2017-10-31"
         ],
         "xaxis": "x",
         "y": [
          7.829627309740056,
          15.659254619480112
         ],
         "yaxis": "y"
        }
       ],
       "layout": {
        "legend": {
         "title": {
          "text": "Neighborhood"
         },
         "tracegroupgap": 0
        },
        "template": {
         "data": {
          "bar": [
           {
            "error_x": {
             "color": "#2a3f5f"
            },
            "error_y": {
             "color": "#2a3f5f"
            },
            "marker": {
             "line": {
              "color": "#E5ECF6",
              "width": 0.5
             },
             "pattern": {
              "fillmode": "overlay",
              "size": 10,
              "solidity": 0.2
             }
            },
            "type": "bar"
           }
          ],
          "barpolar": [
           {
            "marker": {
             "line": {
              "color": "#E5ECF6",
              "width": 0.5
             },
             "pattern": {
              "fillmode": "overlay",
              "size": 10,
              "solidity": 0.2
             }
            },
            "type": "barpolar"
           }
          ],
          "carpet": [
           {
            "aaxis": {
             "endlinecolor": "#2a3f5f",
             "gridcolor": "white",
             "linecolor": "white",
             "minorgridcolor": "white",
             "startlinecolor": "#2a3f5f"
            },
            "baxis": {
             "endlinecolor": "#2a3f5f",
             "gridcolor": "white",
             "linecolor": "white",
             "minorgridcolor": "white",
             "startlinecolor": "#2a3f5f"
            },
            "type": "carpet"
           }
          ],
          "choropleth": [
           {
            "colorbar": {
             "outlinewidth": 0,
             "ticks": ""
            },
            "type": "choropleth"
           }
          ],
          "contour": [
           {
            "colorbar": {
             "outlinewidth": 0,
             "ticks": ""
            },
            "colorscale": [
             [
              0,
              "#0d0887"
             ],
             [
              0.1111111111111111,
              "#46039f"
             ],
             [
              0.2222222222222222,
              "#7201a8"
             ],
             [
              0.3333333333333333,
              "#9c179e"
             ],
             [
              0.4444444444444444,
              "#bd3786"
             ],
             [
              0.5555555555555556,
              "#d8576b"
             ],
             [
              0.6666666666666666,
              "#ed7953"
             ],
             [
              0.7777777777777778,
              "#fb9f3a"
             ],
             [
              0.8888888888888888,
              "#fdca26"
             ],
             [
              1,
              "#f0f921"
             ]
            ],
            "type": "contour"
           }
          ],
          "contourcarpet": [
           {
            "colorbar": {
             "outlinewidth": 0,
             "ticks": ""
            },
            "type": "contourcarpet"
           }
          ],
          "heatmap": [
           {
            "colorbar": {
             "outlinewidth": 0,
             "ticks": ""
            },
            "colorscale": [
             [
              0,
              "#0d0887"
             ],
             [
              0.1111111111111111,
              "#46039f"
             ],
             [
              0.2222222222222222,
              "#7201a8"
             ],
             [
              0.3333333333333333,
              "#9c179e"
             ],
             [
              0.4444444444444444,
              "#bd3786"
             ],
             [
              0.5555555555555556,
              "#d8576b"
             ],
             [
              0.6666666666666666,
              "#ed7953"
             ],
             [
              0.7777777777777778,
              "#fb9f3a"
             ],
             [
              0.8888888888888888,
              "#fdca26"
             ],
             [
              1,
              "#f0f921"
             ]
            ],
            "type": "heatmap"
           }
          ],
          "heatmapgl": [
           {
            "colorbar": {
             "outlinewidth": 0,
             "ticks": ""
            },
            "colorscale": [
             [
              0,
              "#0d0887"
             ],
             [
              0.1111111111111111,
              "#46039f"
             ],
             [
              0.2222222222222222,
              "#7201a8"
             ],
             [
              0.3333333333333333,
              "#9c179e"
             ],
             [
              0.4444444444444444,
              "#bd3786"
             ],
             [
              0.5555555555555556,
              "#d8576b"
             ],
             [
              0.6666666666666666,
              "#ed7953"
             ],
             [
              0.7777777777777778,
              "#fb9f3a"
             ],
             [
              0.8888888888888888,
              "#fdca26"
             ],
             [
              1,
              "#f0f921"
             ]
            ],
            "type": "heatmapgl"
           }
          ],
          "histogram": [
           {
            "marker": {
             "pattern": {
              "fillmode": "overlay",
              "size": 10,
              "solidity": 0.2
             }
            },
            "type": "histogram"
           }
          ],
          "histogram2d": [
           {
            "colorbar": {
             "outlinewidth": 0,
             "ticks": ""
            },
            "colorscale": [
             [
              0,
              "#0d0887"
             ],
             [
              0.1111111111111111,
              "#46039f"
             ],
             [
              0.2222222222222222,
              "#7201a8"
             ],
             [
              0.3333333333333333,
              "#9c179e"
             ],
             [
              0.4444444444444444,
              "#bd3786"
             ],
             [
              0.5555555555555556,
              "#d8576b"
             ],
             [
              0.6666666666666666,
              "#ed7953"
             ],
             [
              0.7777777777777778,
              "#fb9f3a"
             ],
             [
              0.8888888888888888,
              "#fdca26"
             ],
             [
              1,
              "#f0f921"
             ]
            ],
            "type": "histogram2d"
           }
          ],
          "histogram2dcontour": [
           {
            "colorbar": {
             "outlinewidth": 0,
             "ticks": ""
            },
            "colorscale": [
             [
              0,
              "#0d0887"
             ],
             [
              0.1111111111111111,
              "#46039f"
             ],
             [
              0.2222222222222222,
              "#7201a8"
             ],
             [
              0.3333333333333333,
              "#9c179e"
             ],
             [
              0.4444444444444444,
              "#bd3786"
             ],
             [
              0.5555555555555556,
              "#d8576b"
             ],
             [
              0.6666666666666666,
              "#ed7953"
             ],
             [
              0.7777777777777778,
              "#fb9f3a"
             ],
             [
              0.8888888888888888,
              "#fdca26"
             ],
             [
              1,
              "#f0f921"
             ]
            ],
            "type": "histogram2dcontour"
           }
          ],
          "mesh3d": [
           {
            "colorbar": {
             "outlinewidth": 0,
             "ticks": ""
            },
            "type": "mesh3d"
           }
          ],
          "parcoords": [
           {
            "line": {
             "colorbar": {
              "outlinewidth": 0,
              "ticks": ""
             }
            },
            "type": "parcoords"
           }
          ],
          "pie": [
           {
            "automargin": true,
            "type": "pie"
           }
          ],
          "scatter": [
           {
            "marker": {
             "colorbar": {
              "outlinewidth": 0,
              "ticks": ""
             }
            },
            "type": "scatter"
           }
          ],
          "scatter3d": [
           {
            "line": {
             "colorbar": {
              "outlinewidth": 0,
              "ticks": ""
             }
            },
            "marker": {
             "colorbar": {
              "outlinewidth": 0,
              "ticks": ""
             }
            },
            "type": "scatter3d"
           }
          ],
          "scattercarpet": [
           {
            "marker": {
             "colorbar": {
              "outlinewidth": 0,
              "ticks": ""
             }
            },
            "type": "scattercarpet"
           }
          ],
          "scattergeo": [
           {
            "marker": {
             "colorbar": {
              "outlinewidth": 0,
              "ticks": ""
             }
            },
            "type": "scattergeo"
           }
          ],
          "scattergl": [
           {
            "marker": {
             "colorbar": {
              "outlinewidth": 0,
              "ticks": ""
             }
            },
            "type": "scattergl"
           }
          ],
          "scattermapbox": [
           {
            "marker": {
             "colorbar": {
              "outlinewidth": 0,
              "ticks": ""
             }
            },
            "type": "scattermapbox"
           }
          ],
          "scatterpolar": [
           {
            "marker": {
             "colorbar": {
              "outlinewidth": 0,
              "ticks": ""
             }
            },
            "type": "scatterpolar"
           }
          ],
          "scatterpolargl": [
           {
            "marker": {
             "colorbar": {
              "outlinewidth": 0,
              "ticks": ""
             }
            },
            "type": "scatterpolargl"
           }
          ],
          "scatterternary": [
           {
            "marker": {
             "colorbar": {
              "outlinewidth": 0,
              "ticks": ""
             }
            },
            "type": "scatterternary"
           }
          ],
          "surface": [
           {
            "colorbar": {
             "outlinewidth": 0,
             "ticks": ""
            },
            "colorscale": [
             [
              0,
              "#0d0887"
             ],
             [
              0.1111111111111111,
              "#46039f"
             ],
             [
              0.2222222222222222,
              "#7201a8"
             ],
             [
              0.3333333333333333,
              "#9c179e"
             ],
             [
              0.4444444444444444,
              "#bd3786"
             ],
             [
              0.5555555555555556,
              "#d8576b"
             ],
             [
              0.6666666666666666,
              "#ed7953"
             ],
             [
              0.7777777777777778,
              "#fb9f3a"
             ],
             [
              0.8888888888888888,
              "#fdca26"
             ],
             [
              1,
              "#f0f921"
             ]
            ],
            "type": "surface"
           }
          ],
          "table": [
           {
            "cells": {
             "fill": {
              "color": "#EBF0F8"
             },
             "line": {
              "color": "white"
             }
            },
            "header": {
             "fill": {
              "color": "#C8D4E3"
             },
             "line": {
              "color": "white"
             }
            },
            "type": "table"
           }
          ]
         },
         "layout": {
          "annotationdefaults": {
           "arrowcolor": "#2a3f5f",
           "arrowhead": 0,
           "arrowwidth": 1
          },
          "autotypenumbers": "strict",
          "coloraxis": {
           "colorbar": {
            "outlinewidth": 0,
            "ticks": ""
           }
          },
          "colorscale": {
           "diverging": [
            [
             0,
             "#8e0152"
            ],
            [
             0.1,
             "#c51b7d"
            ],
            [
             0.2,
             "#de77ae"
            ],
            [
             0.3,
             "#f1b6da"
            ],
            [
             0.4,
             "#fde0ef"
            ],
            [
             0.5,
             "#f7f7f7"
            ],
            [
             0.6,
             "#e6f5d0"
            ],
            [
             0.7,
             "#b8e186"
            ],
            [
             0.8,
             "#7fbc41"
            ],
            [
             0.9,
             "#4d9221"
            ],
            [
             1,
             "#276419"
            ]
           ],
           "sequential": [
            [
             0,
             "#0d0887"
            ],
            [
             0.1111111111111111,
             "#46039f"
            ],
            [
             0.2222222222222222,
             "#7201a8"
            ],
            [
             0.3333333333333333,
             "#9c179e"
            ],
            [
             0.4444444444444444,
             "#bd3786"
            ],
            [
             0.5555555555555556,
             "#d8576b"
            ],
            [
             0.6666666666666666,
             "#ed7953"
            ],
            [
             0.7777777777777778,
             "#fb9f3a"
            ],
            [
             0.8888888888888888,
             "#fdca26"
            ],
            [
             1,
             "#f0f921"
            ]
           ],
           "sequentialminus": [
            [
             0,
             "#0d0887"
            ],
            [
             0.1111111111111111,
             "#46039f"
            ],
            [
             0.2222222222222222,
             "#7201a8"
            ],
            [
             0.3333333333333333,
             "#9c179e"
            ],
            [
             0.4444444444444444,
             "#bd3786"
            ],
            [
             0.5555555555555556,
             "#d8576b"
            ],
            [
             0.6666666666666666,
             "#ed7953"
            ],
            [
             0.7777777777777778,
             "#fb9f3a"
            ],
            [
             0.8888888888888888,
             "#fdca26"
            ],
            [
             1,
             "#f0f921"
            ]
           ]
          },
          "colorway": [
           "#636efa",
           "#EF553B",
           "#00cc96",
           "#ab63fa",
           "#FFA15A",
           "#19d3f3",
           "#FF6692",
           "#B6E880",
           "#FF97FF",
           "#FECB52"
          ],
          "font": {
           "color": "#2a3f5f"
          },
          "geo": {
           "bgcolor": "white",
           "lakecolor": "white",
           "landcolor": "#E5ECF6",
           "showlakes": true,
           "showland": true,
           "subunitcolor": "white"
          },
          "hoverlabel": {
           "align": "left"
          },
          "hovermode": "closest",
          "mapbox": {
           "style": "light"
          },
          "paper_bgcolor": "white",
          "plot_bgcolor": "#E5ECF6",
          "polar": {
           "angularaxis": {
            "gridcolor": "white",
            "linecolor": "white",
            "ticks": ""
           },
           "bgcolor": "#E5ECF6",
           "radialaxis": {
            "gridcolor": "white",
            "linecolor": "white",
            "ticks": ""
           }
          },
          "scene": {
           "xaxis": {
            "backgroundcolor": "#E5ECF6",
            "gridcolor": "white",
            "gridwidth": 2,
            "linecolor": "white",
            "showbackground": true,
            "ticks": "",
            "zerolinecolor": "white"
           },
           "yaxis": {
            "backgroundcolor": "#E5ECF6",
            "gridcolor": "white",
            "gridwidth": 2,
            "linecolor": "white",
            "showbackground": true,
            "ticks": "",
            "zerolinecolor": "white"
           },
           "zaxis": {
            "backgroundcolor": "#E5ECF6",
            "gridcolor": "white",
            "gridwidth": 2,
            "linecolor": "white",
            "showbackground": true,
            "ticks": "",
            "zerolinecolor": "white"
           }
          },
          "shapedefaults": {
           "line": {
            "color": "#2a3f5f"
           }
          },
          "ternary": {
           "aaxis": {
            "gridcolor": "white",
            "linecolor": "white",
            "ticks": ""
           },
           "baxis": {
            "gridcolor": "white",
            "linecolor": "white",
            "ticks": ""
           },
           "bgcolor": "#E5ECF6",
           "caxis": {
            "gridcolor": "white",
            "linecolor": "white",
            "ticks": ""
           }
          },
          "title": {
           "x": 0.05
          },
          "xaxis": {
           "automargin": true,
           "gridcolor": "white",
           "linecolor": "white",
           "ticks": "",
           "title": {
            "standoff": 15
           },
           "zerolinecolor": "white",
           "zerolinewidth": 2
          },
          "yaxis": {
           "automargin": true,
           "gridcolor": "white",
           "linecolor": "white",
           "ticks": "",
           "title": {
            "standoff": 15
           },
           "zerolinecolor": "white",
           "zerolinewidth": 2
          }
         }
        },
        "title": {
         "text": "Homeless Encampment"
        },
        "xaxis": {
         "anchor": "y",
         "domain": [
          0,
          1
         ],
         "title": {
          "text": "Created Date"
         }
        },
        "yaxis": {
         "anchor": "x",
         "domain": [
          0,
          1
         ],
         "title": {
          "text": "Incident Density"
         }
        }
       }
      },
      "text/html": [
       "<div>                            <div id=\"32c184be-c15e-4c7c-a7f9-242def3e0179\" class=\"plotly-graph-div\" style=\"height:525px; width:100%;\"></div>            <script type=\"text/javascript\">                require([\"plotly\"], function(Plotly) {                    window.PLOTLYENV=window.PLOTLYENV || {};                                    if (document.getElementById(\"32c184be-c15e-4c7c-a7f9-242def3e0179\")) {                    Plotly.newPlot(                        \"32c184be-c15e-4c7c-a7f9-242def3e0179\",                        [{\"hovertemplate\":\"Neighborhood=Parkville/Bensonhurst<br>Created Date=%{x}<br>Incident Density=%{y}<extra></extra>\",\"legendgroup\":\"Parkville/Bensonhurst\",\"line\":{\"color\":\"#636efa\",\"dash\":\"solid\"},\"marker\":{\"symbol\":\"circle\"},\"mode\":\"lines\",\"name\":\"Parkville/Bensonhurst\",\"showlegend\":true,\"type\":\"scattergl\",\"x\":[\"2014-07-31\",\"2014-08-31\",\"2014-09-30\",\"2014-10-31\",\"2015-02-28\",\"2015-05-31\",\"2015-07-31\",\"2015-08-31\",\"2015-09-30\",\"2016-05-31\",\"2016-06-30\",\"2016-07-31\",\"2016-10-31\",\"2017-03-31\",\"2017-04-30\",\"2017-06-30\",\"2017-07-31\",\"2017-08-31\",\"2018-03-31\",\"2018-05-31\",\"2018-07-31\",\"2018-08-31\",\"2018-10-31\"],\"xaxis\":\"x\",\"y\":[1.3089861901956934,6.544930950978467,10.471889521565547,1.3089861901956934,1.3089861901956934,1.3089861901956934,1.3089861901956934,1.3089861901956934,3.92695857058708,1.3089861901956934,2.617972380391387,1.3089861901956934,3.92695857058708,1.3089861901956934,1.3089861901956934,1.3089861901956934,1.3089861901956934,1.3089861901956934,1.3089861901956934,1.3089861901956934,1.3089861901956934,2.617972380391387,1.3089861901956934],\"yaxis\":\"y\"},{\"hovertemplate\":\"Neighborhood=Brooklyn Heights/Cobble Hill<br>Created Date=%{x}<br>Incident Density=%{y}<extra></extra>\",\"legendgroup\":\"Brooklyn Heights/Cobble Hill\",\"line\":{\"color\":\"#EF553B\",\"dash\":\"solid\"},\"marker\":{\"symbol\":\"circle\"},\"mode\":\"lines\",\"name\":\"Brooklyn Heights/Cobble Hill\",\"showlegend\":true,\"type\":\"scattergl\",\"x\":[\"2013-06-30\",\"2013-07-31\",\"2013-08-31\",\"2013-09-30\",\"2013-11-30\",\"2013-12-31\",\"2014-03-31\",\"2014-05-31\",\"2014-06-30\",\"2014-08-31\",\"2014-09-30\",\"2014-10-31\",\"2014-11-30\",\"2014-12-31\",\"2015-01-31\",\"2015-02-28\",\"2015-04-30\",\"2015-05-31\",\"2015-06-30\",\"2015-08-31\",\"2015-09-30\",\"2015-10-31\",\"2015-11-30\",\"2015-12-31\",\"2016-01-31\",\"2016-02-29\",\"2016-03-31\",\"2016-04-30\",\"2016-05-31\",\"2016-06-30\",\"2016-07-31\",\"2016-08-31\",\"2016-09-30\",\"2016-10-31\",\"2016-11-30\",\"2016-12-31\",\"2017-01-31\",\"2017-06-30\",\"2017-09-30\",\"2017-10-31\",\"2017-11-30\",\"2018-01-31\",\"2018-03-31\",\"2018-04-30\",\"2018-05-31\",\"2018-07-31\",\"2018-08-31\",\"2018-09-30\",\"2018-10-31\",\"2018-11-30\",\"2018-12-31\",\"2019-01-31\",\"2019-03-31\",\"2019-04-30\"],\"xaxis\":\"x\",\"y\":[3.155669159645303,7.889172899113257,4.733503739467954,7.889172899113257,3.155669159645303,1.5778345798226514,1.5778345798226514,4.733503739467954,6.311338319290606,7.889172899113257,3.155669159645303,9.467007478935908,3.155669159645303,1.5778345798226514,1.5778345798226514,1.5778345798226514,7.889172899113257,3.155669159645303,6.311338319290606,4.733503739467954,14.200511218403863,14.200511218403863,22.08968411751712,4.733503739467954,1.5778345798226514,1.5778345798226514,1.5778345798226514,1.5778345798226514,4.733503739467954,4.733503739467954,6.311338319290606,3.155669159645303,6.311338319290606,4.733503739467954,3.155669159645303,3.155669159645303,3.155669159645303,1.5778345798226514,4.733503739467954,7.889172899113257,1.5778345798226514,1.5778345798226514,1.5778345798226514,1.5778345798226514,11.04484205875856,3.155669159645303,3.155669159645303,6.311338319290606,4.733503739467954,4.733503739467954,14.200511218403863,1.5778345798226514,11.04484205875856,4.733503739467954],\"yaxis\":\"y\"},{\"hovertemplate\":\"Neighborhood=East Flatbush<br>Created Date=%{x}<br>Incident Density=%{y}<extra></extra>\",\"legendgroup\":\"East Flatbush\",\"line\":{\"color\":\"#00cc96\",\"dash\":\"solid\"},\"marker\":{\"symbol\":\"circle\"},\"mode\":\"lines\",\"name\":\"East Flatbush\",\"showlegend\":true,\"type\":\"scattergl\",\"x\":[\"2013-06-30\",\"2013-07-31\",\"2013-09-30\",\"2013-10-31\",\"2013-11-30\",\"2013-12-31\",\"2014-01-31\",\"2014-02-28\",\"2014-06-30\",\"2014-07-31\",\"2014-08-31\",\"2014-09-30\",\"2014-11-30\",\"2015-03-31\",\"2015-05-31\",\"2015-07-31\",\"2015-08-31\",\"2015-09-30\",\"2016-01-31\",\"2016-02-29\",\"2016-03-31\",\"2016-04-30\",\"2016-05-31\",\"2016-06-30\",\"2016-07-31\",\"2016-08-31\",\"2016-09-30\",\"2016-10-31\",\"2016-11-30\",\"2017-01-31\",\"2017-04-30\",\"2017-05-31\",\"2017-06-30\",\"2017-07-31\",\"2017-08-31\",\"2017-09-30\",\"2017-10-31\",\"2018-02-28\",\"2018-03-31\",\"2018-04-30\",\"2018-05-31\",\"2018-07-31\",\"2018-08-31\",\"2018-09-30\",\"2018-10-31\",\"2018-12-31\"],\"xaxis\":\"x\",\"y\":[5.257278044292567,3.9429585332194255,2.6286390221462836,6.5715975553657096,1.3143195110731418,2.6286390221462836,1.3143195110731418,1.3143195110731418,6.5715975553657096,5.257278044292567,3.9429585332194255,2.6286390221462836,2.6286390221462836,2.6286390221462836,1.3143195110731418,1.3143195110731418,1.3143195110731418,1.3143195110731418,2.6286390221462836,1.3143195110731418,1.3143195110731418,1.3143195110731418,3.9429585332194255,2.6286390221462836,1.3143195110731418,2.6286390221462836,3.9429585332194255,1.3143195110731418,3.9429585332194255,1.3143195110731418,1.3143195110731418,2.6286390221462836,1.3143195110731418,9.200236577511992,3.9429585332194255,2.6286390221462836,3.9429585332194255,1.3143195110731418,5.257278044292567,3.9429585332194255,2.6286390221462836,1.3143195110731418,5.257278044292567,14.457514621804561,2.6286390221462836,1.3143195110731418],\"yaxis\":\"y\"},{\"hovertemplate\":\"Neighborhood=Fort Greene<br>Created Date=%{x}<br>Incident Density=%{y}<extra></extra>\",\"legendgroup\":\"Fort Greene\",\"line\":{\"color\":\"#ab63fa\",\"dash\":\"solid\"},\"marker\":{\"symbol\":\"circle\"},\"mode\":\"lines\",\"name\":\"Fort Greene\",\"showlegend\":true,\"type\":\"scattergl\",\"x\":[\"2013-06-30\",\"2013-07-31\",\"2013-08-31\",\"2013-09-30\",\"2013-10-31\",\"2014-01-31\",\"2014-07-31\",\"2014-09-30\",\"2014-10-31\",\"2014-11-30\",\"2014-12-31\",\"2015-03-31\",\"2015-04-30\",\"2015-05-31\",\"2015-06-30\",\"2015-07-31\",\"2015-08-31\",\"2015-09-30\",\"2015-10-31\",\"2015-11-30\",\"2015-12-31\",\"2016-02-29\",\"2016-05-31\",\"2016-07-31\",\"2016-08-31\",\"2016-09-30\",\"2016-10-31\",\"2017-03-31\",\"2017-05-31\",\"2017-06-30\",\"2017-08-31\",\"2017-09-30\",\"2017-10-31\",\"2017-11-30\",\"2017-12-31\",\"2018-02-28\",\"2018-05-31\",\"2018-06-30\",\"2018-07-31\",\"2018-08-31\",\"2018-09-30\",\"2018-10-31\",\"2018-12-31\",\"2019-01-31\"],\"xaxis\":\"x\",\"y\":[2.134790683773456,2.134790683773456,2.134790683773456,2.134790683773456,4.269581367546912,2.134790683773456,2.134790683773456,8.539162735093823,8.539162735093823,2.134790683773456,2.134790683773456,2.134790683773456,10.67395341886728,14.943534786414192,10.67395341886728,4.269581367546912,10.67395341886728,4.269581367546912,6.404372051320368,10.67395341886728,4.269581367546912,2.134790683773456,2.134790683773456,4.269581367546912,6.404372051320368,6.404372051320368,6.404372051320368,2.134790683773456,4.269581367546912,6.404372051320368,2.134790683773456,2.134790683773456,4.269581367546912,2.134790683773456,2.134790683773456,2.134790683773456,8.539162735093823,2.134790683773456,6.404372051320368,8.539162735093823,4.269581367546912,12.808744102640736,4.269581367546912,2.134790683773456],\"yaxis\":\"y\"},{\"hovertemplate\":\"Neighborhood=Williamsburg/Bedford-Stuyvesant<br>Created Date=%{x}<br>Incident Density=%{y}<extra></extra>\",\"legendgroup\":\"Williamsburg/Bedford-Stuyvesant\",\"line\":{\"color\":\"#FFA15A\",\"dash\":\"solid\"},\"marker\":{\"symbol\":\"circle\"},\"mode\":\"lines\",\"name\":\"Williamsburg/Bedford-Stuyvesant\",\"showlegend\":true,\"type\":\"scattergl\",\"x\":[\"2013-07-31\",\"2013-08-31\",\"2013-09-30\",\"2013-11-30\",\"2013-12-31\",\"2014-01-31\",\"2014-02-28\",\"2014-03-31\",\"2014-06-30\",\"2014-07-31\",\"2014-08-31\",\"2014-09-30\",\"2014-10-31\",\"2014-11-30\",\"2015-02-28\",\"2015-04-30\",\"2015-05-31\",\"2015-06-30\",\"2015-07-31\",\"2015-08-31\",\"2015-09-30\",\"2015-10-31\",\"2015-11-30\",\"2015-12-31\",\"2016-01-31\",\"2016-02-29\",\"2016-03-31\",\"2016-04-30\",\"2016-05-31\",\"2016-06-30\",\"2016-07-31\",\"2016-08-31\",\"2016-09-30\",\"2016-10-31\",\"2016-11-30\",\"2016-12-31\",\"2017-02-28\",\"2017-03-31\",\"2017-04-30\",\"2017-05-31\",\"2017-06-30\",\"2017-07-31\",\"2017-08-31\",\"2017-09-30\",\"2017-10-31\",\"2017-11-30\",\"2017-12-31\",\"2018-01-31\",\"2018-04-30\",\"2018-05-31\",\"2018-06-30\",\"2018-07-31\",\"2018-08-31\",\"2018-09-30\",\"2018-10-31\",\"2018-11-30\",\"2018-12-31\",\"2019-01-31\",\"2019-02-28\",\"2019-03-31\",\"2019-04-30\",\"2019-05-31\"],\"xaxis\":\"x\",\"y\":[1.1309402637352695,1.1309402637352695,1.1309402637352695,4.523761054941078,3.3928207912058084,1.1309402637352695,2.261880527470539,2.261880527470539,2.261880527470539,4.523761054941078,4.523761054941078,6.785641582411617,5.654701318676348,3.3928207912058084,1.1309402637352695,1.1309402637352695,2.261880527470539,20.35692474723485,20.35692474723485,14.702223428558504,20.35692474723485,4.523761054941078,4.523761054941078,2.261880527470539,3.3928207912058084,3.3928207912058084,5.654701318676348,2.261880527470539,6.785641582411617,7.916581846146887,19.22598448349958,19.22598448349958,3.3928207912058084,3.3928207912058084,5.654701318676348,2.261880527470539,2.261880527470539,2.261880527470539,3.3928207912058084,5.654701318676348,6.785641582411617,7.916581846146887,7.916581846146887,9.047522109882156,2.261880527470539,6.785641582411617,6.785641582411617,5.654701318676348,4.523761054941078,4.523761054941078,5.654701318676348,99.52274320870372,23.74974553844066,5.654701318676348,11.309402637352695,2.261880527470539,2.261880527470539,7.916581846146887,2.261880527470539,1.1309402637352695,1.1309402637352695,1.1309402637352695],\"yaxis\":\"y\"},{\"hovertemplate\":\"Neighborhood=East New York<br>Created Date=%{x}<br>Incident Density=%{y}<extra></extra>\",\"legendgroup\":\"East New York\",\"line\":{\"color\":\"#19d3f3\",\"dash\":\"solid\"},\"marker\":{\"symbol\":\"circle\"},\"mode\":\"lines\",\"name\":\"East New York\",\"showlegend\":true,\"type\":\"scattergl\",\"x\":[\"2013-06-30\",\"2013-07-31\",\"2013-08-31\",\"2013-09-30\",\"2013-10-31\",\"2013-11-30\",\"2013-12-31\",\"2014-01-31\",\"2014-03-31\",\"2014-04-30\",\"2014-05-31\",\"2014-06-30\",\"2014-07-31\",\"2014-08-31\",\"2014-09-30\",\"2014-10-31\",\"2014-11-30\",\"2015-01-31\",\"2015-03-31\",\"2015-05-31\",\"2015-06-30\",\"2015-07-31\",\"2015-08-31\",\"2015-09-30\",\"2015-10-31\",\"2015-11-30\",\"2015-12-31\",\"2016-02-29\",\"2016-03-31\",\"2016-04-30\",\"2016-05-31\",\"2016-06-30\",\"2016-07-31\",\"2016-08-31\",\"2016-09-30\",\"2016-10-31\",\"2016-11-30\",\"2016-12-31\",\"2017-01-31\",\"2017-03-31\",\"2017-04-30\",\"2017-05-31\",\"2017-06-30\",\"2017-07-31\",\"2017-08-31\",\"2017-09-30\",\"2017-10-31\",\"2017-11-30\",\"2017-12-31\",\"2018-02-28\",\"2018-03-31\",\"2018-04-30\",\"2018-05-31\",\"2018-06-30\",\"2018-07-31\",\"2018-08-31\",\"2018-09-30\",\"2018-10-31\",\"2018-11-30\",\"2018-12-31\",\"2019-02-28\",\"2019-04-30\"],\"xaxis\":\"x\",\"y\":[1.0978997178397725,4.39159887135909,5.489498589198862,1.0978997178397725,2.195799435679545,2.195799435679545,1.0978997178397725,1.0978997178397725,3.2936991535193174,1.0978997178397725,2.195799435679545,1.0978997178397725,7.685298024878407,1.0978997178397725,2.195799435679545,7.685298024878407,1.0978997178397725,2.195799435679545,1.0978997178397725,6.587398307038635,5.489498589198862,7.685298024878407,2.195799435679545,3.2936991535193174,6.587398307038635,4.39159887135909,2.195799435679545,6.587398307038635,2.195799435679545,3.2936991535193174,6.587398307038635,1.0978997178397725,3.2936991535193174,13.17479661407727,5.489498589198862,1.0978997178397725,1.0978997178397725,1.0978997178397725,1.0978997178397725,1.0978997178397725,5.489498589198862,6.587398307038635,7.685298024878407,14.272696331917043,12.076896896237498,3.2936991535193174,3.2936991535193174,1.0978997178397725,1.0978997178397725,2.195799435679545,1.0978997178397725,4.39159887135909,2.195799435679545,5.489498589198862,5.489498589198862,8.78319774271818,3.2936991535193174,10.978997178397725,3.2936991535193174,2.195799435679545,1.0978997178397725,1.0978997178397725],\"yaxis\":\"y\"},{\"hovertemplate\":\"Neighborhood=Cypress Hills<br>Created Date=%{x}<br>Incident Density=%{y}<extra></extra>\",\"legendgroup\":\"Cypress Hills\",\"line\":{\"color\":\"#FF6692\",\"dash\":\"solid\"},\"marker\":{\"symbol\":\"circle\"},\"mode\":\"lines\",\"name\":\"Cypress Hills\",\"showlegend\":true,\"type\":\"scattergl\",\"x\":[\"2013-07-31\",\"2013-08-31\",\"2013-09-30\",\"2013-11-30\",\"2013-12-31\",\"2014-02-28\",\"2014-03-31\",\"2014-05-31\",\"2014-06-30\",\"2014-07-31\",\"2014-08-31\",\"2014-09-30\",\"2014-11-30\",\"2014-12-31\",\"2015-01-31\",\"2015-04-30\",\"2015-05-31\",\"2015-07-31\",\"2015-08-31\",\"2015-09-30\",\"2015-10-31\",\"2015-11-30\",\"2016-01-31\",\"2016-02-29\",\"2016-03-31\",\"2016-04-30\",\"2016-05-31\",\"2016-06-30\",\"2016-07-31\",\"2016-08-31\",\"2016-09-30\",\"2016-10-31\",\"2016-12-31\",\"2017-02-28\",\"2017-03-31\",\"2017-04-30\",\"2017-05-31\",\"2017-06-30\",\"2017-07-31\",\"2017-09-30\",\"2017-10-31\",\"2017-11-30\",\"2017-12-31\",\"2018-01-31\",\"2018-02-28\",\"2018-03-31\",\"2018-04-30\",\"2018-05-31\",\"2018-06-30\",\"2018-07-31\",\"2018-08-31\",\"2018-09-30\",\"2018-10-31\",\"2018-11-30\",\"2018-12-31\",\"2019-01-31\"],\"xaxis\":\"x\",\"y\":[5.9222409759853125,1.9740803253284376,0.9870401626642188,1.9740803253284376,0.9870401626642188,1.9740803253284376,0.9870401626642188,0.9870401626642188,2.9611204879926563,0.9870401626642188,0.9870401626642188,1.9740803253284376,4.935200813321094,4.935200813321094,2.9611204879926563,4.935200813321094,0.9870401626642188,2.9611204879926563,4.935200813321094,1.9740803253284376,1.9740803253284376,1.9740803253284376,3.948160650656875,0.9870401626642188,0.9870401626642188,1.9740803253284376,0.9870401626642188,2.9611204879926563,2.9611204879926563,1.9740803253284376,6.909281138649532,0.9870401626642188,0.9870401626642188,3.948160650656875,0.9870401626642188,0.9870401626642188,3.948160650656875,2.9611204879926563,2.9611204879926563,3.948160650656875,3.948160650656875,3.948160650656875,0.9870401626642188,1.9740803253284376,0.9870401626642188,0.9870401626642188,3.948160650656875,3.948160650656875,2.9611204879926563,1.9740803253284376,1.9740803253284376,0.9870401626642188,1.9740803253284376,1.9740803253284376,0.9870401626642188,0.9870401626642188],\"yaxis\":\"y\"},{\"hovertemplate\":\"Neighborhood=Bay Ridge<br>Created Date=%{x}<br>Incident Density=%{y}<extra></extra>\",\"legendgroup\":\"Bay Ridge\",\"line\":{\"color\":\"#B6E880\",\"dash\":\"solid\"},\"marker\":{\"symbol\":\"circle\"},\"mode\":\"lines\",\"name\":\"Bay Ridge\",\"showlegend\":true,\"type\":\"scattergl\",\"x\":[\"2013-07-31\",\"2013-08-31\",\"2013-09-30\",\"2013-10-31\",\"2013-11-30\",\"2013-12-31\",\"2014-01-31\",\"2014-03-31\",\"2014-05-31\",\"2014-06-30\",\"2015-07-31\",\"2015-08-31\",\"2015-09-30\",\"2015-12-31\",\"2016-01-31\",\"2016-02-29\",\"2016-03-31\",\"2016-05-31\",\"2016-07-31\",\"2016-08-31\",\"2016-09-30\",\"2016-10-31\",\"2017-03-31\",\"2017-04-30\",\"2017-06-30\",\"2017-07-31\",\"2017-09-30\",\"2017-10-31\",\"2017-12-31\",\"2018-01-31\",\"2018-02-28\",\"2018-03-31\",\"2018-04-30\",\"2018-05-31\",\"2018-06-30\",\"2018-07-31\",\"2018-08-31\",\"2018-09-30\",\"2018-10-31\",\"2018-11-30\",\"2018-12-31\",\"2019-01-31\"],\"xaxis\":\"x\",\"y\":[2.950635862028267,2.950635862028267,1.4753179310141336,1.4753179310141336,1.4753179310141336,1.4753179310141336,1.4753179310141336,2.950635862028267,1.4753179310141336,1.4753179310141336,2.950635862028267,7.376589655070668,4.4259537930424,1.4753179310141336,1.4753179310141336,1.4753179310141336,2.950635862028267,1.4753179310141336,1.4753179310141336,4.4259537930424,4.4259537930424,4.4259537930424,1.4753179310141336,2.950635862028267,4.4259537930424,5.901271724056534,5.901271724056534,14.753179310141336,1.4753179310141336,4.4259537930424,2.950635862028267,1.4753179310141336,8.8519075860848,1.4753179310141336,1.4753179310141336,1.4753179310141336,1.4753179310141336,2.950635862028267,1.4753179310141336,1.4753179310141336,2.950635862028267,1.4753179310141336],\"yaxis\":\"y\"},{\"hovertemplate\":\"Neighborhood=Vanderveer/Flatbush<br>Created Date=%{x}<br>Incident Density=%{y}<extra></extra>\",\"legendgroup\":\"Vanderveer/Flatbush\",\"line\":{\"color\":\"#FF97FF\",\"dash\":\"solid\"},\"marker\":{\"symbol\":\"circle\"},\"mode\":\"lines\",\"name\":\"Vanderveer/Flatbush\",\"showlegend\":true,\"type\":\"scattergl\",\"x\":[\"2013-08-31\",\"2013-11-30\",\"2013-12-31\",\"2014-01-31\",\"2014-07-31\",\"2014-08-31\",\"2014-09-30\",\"2015-01-31\",\"2015-05-31\",\"2015-07-31\",\"2015-09-30\",\"2015-10-31\",\"2015-12-31\",\"2016-04-30\",\"2016-05-31\",\"2016-06-30\",\"2016-07-31\",\"2016-08-31\",\"2016-09-30\",\"2016-10-31\",\"2016-12-31\",\"2017-05-31\",\"2017-06-30\",\"2017-07-31\",\"2017-08-31\",\"2017-09-30\",\"2017-10-31\",\"2017-11-30\",\"2018-01-31\",\"2018-03-31\",\"2018-04-30\",\"2018-07-31\",\"2018-08-31\",\"2018-09-30\",\"2018-10-31\",\"2018-11-30\",\"2018-12-31\",\"2019-02-28\",\"2019-03-31\",\"2019-04-30\"],\"xaxis\":\"x\",\"y\":[1.5464316090620893,1.5464316090620893,1.5464316090620893,1.5464316090620893,3.0928632181241786,3.0928632181241786,4.6392948271862675,1.5464316090620893,3.0928632181241786,3.0928632181241786,3.0928632181241786,3.0928632181241786,3.0928632181241786,1.5464316090620893,1.5464316090620893,4.6392948271862675,1.5464316090620893,1.5464316090620893,4.6392948271862675,10.825021263434625,1.5464316090620893,1.5464316090620893,1.5464316090620893,3.0928632181241786,1.5464316090620893,3.0928632181241786,4.6392948271862675,3.0928632181241786,1.5464316090620893,1.5464316090620893,1.5464316090620893,1.5464316090620893,1.5464316090620893,1.5464316090620893,1.5464316090620893,1.5464316090620893,1.5464316090620893,1.5464316090620893,1.5464316090620893,1.5464316090620893],\"yaxis\":\"y\"},{\"hovertemplate\":\"Neighborhood=Williamsburg<br>Created Date=%{x}<br>Incident Density=%{y}<extra></extra>\",\"legendgroup\":\"Williamsburg\",\"line\":{\"color\":\"#FECB52\",\"dash\":\"solid\"},\"marker\":{\"symbol\":\"circle\"},\"mode\":\"lines\",\"name\":\"Williamsburg\",\"showlegend\":true,\"type\":\"scattergl\",\"x\":[\"2013-06-30\",\"2013-07-31\",\"2013-08-31\",\"2013-09-30\",\"2013-10-31\",\"2014-04-30\",\"2014-05-31\",\"2014-06-30\",\"2014-07-31\",\"2014-08-31\",\"2014-09-30\",\"2014-10-31\",\"2015-01-31\",\"2015-02-28\",\"2015-03-31\",\"2015-04-30\",\"2015-05-31\",\"2015-06-30\",\"2015-07-31\",\"2015-08-31\",\"2015-09-30\",\"2015-10-31\",\"2015-11-30\",\"2015-12-31\",\"2016-03-31\",\"2016-07-31\",\"2016-08-31\",\"2016-09-30\",\"2016-10-31\",\"2016-12-31\",\"2017-02-28\",\"2017-04-30\",\"2017-05-31\",\"2017-06-30\",\"2017-07-31\",\"2017-08-31\",\"2017-09-30\",\"2017-11-30\",\"2017-12-31\",\"2018-01-31\",\"2018-02-28\",\"2018-03-31\",\"2018-04-30\",\"2018-05-31\",\"2018-06-30\",\"2018-07-31\",\"2018-08-31\",\"2018-09-30\",\"2018-10-31\",\"2018-11-30\",\"2018-12-31\",\"2019-01-31\",\"2019-02-28\",\"2019-03-31\",\"2019-04-30\",\"2019-05-31\"],\"xaxis\":\"x\",\"y\":[0.9697157763059647,1.9394315526119295,3.878863105223859,2.909147328917894,1.9394315526119295,0.9697157763059647,0.9697157763059647,1.9394315526119295,1.9394315526119295,4.848578881529823,10.666873539365612,3.878863105223859,0.9697157763059647,0.9697157763059647,2.909147328917894,0.9697157763059647,2.909147328917894,2.909147328917894,5.818294657835788,11.636589315671577,6.788010434141753,5.818294657835788,5.818294657835788,0.9697157763059647,0.9697157763059647,5.818294657835788,2.909147328917894,3.878863105223859,1.9394315526119295,0.9697157763059647,1.9394315526119295,6.788010434141753,6.788010434141753,1.9394315526119295,0.9697157763059647,8.727441986753682,5.818294657835788,0.9697157763059647,0.9697157763059647,2.909147328917894,5.818294657835788,11.636589315671577,3.878863105223859,3.878863105223859,1.9394315526119295,5.818294657835788,2.909147328917894,1.9394315526119295,4.848578881529823,1.9394315526119295,0.9697157763059647,2.909147328917894,0.9697157763059647,3.878863105223859,0.9697157763059647,1.9394315526119295],\"yaxis\":\"y\"},{\"hovertemplate\":\"Neighborhood=Brownsville<br>Created Date=%{x}<br>Incident Density=%{y}<extra></extra>\",\"legendgroup\":\"Brownsville\",\"line\":{\"color\":\"#636efa\",\"dash\":\"solid\"},\"marker\":{\"symbol\":\"circle\"},\"mode\":\"lines\",\"name\":\"Brownsville\",\"showlegend\":true,\"type\":\"scattergl\",\"x\":[\"2013-07-31\",\"2013-08-31\",\"2013-09-30\",\"2013-10-31\",\"2013-12-31\",\"2014-03-31\",\"2014-07-31\",\"2014-08-31\",\"2014-09-30\",\"2014-10-31\",\"2014-11-30\",\"2015-01-31\",\"2015-02-28\",\"2015-07-31\",\"2015-08-31\",\"2015-12-31\",\"2016-01-31\",\"2016-03-31\",\"2016-06-30\",\"2016-07-31\",\"2016-08-31\",\"2016-09-30\",\"2016-10-31\",\"2017-01-31\",\"2017-06-30\",\"2017-07-31\",\"2017-08-31\",\"2017-09-30\",\"2017-10-31\",\"2017-11-30\",\"2018-01-31\",\"2018-02-28\",\"2018-04-30\",\"2018-05-31\",\"2018-06-30\",\"2018-07-31\",\"2018-08-31\",\"2018-10-31\",\"2018-11-30\",\"2018-12-31\"],\"xaxis\":\"x\",\"y\":[1.3226638449837973,1.3226638449837973,1.3226638449837973,2.6453276899675946,1.3226638449837973,1.3226638449837973,1.3226638449837973,1.3226638449837973,1.3226638449837973,2.6453276899675946,1.3226638449837973,3.967991534951392,2.6453276899675946,1.3226638449837973,3.967991534951392,1.3226638449837973,1.3226638449837973,1.3226638449837973,1.3226638449837973,2.6453276899675946,3.967991534951392,1.3226638449837973,1.3226638449837973,2.6453276899675946,2.6453276899675946,2.6453276899675946,2.6453276899675946,5.290655379935189,2.6453276899675946,3.967991534951392,3.967991534951392,1.3226638449837973,1.3226638449837973,2.6453276899675946,2.6453276899675946,3.967991534951392,2.6453276899675946,1.3226638449837973,1.3226638449837973,1.3226638449837973],\"yaxis\":\"y\"},{\"hovertemplate\":\"Neighborhood=Brower Park/Crown Heights<br>Created Date=%{x}<br>Incident Density=%{y}<extra></extra>\",\"legendgroup\":\"Brower Park/Crown Heights\",\"line\":{\"color\":\"#EF553B\",\"dash\":\"solid\"},\"marker\":{\"symbol\":\"circle\"},\"mode\":\"lines\",\"name\":\"Brower Park/Crown Heights\",\"showlegend\":true,\"type\":\"scattergl\",\"x\":[\"2013-07-31\",\"2013-08-31\",\"2013-09-30\",\"2013-11-30\",\"2014-01-31\",\"2014-02-28\",\"2014-05-31\",\"2014-06-30\",\"2014-08-31\",\"2014-10-31\",\"2014-11-30\",\"2015-01-31\",\"2015-02-28\",\"2015-04-30\",\"2015-07-31\",\"2015-08-31\",\"2015-09-30\",\"2015-10-31\",\"2015-12-31\",\"2016-06-30\",\"2016-07-31\",\"2016-08-31\",\"2016-09-30\",\"2016-10-31\",\"2016-11-30\",\"2016-12-31\",\"2017-01-31\",\"2017-05-31\",\"2017-06-30\",\"2017-07-31\",\"2017-10-31\",\"2017-11-30\",\"2018-02-28\",\"2018-03-31\",\"2018-04-30\",\"2018-05-31\",\"2018-06-30\",\"2018-08-31\",\"2018-09-30\",\"2018-10-31\",\"2018-12-31\",\"2019-01-31\",\"2019-02-28\",\"2019-04-30\"],\"xaxis\":\"x\",\"y\":[1.4912908613696014,2.982581722739203,2.982581722739203,2.982581722739203,1.4912908613696014,1.4912908613696014,1.4912908613696014,2.982581722739203,2.982581722739203,1.4912908613696014,2.982581722739203,13.421617752326414,2.982581722739203,1.4912908613696014,7.456454306848007,1.4912908613696014,2.982581722739203,1.4912908613696014,1.4912908613696014,2.982581722739203,8.94774516821761,2.982581722739203,4.473872584108805,1.4912908613696014,1.4912908613696014,1.4912908613696014,1.4912908613696014,2.982581722739203,1.4912908613696014,2.982581722739203,1.4912908613696014,2.982581722739203,2.982581722739203,1.4912908613696014,1.4912908613696014,2.982581722739203,2.982581722739203,7.456454306848007,2.982581722739203,5.965163445478406,1.4912908613696014,1.4912908613696014,1.4912908613696014,1.4912908613696014],\"yaxis\":\"y\"},{\"hovertemplate\":\"Neighborhood=Bath Beach/Bensonhurst<br>Created Date=%{x}<br>Incident Density=%{y}<extra></extra>\",\"legendgroup\":\"Bath Beach/Bensonhurst\",\"line\":{\"color\":\"#00cc96\",\"dash\":\"solid\"},\"marker\":{\"symbol\":\"circle\"},\"mode\":\"lines\",\"name\":\"Bath Beach/Bensonhurst\",\"showlegend\":true,\"type\":\"scattergl\",\"x\":[\"2013-10-31\",\"2014-04-30\",\"2014-07-31\",\"2014-08-31\",\"2014-09-30\",\"2014-12-31\",\"2015-04-30\",\"2015-06-30\",\"2015-08-31\",\"2015-10-31\",\"2015-11-30\",\"2015-12-31\",\"2016-03-31\",\"2016-04-30\",\"2016-06-30\",\"2016-07-31\",\"2016-08-31\",\"2016-09-30\",\"2017-02-28\",\"2017-04-30\",\"2017-07-31\",\"2017-08-31\",\"2017-09-30\",\"2017-10-31\",\"2017-11-30\",\"2017-12-31\",\"2018-02-28\",\"2018-03-31\",\"2018-04-30\",\"2018-05-31\",\"2018-06-30\",\"2018-07-31\",\"2018-08-31\",\"2018-09-30\",\"2018-10-31\",\"2018-11-30\",\"2018-12-31\",\"2019-01-31\",\"2019-02-28\",\"2019-04-30\",\"2019-05-31\"],\"xaxis\":\"x\",\"y\":[2.1588014334441517,1.0794007167220758,2.1588014334441517,1.0794007167220758,1.0794007167220758,1.0794007167220758,2.1588014334441517,1.0794007167220758,2.1588014334441517,1.0794007167220758,4.317602866888303,1.0794007167220758,1.0794007167220758,1.0794007167220758,1.0794007167220758,1.0794007167220758,1.0794007167220758,1.0794007167220758,1.0794007167220758,1.0794007167220758,2.1588014334441517,5.397003583610379,6.476404300332455,1.0794007167220758,3.2382021501662277,1.0794007167220758,1.0794007167220758,1.0794007167220758,5.397003583610379,7.5558050170545314,2.1588014334441517,5.397003583610379,3.2382021501662277,1.0794007167220758,3.2382021501662277,3.2382021501662277,3.2382021501662277,1.0794007167220758,1.0794007167220758,3.2382021501662277,1.0794007167220758],\"yaxis\":\"y\"},{\"hovertemplate\":\"Neighborhood=Park Slope/Windsor Terrace<br>Created Date=%{x}<br>Incident Density=%{y}<extra></extra>\",\"legendgroup\":\"Park Slope/Windsor Terrace\",\"line\":{\"color\":\"#ab63fa\",\"dash\":\"solid\"},\"marker\":{\"symbol\":\"circle\"},\"mode\":\"lines\",\"name\":\"Park Slope/Windsor Terrace\",\"showlegend\":true,\"type\":\"scattergl\",\"x\":[\"2013-06-30\",\"2013-07-31\",\"2013-08-31\",\"2013-09-30\",\"2013-10-31\",\"2013-12-31\",\"2014-04-30\",\"2014-05-31\",\"2014-06-30\",\"2014-07-31\",\"2014-08-31\",\"2014-09-30\",\"2014-10-31\",\"2014-12-31\",\"2015-01-31\",\"2015-04-30\",\"2015-07-31\",\"2015-08-31\",\"2015-09-30\",\"2015-10-31\",\"2015-11-30\",\"2015-12-31\",\"2016-01-31\",\"2016-03-31\",\"2016-05-31\",\"2016-08-31\",\"2016-09-30\",\"2016-10-31\",\"2016-11-30\",\"2016-12-31\",\"2017-01-31\",\"2017-02-28\",\"2017-03-31\",\"2017-04-30\",\"2017-05-31\",\"2017-06-30\",\"2017-07-31\",\"2017-08-31\",\"2017-09-30\",\"2017-10-31\",\"2017-11-30\",\"2018-01-31\",\"2018-03-31\",\"2018-04-30\",\"2018-06-30\",\"2018-07-31\",\"2018-08-31\",\"2018-09-30\",\"2018-10-31\",\"2018-11-30\",\"2018-12-31\",\"2019-01-31\",\"2019-03-31\"],\"xaxis\":\"x\",\"y\":[1.4311679761853648,4.2935039285560945,2.8623359523707297,1.4311679761853648,4.2935039285560945,4.2935039285560945,4.2935039285560945,2.8623359523707297,7.155839880926824,4.2935039285560945,14.311679761853648,1.4311679761853648,4.2935039285560945,2.8623359523707297,1.4311679761853648,5.724671904741459,2.8623359523707297,8.587007857112189,2.8623359523707297,1.4311679761853648,7.155839880926824,1.4311679761853648,4.2935039285560945,1.4311679761853648,2.8623359523707297,11.449343809482919,10.018175833297555,1.4311679761853648,4.2935039285560945,2.8623359523707297,4.2935039285560945,1.4311679761853648,4.2935039285560945,4.2935039285560945,11.449343809482919,30.05452749989266,17.174015714224378,8.587007857112189,11.449343809482919,2.8623359523707297,1.4311679761853648,5.724671904741459,2.8623359523707297,4.2935039285560945,4.2935039285560945,1.4311679761853648,7.155839880926824,1.4311679761853648,1.4311679761853648,2.8623359523707297,1.4311679761853648,1.4311679761853648,4.2935039285560945],\"yaxis\":\"y\"},{\"hovertemplate\":\"Neighborhood=Bedford-Stuyvesant<br>Created Date=%{x}<br>Incident Density=%{y}<extra></extra>\",\"legendgroup\":\"Bedford-Stuyvesant\",\"line\":{\"color\":\"#FFA15A\",\"dash\":\"solid\"},\"marker\":{\"symbol\":\"circle\"},\"mode\":\"lines\",\"name\":\"Bedford-Stuyvesant\",\"showlegend\":true,\"type\":\"scattergl\",\"x\":[\"2013-07-31\",\"2013-08-31\",\"2013-09-30\",\"2013-11-30\",\"2013-12-31\",\"2014-05-31\",\"2014-06-30\",\"2014-07-31\",\"2014-08-31\",\"2014-09-30\",\"2014-10-31\",\"2014-11-30\",\"2014-12-31\",\"2015-03-31\",\"2015-04-30\",\"2015-05-31\",\"2015-06-30\",\"2015-07-31\",\"2015-08-31\",\"2015-10-31\",\"2015-12-31\",\"2016-01-31\",\"2016-03-31\",\"2016-04-30\",\"2016-06-30\",\"2016-07-31\",\"2016-08-31\",\"2016-09-30\",\"2016-10-31\",\"2016-11-30\",\"2016-12-31\",\"2017-02-28\",\"2017-04-30\",\"2017-05-31\",\"2017-06-30\",\"2017-07-31\",\"2017-08-31\",\"2017-09-30\",\"2017-10-31\",\"2017-11-30\",\"2018-02-28\",\"2018-03-31\",\"2018-04-30\",\"2018-05-31\",\"2018-06-30\",\"2018-07-31\",\"2018-08-31\",\"2018-09-30\",\"2018-10-31\",\"2018-11-30\",\"2019-02-28\",\"2019-03-31\",\"2019-04-30\",\"2019-05-31\"],\"xaxis\":\"x\",\"y\":[3.4610459280794657,1.7305229640397328,6.922091856158931,1.7305229640397328,1.7305229640397328,12.11366074827813,13.844183712317863,8.652614820198664,8.652614820198664,1.7305229640397328,1.7305229640397328,3.4610459280794657,3.4610459280794657,1.7305229640397328,1.7305229640397328,5.191568892119198,3.4610459280794657,8.652614820198664,3.4610459280794657,5.191568892119198,1.7305229640397328,3.4610459280794657,10.383137784238397,1.7305229640397328,6.922091856158931,1.7305229640397328,15.574706676357595,20.766275568476793,8.652614820198664,13.844183712317863,1.7305229640397328,1.7305229640397328,3.4610459280794657,6.922091856158931,6.922091856158931,15.574706676357595,10.383137784238397,12.11366074827813,20.766275568476793,13.844183712317863,3.4610459280794657,1.7305229640397328,13.844183712317863,8.652614820198664,10.383137784238397,29.418890388675457,19.03575260443706,5.191568892119198,8.652614820198664,10.383137784238397,3.4610459280794657,8.652614820198664,10.383137784238397,1.7305229640397328],\"yaxis\":\"y\"},{\"hovertemplate\":\"Neighborhood=Park Slope/Gowanus<br>Created Date=%{x}<br>Incident Density=%{y}<extra></extra>\",\"legendgroup\":\"Park Slope/Gowanus\",\"line\":{\"color\":\"#19d3f3\",\"dash\":\"solid\"},\"marker\":{\"symbol\":\"circle\"},\"mode\":\"lines\",\"name\":\"Park Slope/Gowanus\",\"showlegend\":true,\"type\":\"scattergl\",\"x\":[\"2013-07-31\",\"2013-08-31\",\"2013-09-30\",\"2013-10-31\",\"2013-11-30\",\"2013-12-31\",\"2014-01-31\",\"2014-04-30\",\"2014-05-31\",\"2014-06-30\",\"2014-07-31\",\"2014-08-31\",\"2014-09-30\",\"2014-10-31\",\"2014-11-30\",\"2014-12-31\",\"2015-01-31\",\"2015-02-28\",\"2015-03-31\",\"2015-05-31\",\"2015-06-30\",\"2015-07-31\",\"2015-08-31\",\"2015-09-30\",\"2015-10-31\",\"2015-11-30\",\"2015-12-31\",\"2016-01-31\",\"2016-02-29\",\"2016-07-31\",\"2016-08-31\",\"2016-09-30\",\"2016-10-31\",\"2016-11-30\",\"2016-12-31\",\"2017-04-30\",\"2017-06-30\",\"2017-07-31\",\"2017-08-31\",\"2017-09-30\",\"2017-10-31\",\"2018-01-31\",\"2018-03-31\",\"2018-04-30\",\"2018-05-31\",\"2018-06-30\",\"2018-07-31\",\"2018-08-31\",\"2018-09-30\",\"2018-10-31\",\"2018-11-30\",\"2018-12-31\",\"2019-03-31\",\"2019-04-30\"],\"xaxis\":\"x\",\"y\":[11.958003491737019,4.783201396694808,9.566402793389615,16.741204888431827,4.783201396694808,4.783201396694808,2.391600698347404,2.391600698347404,19.13280558677923,7.174802095042212,16.741204888431827,9.566402793389615,14.349604190084424,11.958003491737019,14.349604190084424,7.174802095042212,2.391600698347404,7.174802095042212,2.391600698347404,14.349604190084424,4.783201396694808,2.391600698347404,7.174802095042212,11.958003491737019,16.741204888431827,4.783201396694808,16.741204888431827,4.783201396694808,2.391600698347404,4.783201396694808,23.916006983474038,52.61521536364289,9.566402793389615,2.391600698347404,2.391600698347404,2.391600698347404,4.783201396694808,2.391600698347404,2.391600698347404,14.349604190084424,2.391600698347404,2.391600698347404,11.958003491737019,4.783201396694808,11.958003491737019,31.09080907851625,9.566402793389615,11.958003491737019,23.916006983474038,14.349604190084424,9.566402793389615,2.391600698347404,9.566402793389615,11.958003491737019],\"yaxis\":\"y\"},{\"hovertemplate\":\"Neighborhood=Kensington/Windsor Terrace<br>Created Date=%{x}<br>Incident Density=%{y}<extra></extra>\",\"legendgroup\":\"Kensington/Windsor Terrace\",\"line\":{\"color\":\"#FF6692\",\"dash\":\"solid\"},\"marker\":{\"symbol\":\"circle\"},\"mode\":\"lines\",\"name\":\"Kensington/Windsor Terrace\",\"showlegend\":true,\"type\":\"scattergl\",\"x\":[\"2013-07-31\",\"2013-08-31\",\"2013-09-30\",\"2013-10-31\",\"2013-11-30\",\"2013-12-31\",\"2014-07-31\",\"2014-09-30\",\"2014-10-31\",\"2014-11-30\",\"2014-12-31\",\"2015-04-30\",\"2015-05-31\",\"2015-06-30\",\"2015-07-31\",\"2015-08-31\",\"2015-09-30\",\"2015-10-31\",\"2015-11-30\",\"2015-12-31\",\"2016-02-29\",\"2016-06-30\",\"2016-07-31\",\"2016-08-31\",\"2016-09-30\",\"2016-10-31\",\"2016-11-30\",\"2017-01-31\",\"2017-04-30\",\"2017-05-31\",\"2017-06-30\",\"2017-07-31\",\"2017-08-31\",\"2017-09-30\",\"2017-10-31\",\"2017-11-30\",\"2018-03-31\",\"2018-04-30\",\"2018-05-31\",\"2018-06-30\",\"2018-07-31\",\"2018-08-31\",\"2018-09-30\",\"2018-10-31\",\"2018-11-30\",\"2019-04-30\"],\"xaxis\":\"x\",\"y\":[2.761935011669175,1.3809675058345876,2.761935011669175,1.3809675058345876,1.3809675058345876,1.3809675058345876,1.3809675058345876,4.142902517503763,4.142902517503763,1.3809675058345876,6.904837529172939,2.761935011669175,1.3809675058345876,4.142902517503763,6.904837529172939,4.142902517503763,8.285805035007526,2.761935011669175,1.3809675058345876,4.142902517503763,1.3809675058345876,2.761935011669175,4.142902517503763,1.3809675058345876,9.666772540842114,5.52387002333835,4.142902517503763,4.142902517503763,4.142902517503763,11.0477400466767,9.666772540842114,6.904837529172939,12.42870755251129,4.142902517503763,4.142902517503763,1.3809675058345876,2.761935011669175,4.142902517503763,5.52387002333835,1.3809675058345876,2.761935011669175,1.3809675058345876,2.761935011669175,8.285805035007526,1.3809675058345876,1.3809675058345876],\"yaxis\":\"y\"},{\"hovertemplate\":\"Neighborhood=Borough Park<br>Created Date=%{x}<br>Incident Density=%{y}<extra></extra>\",\"legendgroup\":\"Borough Park\",\"line\":{\"color\":\"#B6E880\",\"dash\":\"solid\"},\"marker\":{\"symbol\":\"circle\"},\"mode\":\"lines\",\"name\":\"Borough Park\",\"showlegend\":true,\"type\":\"scattergl\",\"x\":[\"2013-10-31\",\"2014-05-31\",\"2014-07-31\",\"2014-08-31\",\"2014-09-30\",\"2014-11-30\",\"2015-01-31\",\"2015-03-31\",\"2015-04-30\",\"2015-05-31\",\"2015-06-30\",\"2015-07-31\",\"2015-08-31\",\"2015-09-30\",\"2015-10-31\",\"2015-11-30\",\"2015-12-31\",\"2016-01-31\",\"2016-03-31\",\"2016-05-31\",\"2016-06-30\",\"2016-07-31\",\"2016-08-31\",\"2016-09-30\",\"2016-10-31\",\"2016-11-30\",\"2017-01-31\",\"2017-02-28\",\"2017-03-31\",\"2017-04-30\",\"2017-05-31\",\"2017-06-30\",\"2017-07-31\",\"2017-09-30\",\"2017-10-31\",\"2017-11-30\",\"2017-12-31\",\"2018-01-31\",\"2018-02-28\",\"2018-04-30\",\"2018-05-31\",\"2018-06-30\",\"2018-07-31\",\"2018-08-31\",\"2018-09-30\",\"2018-10-31\",\"2018-11-30\",\"2018-12-31\",\"2019-01-31\",\"2019-03-31\",\"2019-04-30\"],\"xaxis\":\"x\",\"y\":[2.237862393841403,1.1189311969207014,4.475724787682806,2.237862393841403,3.356793590762104,2.237862393841403,1.1189311969207014,1.1189311969207014,3.356793590762104,2.237862393841403,2.237862393841403,1.1189311969207014,3.356793590762104,2.237862393841403,2.237862393841403,1.1189311969207014,2.237862393841403,2.237862393841403,2.237862393841403,2.237862393841403,7.8325183784449095,5.594655984603507,4.475724787682806,6.713587181524208,3.356793590762104,3.356793590762104,1.1189311969207014,1.1189311969207014,3.356793590762104,13.427174363048415,5.594655984603507,2.237862393841403,1.1189311969207014,3.356793590762104,1.1189311969207014,2.237862393841403,1.1189311969207014,1.1189311969207014,1.1189311969207014,3.356793590762104,4.475724787682806,10.070380772286311,2.237862393841403,2.237862393841403,2.237862393841403,1.1189311969207014,10.070380772286311,2.237862393841403,1.1189311969207014,2.237862393841403,3.356793590762104],\"yaxis\":\"y\"},{\"hovertemplate\":\"Neighborhood=Sunset Park<br>Created Date=%{x}<br>Incident Density=%{y}<extra></extra>\",\"legendgroup\":\"Sunset Park\",\"line\":{\"color\":\"#FF97FF\",\"dash\":\"solid\"},\"marker\":{\"symbol\":\"circle\"},\"mode\":\"lines\",\"name\":\"Sunset Park\",\"showlegend\":true,\"type\":\"scattergl\",\"x\":[\"2013-06-30\",\"2013-08-31\",\"2013-10-31\",\"2013-12-31\",\"2014-01-31\",\"2014-02-28\",\"2014-04-30\",\"2014-05-31\",\"2014-06-30\",\"2014-07-31\",\"2014-08-31\",\"2014-09-30\",\"2014-10-31\",\"2014-11-30\",\"2014-12-31\",\"2015-02-28\",\"2015-05-31\",\"2015-06-30\",\"2015-07-31\",\"2015-08-31\",\"2015-09-30\",\"2016-01-31\",\"2016-03-31\",\"2016-04-30\",\"2016-05-31\",\"2016-06-30\",\"2016-07-31\",\"2016-08-31\",\"2016-09-30\",\"2016-10-31\",\"2017-01-31\",\"2017-02-28\",\"2017-03-31\",\"2017-05-31\",\"2017-06-30\",\"2017-07-31\",\"2017-08-31\",\"2017-09-30\",\"2017-10-31\",\"2017-11-30\",\"2017-12-31\",\"2018-01-31\",\"2018-04-30\",\"2018-06-30\",\"2018-07-31\",\"2018-08-31\",\"2018-09-30\",\"2018-10-31\",\"2018-11-30\",\"2019-02-28\",\"2019-04-30\",\"2019-05-31\"],\"xaxis\":\"x\",\"y\":[1.0733068584308254,1.0733068584308254,2.146613716861651,1.0733068584308254,1.0733068584308254,1.0733068584308254,1.0733068584308254,4.293227433723302,2.146613716861651,1.0733068584308254,2.146613716861651,1.0733068584308254,2.146613716861651,1.0733068584308254,2.146613716861651,1.0733068584308254,2.146613716861651,5.366534292154127,8.586454867446603,7.513148009015778,5.366534292154127,1.0733068584308254,1.0733068584308254,1.0733068584308254,1.0733068584308254,9.659761725877429,5.366534292154127,2.146613716861651,3.219920575292476,4.293227433723302,1.0733068584308254,1.0733068584308254,1.0733068584308254,2.146613716861651,4.293227433723302,4.293227433723302,4.293227433723302,4.293227433723302,4.293227433723302,2.146613716861651,1.0733068584308254,1.0733068584308254,1.0733068584308254,1.0733068584308254,1.0733068584308254,2.146613716861651,2.146613716861651,4.293227433723302,2.146613716861651,2.146613716861651,2.146613716861651,1.0733068584308254],\"yaxis\":\"y\"},{\"hovertemplate\":\"Neighborhood=Bushwick/Bedford-Stuyvesant<br>Created Date=%{x}<br>Incident Density=%{y}<extra></extra>\",\"legendgroup\":\"Bushwick/Bedford-Stuyvesant\",\"line\":{\"color\":\"#FECB52\",\"dash\":\"solid\"},\"marker\":{\"symbol\":\"circle\"},\"mode\":\"lines\",\"name\":\"Bushwick/Bedford-Stuyvesant\",\"showlegend\":true,\"type\":\"scattergl\",\"x\":[\"2013-07-31\",\"2013-08-31\",\"2013-09-30\",\"2013-10-31\",\"2013-11-30\",\"2013-12-31\",\"2014-01-31\",\"2014-02-28\",\"2014-04-30\",\"2014-05-31\",\"2014-06-30\",\"2014-07-31\",\"2014-08-31\",\"2014-09-30\",\"2014-10-31\",\"2014-11-30\",\"2015-02-28\",\"2015-03-31\",\"2015-04-30\",\"2015-05-31\",\"2015-06-30\",\"2015-07-31\",\"2015-08-31\",\"2015-09-30\",\"2015-10-31\",\"2015-11-30\",\"2015-12-31\",\"2016-01-31\",\"2016-02-29\",\"2016-03-31\",\"2016-05-31\",\"2016-06-30\",\"2016-07-31\",\"2016-08-31\",\"2016-10-31\",\"2016-11-30\",\"2016-12-31\",\"2017-01-31\",\"2017-02-28\",\"2017-04-30\",\"2017-06-30\",\"2017-07-31\",\"2017-08-31\",\"2017-09-30\",\"2017-10-31\",\"2017-12-31\",\"2018-01-31\",\"2018-02-28\",\"2018-03-31\",\"2018-05-31\",\"2018-06-30\",\"2018-07-31\",\"2018-08-31\",\"2018-09-30\",\"2018-10-31\",\"2018-11-30\",\"2018-12-31\",\"2019-02-28\",\"2019-03-31\",\"2019-04-30\"],\"xaxis\":\"x\",\"y\":[3.600489666594657,3.600489666594657,2.400326444396438,3.600489666594657,1.200163222198219,3.600489666594657,2.400326444396438,3.600489666594657,2.400326444396438,2.400326444396438,1.200163222198219,8.401142555387533,3.600489666594657,4.800652888792876,2.400326444396438,2.400326444396438,1.200163222198219,1.200163222198219,7.200979333189314,3.600489666594657,4.800652888792876,9.601305777585752,6.000816110991095,4.800652888792876,4.800652888792876,3.600489666594657,3.600489666594657,1.200163222198219,1.200163222198219,3.600489666594657,3.600489666594657,4.800652888792876,2.400326444396438,6.000816110991095,2.400326444396438,2.400326444396438,2.400326444396438,1.200163222198219,1.200163222198219,3.600489666594657,2.400326444396438,8.401142555387533,6.000816110991095,6.000816110991095,1.200163222198219,3.600489666594657,2.400326444396438,1.200163222198219,3.600489666594657,7.200979333189314,4.800652888792876,3.600489666594657,6.000816110991095,16.802285110775067,2.400326444396438,4.800652888792876,2.400326444396438,2.400326444396438,2.400326444396438,1.200163222198219],\"yaxis\":\"y\"},{\"hovertemplate\":\"Neighborhood=Greenpoint<br>Created Date=%{x}<br>Incident Density=%{y}<extra></extra>\",\"legendgroup\":\"Greenpoint\",\"line\":{\"color\":\"#636efa\",\"dash\":\"solid\"},\"marker\":{\"symbol\":\"circle\"},\"mode\":\"lines\",\"name\":\"Greenpoint\",\"showlegend\":true,\"type\":\"scattergl\",\"x\":[\"2013-06-30\",\"2013-07-31\",\"2013-08-31\",\"2013-09-30\",\"2013-10-31\",\"2013-11-30\",\"2013-12-31\",\"2014-04-30\",\"2014-05-31\",\"2014-06-30\",\"2014-07-31\",\"2014-08-31\",\"2014-09-30\",\"2014-10-31\",\"2014-11-30\",\"2014-12-31\",\"2015-01-31\",\"2015-02-28\",\"2015-03-31\",\"2015-04-30\",\"2015-06-30\",\"2015-07-31\",\"2015-08-31\",\"2015-09-30\",\"2015-10-31\",\"2015-11-30\",\"2015-12-31\",\"2016-01-31\",\"2016-03-31\",\"2016-04-30\",\"2016-05-31\",\"2016-06-30\",\"2016-07-31\",\"2016-08-31\",\"2016-09-30\",\"2016-10-31\",\"2016-11-30\",\"2017-01-31\",\"2017-03-31\",\"2017-04-30\",\"2017-05-31\",\"2017-06-30\",\"2017-07-31\",\"2017-08-31\",\"2017-09-30\",\"2017-10-31\",\"2017-11-30\",\"2017-12-31\",\"2018-01-31\",\"2018-02-28\",\"2018-03-31\",\"2018-04-30\",\"2018-05-31\",\"2018-06-30\",\"2018-07-31\",\"2018-08-31\",\"2018-09-30\",\"2018-10-31\",\"2018-11-30\",\"2019-02-28\",\"2019-03-31\",\"2019-04-30\"],\"xaxis\":\"x\",\"y\":[10.848340203948796,16.272510305923195,5.424170101974398,13.560425254935994,5.424170101974398,5.424170101974398,8.136255152961597,2.712085050987199,2.712085050987199,5.424170101974398,16.272510305923195,10.848340203948796,8.136255152961597,8.136255152961597,8.136255152961597,8.136255152961597,5.424170101974398,5.424170101974398,13.560425254935994,37.96919071382079,10.848340203948796,13.560425254935994,10.848340203948796,21.696680407897592,40.681275764807985,10.848340203948796,8.136255152961597,2.712085050987199,2.712085050987199,2.712085050987199,13.560425254935994,18.984595356910393,13.560425254935994,32.54502061184639,18.984595356910393,21.696680407897592,8.136255152961597,2.712085050987199,5.424170101974398,5.424170101974398,5.424170101974398,5.424170101974398,18.984595356910393,13.560425254935994,8.136255152961597,10.848340203948796,13.560425254935994,2.712085050987199,2.712085050987199,27.12085050987199,5.424170101974398,10.848340203948796,10.848340203948796,5.424170101974398,46.10544586678238,21.696680407897592,24.40876545888479,8.136255152961597,8.136255152961597,2.712085050987199,5.424170101974398,2.712085050987199],\"yaxis\":\"y\"},{\"hovertemplate\":\"Neighborhood=Gravesend/Homecrest<br>Created Date=%{x}<br>Incident Density=%{y}<extra></extra>\",\"legendgroup\":\"Gravesend/Homecrest\",\"line\":{\"color\":\"#EF553B\",\"dash\":\"solid\"},\"marker\":{\"symbol\":\"circle\"},\"mode\":\"lines\",\"name\":\"Gravesend/Homecrest\",\"showlegend\":true,\"type\":\"scattergl\",\"x\":[\"2014-05-31\",\"2014-06-30\",\"2014-07-31\",\"2015-06-30\",\"2015-07-31\",\"2015-08-31\",\"2015-10-31\",\"2015-11-30\",\"2016-02-29\",\"2016-03-31\",\"2016-05-31\",\"2016-06-30\",\"2016-07-31\",\"2016-08-31\",\"2016-09-30\",\"2016-10-31\",\"2016-12-31\",\"2017-01-31\",\"2017-02-28\",\"2017-03-31\",\"2017-06-30\",\"2017-09-30\",\"2017-10-31\",\"2017-11-30\",\"2018-01-31\",\"2018-05-31\",\"2018-06-30\",\"2018-08-31\",\"2018-09-30\",\"2018-10-31\",\"2018-11-30\",\"2018-12-31\",\"2019-01-31\",\"2019-02-28\",\"2019-03-31\",\"2019-04-30\"],\"xaxis\":\"x\",\"y\":[1.228682361036025,1.228682361036025,2.45736472207205,1.228682361036025,2.45736472207205,8.600776527252174,1.228682361036025,1.228682361036025,1.228682361036025,2.45736472207205,1.228682361036025,8.600776527252174,1.228682361036025,1.228682361036025,2.45736472207205,1.228682361036025,1.228682361036025,1.228682361036025,1.228682361036025,1.228682361036025,2.45736472207205,2.45736472207205,1.228682361036025,1.228682361036025,1.228682361036025,1.228682361036025,2.45736472207205,3.686047083108075,4.9147294441441,1.228682361036025,1.228682361036025,1.228682361036025,1.228682361036025,1.228682361036025,1.228682361036025,2.45736472207205],\"yaxis\":\"y\"},{\"hovertemplate\":\"Neighborhood=Coney Island<br>Created Date=%{x}<br>Incident Density=%{y}<extra></extra>\",\"legendgroup\":\"Coney Island\",\"line\":{\"color\":\"#00cc96\",\"dash\":\"solid\"},\"marker\":{\"symbol\":\"circle\"},\"mode\":\"lines\",\"name\":\"Coney Island\",\"showlegend\":true,\"type\":\"scattergl\",\"x\":[\"2013-08-31\",\"2013-09-30\",\"2013-10-31\",\"2014-01-31\",\"2014-04-30\",\"2014-06-30\",\"2014-07-31\",\"2014-08-31\",\"2014-09-30\",\"2014-11-30\",\"2014-12-31\",\"2015-02-28\",\"2015-04-30\",\"2015-05-31\",\"2015-06-30\",\"2015-07-31\",\"2015-08-31\",\"2015-10-31\",\"2016-01-31\",\"2016-03-31\",\"2016-04-30\",\"2016-05-31\",\"2016-06-30\",\"2016-07-31\",\"2016-08-31\",\"2016-09-30\",\"2016-10-31\",\"2017-06-30\",\"2017-07-31\",\"2017-08-31\",\"2017-09-30\",\"2017-11-30\",\"2018-03-31\",\"2018-05-31\",\"2018-07-31\",\"2018-11-30\",\"2018-12-31\",\"2019-04-30\"],\"xaxis\":\"x\",\"y\":[4.367289005349929,2.1836445026749645,2.1836445026749645,2.1836445026749645,2.1836445026749645,6.550933508024894,8.734578010699858,8.734578010699858,2.1836445026749645,4.367289005349929,2.1836445026749645,2.1836445026749645,2.1836445026749645,6.550933508024894,4.367289005349929,13.101867016049788,4.367289005349929,2.1836445026749645,2.1836445026749645,2.1836445026749645,2.1836445026749645,6.550933508024894,8.734578010699858,4.367289005349929,4.367289005349929,15.285511518724752,2.1836445026749645,4.367289005349929,8.734578010699858,4.367289005349929,2.1836445026749645,2.1836445026749645,2.1836445026749645,2.1836445026749645,6.550933508024894,2.1836445026749645,6.550933508024894,4.367289005349929],\"yaxis\":\"y\"},{\"hovertemplate\":\"Neighborhood=Crown Heights<br>Created Date=%{x}<br>Incident Density=%{y}<extra></extra>\",\"legendgroup\":\"Crown Heights\",\"line\":{\"color\":\"#ab63fa\",\"dash\":\"solid\"},\"marker\":{\"symbol\":\"circle\"},\"mode\":\"lines\",\"name\":\"Crown Heights\",\"showlegend\":true,\"type\":\"scattergl\",\"x\":[\"2013-07-31\",\"2013-08-31\",\"2013-10-31\",\"2013-11-30\",\"2013-12-31\",\"2014-02-28\",\"2014-04-30\",\"2014-05-31\",\"2014-06-30\",\"2014-07-31\",\"2014-10-31\",\"2014-11-30\",\"2014-12-31\",\"2015-04-30\",\"2015-07-31\",\"2015-08-31\",\"2015-09-30\",\"2015-10-31\",\"2015-11-30\",\"2016-04-30\",\"2016-06-30\",\"2016-08-31\",\"2016-10-31\",\"2016-12-31\",\"2017-01-31\",\"2017-03-31\",\"2017-04-30\",\"2017-06-30\",\"2017-07-31\",\"2017-10-31\",\"2017-11-30\",\"2017-12-31\",\"2018-01-31\",\"2018-02-28\",\"2018-03-31\",\"2018-05-31\",\"2018-06-30\",\"2018-07-31\",\"2018-08-31\",\"2018-09-30\",\"2018-11-30\",\"2019-02-28\",\"2019-03-31\"],\"xaxis\":\"x\",\"y\":[3.5174730473627744,3.5174730473627744,3.5174730473627744,1.7587365236813872,3.5174730473627744,1.7587365236813872,1.7587365236813872,1.7587365236813872,3.5174730473627744,1.7587365236813872,3.5174730473627744,1.7587365236813872,1.7587365236813872,1.7587365236813872,3.5174730473627744,1.7587365236813872,3.5174730473627744,3.5174730473627744,1.7587365236813872,3.5174730473627744,8.793682618406937,5.276209571044162,1.7587365236813872,7.034946094725549,1.7587365236813872,5.276209571044162,5.276209571044162,5.276209571044162,1.7587365236813872,5.276209571044162,1.7587365236813872,1.7587365236813872,1.7587365236813872,5.276209571044162,3.5174730473627744,3.5174730473627744,5.276209571044162,1.7587365236813872,5.276209571044162,5.276209571044162,3.5174730473627744,10.552419142088324,8.793682618406937],\"yaxis\":\"y\"},{\"hovertemplate\":\"Neighborhood=Flatbush<br>Created Date=%{x}<br>Incident Density=%{y}<extra></extra>\",\"legendgroup\":\"Flatbush\",\"line\":{\"color\":\"#FFA15A\",\"dash\":\"solid\"},\"marker\":{\"symbol\":\"circle\"},\"mode\":\"lines\",\"name\":\"Flatbush\",\"showlegend\":true,\"type\":\"scattergl\",\"x\":[\"2013-06-30\",\"2013-08-31\",\"2013-09-30\",\"2013-10-31\",\"2013-11-30\",\"2013-12-31\",\"2014-03-31\",\"2014-04-30\",\"2014-05-31\",\"2014-06-30\",\"2014-07-31\",\"2014-08-31\",\"2014-09-30\",\"2014-10-31\",\"2014-11-30\",\"2014-12-31\",\"2015-01-31\",\"2015-02-28\",\"2015-03-31\",\"2015-04-30\",\"2015-05-31\",\"2015-06-30\",\"2015-07-31\",\"2015-08-31\",\"2015-09-30\",\"2015-10-31\",\"2015-11-30\",\"2015-12-31\",\"2016-02-29\",\"2016-03-31\",\"2016-05-31\",\"2016-06-30\",\"2016-07-31\",\"2016-08-31\",\"2016-09-30\",\"2016-10-31\",\"2016-11-30\",\"2017-02-28\",\"2017-03-31\",\"2017-04-30\",\"2017-05-31\",\"2017-06-30\",\"2017-07-31\",\"2017-08-31\",\"2017-09-30\",\"2017-10-31\",\"2017-11-30\",\"2017-12-31\",\"2018-01-31\",\"2018-02-28\",\"2018-03-31\",\"2018-04-30\",\"2018-05-31\",\"2018-06-30\",\"2018-07-31\",\"2018-08-31\",\"2018-09-30\",\"2018-10-31\",\"2018-11-30\",\"2018-12-31\",\"2019-01-31\",\"2019-03-31\",\"2019-04-30\"],\"xaxis\":\"x\",\"y\":[1.0044396231342534,4.017758492537014,2.008879246268507,3.0133188694027604,2.008879246268507,4.017758492537014,1.0044396231342534,1.0044396231342534,4.017758492537014,3.0133188694027604,2.008879246268507,3.0133188694027604,3.0133188694027604,1.0044396231342534,1.0044396231342534,1.0044396231342534,2.008879246268507,3.0133188694027604,3.0133188694027604,4.017758492537014,3.0133188694027604,9.03995660820828,7.031077361939774,7.031077361939774,6.026637738805521,4.017758492537014,3.0133188694027604,4.017758492537014,2.008879246268507,3.0133188694027604,1.0044396231342534,3.0133188694027604,1.0044396231342534,4.017758492537014,1.0044396231342534,4.017758492537014,2.008879246268507,1.0044396231342534,5.022198115671267,7.031077361939774,6.026637738805521,6.026637738805521,7.031077361939774,6.026637738805521,2.008879246268507,2.008879246268507,3.0133188694027604,2.008879246268507,5.022198115671267,1.0044396231342534,1.0044396231342534,1.0044396231342534,2.008879246268507,4.017758492537014,4.017758492537014,33.14650756343036,6.026637738805521,8.035516985074027,5.022198115671267,1.0044396231342534,5.022198115671267,1.0044396231342534,2.008879246268507],\"yaxis\":\"y\"},{\"hovertemplate\":\"Neighborhood=Dyker Heights<br>Created Date=%{x}<br>Incident Density=%{y}<extra></extra>\",\"legendgroup\":\"Dyker Heights\",\"line\":{\"color\":\"#19d3f3\",\"dash\":\"solid\"},\"marker\":{\"symbol\":\"circle\"},\"mode\":\"lines\",\"name\":\"Dyker Heights\",\"showlegend\":true,\"type\":\"scattergl\",\"x\":[\"2014-06-30\",\"2015-03-31\",\"2015-04-30\",\"2015-09-30\",\"2016-06-30\",\"2016-09-30\",\"2018-03-31\",\"2018-07-31\",\"2018-08-31\",\"2019-04-30\"],\"xaxis\":\"x\",\"y\":[4.509786236132407,6.764679354198611,2.2548931180662035,2.2548931180662035,4.509786236132407,2.2548931180662035,4.509786236132407,2.2548931180662035,2.2548931180662035,2.2548931180662035],\"yaxis\":\"y\"},{\"hovertemplate\":\"Neighborhood=Homecrest/Madison<br>Created Date=%{x}<br>Incident Density=%{y}<extra></extra>\",\"legendgroup\":\"Homecrest/Madison\",\"line\":{\"color\":\"#FF6692\",\"dash\":\"solid\"},\"marker\":{\"symbol\":\"circle\"},\"mode\":\"lines\",\"name\":\"Homecrest/Madison\",\"showlegend\":true,\"type\":\"scattergl\",\"x\":[\"2013-07-31\",\"2013-08-31\",\"2013-10-31\",\"2013-12-31\",\"2014-01-31\",\"2014-05-31\",\"2014-06-30\",\"2014-08-31\",\"2014-09-30\",\"2014-12-31\",\"2015-05-31\",\"2015-06-30\",\"2015-07-31\",\"2015-08-31\",\"2015-09-30\",\"2015-12-31\",\"2016-01-31\",\"2016-05-31\",\"2016-06-30\",\"2016-07-31\",\"2016-09-30\",\"2016-11-30\",\"2016-12-31\",\"2017-03-31\",\"2017-04-30\",\"2017-06-30\",\"2017-07-31\",\"2017-08-31\",\"2017-09-30\",\"2017-10-31\",\"2017-12-31\",\"2018-01-31\",\"2018-04-30\",\"2018-07-31\",\"2018-08-31\",\"2018-09-30\",\"2018-11-30\",\"2019-03-31\",\"2019-05-31\"],\"xaxis\":\"x\",\"y\":[1.203094358690552,2.406188717381104,1.203094358690552,1.203094358690552,1.203094358690552,1.203094358690552,3.609283076071656,2.406188717381104,1.203094358690552,2.406188717381104,2.406188717381104,8.421660510833865,1.203094358690552,3.609283076071656,1.203094358690552,1.203094358690552,1.203094358690552,2.406188717381104,1.203094358690552,2.406188717381104,2.406188717381104,2.406188717381104,2.406188717381104,1.203094358690552,1.203094358690552,1.203094358690552,2.406188717381104,9.624754869524416,3.609283076071656,7.218566152143312,2.406188717381104,3.609283076071656,6.01547179345276,1.203094358690552,3.609283076071656,2.406188717381104,1.203094358690552,1.203094358690552,1.203094358690552],\"yaxis\":\"y\"},{\"hovertemplate\":\"Neighborhood=Midwood<br>Created Date=%{x}<br>Incident Density=%{y}<extra></extra>\",\"legendgroup\":\"Midwood\",\"line\":{\"color\":\"#B6E880\",\"dash\":\"solid\"},\"marker\":{\"symbol\":\"circle\"},\"mode\":\"lines\",\"name\":\"Midwood\",\"showlegend\":true,\"type\":\"scattergl\",\"x\":[\"2013-07-31\",\"2013-08-31\",\"2013-09-30\",\"2013-10-31\",\"2013-11-30\",\"2013-12-31\",\"2014-01-31\",\"2014-03-31\",\"2014-05-31\",\"2014-06-30\",\"2014-08-31\",\"2014-09-30\",\"2014-11-30\",\"2014-12-31\",\"2015-03-31\",\"2015-04-30\",\"2015-05-31\",\"2015-06-30\",\"2015-07-31\",\"2015-08-31\",\"2015-09-30\",\"2015-10-31\",\"2015-11-30\",\"2015-12-31\",\"2016-02-29\",\"2016-05-31\",\"2016-06-30\",\"2016-07-31\",\"2016-08-31\",\"2016-09-30\",\"2016-10-31\",\"2016-11-30\",\"2017-01-31\",\"2017-02-28\",\"2017-03-31\",\"2017-04-30\",\"2017-05-31\",\"2017-06-30\",\"2017-07-31\",\"2017-10-31\",\"2018-04-30\",\"2018-06-30\",\"2018-10-31\",\"2018-11-30\",\"2019-01-31\",\"2019-05-31\"],\"xaxis\":\"x\",\"y\":[1.160914336131137,1.160914336131137,1.160914336131137,2.321828672262274,1.160914336131137,1.160914336131137,1.160914336131137,2.321828672262274,2.321828672262274,1.160914336131137,2.321828672262274,1.160914336131137,5.804571680655685,2.321828672262274,1.160914336131137,2.321828672262274,1.160914336131137,3.4827430083934106,1.160914336131137,1.160914336131137,3.4827430083934106,2.321828672262274,1.160914336131137,2.321828672262274,1.160914336131137,1.160914336131137,4.643657344524548,2.321828672262274,2.321828672262274,1.160914336131137,1.160914336131137,1.160914336131137,1.160914336131137,1.160914336131137,4.643657344524548,2.321828672262274,3.4827430083934106,5.804571680655685,1.160914336131137,1.160914336131137,1.160914336131137,2.321828672262274,1.160914336131137,2.321828672262274,1.160914336131137,1.160914336131137],\"yaxis\":\"y\"},{\"hovertemplate\":\"Neighborhood=Carroll Gardens/Red Hook<br>Created Date=%{x}<br>Incident Density=%{y}<extra></extra>\",\"legendgroup\":\"Carroll Gardens/Red Hook\",\"line\":{\"color\":\"#FF97FF\",\"dash\":\"solid\"},\"marker\":{\"symbol\":\"circle\"},\"mode\":\"lines\",\"name\":\"Carroll Gardens/Red Hook\",\"showlegend\":true,\"type\":\"scattergl\",\"x\":[\"2013-08-31\",\"2013-09-30\",\"2014-04-30\",\"2014-06-30\",\"2014-08-31\",\"2014-10-31\",\"2014-12-31\",\"2015-03-31\",\"2015-04-30\",\"2015-08-31\",\"2015-11-30\",\"2015-12-31\",\"2016-01-31\",\"2016-02-29\",\"2016-04-30\",\"2016-05-31\",\"2016-06-30\",\"2016-07-31\",\"2016-08-31\",\"2016-09-30\",\"2016-10-31\",\"2016-11-30\",\"2017-02-28\",\"2017-07-31\",\"2017-08-31\",\"2017-11-30\",\"2018-04-30\",\"2018-05-31\",\"2018-06-30\",\"2018-08-31\",\"2018-10-31\"],\"xaxis\":\"x\",\"y\":[2.6403337381845065,2.6403337381845065,2.6403337381845065,2.6403337381845065,5.280667476369013,2.6403337381845065,2.6403337381845065,2.6403337381845065,2.6403337381845065,5.280667476369013,15.842002429107039,10.561334952738026,10.561334952738026,5.280667476369013,5.280667476369013,2.6403337381845065,7.921001214553519,5.280667476369013,2.6403337381845065,7.921001214553519,7.921001214553519,10.561334952738026,2.6403337381845065,5.280667476369013,2.6403337381845065,5.280667476369013,2.6403337381845065,2.6403337381845065,5.280667476369013,2.6403337381845065,5.280667476369013],\"yaxis\":\"y\"},{\"hovertemplate\":\"Neighborhood=Industry City/Sunset Park<br>Created Date=%{x}<br>Incident Density=%{y}<extra></extra>\",\"legendgroup\":\"Industry City/Sunset Park\",\"line\":{\"color\":\"#FECB52\",\"dash\":\"solid\"},\"marker\":{\"symbol\":\"circle\"},\"mode\":\"lines\",\"name\":\"Industry City/Sunset Park\",\"showlegend\":true,\"type\":\"scattergl\",\"x\":[\"2013-10-31\",\"2014-06-30\",\"2014-07-31\",\"2014-08-31\",\"2015-05-31\",\"2015-06-30\",\"2015-07-31\",\"2016-05-31\",\"2016-06-30\",\"2016-07-31\",\"2016-08-31\",\"2016-09-30\",\"2017-05-31\",\"2017-07-31\",\"2017-10-31\",\"2018-05-31\",\"2018-06-30\",\"2018-07-31\",\"2018-10-31\",\"2018-12-31\",\"2019-04-30\",\"2019-05-31\"],\"xaxis\":\"x\",\"y\":[3.7835792659856224,7.567158531971245,11.350737797956867,11.350737797956867,11.350737797956867,7.567158531971245,18.917896329928112,7.567158531971245,11.350737797956867,3.7835792659856224,11.350737797956867,7.567158531971245,3.7835792659856224,7.567158531971245,7.567158531971245,3.7835792659856224,3.7835792659856224,3.7835792659856224,3.7835792659856224,3.7835792659856224,3.7835792659856224,7.567158531971245],\"yaxis\":\"y\"},{\"hovertemplate\":\"Neighborhood=Stuyvesant Heights<br>Created Date=%{x}<br>Incident Density=%{y}<extra></extra>\",\"legendgroup\":\"Stuyvesant Heights\",\"line\":{\"color\":\"#636efa\",\"dash\":\"solid\"},\"marker\":{\"symbol\":\"circle\"},\"mode\":\"lines\",\"name\":\"Stuyvesant Heights\",\"showlegend\":true,\"type\":\"scattergl\",\"x\":[\"2013-06-30\",\"2013-07-31\",\"2013-08-31\",\"2013-09-30\",\"2013-10-31\",\"2013-11-30\",\"2014-01-31\",\"2014-03-31\",\"2014-04-30\",\"2014-05-31\",\"2014-07-31\",\"2014-08-31\",\"2014-09-30\",\"2014-10-31\",\"2014-12-31\",\"2015-01-31\",\"2015-03-31\",\"2015-04-30\",\"2015-05-31\",\"2015-06-30\",\"2015-07-31\",\"2015-08-31\",\"2015-10-31\",\"2015-12-31\",\"2016-02-29\",\"2016-03-31\",\"2016-06-30\",\"2016-07-31\",\"2016-08-31\",\"2016-09-30\",\"2016-10-31\",\"2016-11-30\",\"2017-01-31\",\"2017-02-28\",\"2017-03-31\",\"2017-04-30\",\"2017-05-31\",\"2017-06-30\",\"2017-07-31\",\"2017-08-31\",\"2017-09-30\",\"2017-10-31\",\"2017-11-30\",\"2017-12-31\",\"2018-02-28\",\"2018-03-31\",\"2018-05-31\",\"2018-06-30\",\"2018-07-31\",\"2018-08-31\",\"2018-10-31\",\"2018-11-30\",\"2019-04-30\"],\"xaxis\":\"x\",\"y\":[1.2588275280403831,5.0353101121615325,3.7764825841211493,3.7764825841211493,2.5176550560807662,2.5176550560807662,1.2588275280403831,1.2588275280403831,2.5176550560807662,2.5176550560807662,2.5176550560807662,5.0353101121615325,1.2588275280403831,3.7764825841211493,2.5176550560807662,1.2588275280403831,1.2588275280403831,2.5176550560807662,6.294137640201916,3.7764825841211493,2.5176550560807662,5.0353101121615325,1.2588275280403831,1.2588275280403831,2.5176550560807662,1.2588275280403831,2.5176550560807662,3.7764825841211493,3.7764825841211493,1.2588275280403831,1.2588275280403831,2.5176550560807662,2.5176550560807662,1.2588275280403831,1.2588275280403831,2.5176550560807662,6.294137640201916,2.5176550560807662,5.0353101121615325,31.47068820100958,5.0353101121615325,2.5176550560807662,1.2588275280403831,1.2588275280403831,3.7764825841211493,1.2588275280403831,2.5176550560807662,1.2588275280403831,3.7764825841211493,2.5176550560807662,3.7764825841211493,1.2588275280403831,2.5176550560807662],\"yaxis\":\"y\"},{\"hovertemplate\":\"Neighborhood=Flatlands/Mill Basin<br>Created Date=%{x}<br>Incident Density=%{y}<extra></extra>\",\"legendgroup\":\"Flatlands/Mill Basin\",\"line\":{\"color\":\"#EF553B\",\"dash\":\"solid\"},\"marker\":{\"symbol\":\"circle\"},\"mode\":\"lines\",\"name\":\"Flatlands/Mill Basin\",\"showlegend\":true,\"type\":\"scattergl\",\"x\":[\"2013-07-31\",\"2013-12-31\",\"2014-07-31\",\"2014-08-31\",\"2014-10-31\",\"2014-11-30\",\"2015-03-31\",\"2015-06-30\",\"2015-07-31\",\"2015-09-30\",\"2016-01-31\",\"2016-02-29\",\"2016-04-30\",\"2016-05-31\",\"2016-06-30\",\"2016-07-31\",\"2016-08-31\",\"2016-09-30\",\"2016-10-31\",\"2016-11-30\",\"2017-03-31\",\"2017-04-30\",\"2017-06-30\",\"2017-08-31\",\"2017-11-30\",\"2018-03-31\",\"2018-04-30\",\"2018-07-31\",\"2018-08-31\",\"2018-09-30\",\"2018-10-31\",\"2018-11-30\"],\"xaxis\":\"x\",\"y\":[1.069129942053157,1.069129942053157,2.138259884106314,3.2073898261594715,1.069129942053157,2.138259884106314,1.069129942053157,1.069129942053157,3.2073898261594715,1.069129942053157,1.069129942053157,1.069129942053157,1.069129942053157,1.069129942053157,2.138259884106314,1.069129942053157,2.138259884106314,4.276519768212628,1.069129942053157,1.069129942053157,2.138259884106314,1.069129942053157,1.069129942053157,3.2073898261594715,1.069129942053157,2.138259884106314,2.138259884106314,1.069129942053157,1.069129942053157,1.069129942053157,1.069129942053157,1.069129942053157],\"yaxis\":\"y\"},{\"hovertemplate\":\"Neighborhood=Sheepshead Bay/Brighton Beach<br>Created Date=%{x}<br>Incident Density=%{y}<extra></extra>\",\"legendgroup\":\"Sheepshead Bay/Brighton Beach\",\"line\":{\"color\":\"#00cc96\",\"dash\":\"solid\"},\"marker\":{\"symbol\":\"circle\"},\"mode\":\"lines\",\"name\":\"Sheepshead Bay/Brighton Beach\",\"showlegend\":true,\"type\":\"scattergl\",\"x\":[\"2013-07-31\",\"2013-08-31\",\"2013-10-31\",\"2013-11-30\",\"2014-03-31\",\"2014-04-30\",\"2014-05-31\",\"2014-06-30\",\"2014-07-31\",\"2014-08-31\",\"2014-09-30\",\"2014-12-31\",\"2015-01-31\",\"2015-02-28\",\"2015-03-31\",\"2015-05-31\",\"2015-06-30\",\"2015-07-31\",\"2015-08-31\",\"2015-09-30\",\"2015-10-31\",\"2015-11-30\",\"2015-12-31\",\"2016-01-31\",\"2016-03-31\",\"2016-04-30\",\"2016-05-31\",\"2016-06-30\",\"2016-07-31\",\"2016-08-31\",\"2016-09-30\",\"2016-10-31\",\"2016-11-30\",\"2016-12-31\",\"2017-01-31\",\"2017-02-28\",\"2017-03-31\",\"2017-05-31\",\"2017-06-30\",\"2017-07-31\",\"2017-09-30\",\"2017-11-30\",\"2018-02-28\",\"2018-03-31\",\"2018-04-30\",\"2018-05-31\",\"2018-06-30\",\"2018-07-31\",\"2018-08-31\",\"2018-09-30\",\"2018-10-31\",\"2018-11-30\",\"2018-12-31\",\"2019-01-31\",\"2019-02-28\",\"2019-04-30\",\"2019-05-31\"],\"xaxis\":\"x\",\"y\":[11.424944462075532,3.808314820691844,12.69438273563948,3.808314820691844,2.538876547127896,6.34719136781974,6.34719136781974,7.616629641383688,1.269438273563948,10.155506188511584,13.963821009203427,10.155506188511584,2.538876547127896,1.269438273563948,3.808314820691844,2.538876547127896,8.886067914947636,7.616629641383688,7.616629641383688,3.808314820691844,5.077753094255792,7.616629641383688,7.616629641383688,2.538876547127896,2.538876547127896,2.538876547127896,6.34719136781974,5.077753094255792,5.077753094255792,13.963821009203427,13.963821009203427,16.502697556331324,1.269438273563948,5.077753094255792,1.269438273563948,1.269438273563948,1.269438273563948,2.538876547127896,3.808314820691844,12.69438273563948,8.886067914947636,2.538876547127896,1.269438273563948,1.269438273563948,2.538876547127896,2.538876547127896,6.34719136781974,3.808314820691844,8.886067914947636,7.616629641383688,3.808314820691844,1.269438273563948,2.538876547127896,2.538876547127896,2.538876547127896,10.155506188511584,2.538876547127896],\"yaxis\":\"y\"},{\"hovertemplate\":\"Neighborhood=Canarsie<br>Created Date=%{x}<br>Incident Density=%{y}<extra></extra>\",\"legendgroup\":\"Canarsie\",\"line\":{\"color\":\"#ab63fa\",\"dash\":\"solid\"},\"marker\":{\"symbol\":\"circle\"},\"mode\":\"lines\",\"name\":\"Canarsie\",\"showlegend\":true,\"type\":\"scattergl\",\"x\":[\"2013-07-31\",\"2013-08-31\",\"2013-10-31\",\"2014-01-31\",\"2014-04-30\",\"2014-07-31\",\"2014-08-31\",\"2014-09-30\",\"2014-10-31\",\"2014-11-30\",\"2015-01-31\",\"2015-03-31\",\"2015-04-30\",\"2015-05-31\",\"2015-06-30\",\"2015-11-30\",\"2015-12-31\",\"2016-01-31\",\"2016-02-29\",\"2016-03-31\",\"2016-05-31\",\"2016-06-30\",\"2016-09-30\",\"2016-11-30\",\"2016-12-31\",\"2017-02-28\",\"2017-03-31\",\"2017-04-30\",\"2017-07-31\",\"2017-08-31\",\"2017-09-30\",\"2017-11-30\",\"2017-12-31\",\"2018-04-30\",\"2018-05-31\",\"2018-06-30\",\"2018-07-31\",\"2018-08-31\",\"2018-09-30\",\"2018-10-31\",\"2019-01-31\",\"2019-02-28\",\"2019-03-31\"],\"xaxis\":\"x\",\"y\":[1.9832612748403475,1.9832612748403475,0.9916306374201738,0.9916306374201738,0.9916306374201738,2.9748919122605213,0.9916306374201738,1.9832612748403475,0.9916306374201738,1.9832612748403475,1.9832612748403475,1.9832612748403475,0.9916306374201738,0.9916306374201738,0.9916306374201738,0.9916306374201738,0.9916306374201738,1.9832612748403475,0.9916306374201738,0.9916306374201738,1.9832612748403475,3.966522549680695,1.9832612748403475,1.9832612748403475,1.9832612748403475,0.9916306374201738,1.9832612748403475,0.9916306374201738,3.966522549680695,0.9916306374201738,0.9916306374201738,0.9916306374201738,0.9916306374201738,2.9748919122605213,0.9916306374201738,0.9916306374201738,2.9748919122605213,2.9748919122605213,0.9916306374201738,4.958153187100868,0.9916306374201738,0.9916306374201738,0.9916306374201738],\"yaxis\":\"y\"},{\"hovertemplate\":\"Neighborhood=Bushwick<br>Created Date=%{x}<br>Incident Density=%{y}<extra></extra>\",\"legendgroup\":\"Bushwick\",\"line\":{\"color\":\"#FFA15A\",\"dash\":\"solid\"},\"marker\":{\"symbol\":\"circle\"},\"mode\":\"lines\",\"name\":\"Bushwick\",\"showlegend\":true,\"type\":\"scattergl\",\"x\":[\"2013-10-31\",\"2013-12-31\",\"2014-01-31\",\"2014-07-31\",\"2014-08-31\",\"2014-09-30\",\"2014-10-31\",\"2014-11-30\",\"2014-12-31\",\"2015-01-31\",\"2015-02-28\",\"2015-03-31\",\"2015-04-30\",\"2015-05-31\",\"2015-06-30\",\"2015-07-31\",\"2015-08-31\",\"2015-09-30\",\"2015-10-31\",\"2015-11-30\",\"2015-12-31\",\"2016-01-31\",\"2016-02-29\",\"2016-03-31\",\"2016-04-30\",\"2016-05-31\",\"2016-06-30\",\"2016-07-31\",\"2016-08-31\",\"2016-09-30\",\"2016-10-31\",\"2016-11-30\",\"2016-12-31\",\"2017-02-28\",\"2017-03-31\",\"2017-04-30\",\"2017-05-31\",\"2017-06-30\",\"2017-07-31\",\"2017-08-31\",\"2017-09-30\",\"2017-10-31\",\"2017-11-30\",\"2018-02-28\",\"2018-04-30\",\"2018-07-31\",\"2018-08-31\",\"2018-09-30\",\"2018-10-31\",\"2018-11-30\",\"2018-12-31\",\"2019-01-31\",\"2019-02-28\",\"2019-03-31\",\"2019-04-30\"],\"xaxis\":\"x\",\"y\":[4.091987887715852,2.045993943857926,4.091987887715852,8.183975775431705,2.045993943857926,18.413945494721336,4.091987887715852,2.045993943857926,2.045993943857926,2.045993943857926,4.091987887715852,10.229969719289631,2.045993943857926,10.229969719289631,6.137981831573779,16.36795155086341,26.59792127015304,10.229969719289631,6.137981831573779,8.183975775431705,2.045993943857926,4.091987887715852,2.045993943857926,2.045993943857926,6.137981831573779,6.137981831573779,12.275963663147557,2.045993943857926,16.36795155086341,47.0578607087323,6.137981831573779,10.229969719289631,2.045993943857926,2.045993943857926,2.045993943857926,16.36795155086341,4.091987887715852,6.137981831573779,6.137981831573779,6.137981831573779,18.413945494721336,6.137981831573779,2.045993943857926,4.091987887715852,4.091987887715852,6.137981831573779,22.50593338243719,20.459939438579262,6.137981831573779,12.275963663147557,8.183975775431705,10.229969719289631,2.045993943857926,6.137981831573779,6.137981831573779],\"yaxis\":\"y\"},{\"hovertemplate\":\"Neighborhood=Prospect Heights<br>Created Date=%{x}<br>Incident Density=%{y}<extra></extra>\",\"legendgroup\":\"Prospect Heights\",\"line\":{\"color\":\"#19d3f3\",\"dash\":\"solid\"},\"marker\":{\"symbol\":\"circle\"},\"mode\":\"lines\",\"name\":\"Prospect Heights\",\"showlegend\":true,\"type\":\"scattergl\",\"x\":[\"2013-07-31\",\"2013-08-31\",\"2013-10-31\",\"2013-11-30\",\"2013-12-31\",\"2014-01-31\",\"2014-02-28\",\"2014-04-30\",\"2014-05-31\",\"2014-07-31\",\"2014-08-31\",\"2014-09-30\",\"2014-10-31\",\"2014-11-30\",\"2014-12-31\",\"2015-03-31\",\"2015-04-30\",\"2015-05-31\",\"2015-06-30\",\"2015-07-31\",\"2015-08-31\",\"2015-09-30\",\"2015-10-31\",\"2015-11-30\",\"2015-12-31\",\"2016-02-29\",\"2016-06-30\",\"2016-08-31\",\"2016-10-31\",\"2016-11-30\",\"2017-01-31\",\"2017-04-30\",\"2017-05-31\",\"2017-06-30\",\"2017-07-31\",\"2017-08-31\",\"2017-09-30\",\"2017-10-31\",\"2017-11-30\",\"2017-12-31\",\"2018-01-31\",\"2018-03-31\",\"2018-04-30\",\"2018-05-31\",\"2018-06-30\",\"2018-07-31\",\"2018-08-31\",\"2018-09-30\",\"2018-10-31\",\"2018-12-31\",\"2019-01-31\",\"2019-02-28\",\"2019-03-31\"],\"xaxis\":\"x\",\"y\":[5.433798224959246,5.433798224959246,10.867596449918492,3.622532149972831,5.433798224959246,1.8112660749864156,1.8112660749864156,7.245064299945662,1.8112660749864156,3.622532149972831,3.622532149972831,3.622532149972831,5.433798224959246,7.245064299945662,1.8112660749864156,3.622532149972831,1.8112660749864156,3.622532149972831,3.622532149972831,3.622532149972831,7.245064299945662,10.867596449918492,7.245064299945662,7.245064299945662,1.8112660749864156,3.622532149972831,3.622532149972831,5.433798224959246,1.8112660749864156,12.67886252490491,1.8112660749864156,7.245064299945662,3.622532149972831,5.433798224959246,3.622532149972831,7.245064299945662,10.867596449918492,5.433798224959246,5.433798224959246,1.8112660749864156,1.8112660749864156,3.622532149972831,1.8112660749864156,3.622532149972831,9.056330374932077,7.245064299945662,7.245064299945662,18.112660749864155,12.67886252490491,1.8112660749864156,1.8112660749864156,3.622532149972831,3.622532149972831],\"yaxis\":\"y\"},{\"hovertemplate\":\"Neighborhood=Starrett City<br>Created Date=%{x}<br>Incident Density=%{y}<extra></extra>\",\"legendgroup\":\"Starrett City\",\"line\":{\"color\":\"#FF6692\",\"dash\":\"solid\"},\"marker\":{\"symbol\":\"circle\"},\"mode\":\"lines\",\"name\":\"Starrett City\",\"showlegend\":true,\"type\":\"scattergl\",\"x\":[\"2017-09-30\",\"2017-10-31\"],\"xaxis\":\"x\",\"y\":[7.829627309740056,15.659254619480112],\"yaxis\":\"y\"}],                        {\"legend\":{\"title\":{\"text\":\"Neighborhood\"},\"tracegroupgap\":0},\"template\":{\"data\":{\"bar\":[{\"error_x\":{\"color\":\"#2a3f5f\"},\"error_y\":{\"color\":\"#2a3f5f\"},\"marker\":{\"line\":{\"color\":\"#E5ECF6\",\"width\":0.5},\"pattern\":{\"fillmode\":\"overlay\",\"size\":10,\"solidity\":0.2}},\"type\":\"bar\"}],\"barpolar\":[{\"marker\":{\"line\":{\"color\":\"#E5ECF6\",\"width\":0.5},\"pattern\":{\"fillmode\":\"overlay\",\"size\":10,\"solidity\":0.2}},\"type\":\"barpolar\"}],\"carpet\":[{\"aaxis\":{\"endlinecolor\":\"#2a3f5f\",\"gridcolor\":\"white\",\"linecolor\":\"white\",\"minorgridcolor\":\"white\",\"startlinecolor\":\"#2a3f5f\"},\"baxis\":{\"endlinecolor\":\"#2a3f5f\",\"gridcolor\":\"white\",\"linecolor\":\"white\",\"minorgridcolor\":\"white\",\"startlinecolor\":\"#2a3f5f\"},\"type\":\"carpet\"}],\"choropleth\":[{\"colorbar\":{\"outlinewidth\":0,\"ticks\":\"\"},\"type\":\"choropleth\"}],\"contour\":[{\"colorbar\":{\"outlinewidth\":0,\"ticks\":\"\"},\"colorscale\":[[0.0,\"#0d0887\"],[0.1111111111111111,\"#46039f\"],[0.2222222222222222,\"#7201a8\"],[0.3333333333333333,\"#9c179e\"],[0.4444444444444444,\"#bd3786\"],[0.5555555555555556,\"#d8576b\"],[0.6666666666666666,\"#ed7953\"],[0.7777777777777778,\"#fb9f3a\"],[0.8888888888888888,\"#fdca26\"],[1.0,\"#f0f921\"]],\"type\":\"contour\"}],\"contourcarpet\":[{\"colorbar\":{\"outlinewidth\":0,\"ticks\":\"\"},\"type\":\"contourcarpet\"}],\"heatmap\":[{\"colorbar\":{\"outlinewidth\":0,\"ticks\":\"\"},\"colorscale\":[[0.0,\"#0d0887\"],[0.1111111111111111,\"#46039f\"],[0.2222222222222222,\"#7201a8\"],[0.3333333333333333,\"#9c179e\"],[0.4444444444444444,\"#bd3786\"],[0.5555555555555556,\"#d8576b\"],[0.6666666666666666,\"#ed7953\"],[0.7777777777777778,\"#fb9f3a\"],[0.8888888888888888,\"#fdca26\"],[1.0,\"#f0f921\"]],\"type\":\"heatmap\"}],\"heatmapgl\":[{\"colorbar\":{\"outlinewidth\":0,\"ticks\":\"\"},\"colorscale\":[[0.0,\"#0d0887\"],[0.1111111111111111,\"#46039f\"],[0.2222222222222222,\"#7201a8\"],[0.3333333333333333,\"#9c179e\"],[0.4444444444444444,\"#bd3786\"],[0.5555555555555556,\"#d8576b\"],[0.6666666666666666,\"#ed7953\"],[0.7777777777777778,\"#fb9f3a\"],[0.8888888888888888,\"#fdca26\"],[1.0,\"#f0f921\"]],\"type\":\"heatmapgl\"}],\"histogram\":[{\"marker\":{\"pattern\":{\"fillmode\":\"overlay\",\"size\":10,\"solidity\":0.2}},\"type\":\"histogram\"}],\"histogram2d\":[{\"colorbar\":{\"outlinewidth\":0,\"ticks\":\"\"},\"colorscale\":[[0.0,\"#0d0887\"],[0.1111111111111111,\"#46039f\"],[0.2222222222222222,\"#7201a8\"],[0.3333333333333333,\"#9c179e\"],[0.4444444444444444,\"#bd3786\"],[0.5555555555555556,\"#d8576b\"],[0.6666666666666666,\"#ed7953\"],[0.7777777777777778,\"#fb9f3a\"],[0.8888888888888888,\"#fdca26\"],[1.0,\"#f0f921\"]],\"type\":\"histogram2d\"}],\"histogram2dcontour\":[{\"colorbar\":{\"outlinewidth\":0,\"ticks\":\"\"},\"colorscale\":[[0.0,\"#0d0887\"],[0.1111111111111111,\"#46039f\"],[0.2222222222222222,\"#7201a8\"],[0.3333333333333333,\"#9c179e\"],[0.4444444444444444,\"#bd3786\"],[0.5555555555555556,\"#d8576b\"],[0.6666666666666666,\"#ed7953\"],[0.7777777777777778,\"#fb9f3a\"],[0.8888888888888888,\"#fdca26\"],[1.0,\"#f0f921\"]],\"type\":\"histogram2dcontour\"}],\"mesh3d\":[{\"colorbar\":{\"outlinewidth\":0,\"ticks\":\"\"},\"type\":\"mesh3d\"}],\"parcoords\":[{\"line\":{\"colorbar\":{\"outlinewidth\":0,\"ticks\":\"\"}},\"type\":\"parcoords\"}],\"pie\":[{\"automargin\":true,\"type\":\"pie\"}],\"scatter\":[{\"marker\":{\"colorbar\":{\"outlinewidth\":0,\"ticks\":\"\"}},\"type\":\"scatter\"}],\"scatter3d\":[{\"line\":{\"colorbar\":{\"outlinewidth\":0,\"ticks\":\"\"}},\"marker\":{\"colorbar\":{\"outlinewidth\":0,\"ticks\":\"\"}},\"type\":\"scatter3d\"}],\"scattercarpet\":[{\"marker\":{\"colorbar\":{\"outlinewidth\":0,\"ticks\":\"\"}},\"type\":\"scattercarpet\"}],\"scattergeo\":[{\"marker\":{\"colorbar\":{\"outlinewidth\":0,\"ticks\":\"\"}},\"type\":\"scattergeo\"}],\"scattergl\":[{\"marker\":{\"colorbar\":{\"outlinewidth\":0,\"ticks\":\"\"}},\"type\":\"scattergl\"}],\"scattermapbox\":[{\"marker\":{\"colorbar\":{\"outlinewidth\":0,\"ticks\":\"\"}},\"type\":\"scattermapbox\"}],\"scatterpolar\":[{\"marker\":{\"colorbar\":{\"outlinewidth\":0,\"ticks\":\"\"}},\"type\":\"scatterpolar\"}],\"scatterpolargl\":[{\"marker\":{\"colorbar\":{\"outlinewidth\":0,\"ticks\":\"\"}},\"type\":\"scatterpolargl\"}],\"scatterternary\":[{\"marker\":{\"colorbar\":{\"outlinewidth\":0,\"ticks\":\"\"}},\"type\":\"scatterternary\"}],\"surface\":[{\"colorbar\":{\"outlinewidth\":0,\"ticks\":\"\"},\"colorscale\":[[0.0,\"#0d0887\"],[0.1111111111111111,\"#46039f\"],[0.2222222222222222,\"#7201a8\"],[0.3333333333333333,\"#9c179e\"],[0.4444444444444444,\"#bd3786\"],[0.5555555555555556,\"#d8576b\"],[0.6666666666666666,\"#ed7953\"],[0.7777777777777778,\"#fb9f3a\"],[0.8888888888888888,\"#fdca26\"],[1.0,\"#f0f921\"]],\"type\":\"surface\"}],\"table\":[{\"cells\":{\"fill\":{\"color\":\"#EBF0F8\"},\"line\":{\"color\":\"white\"}},\"header\":{\"fill\":{\"color\":\"#C8D4E3\"},\"line\":{\"color\":\"white\"}},\"type\":\"table\"}]},\"layout\":{\"annotationdefaults\":{\"arrowcolor\":\"#2a3f5f\",\"arrowhead\":0,\"arrowwidth\":1},\"autotypenumbers\":\"strict\",\"coloraxis\":{\"colorbar\":{\"outlinewidth\":0,\"ticks\":\"\"}},\"colorscale\":{\"diverging\":[[0,\"#8e0152\"],[0.1,\"#c51b7d\"],[0.2,\"#de77ae\"],[0.3,\"#f1b6da\"],[0.4,\"#fde0ef\"],[0.5,\"#f7f7f7\"],[0.6,\"#e6f5d0\"],[0.7,\"#b8e186\"],[0.8,\"#7fbc41\"],[0.9,\"#4d9221\"],[1,\"#276419\"]],\"sequential\":[[0.0,\"#0d0887\"],[0.1111111111111111,\"#46039f\"],[0.2222222222222222,\"#7201a8\"],[0.3333333333333333,\"#9c179e\"],[0.4444444444444444,\"#bd3786\"],[0.5555555555555556,\"#d8576b\"],[0.6666666666666666,\"#ed7953\"],[0.7777777777777778,\"#fb9f3a\"],[0.8888888888888888,\"#fdca26\"],[1.0,\"#f0f921\"]],\"sequentialminus\":[[0.0,\"#0d0887\"],[0.1111111111111111,\"#46039f\"],[0.2222222222222222,\"#7201a8\"],[0.3333333333333333,\"#9c179e\"],[0.4444444444444444,\"#bd3786\"],[0.5555555555555556,\"#d8576b\"],[0.6666666666666666,\"#ed7953\"],[0.7777777777777778,\"#fb9f3a\"],[0.8888888888888888,\"#fdca26\"],[1.0,\"#f0f921\"]]},\"colorway\":[\"#636efa\",\"#EF553B\",\"#00cc96\",\"#ab63fa\",\"#FFA15A\",\"#19d3f3\",\"#FF6692\",\"#B6E880\",\"#FF97FF\",\"#FECB52\"],\"font\":{\"color\":\"#2a3f5f\"},\"geo\":{\"bgcolor\":\"white\",\"lakecolor\":\"white\",\"landcolor\":\"#E5ECF6\",\"showlakes\":true,\"showland\":true,\"subunitcolor\":\"white\"},\"hoverlabel\":{\"align\":\"left\"},\"hovermode\":\"closest\",\"mapbox\":{\"style\":\"light\"},\"paper_bgcolor\":\"white\",\"plot_bgcolor\":\"#E5ECF6\",\"polar\":{\"angularaxis\":{\"gridcolor\":\"white\",\"linecolor\":\"white\",\"ticks\":\"\"},\"bgcolor\":\"#E5ECF6\",\"radialaxis\":{\"gridcolor\":\"white\",\"linecolor\":\"white\",\"ticks\":\"\"}},\"scene\":{\"xaxis\":{\"backgroundcolor\":\"#E5ECF6\",\"gridcolor\":\"white\",\"gridwidth\":2,\"linecolor\":\"white\",\"showbackground\":true,\"ticks\":\"\",\"zerolinecolor\":\"white\"},\"yaxis\":{\"backgroundcolor\":\"#E5ECF6\",\"gridcolor\":\"white\",\"gridwidth\":2,\"linecolor\":\"white\",\"showbackground\":true,\"ticks\":\"\",\"zerolinecolor\":\"white\"},\"zaxis\":{\"backgroundcolor\":\"#E5ECF6\",\"gridcolor\":\"white\",\"gridwidth\":2,\"linecolor\":\"white\",\"showbackground\":true,\"ticks\":\"\",\"zerolinecolor\":\"white\"}},\"shapedefaults\":{\"line\":{\"color\":\"#2a3f5f\"}},\"ternary\":{\"aaxis\":{\"gridcolor\":\"white\",\"linecolor\":\"white\",\"ticks\":\"\"},\"baxis\":{\"gridcolor\":\"white\",\"linecolor\":\"white\",\"ticks\":\"\"},\"bgcolor\":\"#E5ECF6\",\"caxis\":{\"gridcolor\":\"white\",\"linecolor\":\"white\",\"ticks\":\"\"}},\"title\":{\"x\":0.05},\"xaxis\":{\"automargin\":true,\"gridcolor\":\"white\",\"linecolor\":\"white\",\"ticks\":\"\",\"title\":{\"standoff\":15},\"zerolinecolor\":\"white\",\"zerolinewidth\":2},\"yaxis\":{\"automargin\":true,\"gridcolor\":\"white\",\"linecolor\":\"white\",\"ticks\":\"\",\"title\":{\"standoff\":15},\"zerolinecolor\":\"white\",\"zerolinewidth\":2}}},\"title\":{\"text\":\"Homeless Encampment\"},\"xaxis\":{\"anchor\":\"y\",\"domain\":[0.0,1.0],\"title\":{\"text\":\"Created Date\"}},\"yaxis\":{\"anchor\":\"x\",\"domain\":[0.0,1.0],\"title\":{\"text\":\"Incident Density\"}}},                        {\"responsive\": true}                    ).then(function(){\n",
       "                            \n",
       "var gd = document.getElementById('32c184be-c15e-4c7c-a7f9-242def3e0179');\n",
       "var x = new MutationObserver(function (mutations, observer) {{\n",
       "        var display = window.getComputedStyle(gd).display;\n",
       "        if (!display || display === 'none') {{\n",
       "            console.log([gd, 'removed!']);\n",
       "            Plotly.purge(gd);\n",
       "            observer.disconnect();\n",
       "        }}\n",
       "}});\n",
       "\n",
       "// Listen for the removal of the full notebook cells\n",
       "var notebookContainer = gd.closest('#notebook-container');\n",
       "if (notebookContainer) {{\n",
       "    x.observe(notebookContainer, {childList: true});\n",
       "}}\n",
       "\n",
       "// Listen for the clearing of the current output cell\n",
       "var outputEl = gd.closest('.output');\n",
       "if (outputEl) {{\n",
       "    x.observe(outputEl, {childList: true});\n",
       "}}\n",
       "\n",
       "                        })                };                });            </script>        </div>"
      ]
     },
     "metadata": {},
     "output_type": "display_data"
    }
   ],
   "source": [
    "# for name in complaints: # count_b_df['Complaint Type'].unique():\n",
    "name = \"Homeless Encampment\"\n",
    "px.line(count_b_df[count_b_df['Complaint Type']==name], x='Created Date', y='Incident Density', color='Neighborhood',title=name, \n",
    "#         labels={\n",
    "#                  \"Incident Density\": name\n",
    "#              }\n",
    "       ).show()"
   ]
  },
  {
   "cell_type": "code",
   "execution_count": 866,
   "id": "matched-nightlife",
   "metadata": {},
   "outputs": [],
   "source": [
    "noise_df = count_b_df[count_b_df['Complaint Type'].str.contains(\"Noise\")]   \n",
    "# count_b_df[count_b_df['Complaint Type'].str.contains(\"Noise\")].groupby(by = ['Created Date', 'Zip']).sum()\n",
    "noise_df = noise_df.drop(['City', 'Borough', 'Population', 'Incident Density', 'Neighborhood'], axis=1)\n",
    "                                                                                                                                              "
   ]
  },
  {
   "cell_type": "code",
   "execution_count": 867,
   "id": "continental-august",
   "metadata": {},
   "outputs": [],
   "source": [
    "# before taking top 5 normalize by population. And then take top 5 in population density. \n",
    "total_noise_by_zip_df = noise_df.groupby([\"Zip\"]).sum()\n",
    "total_noise_by_zip_df = pd.merge(total_noise_by_zip_df, pop_df, on=\"Zip\")\n",
    "total_noise_by_zip_df[\"Density per 100000 people\"] = round(total_noise_by_zip_df[\"Count\"]*100000/total_noise_by_zip_df[\"Population\"],2)\n",
    "total_noise_by_zip_df = pd.merge(total_noise_by_zip_df, zip_df, on=\"Zip\")\n",
    "\n",
    "top5noise_neighborhoods = total_noise_by_zip_df.groupby([\"Neighborhood\"]).sum()[\"Density per 100000 people\"].nlargest(n=5).index.tolist()\n",
    "bottom5noise_neighborhoods = total_noise_by_zip_df.groupby([\"Neighborhood\"]).sum()[\"Density per 100000 people\"].nsmallest(n=5).index.tolist()\n",
    "bottom10noise_neighborhoods = total_noise_by_zip_df.groupby([\"Neighborhood\"]).sum()[\"Density per 100000 people\"].nsmallest(n=10).index.tolist()\n"
   ]
  },
  {
   "cell_type": "code",
   "execution_count": 868,
   "id": "dental-parent",
   "metadata": {},
   "outputs": [],
   "source": [
    "all_noise_df = noise_df.groupby(by = ['Created Date', 'Zip']).sum()\n",
    "all_noise_df.to_csv(\"all_noise.csv\")\n",
    "all_noise_df = pd.read_csv(\"all_noise.csv\")\n",
    "all_noise_df = pd.merge(all_noise_df, zip_df, on=\"Zip\")\n",
    "all_noise_df = pd.merge(all_noise_df, pop_df, on=\"Zip\")\n",
    "all_noise_df[\"Density per 100000 people\"] = round(all_noise_df[\"Count\"]*100000/all_noise_df[\"Population\"],2)\n",
    "all_noise_df['Created Date'] = pd.to_datetime(all_noise_df['Created Date'])\n",
    "\n",
    "extreme_noise_df = all_noise_df[all_noise_df['Neighborhood'].isin(top5noise_neighborhoods+bottom5noise_neighborhoods)]\n",
    "high_noise_df = all_noise_df[all_noise_df['Neighborhood'].isin(top5noise_neighborhoods)]\n",
    "low_noise_df = all_noise_df[all_noise_df['Neighborhood'].isin(bottom5noise_neighborhoods)]\n"
   ]
  },
  {
   "cell_type": "code",
   "execution_count": 869,
   "id": "considerable-intent",
   "metadata": {},
   "outputs": [
    {
     "data": {
      "application/vnd.plotly.v1+json": {
       "config": {
        "plotlyServerURL": "https://plot.ly"
       },
       "data": [
        {
         "hovertemplate": "Neighborhood=Parkville/Bensonhurst<br>Created Date=%{x}<br>Density per 100000 people=%{y}<extra></extra>",
         "legendgroup": "Parkville/Bensonhurst",
         "line": {
          "color": "#636efa",
          "dash": "solid"
         },
         "marker": {
          "symbol": "circle"
         },
         "mode": "lines",
         "name": "Parkville/Bensonhurst",
         "orientation": "v",
         "showlegend": true,
         "type": "scatter",
         "x": [
          "2013-06-30T00:00:00",
          "2013-07-31T00:00:00",
          "2013-08-31T00:00:00",
          "2013-09-30T00:00:00",
          "2013-10-31T00:00:00",
          "2013-11-30T00:00:00",
          "2013-12-31T00:00:00",
          "2014-01-31T00:00:00",
          "2014-02-28T00:00:00",
          "2014-03-31T00:00:00",
          "2014-04-30T00:00:00",
          "2014-05-31T00:00:00",
          "2014-06-30T00:00:00",
          "2014-07-31T00:00:00",
          "2014-08-31T00:00:00",
          "2014-09-30T00:00:00",
          "2014-10-31T00:00:00",
          "2014-11-30T00:00:00",
          "2014-12-31T00:00:00",
          "2015-01-31T00:00:00",
          "2015-02-28T00:00:00",
          "2015-03-31T00:00:00",
          "2015-04-30T00:00:00",
          "2015-05-31T00:00:00",
          "2015-06-30T00:00:00",
          "2015-07-31T00:00:00",
          "2015-08-31T00:00:00",
          "2015-09-30T00:00:00",
          "2015-10-31T00:00:00",
          "2015-11-30T00:00:00",
          "2015-12-31T00:00:00",
          "2016-01-31T00:00:00",
          "2016-02-29T00:00:00",
          "2016-03-31T00:00:00",
          "2016-04-30T00:00:00",
          "2016-05-31T00:00:00",
          "2016-06-30T00:00:00",
          "2016-07-31T00:00:00",
          "2016-08-31T00:00:00",
          "2016-09-30T00:00:00",
          "2016-10-31T00:00:00",
          "2016-11-30T00:00:00",
          "2016-12-31T00:00:00",
          "2017-01-31T00:00:00",
          "2017-02-28T00:00:00",
          "2017-03-31T00:00:00",
          "2017-04-30T00:00:00",
          "2017-05-31T00:00:00",
          "2017-06-30T00:00:00",
          "2017-07-31T00:00:00",
          "2017-08-31T00:00:00",
          "2017-09-30T00:00:00",
          "2017-10-31T00:00:00",
          "2017-11-30T00:00:00",
          "2017-12-31T00:00:00",
          "2018-01-31T00:00:00",
          "2018-02-28T00:00:00",
          "2018-03-31T00:00:00",
          "2018-04-30T00:00:00",
          "2018-05-31T00:00:00",
          "2018-06-30T00:00:00",
          "2018-07-31T00:00:00",
          "2018-08-31T00:00:00",
          "2018-09-30T00:00:00",
          "2018-10-31T00:00:00",
          "2018-11-30T00:00:00",
          "2018-12-31T00:00:00",
          "2019-01-31T00:00:00",
          "2019-02-28T00:00:00",
          "2019-03-31T00:00:00",
          "2019-04-30T00:00:00",
          "2019-05-31T00:00:00"
         ],
         "xaxis": "x",
         "y": [
          27.49,
          146.61,
          142.68,
          129.59,
          111.26,
          99.48,
          90.32,
          121.74,
          91.63,
          112.57,
          159.7,
          120.43,
          175.4,
          132.21,
          143.99,
          119.12,
          133.52,
          94.25,
          112.57,
          94.25,
          102.1,
          147.92,
          115.19,
          155.77,
          158.39,
          83.78,
          137.44,
          119.12,
          91.63,
          119.12,
          143.99,
          116.5,
          112.57,
          161.01,
          128.28,
          242.16,
          162.31,
          137.44,
          137.44,
          142.68,
          184.57,
          180.64,
          117.81,
          119.12,
          92.94,
          85.08,
          164.93,
          174.1,
          217.29,
          178.02,
          121.74,
          247.4,
          198.97,
          213.36,
          167.55,
          104.72,
          100.79,
          113.88,
          120.43,
          193.73,
          184.57,
          111.26,
          115.19,
          129.59,
          94.25,
          130.9,
          108.65,
          87.7,
          92.94,
          147.92,
          129.59,
          17.02
         ],
         "yaxis": "y"
        },
        {
         "hovertemplate": "Neighborhood=Fort Greene<br>Created Date=%{x}<br>Density per 100000 people=%{y}<extra></extra>",
         "legendgroup": "Fort Greene",
         "line": {
          "color": "#EF553B",
          "dash": "solid"
         },
         "marker": {
          "symbol": "circle"
         },
         "mode": "lines",
         "name": "Fort Greene",
         "orientation": "v",
         "showlegend": true,
         "type": "scatter",
         "x": [
          "2013-06-30T00:00:00",
          "2013-07-31T00:00:00",
          "2013-08-31T00:00:00",
          "2013-09-30T00:00:00",
          "2013-10-31T00:00:00",
          "2013-11-30T00:00:00",
          "2013-12-31T00:00:00",
          "2014-01-31T00:00:00",
          "2014-02-28T00:00:00",
          "2014-03-31T00:00:00",
          "2014-04-30T00:00:00",
          "2014-05-31T00:00:00",
          "2014-06-30T00:00:00",
          "2014-07-31T00:00:00",
          "2014-08-31T00:00:00",
          "2014-09-30T00:00:00",
          "2014-10-31T00:00:00",
          "2014-11-30T00:00:00",
          "2014-12-31T00:00:00",
          "2015-01-31T00:00:00",
          "2015-02-28T00:00:00",
          "2015-03-31T00:00:00",
          "2015-04-30T00:00:00",
          "2015-05-31T00:00:00",
          "2015-06-30T00:00:00",
          "2015-07-31T00:00:00",
          "2015-08-31T00:00:00",
          "2015-09-30T00:00:00",
          "2015-10-31T00:00:00",
          "2015-11-30T00:00:00",
          "2015-12-31T00:00:00",
          "2016-01-31T00:00:00",
          "2016-02-29T00:00:00",
          "2016-03-31T00:00:00",
          "2016-04-30T00:00:00",
          "2016-05-31T00:00:00",
          "2016-06-30T00:00:00",
          "2016-07-31T00:00:00",
          "2016-08-31T00:00:00",
          "2016-09-30T00:00:00",
          "2016-10-31T00:00:00",
          "2016-11-30T00:00:00",
          "2016-12-31T00:00:00",
          "2017-01-31T00:00:00",
          "2017-02-28T00:00:00",
          "2017-03-31T00:00:00",
          "2017-04-30T00:00:00",
          "2017-05-31T00:00:00",
          "2017-06-30T00:00:00",
          "2017-07-31T00:00:00",
          "2017-08-31T00:00:00",
          "2017-09-30T00:00:00",
          "2017-10-31T00:00:00",
          "2017-11-30T00:00:00",
          "2017-12-31T00:00:00",
          "2018-01-31T00:00:00",
          "2018-02-28T00:00:00",
          "2018-03-31T00:00:00",
          "2018-04-30T00:00:00",
          "2018-05-31T00:00:00",
          "2018-06-30T00:00:00",
          "2018-07-31T00:00:00",
          "2018-08-31T00:00:00",
          "2018-09-30T00:00:00",
          "2018-10-31T00:00:00",
          "2018-11-30T00:00:00",
          "2018-12-31T00:00:00",
          "2019-01-31T00:00:00",
          "2019-02-28T00:00:00",
          "2019-03-31T00:00:00",
          "2019-04-30T00:00:00",
          "2019-05-31T00:00:00"
         ],
         "xaxis": "x",
         "y": [
          70.45,
          245.5,
          382.13,
          452.58,
          377.86,
          335.16,
          224.15,
          239.1,
          251.91,
          301.01,
          424.82,
          484.6,
          612.68,
          606.28,
          580.66,
          535.83,
          482.46,
          414.15,
          281.79,
          260.44,
          245.5,
          315.95,
          446.17,
          589.2,
          587.07,
          437.63,
          478.19,
          516.62,
          409.88,
          318.08,
          431.23,
          288.2,
          388.53,
          535.83,
          1233.91,
          1769.74,
          1394.02,
          2491.3,
          1236.04,
          3671.84,
          979.87,
          486.73,
          371.45,
          514.48,
          405.61,
          488.87,
          695.94,
          642.57,
          683.13,
          659.65,
          591.34,
          1112.23,
          1210.43,
          1154.92,
          685.27,
          683.13,
          768.52,
          723.69,
          721.56,
          903.02,
          860.32,
          956.39,
          710.89,
          804.82,
          1071.66,
          755.72,
          634.03,
          467.52,
          469.65,
          685.27,
          608.42,
          132.36
         ],
         "yaxis": "y"
        },
        {
         "hovertemplate": "Neighborhood=Bath Beach/Bensonhurst<br>Created Date=%{x}<br>Density per 100000 people=%{y}<extra></extra>",
         "legendgroup": "Bath Beach/Bensonhurst",
         "line": {
          "color": "#00cc96",
          "dash": "solid"
         },
         "marker": {
          "symbol": "circle"
         },
         "mode": "lines",
         "name": "Bath Beach/Bensonhurst",
         "orientation": "v",
         "showlegend": true,
         "type": "scatter",
         "x": [
          "2013-06-30T00:00:00",
          "2013-07-31T00:00:00",
          "2013-08-31T00:00:00",
          "2013-09-30T00:00:00",
          "2013-10-31T00:00:00",
          "2013-11-30T00:00:00",
          "2013-12-31T00:00:00",
          "2014-01-31T00:00:00",
          "2014-02-28T00:00:00",
          "2014-03-31T00:00:00",
          "2014-04-30T00:00:00",
          "2014-05-31T00:00:00",
          "2014-06-30T00:00:00",
          "2014-07-31T00:00:00",
          "2014-08-31T00:00:00",
          "2014-09-30T00:00:00",
          "2014-10-31T00:00:00",
          "2014-11-30T00:00:00",
          "2014-12-31T00:00:00",
          "2015-01-31T00:00:00",
          "2015-02-28T00:00:00",
          "2015-03-31T00:00:00",
          "2015-04-30T00:00:00",
          "2015-05-31T00:00:00",
          "2015-06-30T00:00:00",
          "2015-07-31T00:00:00",
          "2015-08-31T00:00:00",
          "2015-09-30T00:00:00",
          "2015-10-31T00:00:00",
          "2015-11-30T00:00:00",
          "2015-12-31T00:00:00",
          "2016-01-31T00:00:00",
          "2016-02-29T00:00:00",
          "2016-03-31T00:00:00",
          "2016-04-30T00:00:00",
          "2016-05-31T00:00:00",
          "2016-06-30T00:00:00",
          "2016-07-31T00:00:00",
          "2016-08-31T00:00:00",
          "2016-09-30T00:00:00",
          "2016-10-31T00:00:00",
          "2016-11-30T00:00:00",
          "2016-12-31T00:00:00",
          "2017-01-31T00:00:00",
          "2017-02-28T00:00:00",
          "2017-03-31T00:00:00",
          "2017-04-30T00:00:00",
          "2017-05-31T00:00:00",
          "2017-06-30T00:00:00",
          "2017-07-31T00:00:00",
          "2017-08-31T00:00:00",
          "2017-09-30T00:00:00",
          "2017-10-31T00:00:00",
          "2017-11-30T00:00:00",
          "2017-12-31T00:00:00",
          "2018-01-31T00:00:00",
          "2018-02-28T00:00:00",
          "2018-03-31T00:00:00",
          "2018-04-30T00:00:00",
          "2018-05-31T00:00:00",
          "2018-06-30T00:00:00",
          "2018-07-31T00:00:00",
          "2018-08-31T00:00:00",
          "2018-09-30T00:00:00",
          "2018-10-31T00:00:00",
          "2018-11-30T00:00:00",
          "2018-12-31T00:00:00",
          "2019-01-31T00:00:00",
          "2019-02-28T00:00:00",
          "2019-03-31T00:00:00",
          "2019-04-30T00:00:00",
          "2019-05-31T00:00:00"
         ],
         "xaxis": "x",
         "y": [
          18.35,
          62.61,
          94.99,
          100.38,
          93.91,
          76.64,
          79.88,
          80.96,
          56.13,
          97.15,
          86.35,
          153.27,
          146.8,
          127.37,
          130.61,
          153.27,
          130.61,
          120.89,
          101.46,
          112.26,
          101.46,
          104.7,
          138.16,
          199.69,
          151.12,
          141.4,
          147.88,
          160.83,
          148.96,
          161.91,
          168.39,
          127.37,
          130.61,
          128.45,
          132.77,
          199.69,
          210.48,
          169.47,
          150.04,
          181.34,
          166.23,
          156.51,
          154.35,
          180.26,
          148.96,
          167.31,
          180.26,
          157.59,
          206.17,
          160.83,
          171.62,
          120.89,
          137.08,
          103.62,
          123.05,
          125.21,
          111.18,
          119.81,
          134.93,
          148.96,
          175.94,
          129.53,
          115.5,
          119.81,
          142.48,
          97.15,
          121.97,
          134.93,
          104.7,
          117.65,
          171.62,
          30.22
         ],
         "yaxis": "y"
        },
        {
         "hovertemplate": "Neighborhood=Bedford-Stuyvesant<br>Created Date=%{x}<br>Density per 100000 people=%{y}<extra></extra>",
         "legendgroup": "Bedford-Stuyvesant",
         "line": {
          "color": "#ab63fa",
          "dash": "solid"
         },
         "marker": {
          "symbol": "circle"
         },
         "mode": "lines",
         "name": "Bedford-Stuyvesant",
         "orientation": "v",
         "showlegend": true,
         "type": "scatter",
         "x": [
          "2013-06-30T00:00:00",
          "2013-07-31T00:00:00",
          "2013-08-31T00:00:00",
          "2013-09-30T00:00:00",
          "2013-10-31T00:00:00",
          "2013-11-30T00:00:00",
          "2013-12-31T00:00:00",
          "2014-01-31T00:00:00",
          "2014-02-28T00:00:00",
          "2014-03-31T00:00:00",
          "2014-04-30T00:00:00",
          "2014-05-31T00:00:00",
          "2014-06-30T00:00:00",
          "2014-07-31T00:00:00",
          "2014-08-31T00:00:00",
          "2014-09-30T00:00:00",
          "2014-10-31T00:00:00",
          "2014-11-30T00:00:00",
          "2014-12-31T00:00:00",
          "2015-01-31T00:00:00",
          "2015-02-28T00:00:00",
          "2015-03-31T00:00:00",
          "2015-04-30T00:00:00",
          "2015-05-31T00:00:00",
          "2015-06-30T00:00:00",
          "2015-07-31T00:00:00",
          "2015-08-31T00:00:00",
          "2015-09-30T00:00:00",
          "2015-10-31T00:00:00",
          "2015-11-30T00:00:00",
          "2015-12-31T00:00:00",
          "2016-01-31T00:00:00",
          "2016-02-29T00:00:00",
          "2016-03-31T00:00:00",
          "2016-04-30T00:00:00",
          "2016-05-31T00:00:00",
          "2016-06-30T00:00:00",
          "2016-07-31T00:00:00",
          "2016-08-31T00:00:00",
          "2016-09-30T00:00:00",
          "2016-10-31T00:00:00",
          "2016-11-30T00:00:00",
          "2016-12-31T00:00:00",
          "2017-01-31T00:00:00",
          "2017-02-28T00:00:00",
          "2017-03-31T00:00:00",
          "2017-04-30T00:00:00",
          "2017-05-31T00:00:00",
          "2017-06-30T00:00:00",
          "2017-07-31T00:00:00",
          "2017-08-31T00:00:00",
          "2017-09-30T00:00:00",
          "2017-10-31T00:00:00",
          "2017-11-30T00:00:00",
          "2017-12-31T00:00:00",
          "2018-01-31T00:00:00",
          "2018-02-28T00:00:00",
          "2018-03-31T00:00:00",
          "2018-04-30T00:00:00",
          "2018-05-31T00:00:00",
          "2018-06-30T00:00:00",
          "2018-07-31T00:00:00",
          "2018-08-31T00:00:00",
          "2018-09-30T00:00:00",
          "2018-10-31T00:00:00",
          "2018-11-30T00:00:00",
          "2018-12-31T00:00:00",
          "2019-01-31T00:00:00",
          "2019-02-28T00:00:00",
          "2019-03-31T00:00:00",
          "2019-04-30T00:00:00",
          "2019-05-31T00:00:00"
         ],
         "xaxis": "x",
         "y": [
          112.48,
          560.69,
          749.32,
          628.18,
          489.74,
          398.02,
          432.63,
          423.98,
          354.76,
          493.2,
          564.15,
          842.76,
          917.18,
          797.77,
          1026.2,
          892.95,
          816.81,
          766.62,
          607.41,
          662.79,
          565.88,
          659.33,
          1147.34,
          1078.12,
          901.6,
          910.26,
          844.5,
          835.84,
          602.22,
          695.67,
          697.4,
          650.68,
          579.73,
          749.32,
          1095.42,
          1114.46,
          1654.38,
          993.32,
          931.02,
          1055.62,
          815.08,
          543.38,
          550.31,
          571.07,
          470.7,
          621.26,
          1079.85,
          1066,
          1275.4,
          1194.06,
          790.85,
          996.78,
          911.99,
          486.28,
          389.37,
          340.91,
          434.36,
          418.79,
          545.11,
          861.8,
          1178.49,
          1130.03,
          884.3,
          815.08,
          690.48,
          467.24,
          505.31,
          467.24,
          488.01,
          472.43,
          846.23,
          204.2
         ],
         "yaxis": "y"
        },
        {
         "hovertemplate": "Neighborhood=Borough Park<br>Created Date=%{x}<br>Density per 100000 people=%{y}<extra></extra>",
         "legendgroup": "Borough Park",
         "line": {
          "color": "#FFA15A",
          "dash": "solid"
         },
         "marker": {
          "symbol": "circle"
         },
         "mode": "lines",
         "name": "Borough Park",
         "orientation": "v",
         "showlegend": true,
         "type": "scatter",
         "x": [
          "2013-06-30T00:00:00",
          "2013-07-31T00:00:00",
          "2013-08-31T00:00:00",
          "2013-09-30T00:00:00",
          "2013-10-31T00:00:00",
          "2013-11-30T00:00:00",
          "2013-12-31T00:00:00",
          "2014-01-31T00:00:00",
          "2014-02-28T00:00:00",
          "2014-03-31T00:00:00",
          "2014-04-30T00:00:00",
          "2014-05-31T00:00:00",
          "2014-06-30T00:00:00",
          "2014-07-31T00:00:00",
          "2014-08-31T00:00:00",
          "2014-09-30T00:00:00",
          "2014-10-31T00:00:00",
          "2014-11-30T00:00:00",
          "2014-12-31T00:00:00",
          "2015-01-31T00:00:00",
          "2015-02-28T00:00:00",
          "2015-03-31T00:00:00",
          "2015-04-30T00:00:00",
          "2015-05-31T00:00:00",
          "2015-06-30T00:00:00",
          "2015-07-31T00:00:00",
          "2015-08-31T00:00:00",
          "2015-09-30T00:00:00",
          "2015-10-31T00:00:00",
          "2015-11-30T00:00:00",
          "2015-12-31T00:00:00",
          "2016-01-31T00:00:00",
          "2016-02-29T00:00:00",
          "2016-03-31T00:00:00",
          "2016-04-30T00:00:00",
          "2016-05-31T00:00:00",
          "2016-06-30T00:00:00",
          "2016-07-31T00:00:00",
          "2016-08-31T00:00:00",
          "2016-09-30T00:00:00",
          "2016-10-31T00:00:00",
          "2016-11-30T00:00:00",
          "2016-12-31T00:00:00",
          "2017-01-31T00:00:00",
          "2017-02-28T00:00:00",
          "2017-03-31T00:00:00",
          "2017-04-30T00:00:00",
          "2017-05-31T00:00:00",
          "2017-06-30T00:00:00",
          "2017-07-31T00:00:00",
          "2017-08-31T00:00:00",
          "2017-09-30T00:00:00",
          "2017-10-31T00:00:00",
          "2017-11-30T00:00:00",
          "2017-12-31T00:00:00",
          "2018-01-31T00:00:00",
          "2018-02-28T00:00:00",
          "2018-03-31T00:00:00",
          "2018-04-30T00:00:00",
          "2018-05-31T00:00:00",
          "2018-06-30T00:00:00",
          "2018-07-31T00:00:00",
          "2018-08-31T00:00:00",
          "2018-09-30T00:00:00",
          "2018-10-31T00:00:00",
          "2018-11-30T00:00:00",
          "2018-12-31T00:00:00",
          "2019-01-31T00:00:00",
          "2019-02-28T00:00:00",
          "2019-03-31T00:00:00",
          "2019-04-30T00:00:00",
          "2019-05-31T00:00:00"
         ],
         "xaxis": "x",
         "y": [
          8.95,
          44.76,
          92.87,
          102.94,
          72.73,
          58.18,
          96.23,
          82.8,
          61.54,
          96.23,
          82.8,
          118.61,
          201.41,
          129.8,
          166.72,
          133.15,
          86.16,
          72.73,
          50.35,
          63.78,
          77.21,
          81.68,
          91.75,
          136.51,
          137.63,
          91.75,
          145.46,
          99.58,
          123.08,
          96.23,
          139.87,
          114.13,
          79.44,
          129.8,
          100.7,
          119.73,
          102.94,
          153.29,
          88.4,
          98.47,
          167.84,
          126.44,
          118.61,
          74.97,
          99.58,
          137.63,
          124.2,
          125.32,
          181.27,
          116.37,
          105.18,
          125.32,
          164.48,
          126.44,
          108.54,
          95.11,
          99.58,
          90.63,
          87.28,
          192.46,
          158.89,
          129.8,
          120.84,
          191.34,
          137.63,
          104.06,
          81.68,
          107.42,
          100.7,
          125.32,
          129.8,
          20.14
         ],
         "yaxis": "y"
        },
        {
         "hovertemplate": "Neighborhood=Crown Heights<br>Created Date=%{x}<br>Density per 100000 people=%{y}<extra></extra>",
         "legendgroup": "Crown Heights",
         "line": {
          "color": "#19d3f3",
          "dash": "solid"
         },
         "marker": {
          "symbol": "circle"
         },
         "mode": "lines",
         "name": "Crown Heights",
         "orientation": "v",
         "showlegend": true,
         "type": "scatter",
         "x": [
          "2013-06-30T00:00:00",
          "2013-07-31T00:00:00",
          "2013-08-31T00:00:00",
          "2013-09-30T00:00:00",
          "2013-10-31T00:00:00",
          "2013-11-30T00:00:00",
          "2013-12-31T00:00:00",
          "2014-01-31T00:00:00",
          "2014-02-28T00:00:00",
          "2014-03-31T00:00:00",
          "2014-04-30T00:00:00",
          "2014-05-31T00:00:00",
          "2014-06-30T00:00:00",
          "2014-07-31T00:00:00",
          "2014-08-31T00:00:00",
          "2014-09-30T00:00:00",
          "2014-10-31T00:00:00",
          "2014-11-30T00:00:00",
          "2014-12-31T00:00:00",
          "2015-01-31T00:00:00",
          "2015-02-28T00:00:00",
          "2015-03-31T00:00:00",
          "2015-04-30T00:00:00",
          "2015-05-31T00:00:00",
          "2015-06-30T00:00:00",
          "2015-07-31T00:00:00",
          "2015-08-31T00:00:00",
          "2015-09-30T00:00:00",
          "2015-10-31T00:00:00",
          "2015-11-30T00:00:00",
          "2015-12-31T00:00:00",
          "2016-01-31T00:00:00",
          "2016-02-29T00:00:00",
          "2016-03-31T00:00:00",
          "2016-04-30T00:00:00",
          "2016-05-31T00:00:00",
          "2016-06-30T00:00:00",
          "2016-07-31T00:00:00",
          "2016-08-31T00:00:00",
          "2016-09-30T00:00:00",
          "2016-10-31T00:00:00",
          "2016-11-30T00:00:00",
          "2016-12-31T00:00:00",
          "2017-01-31T00:00:00",
          "2017-02-28T00:00:00",
          "2017-03-31T00:00:00",
          "2017-04-30T00:00:00",
          "2017-05-31T00:00:00",
          "2017-06-30T00:00:00",
          "2017-07-31T00:00:00",
          "2017-08-31T00:00:00",
          "2017-09-30T00:00:00",
          "2017-10-31T00:00:00",
          "2017-11-30T00:00:00",
          "2017-12-31T00:00:00",
          "2018-01-31T00:00:00",
          "2018-02-28T00:00:00",
          "2018-03-31T00:00:00",
          "2018-04-30T00:00:00",
          "2018-05-31T00:00:00",
          "2018-06-30T00:00:00",
          "2018-07-31T00:00:00",
          "2018-08-31T00:00:00",
          "2018-09-30T00:00:00",
          "2018-10-31T00:00:00",
          "2018-11-30T00:00:00",
          "2018-12-31T00:00:00",
          "2019-01-31T00:00:00",
          "2019-02-28T00:00:00",
          "2019-03-31T00:00:00",
          "2019-04-30T00:00:00",
          "2019-05-31T00:00:00"
         ],
         "xaxis": "x",
         "y": [
          80.9,
          499.48,
          610.28,
          583.9,
          529.38,
          358.78,
          360.54,
          313.06,
          295.47,
          392.2,
          367.58,
          626.11,
          566.31,
          539.93,
          840.68,
          517.07,
          450.24,
          411.54,
          320.09,
          364.06,
          385.16,
          459.03,
          534.66,
          970.82,
          719.32,
          884.64,
          707.01,
          962.03,
          724.6,
          610.28,
          548.73,
          464.31,
          360.54,
          603.25,
          550.48,
          779.12,
          930.37,
          828.36,
          710.53,
          821.33,
          719.32,
          636.66,
          529.38,
          459.03,
          518.83,
          416.82,
          773.84,
          988.41,
          1218.8,
          1072.83,
          1093.93,
          1262.77,
          1155.49,
          552.24,
          561.04,
          541.69,
          467.82,
          608.52,
          673.6,
          1153.73,
          1069.31,
          981.37,
          882.89,
          1151.97,
          942.68,
          599.73,
          666.56,
          495.96,
          476.62,
          687.67,
          881.13,
          237.43
         ],
         "yaxis": "y"
        },
        {
         "hovertemplate": "Neighborhood=Dyker Heights<br>Created Date=%{x}<br>Density per 100000 people=%{y}<extra></extra>",
         "legendgroup": "Dyker Heights",
         "line": {
          "color": "#FF6692",
          "dash": "solid"
         },
         "marker": {
          "symbol": "circle"
         },
         "mode": "lines",
         "name": "Dyker Heights",
         "orientation": "v",
         "showlegend": true,
         "type": "scatter",
         "x": [
          "2013-06-30T00:00:00",
          "2013-07-31T00:00:00",
          "2013-08-31T00:00:00",
          "2013-09-30T00:00:00",
          "2013-10-31T00:00:00",
          "2013-11-30T00:00:00",
          "2013-12-31T00:00:00",
          "2014-01-31T00:00:00",
          "2014-02-28T00:00:00",
          "2014-03-31T00:00:00",
          "2014-04-30T00:00:00",
          "2014-05-31T00:00:00",
          "2014-06-30T00:00:00",
          "2014-07-31T00:00:00",
          "2014-08-31T00:00:00",
          "2014-09-30T00:00:00",
          "2014-10-31T00:00:00",
          "2014-11-30T00:00:00",
          "2014-12-31T00:00:00",
          "2015-01-31T00:00:00",
          "2015-02-28T00:00:00",
          "2015-03-31T00:00:00",
          "2015-04-30T00:00:00",
          "2015-05-31T00:00:00",
          "2015-06-30T00:00:00",
          "2015-07-31T00:00:00",
          "2015-08-31T00:00:00",
          "2015-09-30T00:00:00",
          "2015-10-31T00:00:00",
          "2015-11-30T00:00:00",
          "2015-12-31T00:00:00",
          "2016-01-31T00:00:00",
          "2016-02-29T00:00:00",
          "2016-03-31T00:00:00",
          "2016-04-30T00:00:00",
          "2016-05-31T00:00:00",
          "2016-06-30T00:00:00",
          "2016-07-31T00:00:00",
          "2016-08-31T00:00:00",
          "2016-09-30T00:00:00",
          "2016-10-31T00:00:00",
          "2016-11-30T00:00:00",
          "2016-12-31T00:00:00",
          "2017-01-31T00:00:00",
          "2017-02-28T00:00:00",
          "2017-03-31T00:00:00",
          "2017-04-30T00:00:00",
          "2017-05-31T00:00:00",
          "2017-06-30T00:00:00",
          "2017-07-31T00:00:00",
          "2017-08-31T00:00:00",
          "2017-09-30T00:00:00",
          "2017-10-31T00:00:00",
          "2017-11-30T00:00:00",
          "2017-12-31T00:00:00",
          "2018-01-31T00:00:00",
          "2018-02-28T00:00:00",
          "2018-03-31T00:00:00",
          "2018-04-30T00:00:00",
          "2018-05-31T00:00:00",
          "2018-06-30T00:00:00",
          "2018-07-31T00:00:00",
          "2018-08-31T00:00:00",
          "2018-09-30T00:00:00",
          "2018-10-31T00:00:00",
          "2018-11-30T00:00:00",
          "2018-12-31T00:00:00",
          "2019-01-31T00:00:00",
          "2019-02-28T00:00:00",
          "2019-03-31T00:00:00",
          "2019-04-30T00:00:00",
          "2019-05-31T00:00:00"
         ],
         "xaxis": "x",
         "y": [
          15.78,
          58.63,
          54.12,
          72.16,
          56.37,
          40.59,
          92.45,
          24.8,
          40.59,
          99.22,
          99.22,
          144.31,
          130.78,
          85.69,
          94.71,
          148.82,
          121.76,
          47.35,
          63.14,
          51.86,
          56.37,
          56.37,
          67.65,
          155.59,
          142.06,
          139.8,
          101.47,
          171.37,
          126.27,
          126.27,
          126.27,
          72.16,
          56.37,
          101.47,
          90.2,
          112.74,
          148.82,
          148.82,
          144.31,
          153.33,
          169.12,
          110.49,
          108.23,
          69.9,
          87.94,
          78.92,
          137.55,
          162.35,
          205.2,
          166.86,
          135.29,
          153.33,
          182.65,
          81.18,
          160.1,
          51.86,
          47.35,
          103.73,
          96.96,
          137.55,
          232.25,
          157.84,
          155.59,
          139.8,
          76.67,
          103.73,
          157.84,
          99.22,
          67.65,
          85.69,
          117.25,
          22.55
         ],
         "yaxis": "y"
        },
        {
         "hovertemplate": "Neighborhood=Bushwick<br>Created Date=%{x}<br>Density per 100000 people=%{y}<extra></extra>",
         "legendgroup": "Bushwick",
         "line": {
          "color": "#B6E880",
          "dash": "solid"
         },
         "marker": {
          "symbol": "circle"
         },
         "mode": "lines",
         "name": "Bushwick",
         "orientation": "v",
         "showlegend": true,
         "type": "scatter",
         "x": [
          "2013-06-30T00:00:00",
          "2013-07-31T00:00:00",
          "2013-08-31T00:00:00",
          "2013-09-30T00:00:00",
          "2013-10-31T00:00:00",
          "2013-11-30T00:00:00",
          "2013-12-31T00:00:00",
          "2014-01-31T00:00:00",
          "2014-02-28T00:00:00",
          "2014-03-31T00:00:00",
          "2014-04-30T00:00:00",
          "2014-05-31T00:00:00",
          "2014-06-30T00:00:00",
          "2014-07-31T00:00:00",
          "2014-08-31T00:00:00",
          "2014-09-30T00:00:00",
          "2014-10-31T00:00:00",
          "2014-11-30T00:00:00",
          "2014-12-31T00:00:00",
          "2015-01-31T00:00:00",
          "2015-02-28T00:00:00",
          "2015-03-31T00:00:00",
          "2015-04-30T00:00:00",
          "2015-05-31T00:00:00",
          "2015-06-30T00:00:00",
          "2015-07-31T00:00:00",
          "2015-08-31T00:00:00",
          "2015-09-30T00:00:00",
          "2015-10-31T00:00:00",
          "2015-11-30T00:00:00",
          "2015-12-31T00:00:00",
          "2016-01-31T00:00:00",
          "2016-02-29T00:00:00",
          "2016-03-31T00:00:00",
          "2016-04-30T00:00:00",
          "2016-05-31T00:00:00",
          "2016-06-30T00:00:00",
          "2016-07-31T00:00:00",
          "2016-08-31T00:00:00",
          "2016-09-30T00:00:00",
          "2016-10-31T00:00:00",
          "2016-11-30T00:00:00",
          "2016-12-31T00:00:00",
          "2017-01-31T00:00:00",
          "2017-02-28T00:00:00",
          "2017-03-31T00:00:00",
          "2017-04-30T00:00:00",
          "2017-05-31T00:00:00",
          "2017-06-30T00:00:00",
          "2017-07-31T00:00:00",
          "2017-08-31T00:00:00",
          "2017-09-30T00:00:00",
          "2017-10-31T00:00:00",
          "2017-11-30T00:00:00",
          "2017-12-31T00:00:00",
          "2018-01-31T00:00:00",
          "2018-02-28T00:00:00",
          "2018-03-31T00:00:00",
          "2018-04-30T00:00:00",
          "2018-05-31T00:00:00",
          "2018-06-30T00:00:00",
          "2018-07-31T00:00:00",
          "2018-08-31T00:00:00",
          "2018-09-30T00:00:00",
          "2018-10-31T00:00:00",
          "2018-11-30T00:00:00",
          "2018-12-31T00:00:00",
          "2019-01-31T00:00:00",
          "2019-02-28T00:00:00",
          "2019-03-31T00:00:00",
          "2019-04-30T00:00:00",
          "2019-05-31T00:00:00"
         ],
         "xaxis": "x",
         "y": [
          110.48,
          370.32,
          648.58,
          572.88,
          433.75,
          388.74,
          421.47,
          362.14,
          315.08,
          458.3,
          495.13,
          726.33,
          842.95,
          666.99,
          965.71,
          957.53,
          666.99,
          658.81,
          525.82,
          484.9,
          488.99,
          394.88,
          748.83,
          1272.61,
          1084.38,
          953.43,
          951.39,
          977.99,
          849.09,
          730.42,
          775.43,
          562.65,
          658.81,
          793.85,
          1025.04,
          1364.68,
          1266.47,
          1184.63,
          1061.87,
          1336.03,
          1297.16,
          881.82,
          689.5,
          820.44,
          828.63,
          640.4,
          1331.94,
          1336.03,
          1581.55,
          1395.37,
          1076.19,
          1534.5,
          1452.66,
          822.49,
          808.17,
          601.52,
          679.27,
          716.1,
          1080.28,
          1246.01,
          1401.51,
          1104.84,
          1084.38,
          1315.57,
          898.19,
          548.33,
          628.12,
          607.66,
          527.87,
          662.9,
          1063.92,
          192.32
         ],
         "yaxis": "y"
        },
        {
         "hovertemplate": "Neighborhood=Prospect Heights<br>Created Date=%{x}<br>Density per 100000 people=%{y}<extra></extra>",
         "legendgroup": "Prospect Heights",
         "line": {
          "color": "#FF97FF",
          "dash": "solid"
         },
         "marker": {
          "symbol": "circle"
         },
         "mode": "lines",
         "name": "Prospect Heights",
         "orientation": "v",
         "showlegend": true,
         "type": "scatter",
         "x": [
          "2013-06-30T00:00:00",
          "2013-07-31T00:00:00",
          "2013-08-31T00:00:00",
          "2013-09-30T00:00:00",
          "2013-10-31T00:00:00",
          "2013-11-30T00:00:00",
          "2013-12-31T00:00:00",
          "2014-01-31T00:00:00",
          "2014-02-28T00:00:00",
          "2014-03-31T00:00:00",
          "2014-04-30T00:00:00",
          "2014-05-31T00:00:00",
          "2014-06-30T00:00:00",
          "2014-07-31T00:00:00",
          "2014-08-31T00:00:00",
          "2014-09-30T00:00:00",
          "2014-10-31T00:00:00",
          "2014-11-30T00:00:00",
          "2014-12-31T00:00:00",
          "2015-01-31T00:00:00",
          "2015-02-28T00:00:00",
          "2015-03-31T00:00:00",
          "2015-04-30T00:00:00",
          "2015-05-31T00:00:00",
          "2015-06-30T00:00:00",
          "2015-07-31T00:00:00",
          "2015-08-31T00:00:00",
          "2015-09-30T00:00:00",
          "2015-10-31T00:00:00",
          "2015-11-30T00:00:00",
          "2015-12-31T00:00:00",
          "2016-01-31T00:00:00",
          "2016-02-29T00:00:00",
          "2016-03-31T00:00:00",
          "2016-04-30T00:00:00",
          "2016-05-31T00:00:00",
          "2016-06-30T00:00:00",
          "2016-07-31T00:00:00",
          "2016-08-31T00:00:00",
          "2016-09-30T00:00:00",
          "2016-10-31T00:00:00",
          "2016-11-30T00:00:00",
          "2016-12-31T00:00:00",
          "2017-01-31T00:00:00",
          "2017-02-28T00:00:00",
          "2017-03-31T00:00:00",
          "2017-04-30T00:00:00",
          "2017-05-31T00:00:00",
          "2017-06-30T00:00:00",
          "2017-07-31T00:00:00",
          "2017-08-31T00:00:00",
          "2017-09-30T00:00:00",
          "2017-10-31T00:00:00",
          "2017-11-30T00:00:00",
          "2017-12-31T00:00:00",
          "2018-01-31T00:00:00",
          "2018-02-28T00:00:00",
          "2018-03-31T00:00:00",
          "2018-04-30T00:00:00",
          "2018-05-31T00:00:00",
          "2018-06-30T00:00:00",
          "2018-07-31T00:00:00",
          "2018-08-31T00:00:00",
          "2018-09-30T00:00:00",
          "2018-10-31T00:00:00",
          "2018-11-30T00:00:00",
          "2018-12-31T00:00:00",
          "2019-01-31T00:00:00",
          "2019-02-28T00:00:00",
          "2019-03-31T00:00:00",
          "2019-04-30T00:00:00",
          "2019-05-31T00:00:00"
         ],
         "xaxis": "x",
         "y": [
          139.47,
          519.83,
          827.75,
          735.37,
          610.4,
          541.57,
          498.1,
          411.16,
          340.52,
          496.29,
          552.44,
          1034.23,
          1028.8,
          985.33,
          988.95,
          905.63,
          769.79,
          597.72,
          599.53,
          478.17,
          367.69,
          585.04,
          749.86,
          1396.49,
          949.1,
          985.33,
          1247.96,
          1209.93,
          729.94,
          731.75,
          682.85,
          668.36,
          612.21,
          782.47,
          1034.23,
          1148.34,
          1454.45,
          1046.91,
          1046.91,
          1094,
          851.3,
          601.34,
          666.55,
          659.3,
          556.06,
          552.44,
          981.71,
          1037.86,
          1132.04,
          1141.1,
          983.52,
          1237.09,
          867.6,
          590.47,
          594.1,
          670.17,
          619.45,
          626.7,
          798.77,
          1483.43,
          1360.26,
          1150.15,
          1264.26,
          929.18,
          691.9,
          547,
          595.91,
          581.42,
          525.27,
          568.74,
          954.54,
          161.2
         ],
         "yaxis": "y"
        },
        {
         "hovertemplate": "Neighborhood=Starrett City<br>Created Date=%{x}<br>Density per 100000 people=%{y}<extra></extra>",
         "legendgroup": "Starrett City",
         "line": {
          "color": "#FECB52",
          "dash": "solid"
         },
         "marker": {
          "symbol": "circle"
         },
         "mode": "lines",
         "name": "Starrett City",
         "orientation": "v",
         "showlegend": true,
         "type": "scatter",
         "x": [
          "2013-07-31T00:00:00",
          "2013-08-31T00:00:00",
          "2013-09-30T00:00:00",
          "2013-10-31T00:00:00",
          "2013-11-30T00:00:00",
          "2013-12-31T00:00:00",
          "2014-01-31T00:00:00",
          "2014-02-28T00:00:00",
          "2014-03-31T00:00:00",
          "2014-04-30T00:00:00",
          "2014-05-31T00:00:00",
          "2014-06-30T00:00:00",
          "2014-07-31T00:00:00",
          "2014-08-31T00:00:00",
          "2014-09-30T00:00:00",
          "2014-10-31T00:00:00",
          "2014-11-30T00:00:00",
          "2014-12-31T00:00:00",
          "2015-01-31T00:00:00",
          "2015-02-28T00:00:00",
          "2015-03-31T00:00:00",
          "2015-04-30T00:00:00",
          "2015-05-31T00:00:00",
          "2015-06-30T00:00:00",
          "2015-07-31T00:00:00",
          "2015-08-31T00:00:00",
          "2015-09-30T00:00:00",
          "2015-10-31T00:00:00",
          "2015-11-30T00:00:00",
          "2015-12-31T00:00:00",
          "2016-01-31T00:00:00",
          "2016-02-29T00:00:00",
          "2016-03-31T00:00:00",
          "2016-04-30T00:00:00",
          "2016-05-31T00:00:00",
          "2016-06-30T00:00:00",
          "2016-07-31T00:00:00",
          "2016-08-31T00:00:00",
          "2016-09-30T00:00:00",
          "2016-10-31T00:00:00",
          "2016-11-30T00:00:00",
          "2016-12-31T00:00:00",
          "2017-01-31T00:00:00",
          "2017-02-28T00:00:00",
          "2017-03-31T00:00:00",
          "2017-04-30T00:00:00",
          "2017-05-31T00:00:00",
          "2017-06-30T00:00:00",
          "2017-07-31T00:00:00",
          "2017-08-31T00:00:00",
          "2017-09-30T00:00:00",
          "2017-10-31T00:00:00",
          "2017-11-30T00:00:00",
          "2017-12-31T00:00:00",
          "2018-01-31T00:00:00",
          "2018-02-28T00:00:00",
          "2018-03-31T00:00:00",
          "2018-04-30T00:00:00",
          "2018-05-31T00:00:00",
          "2018-06-30T00:00:00",
          "2018-07-31T00:00:00",
          "2018-08-31T00:00:00",
          "2018-09-30T00:00:00",
          "2018-10-31T00:00:00",
          "2018-11-30T00:00:00",
          "2018-12-31T00:00:00",
          "2019-01-31T00:00:00",
          "2019-02-28T00:00:00",
          "2019-03-31T00:00:00",
          "2019-04-30T00:00:00",
          "2019-05-31T00:00:00"
         ],
         "xaxis": "x",
         "y": [
          31.32,
          62.64,
          31.32,
          23.49,
          23.49,
          31.32,
          39.15,
          23.49,
          78.3,
          140.93,
          109.61,
          70.47,
          70.47,
          274.04,
          164.42,
          86.13,
          46.98,
          62.64,
          15.66,
          46.98,
          54.81,
          93.96,
          156.59,
          156.59,
          234.89,
          93.96,
          78.3,
          62.64,
          62.64,
          39.15,
          62.64,
          62.64,
          70.47,
          62.64,
          46.98,
          86.13,
          78.3,
          31.32,
          70.47,
          70.47,
          39.15,
          23.49,
          62.64,
          70.47,
          39.15,
          54.81,
          133.1,
          109.61,
          117.44,
          101.79,
          78.3,
          46.98,
          93.96,
          125.27,
          39.15,
          93.96,
          125.27,
          133.1,
          109.61,
          156.59,
          109.61,
          78.3,
          172.25,
          117.44,
          140.93,
          328.84,
          78.3,
          117.44,
          93.96,
          352.33,
          39.15
         ],
         "yaxis": "y"
        }
       ],
       "layout": {
        "legend": {
         "title": {
          "text": "Neighborhood"
         },
         "tracegroupgap": 0
        },
        "template": {
         "data": {
          "bar": [
           {
            "error_x": {
             "color": "#2a3f5f"
            },
            "error_y": {
             "color": "#2a3f5f"
            },
            "marker": {
             "line": {
              "color": "#E5ECF6",
              "width": 0.5
             },
             "pattern": {
              "fillmode": "overlay",
              "size": 10,
              "solidity": 0.2
             }
            },
            "type": "bar"
           }
          ],
          "barpolar": [
           {
            "marker": {
             "line": {
              "color": "#E5ECF6",
              "width": 0.5
             },
             "pattern": {
              "fillmode": "overlay",
              "size": 10,
              "solidity": 0.2
             }
            },
            "type": "barpolar"
           }
          ],
          "carpet": [
           {
            "aaxis": {
             "endlinecolor": "#2a3f5f",
             "gridcolor": "white",
             "linecolor": "white",
             "minorgridcolor": "white",
             "startlinecolor": "#2a3f5f"
            },
            "baxis": {
             "endlinecolor": "#2a3f5f",
             "gridcolor": "white",
             "linecolor": "white",
             "minorgridcolor": "white",
             "startlinecolor": "#2a3f5f"
            },
            "type": "carpet"
           }
          ],
          "choropleth": [
           {
            "colorbar": {
             "outlinewidth": 0,
             "ticks": ""
            },
            "type": "choropleth"
           }
          ],
          "contour": [
           {
            "colorbar": {
             "outlinewidth": 0,
             "ticks": ""
            },
            "colorscale": [
             [
              0,
              "#0d0887"
             ],
             [
              0.1111111111111111,
              "#46039f"
             ],
             [
              0.2222222222222222,
              "#7201a8"
             ],
             [
              0.3333333333333333,
              "#9c179e"
             ],
             [
              0.4444444444444444,
              "#bd3786"
             ],
             [
              0.5555555555555556,
              "#d8576b"
             ],
             [
              0.6666666666666666,
              "#ed7953"
             ],
             [
              0.7777777777777778,
              "#fb9f3a"
             ],
             [
              0.8888888888888888,
              "#fdca26"
             ],
             [
              1,
              "#f0f921"
             ]
            ],
            "type": "contour"
           }
          ],
          "contourcarpet": [
           {
            "colorbar": {
             "outlinewidth": 0,
             "ticks": ""
            },
            "type": "contourcarpet"
           }
          ],
          "heatmap": [
           {
            "colorbar": {
             "outlinewidth": 0,
             "ticks": ""
            },
            "colorscale": [
             [
              0,
              "#0d0887"
             ],
             [
              0.1111111111111111,
              "#46039f"
             ],
             [
              0.2222222222222222,
              "#7201a8"
             ],
             [
              0.3333333333333333,
              "#9c179e"
             ],
             [
              0.4444444444444444,
              "#bd3786"
             ],
             [
              0.5555555555555556,
              "#d8576b"
             ],
             [
              0.6666666666666666,
              "#ed7953"
             ],
             [
              0.7777777777777778,
              "#fb9f3a"
             ],
             [
              0.8888888888888888,
              "#fdca26"
             ],
             [
              1,
              "#f0f921"
             ]
            ],
            "type": "heatmap"
           }
          ],
          "heatmapgl": [
           {
            "colorbar": {
             "outlinewidth": 0,
             "ticks": ""
            },
            "colorscale": [
             [
              0,
              "#0d0887"
             ],
             [
              0.1111111111111111,
              "#46039f"
             ],
             [
              0.2222222222222222,
              "#7201a8"
             ],
             [
              0.3333333333333333,
              "#9c179e"
             ],
             [
              0.4444444444444444,
              "#bd3786"
             ],
             [
              0.5555555555555556,
              "#d8576b"
             ],
             [
              0.6666666666666666,
              "#ed7953"
             ],
             [
              0.7777777777777778,
              "#fb9f3a"
             ],
             [
              0.8888888888888888,
              "#fdca26"
             ],
             [
              1,
              "#f0f921"
             ]
            ],
            "type": "heatmapgl"
           }
          ],
          "histogram": [
           {
            "marker": {
             "pattern": {
              "fillmode": "overlay",
              "size": 10,
              "solidity": 0.2
             }
            },
            "type": "histogram"
           }
          ],
          "histogram2d": [
           {
            "colorbar": {
             "outlinewidth": 0,
             "ticks": ""
            },
            "colorscale": [
             [
              0,
              "#0d0887"
             ],
             [
              0.1111111111111111,
              "#46039f"
             ],
             [
              0.2222222222222222,
              "#7201a8"
             ],
             [
              0.3333333333333333,
              "#9c179e"
             ],
             [
              0.4444444444444444,
              "#bd3786"
             ],
             [
              0.5555555555555556,
              "#d8576b"
             ],
             [
              0.6666666666666666,
              "#ed7953"
             ],
             [
              0.7777777777777778,
              "#fb9f3a"
             ],
             [
              0.8888888888888888,
              "#fdca26"
             ],
             [
              1,
              "#f0f921"
             ]
            ],
            "type": "histogram2d"
           }
          ],
          "histogram2dcontour": [
           {
            "colorbar": {
             "outlinewidth": 0,
             "ticks": ""
            },
            "colorscale": [
             [
              0,
              "#0d0887"
             ],
             [
              0.1111111111111111,
              "#46039f"
             ],
             [
              0.2222222222222222,
              "#7201a8"
             ],
             [
              0.3333333333333333,
              "#9c179e"
             ],
             [
              0.4444444444444444,
              "#bd3786"
             ],
             [
              0.5555555555555556,
              "#d8576b"
             ],
             [
              0.6666666666666666,
              "#ed7953"
             ],
             [
              0.7777777777777778,
              "#fb9f3a"
             ],
             [
              0.8888888888888888,
              "#fdca26"
             ],
             [
              1,
              "#f0f921"
             ]
            ],
            "type": "histogram2dcontour"
           }
          ],
          "mesh3d": [
           {
            "colorbar": {
             "outlinewidth": 0,
             "ticks": ""
            },
            "type": "mesh3d"
           }
          ],
          "parcoords": [
           {
            "line": {
             "colorbar": {
              "outlinewidth": 0,
              "ticks": ""
             }
            },
            "type": "parcoords"
           }
          ],
          "pie": [
           {
            "automargin": true,
            "type": "pie"
           }
          ],
          "scatter": [
           {
            "marker": {
             "colorbar": {
              "outlinewidth": 0,
              "ticks": ""
             }
            },
            "type": "scatter"
           }
          ],
          "scatter3d": [
           {
            "line": {
             "colorbar": {
              "outlinewidth": 0,
              "ticks": ""
             }
            },
            "marker": {
             "colorbar": {
              "outlinewidth": 0,
              "ticks": ""
             }
            },
            "type": "scatter3d"
           }
          ],
          "scattercarpet": [
           {
            "marker": {
             "colorbar": {
              "outlinewidth": 0,
              "ticks": ""
             }
            },
            "type": "scattercarpet"
           }
          ],
          "scattergeo": [
           {
            "marker": {
             "colorbar": {
              "outlinewidth": 0,
              "ticks": ""
             }
            },
            "type": "scattergeo"
           }
          ],
          "scattergl": [
           {
            "marker": {
             "colorbar": {
              "outlinewidth": 0,
              "ticks": ""
             }
            },
            "type": "scattergl"
           }
          ],
          "scattermapbox": [
           {
            "marker": {
             "colorbar": {
              "outlinewidth": 0,
              "ticks": ""
             }
            },
            "type": "scattermapbox"
           }
          ],
          "scatterpolar": [
           {
            "marker": {
             "colorbar": {
              "outlinewidth": 0,
              "ticks": ""
             }
            },
            "type": "scatterpolar"
           }
          ],
          "scatterpolargl": [
           {
            "marker": {
             "colorbar": {
              "outlinewidth": 0,
              "ticks": ""
             }
            },
            "type": "scatterpolargl"
           }
          ],
          "scatterternary": [
           {
            "marker": {
             "colorbar": {
              "outlinewidth": 0,
              "ticks": ""
             }
            },
            "type": "scatterternary"
           }
          ],
          "surface": [
           {
            "colorbar": {
             "outlinewidth": 0,
             "ticks": ""
            },
            "colorscale": [
             [
              0,
              "#0d0887"
             ],
             [
              0.1111111111111111,
              "#46039f"
             ],
             [
              0.2222222222222222,
              "#7201a8"
             ],
             [
              0.3333333333333333,
              "#9c179e"
             ],
             [
              0.4444444444444444,
              "#bd3786"
             ],
             [
              0.5555555555555556,
              "#d8576b"
             ],
             [
              0.6666666666666666,
              "#ed7953"
             ],
             [
              0.7777777777777778,
              "#fb9f3a"
             ],
             [
              0.8888888888888888,
              "#fdca26"
             ],
             [
              1,
              "#f0f921"
             ]
            ],
            "type": "surface"
           }
          ],
          "table": [
           {
            "cells": {
             "fill": {
              "color": "#EBF0F8"
             },
             "line": {
              "color": "white"
             }
            },
            "header": {
             "fill": {
              "color": "#C8D4E3"
             },
             "line": {
              "color": "white"
             }
            },
            "type": "table"
           }
          ]
         },
         "layout": {
          "annotationdefaults": {
           "arrowcolor": "#2a3f5f",
           "arrowhead": 0,
           "arrowwidth": 1
          },
          "autotypenumbers": "strict",
          "coloraxis": {
           "colorbar": {
            "outlinewidth": 0,
            "ticks": ""
           }
          },
          "colorscale": {
           "diverging": [
            [
             0,
             "#8e0152"
            ],
            [
             0.1,
             "#c51b7d"
            ],
            [
             0.2,
             "#de77ae"
            ],
            [
             0.3,
             "#f1b6da"
            ],
            [
             0.4,
             "#fde0ef"
            ],
            [
             0.5,
             "#f7f7f7"
            ],
            [
             0.6,
             "#e6f5d0"
            ],
            [
             0.7,
             "#b8e186"
            ],
            [
             0.8,
             "#7fbc41"
            ],
            [
             0.9,
             "#4d9221"
            ],
            [
             1,
             "#276419"
            ]
           ],
           "sequential": [
            [
             0,
             "#0d0887"
            ],
            [
             0.1111111111111111,
             "#46039f"
            ],
            [
             0.2222222222222222,
             "#7201a8"
            ],
            [
             0.3333333333333333,
             "#9c179e"
            ],
            [
             0.4444444444444444,
             "#bd3786"
            ],
            [
             0.5555555555555556,
             "#d8576b"
            ],
            [
             0.6666666666666666,
             "#ed7953"
            ],
            [
             0.7777777777777778,
             "#fb9f3a"
            ],
            [
             0.8888888888888888,
             "#fdca26"
            ],
            [
             1,
             "#f0f921"
            ]
           ],
           "sequentialminus": [
            [
             0,
             "#0d0887"
            ],
            [
             0.1111111111111111,
             "#46039f"
            ],
            [
             0.2222222222222222,
             "#7201a8"
            ],
            [
             0.3333333333333333,
             "#9c179e"
            ],
            [
             0.4444444444444444,
             "#bd3786"
            ],
            [
             0.5555555555555556,
             "#d8576b"
            ],
            [
             0.6666666666666666,
             "#ed7953"
            ],
            [
             0.7777777777777778,
             "#fb9f3a"
            ],
            [
             0.8888888888888888,
             "#fdca26"
            ],
            [
             1,
             "#f0f921"
            ]
           ]
          },
          "colorway": [
           "#636efa",
           "#EF553B",
           "#00cc96",
           "#ab63fa",
           "#FFA15A",
           "#19d3f3",
           "#FF6692",
           "#B6E880",
           "#FF97FF",
           "#FECB52"
          ],
          "font": {
           "color": "#2a3f5f"
          },
          "geo": {
           "bgcolor": "white",
           "lakecolor": "white",
           "landcolor": "#E5ECF6",
           "showlakes": true,
           "showland": true,
           "subunitcolor": "white"
          },
          "hoverlabel": {
           "align": "left"
          },
          "hovermode": "closest",
          "mapbox": {
           "style": "light"
          },
          "paper_bgcolor": "white",
          "plot_bgcolor": "#E5ECF6",
          "polar": {
           "angularaxis": {
            "gridcolor": "white",
            "linecolor": "white",
            "ticks": ""
           },
           "bgcolor": "#E5ECF6",
           "radialaxis": {
            "gridcolor": "white",
            "linecolor": "white",
            "ticks": ""
           }
          },
          "scene": {
           "xaxis": {
            "backgroundcolor": "#E5ECF6",
            "gridcolor": "white",
            "gridwidth": 2,
            "linecolor": "white",
            "showbackground": true,
            "ticks": "",
            "zerolinecolor": "white"
           },
           "yaxis": {
            "backgroundcolor": "#E5ECF6",
            "gridcolor": "white",
            "gridwidth": 2,
            "linecolor": "white",
            "showbackground": true,
            "ticks": "",
            "zerolinecolor": "white"
           },
           "zaxis": {
            "backgroundcolor": "#E5ECF6",
            "gridcolor": "white",
            "gridwidth": 2,
            "linecolor": "white",
            "showbackground": true,
            "ticks": "",
            "zerolinecolor": "white"
           }
          },
          "shapedefaults": {
           "line": {
            "color": "#2a3f5f"
           }
          },
          "ternary": {
           "aaxis": {
            "gridcolor": "white",
            "linecolor": "white",
            "ticks": ""
           },
           "baxis": {
            "gridcolor": "white",
            "linecolor": "white",
            "ticks": ""
           },
           "bgcolor": "#E5ECF6",
           "caxis": {
            "gridcolor": "white",
            "linecolor": "white",
            "ticks": ""
           }
          },
          "title": {
           "x": 0.05
          },
          "xaxis": {
           "automargin": true,
           "gridcolor": "white",
           "linecolor": "white",
           "ticks": "",
           "title": {
            "standoff": 15
           },
           "zerolinecolor": "white",
           "zerolinewidth": 2
          },
          "yaxis": {
           "automargin": true,
           "gridcolor": "white",
           "linecolor": "white",
           "ticks": "",
           "title": {
            "standoff": 15
           },
           "zerolinecolor": "white",
           "zerolinewidth": 2
          }
         }
        },
        "title": {
         "text": "All Noise"
        },
        "xaxis": {
         "anchor": "y",
         "domain": [
          0,
          1
         ],
         "title": {
          "text": "Created Date"
         }
        },
        "yaxis": {
         "anchor": "x",
         "domain": [
          0,
          1
         ],
         "title": {
          "text": "Density per 100000 people"
         }
        }
       }
      },
      "text/html": [
       "<div>                            <div id=\"4c80dc20-d7fa-4819-be89-0e459795a1cb\" class=\"plotly-graph-div\" style=\"height:525px; width:100%;\"></div>            <script type=\"text/javascript\">                require([\"plotly\"], function(Plotly) {                    window.PLOTLYENV=window.PLOTLYENV || {};                                    if (document.getElementById(\"4c80dc20-d7fa-4819-be89-0e459795a1cb\")) {                    Plotly.newPlot(                        \"4c80dc20-d7fa-4819-be89-0e459795a1cb\",                        [{\"hovertemplate\":\"Neighborhood=Parkville/Bensonhurst<br>Created Date=%{x}<br>Density per 100000 people=%{y}<extra></extra>\",\"legendgroup\":\"Parkville/Bensonhurst\",\"line\":{\"color\":\"#636efa\",\"dash\":\"solid\"},\"marker\":{\"symbol\":\"circle\"},\"mode\":\"lines\",\"name\":\"Parkville/Bensonhurst\",\"orientation\":\"v\",\"showlegend\":true,\"type\":\"scatter\",\"x\":[\"2013-06-30T00:00:00\",\"2013-07-31T00:00:00\",\"2013-08-31T00:00:00\",\"2013-09-30T00:00:00\",\"2013-10-31T00:00:00\",\"2013-11-30T00:00:00\",\"2013-12-31T00:00:00\",\"2014-01-31T00:00:00\",\"2014-02-28T00:00:00\",\"2014-03-31T00:00:00\",\"2014-04-30T00:00:00\",\"2014-05-31T00:00:00\",\"2014-06-30T00:00:00\",\"2014-07-31T00:00:00\",\"2014-08-31T00:00:00\",\"2014-09-30T00:00:00\",\"2014-10-31T00:00:00\",\"2014-11-30T00:00:00\",\"2014-12-31T00:00:00\",\"2015-01-31T00:00:00\",\"2015-02-28T00:00:00\",\"2015-03-31T00:00:00\",\"2015-04-30T00:00:00\",\"2015-05-31T00:00:00\",\"2015-06-30T00:00:00\",\"2015-07-31T00:00:00\",\"2015-08-31T00:00:00\",\"2015-09-30T00:00:00\",\"2015-10-31T00:00:00\",\"2015-11-30T00:00:00\",\"2015-12-31T00:00:00\",\"2016-01-31T00:00:00\",\"2016-02-29T00:00:00\",\"2016-03-31T00:00:00\",\"2016-04-30T00:00:00\",\"2016-05-31T00:00:00\",\"2016-06-30T00:00:00\",\"2016-07-31T00:00:00\",\"2016-08-31T00:00:00\",\"2016-09-30T00:00:00\",\"2016-10-31T00:00:00\",\"2016-11-30T00:00:00\",\"2016-12-31T00:00:00\",\"2017-01-31T00:00:00\",\"2017-02-28T00:00:00\",\"2017-03-31T00:00:00\",\"2017-04-30T00:00:00\",\"2017-05-31T00:00:00\",\"2017-06-30T00:00:00\",\"2017-07-31T00:00:00\",\"2017-08-31T00:00:00\",\"2017-09-30T00:00:00\",\"2017-10-31T00:00:00\",\"2017-11-30T00:00:00\",\"2017-12-31T00:00:00\",\"2018-01-31T00:00:00\",\"2018-02-28T00:00:00\",\"2018-03-31T00:00:00\",\"2018-04-30T00:00:00\",\"2018-05-31T00:00:00\",\"2018-06-30T00:00:00\",\"2018-07-31T00:00:00\",\"2018-08-31T00:00:00\",\"2018-09-30T00:00:00\",\"2018-10-31T00:00:00\",\"2018-11-30T00:00:00\",\"2018-12-31T00:00:00\",\"2019-01-31T00:00:00\",\"2019-02-28T00:00:00\",\"2019-03-31T00:00:00\",\"2019-04-30T00:00:00\",\"2019-05-31T00:00:00\"],\"xaxis\":\"x\",\"y\":[27.49,146.61,142.68,129.59,111.26,99.48,90.32,121.74,91.63,112.57,159.7,120.43,175.4,132.21,143.99,119.12,133.52,94.25,112.57,94.25,102.1,147.92,115.19,155.77,158.39,83.78,137.44,119.12,91.63,119.12,143.99,116.5,112.57,161.01,128.28,242.16,162.31,137.44,137.44,142.68,184.57,180.64,117.81,119.12,92.94,85.08,164.93,174.1,217.29,178.02,121.74,247.4,198.97,213.36,167.55,104.72,100.79,113.88,120.43,193.73,184.57,111.26,115.19,129.59,94.25,130.9,108.65,87.7,92.94,147.92,129.59,17.02],\"yaxis\":\"y\"},{\"hovertemplate\":\"Neighborhood=Fort Greene<br>Created Date=%{x}<br>Density per 100000 people=%{y}<extra></extra>\",\"legendgroup\":\"Fort Greene\",\"line\":{\"color\":\"#EF553B\",\"dash\":\"solid\"},\"marker\":{\"symbol\":\"circle\"},\"mode\":\"lines\",\"name\":\"Fort Greene\",\"orientation\":\"v\",\"showlegend\":true,\"type\":\"scatter\",\"x\":[\"2013-06-30T00:00:00\",\"2013-07-31T00:00:00\",\"2013-08-31T00:00:00\",\"2013-09-30T00:00:00\",\"2013-10-31T00:00:00\",\"2013-11-30T00:00:00\",\"2013-12-31T00:00:00\",\"2014-01-31T00:00:00\",\"2014-02-28T00:00:00\",\"2014-03-31T00:00:00\",\"2014-04-30T00:00:00\",\"2014-05-31T00:00:00\",\"2014-06-30T00:00:00\",\"2014-07-31T00:00:00\",\"2014-08-31T00:00:00\",\"2014-09-30T00:00:00\",\"2014-10-31T00:00:00\",\"2014-11-30T00:00:00\",\"2014-12-31T00:00:00\",\"2015-01-31T00:00:00\",\"2015-02-28T00:00:00\",\"2015-03-31T00:00:00\",\"2015-04-30T00:00:00\",\"2015-05-31T00:00:00\",\"2015-06-30T00:00:00\",\"2015-07-31T00:00:00\",\"2015-08-31T00:00:00\",\"2015-09-30T00:00:00\",\"2015-10-31T00:00:00\",\"2015-11-30T00:00:00\",\"2015-12-31T00:00:00\",\"2016-01-31T00:00:00\",\"2016-02-29T00:00:00\",\"2016-03-31T00:00:00\",\"2016-04-30T00:00:00\",\"2016-05-31T00:00:00\",\"2016-06-30T00:00:00\",\"2016-07-31T00:00:00\",\"2016-08-31T00:00:00\",\"2016-09-30T00:00:00\",\"2016-10-31T00:00:00\",\"2016-11-30T00:00:00\",\"2016-12-31T00:00:00\",\"2017-01-31T00:00:00\",\"2017-02-28T00:00:00\",\"2017-03-31T00:00:00\",\"2017-04-30T00:00:00\",\"2017-05-31T00:00:00\",\"2017-06-30T00:00:00\",\"2017-07-31T00:00:00\",\"2017-08-31T00:00:00\",\"2017-09-30T00:00:00\",\"2017-10-31T00:00:00\",\"2017-11-30T00:00:00\",\"2017-12-31T00:00:00\",\"2018-01-31T00:00:00\",\"2018-02-28T00:00:00\",\"2018-03-31T00:00:00\",\"2018-04-30T00:00:00\",\"2018-05-31T00:00:00\",\"2018-06-30T00:00:00\",\"2018-07-31T00:00:00\",\"2018-08-31T00:00:00\",\"2018-09-30T00:00:00\",\"2018-10-31T00:00:00\",\"2018-11-30T00:00:00\",\"2018-12-31T00:00:00\",\"2019-01-31T00:00:00\",\"2019-02-28T00:00:00\",\"2019-03-31T00:00:00\",\"2019-04-30T00:00:00\",\"2019-05-31T00:00:00\"],\"xaxis\":\"x\",\"y\":[70.45,245.5,382.13,452.58,377.86,335.16,224.15,239.1,251.91,301.01,424.82,484.6,612.68,606.28,580.66,535.83,482.46,414.15,281.79,260.44,245.5,315.95,446.17,589.2,587.07,437.63,478.19,516.62,409.88,318.08,431.23,288.2,388.53,535.83,1233.91,1769.74,1394.02,2491.3,1236.04,3671.84,979.87,486.73,371.45,514.48,405.61,488.87,695.94,642.57,683.13,659.65,591.34,1112.23,1210.43,1154.92,685.27,683.13,768.52,723.69,721.56,903.02,860.32,956.39,710.89,804.82,1071.66,755.72,634.03,467.52,469.65,685.27,608.42,132.36],\"yaxis\":\"y\"},{\"hovertemplate\":\"Neighborhood=Bath Beach/Bensonhurst<br>Created Date=%{x}<br>Density per 100000 people=%{y}<extra></extra>\",\"legendgroup\":\"Bath Beach/Bensonhurst\",\"line\":{\"color\":\"#00cc96\",\"dash\":\"solid\"},\"marker\":{\"symbol\":\"circle\"},\"mode\":\"lines\",\"name\":\"Bath Beach/Bensonhurst\",\"orientation\":\"v\",\"showlegend\":true,\"type\":\"scatter\",\"x\":[\"2013-06-30T00:00:00\",\"2013-07-31T00:00:00\",\"2013-08-31T00:00:00\",\"2013-09-30T00:00:00\",\"2013-10-31T00:00:00\",\"2013-11-30T00:00:00\",\"2013-12-31T00:00:00\",\"2014-01-31T00:00:00\",\"2014-02-28T00:00:00\",\"2014-03-31T00:00:00\",\"2014-04-30T00:00:00\",\"2014-05-31T00:00:00\",\"2014-06-30T00:00:00\",\"2014-07-31T00:00:00\",\"2014-08-31T00:00:00\",\"2014-09-30T00:00:00\",\"2014-10-31T00:00:00\",\"2014-11-30T00:00:00\",\"2014-12-31T00:00:00\",\"2015-01-31T00:00:00\",\"2015-02-28T00:00:00\",\"2015-03-31T00:00:00\",\"2015-04-30T00:00:00\",\"2015-05-31T00:00:00\",\"2015-06-30T00:00:00\",\"2015-07-31T00:00:00\",\"2015-08-31T00:00:00\",\"2015-09-30T00:00:00\",\"2015-10-31T00:00:00\",\"2015-11-30T00:00:00\",\"2015-12-31T00:00:00\",\"2016-01-31T00:00:00\",\"2016-02-29T00:00:00\",\"2016-03-31T00:00:00\",\"2016-04-30T00:00:00\",\"2016-05-31T00:00:00\",\"2016-06-30T00:00:00\",\"2016-07-31T00:00:00\",\"2016-08-31T00:00:00\",\"2016-09-30T00:00:00\",\"2016-10-31T00:00:00\",\"2016-11-30T00:00:00\",\"2016-12-31T00:00:00\",\"2017-01-31T00:00:00\",\"2017-02-28T00:00:00\",\"2017-03-31T00:00:00\",\"2017-04-30T00:00:00\",\"2017-05-31T00:00:00\",\"2017-06-30T00:00:00\",\"2017-07-31T00:00:00\",\"2017-08-31T00:00:00\",\"2017-09-30T00:00:00\",\"2017-10-31T00:00:00\",\"2017-11-30T00:00:00\",\"2017-12-31T00:00:00\",\"2018-01-31T00:00:00\",\"2018-02-28T00:00:00\",\"2018-03-31T00:00:00\",\"2018-04-30T00:00:00\",\"2018-05-31T00:00:00\",\"2018-06-30T00:00:00\",\"2018-07-31T00:00:00\",\"2018-08-31T00:00:00\",\"2018-09-30T00:00:00\",\"2018-10-31T00:00:00\",\"2018-11-30T00:00:00\",\"2018-12-31T00:00:00\",\"2019-01-31T00:00:00\",\"2019-02-28T00:00:00\",\"2019-03-31T00:00:00\",\"2019-04-30T00:00:00\",\"2019-05-31T00:00:00\"],\"xaxis\":\"x\",\"y\":[18.35,62.61,94.99,100.38,93.91,76.64,79.88,80.96,56.13,97.15,86.35,153.27,146.8,127.37,130.61,153.27,130.61,120.89,101.46,112.26,101.46,104.7,138.16,199.69,151.12,141.4,147.88,160.83,148.96,161.91,168.39,127.37,130.61,128.45,132.77,199.69,210.48,169.47,150.04,181.34,166.23,156.51,154.35,180.26,148.96,167.31,180.26,157.59,206.17,160.83,171.62,120.89,137.08,103.62,123.05,125.21,111.18,119.81,134.93,148.96,175.94,129.53,115.5,119.81,142.48,97.15,121.97,134.93,104.7,117.65,171.62,30.22],\"yaxis\":\"y\"},{\"hovertemplate\":\"Neighborhood=Bedford-Stuyvesant<br>Created Date=%{x}<br>Density per 100000 people=%{y}<extra></extra>\",\"legendgroup\":\"Bedford-Stuyvesant\",\"line\":{\"color\":\"#ab63fa\",\"dash\":\"solid\"},\"marker\":{\"symbol\":\"circle\"},\"mode\":\"lines\",\"name\":\"Bedford-Stuyvesant\",\"orientation\":\"v\",\"showlegend\":true,\"type\":\"scatter\",\"x\":[\"2013-06-30T00:00:00\",\"2013-07-31T00:00:00\",\"2013-08-31T00:00:00\",\"2013-09-30T00:00:00\",\"2013-10-31T00:00:00\",\"2013-11-30T00:00:00\",\"2013-12-31T00:00:00\",\"2014-01-31T00:00:00\",\"2014-02-28T00:00:00\",\"2014-03-31T00:00:00\",\"2014-04-30T00:00:00\",\"2014-05-31T00:00:00\",\"2014-06-30T00:00:00\",\"2014-07-31T00:00:00\",\"2014-08-31T00:00:00\",\"2014-09-30T00:00:00\",\"2014-10-31T00:00:00\",\"2014-11-30T00:00:00\",\"2014-12-31T00:00:00\",\"2015-01-31T00:00:00\",\"2015-02-28T00:00:00\",\"2015-03-31T00:00:00\",\"2015-04-30T00:00:00\",\"2015-05-31T00:00:00\",\"2015-06-30T00:00:00\",\"2015-07-31T00:00:00\",\"2015-08-31T00:00:00\",\"2015-09-30T00:00:00\",\"2015-10-31T00:00:00\",\"2015-11-30T00:00:00\",\"2015-12-31T00:00:00\",\"2016-01-31T00:00:00\",\"2016-02-29T00:00:00\",\"2016-03-31T00:00:00\",\"2016-04-30T00:00:00\",\"2016-05-31T00:00:00\",\"2016-06-30T00:00:00\",\"2016-07-31T00:00:00\",\"2016-08-31T00:00:00\",\"2016-09-30T00:00:00\",\"2016-10-31T00:00:00\",\"2016-11-30T00:00:00\",\"2016-12-31T00:00:00\",\"2017-01-31T00:00:00\",\"2017-02-28T00:00:00\",\"2017-03-31T00:00:00\",\"2017-04-30T00:00:00\",\"2017-05-31T00:00:00\",\"2017-06-30T00:00:00\",\"2017-07-31T00:00:00\",\"2017-08-31T00:00:00\",\"2017-09-30T00:00:00\",\"2017-10-31T00:00:00\",\"2017-11-30T00:00:00\",\"2017-12-31T00:00:00\",\"2018-01-31T00:00:00\",\"2018-02-28T00:00:00\",\"2018-03-31T00:00:00\",\"2018-04-30T00:00:00\",\"2018-05-31T00:00:00\",\"2018-06-30T00:00:00\",\"2018-07-31T00:00:00\",\"2018-08-31T00:00:00\",\"2018-09-30T00:00:00\",\"2018-10-31T00:00:00\",\"2018-11-30T00:00:00\",\"2018-12-31T00:00:00\",\"2019-01-31T00:00:00\",\"2019-02-28T00:00:00\",\"2019-03-31T00:00:00\",\"2019-04-30T00:00:00\",\"2019-05-31T00:00:00\"],\"xaxis\":\"x\",\"y\":[112.48,560.69,749.32,628.18,489.74,398.02,432.63,423.98,354.76,493.2,564.15,842.76,917.18,797.77,1026.2,892.95,816.81,766.62,607.41,662.79,565.88,659.33,1147.34,1078.12,901.6,910.26,844.5,835.84,602.22,695.67,697.4,650.68,579.73,749.32,1095.42,1114.46,1654.38,993.32,931.02,1055.62,815.08,543.38,550.31,571.07,470.7,621.26,1079.85,1066.0,1275.4,1194.06,790.85,996.78,911.99,486.28,389.37,340.91,434.36,418.79,545.11,861.8,1178.49,1130.03,884.3,815.08,690.48,467.24,505.31,467.24,488.01,472.43,846.23,204.2],\"yaxis\":\"y\"},{\"hovertemplate\":\"Neighborhood=Borough Park<br>Created Date=%{x}<br>Density per 100000 people=%{y}<extra></extra>\",\"legendgroup\":\"Borough Park\",\"line\":{\"color\":\"#FFA15A\",\"dash\":\"solid\"},\"marker\":{\"symbol\":\"circle\"},\"mode\":\"lines\",\"name\":\"Borough Park\",\"orientation\":\"v\",\"showlegend\":true,\"type\":\"scatter\",\"x\":[\"2013-06-30T00:00:00\",\"2013-07-31T00:00:00\",\"2013-08-31T00:00:00\",\"2013-09-30T00:00:00\",\"2013-10-31T00:00:00\",\"2013-11-30T00:00:00\",\"2013-12-31T00:00:00\",\"2014-01-31T00:00:00\",\"2014-02-28T00:00:00\",\"2014-03-31T00:00:00\",\"2014-04-30T00:00:00\",\"2014-05-31T00:00:00\",\"2014-06-30T00:00:00\",\"2014-07-31T00:00:00\",\"2014-08-31T00:00:00\",\"2014-09-30T00:00:00\",\"2014-10-31T00:00:00\",\"2014-11-30T00:00:00\",\"2014-12-31T00:00:00\",\"2015-01-31T00:00:00\",\"2015-02-28T00:00:00\",\"2015-03-31T00:00:00\",\"2015-04-30T00:00:00\",\"2015-05-31T00:00:00\",\"2015-06-30T00:00:00\",\"2015-07-31T00:00:00\",\"2015-08-31T00:00:00\",\"2015-09-30T00:00:00\",\"2015-10-31T00:00:00\",\"2015-11-30T00:00:00\",\"2015-12-31T00:00:00\",\"2016-01-31T00:00:00\",\"2016-02-29T00:00:00\",\"2016-03-31T00:00:00\",\"2016-04-30T00:00:00\",\"2016-05-31T00:00:00\",\"2016-06-30T00:00:00\",\"2016-07-31T00:00:00\",\"2016-08-31T00:00:00\",\"2016-09-30T00:00:00\",\"2016-10-31T00:00:00\",\"2016-11-30T00:00:00\",\"2016-12-31T00:00:00\",\"2017-01-31T00:00:00\",\"2017-02-28T00:00:00\",\"2017-03-31T00:00:00\",\"2017-04-30T00:00:00\",\"2017-05-31T00:00:00\",\"2017-06-30T00:00:00\",\"2017-07-31T00:00:00\",\"2017-08-31T00:00:00\",\"2017-09-30T00:00:00\",\"2017-10-31T00:00:00\",\"2017-11-30T00:00:00\",\"2017-12-31T00:00:00\",\"2018-01-31T00:00:00\",\"2018-02-28T00:00:00\",\"2018-03-31T00:00:00\",\"2018-04-30T00:00:00\",\"2018-05-31T00:00:00\",\"2018-06-30T00:00:00\",\"2018-07-31T00:00:00\",\"2018-08-31T00:00:00\",\"2018-09-30T00:00:00\",\"2018-10-31T00:00:00\",\"2018-11-30T00:00:00\",\"2018-12-31T00:00:00\",\"2019-01-31T00:00:00\",\"2019-02-28T00:00:00\",\"2019-03-31T00:00:00\",\"2019-04-30T00:00:00\",\"2019-05-31T00:00:00\"],\"xaxis\":\"x\",\"y\":[8.95,44.76,92.87,102.94,72.73,58.18,96.23,82.8,61.54,96.23,82.8,118.61,201.41,129.8,166.72,133.15,86.16,72.73,50.35,63.78,77.21,81.68,91.75,136.51,137.63,91.75,145.46,99.58,123.08,96.23,139.87,114.13,79.44,129.8,100.7,119.73,102.94,153.29,88.4,98.47,167.84,126.44,118.61,74.97,99.58,137.63,124.2,125.32,181.27,116.37,105.18,125.32,164.48,126.44,108.54,95.11,99.58,90.63,87.28,192.46,158.89,129.8,120.84,191.34,137.63,104.06,81.68,107.42,100.7,125.32,129.8,20.14],\"yaxis\":\"y\"},{\"hovertemplate\":\"Neighborhood=Crown Heights<br>Created Date=%{x}<br>Density per 100000 people=%{y}<extra></extra>\",\"legendgroup\":\"Crown Heights\",\"line\":{\"color\":\"#19d3f3\",\"dash\":\"solid\"},\"marker\":{\"symbol\":\"circle\"},\"mode\":\"lines\",\"name\":\"Crown Heights\",\"orientation\":\"v\",\"showlegend\":true,\"type\":\"scatter\",\"x\":[\"2013-06-30T00:00:00\",\"2013-07-31T00:00:00\",\"2013-08-31T00:00:00\",\"2013-09-30T00:00:00\",\"2013-10-31T00:00:00\",\"2013-11-30T00:00:00\",\"2013-12-31T00:00:00\",\"2014-01-31T00:00:00\",\"2014-02-28T00:00:00\",\"2014-03-31T00:00:00\",\"2014-04-30T00:00:00\",\"2014-05-31T00:00:00\",\"2014-06-30T00:00:00\",\"2014-07-31T00:00:00\",\"2014-08-31T00:00:00\",\"2014-09-30T00:00:00\",\"2014-10-31T00:00:00\",\"2014-11-30T00:00:00\",\"2014-12-31T00:00:00\",\"2015-01-31T00:00:00\",\"2015-02-28T00:00:00\",\"2015-03-31T00:00:00\",\"2015-04-30T00:00:00\",\"2015-05-31T00:00:00\",\"2015-06-30T00:00:00\",\"2015-07-31T00:00:00\",\"2015-08-31T00:00:00\",\"2015-09-30T00:00:00\",\"2015-10-31T00:00:00\",\"2015-11-30T00:00:00\",\"2015-12-31T00:00:00\",\"2016-01-31T00:00:00\",\"2016-02-29T00:00:00\",\"2016-03-31T00:00:00\",\"2016-04-30T00:00:00\",\"2016-05-31T00:00:00\",\"2016-06-30T00:00:00\",\"2016-07-31T00:00:00\",\"2016-08-31T00:00:00\",\"2016-09-30T00:00:00\",\"2016-10-31T00:00:00\",\"2016-11-30T00:00:00\",\"2016-12-31T00:00:00\",\"2017-01-31T00:00:00\",\"2017-02-28T00:00:00\",\"2017-03-31T00:00:00\",\"2017-04-30T00:00:00\",\"2017-05-31T00:00:00\",\"2017-06-30T00:00:00\",\"2017-07-31T00:00:00\",\"2017-08-31T00:00:00\",\"2017-09-30T00:00:00\",\"2017-10-31T00:00:00\",\"2017-11-30T00:00:00\",\"2017-12-31T00:00:00\",\"2018-01-31T00:00:00\",\"2018-02-28T00:00:00\",\"2018-03-31T00:00:00\",\"2018-04-30T00:00:00\",\"2018-05-31T00:00:00\",\"2018-06-30T00:00:00\",\"2018-07-31T00:00:00\",\"2018-08-31T00:00:00\",\"2018-09-30T00:00:00\",\"2018-10-31T00:00:00\",\"2018-11-30T00:00:00\",\"2018-12-31T00:00:00\",\"2019-01-31T00:00:00\",\"2019-02-28T00:00:00\",\"2019-03-31T00:00:00\",\"2019-04-30T00:00:00\",\"2019-05-31T00:00:00\"],\"xaxis\":\"x\",\"y\":[80.9,499.48,610.28,583.9,529.38,358.78,360.54,313.06,295.47,392.2,367.58,626.11,566.31,539.93,840.68,517.07,450.24,411.54,320.09,364.06,385.16,459.03,534.66,970.82,719.32,884.64,707.01,962.03,724.6,610.28,548.73,464.31,360.54,603.25,550.48,779.12,930.37,828.36,710.53,821.33,719.32,636.66,529.38,459.03,518.83,416.82,773.84,988.41,1218.8,1072.83,1093.93,1262.77,1155.49,552.24,561.04,541.69,467.82,608.52,673.6,1153.73,1069.31,981.37,882.89,1151.97,942.68,599.73,666.56,495.96,476.62,687.67,881.13,237.43],\"yaxis\":\"y\"},{\"hovertemplate\":\"Neighborhood=Dyker Heights<br>Created Date=%{x}<br>Density per 100000 people=%{y}<extra></extra>\",\"legendgroup\":\"Dyker Heights\",\"line\":{\"color\":\"#FF6692\",\"dash\":\"solid\"},\"marker\":{\"symbol\":\"circle\"},\"mode\":\"lines\",\"name\":\"Dyker Heights\",\"orientation\":\"v\",\"showlegend\":true,\"type\":\"scatter\",\"x\":[\"2013-06-30T00:00:00\",\"2013-07-31T00:00:00\",\"2013-08-31T00:00:00\",\"2013-09-30T00:00:00\",\"2013-10-31T00:00:00\",\"2013-11-30T00:00:00\",\"2013-12-31T00:00:00\",\"2014-01-31T00:00:00\",\"2014-02-28T00:00:00\",\"2014-03-31T00:00:00\",\"2014-04-30T00:00:00\",\"2014-05-31T00:00:00\",\"2014-06-30T00:00:00\",\"2014-07-31T00:00:00\",\"2014-08-31T00:00:00\",\"2014-09-30T00:00:00\",\"2014-10-31T00:00:00\",\"2014-11-30T00:00:00\",\"2014-12-31T00:00:00\",\"2015-01-31T00:00:00\",\"2015-02-28T00:00:00\",\"2015-03-31T00:00:00\",\"2015-04-30T00:00:00\",\"2015-05-31T00:00:00\",\"2015-06-30T00:00:00\",\"2015-07-31T00:00:00\",\"2015-08-31T00:00:00\",\"2015-09-30T00:00:00\",\"2015-10-31T00:00:00\",\"2015-11-30T00:00:00\",\"2015-12-31T00:00:00\",\"2016-01-31T00:00:00\",\"2016-02-29T00:00:00\",\"2016-03-31T00:00:00\",\"2016-04-30T00:00:00\",\"2016-05-31T00:00:00\",\"2016-06-30T00:00:00\",\"2016-07-31T00:00:00\",\"2016-08-31T00:00:00\",\"2016-09-30T00:00:00\",\"2016-10-31T00:00:00\",\"2016-11-30T00:00:00\",\"2016-12-31T00:00:00\",\"2017-01-31T00:00:00\",\"2017-02-28T00:00:00\",\"2017-03-31T00:00:00\",\"2017-04-30T00:00:00\",\"2017-05-31T00:00:00\",\"2017-06-30T00:00:00\",\"2017-07-31T00:00:00\",\"2017-08-31T00:00:00\",\"2017-09-30T00:00:00\",\"2017-10-31T00:00:00\",\"2017-11-30T00:00:00\",\"2017-12-31T00:00:00\",\"2018-01-31T00:00:00\",\"2018-02-28T00:00:00\",\"2018-03-31T00:00:00\",\"2018-04-30T00:00:00\",\"2018-05-31T00:00:00\",\"2018-06-30T00:00:00\",\"2018-07-31T00:00:00\",\"2018-08-31T00:00:00\",\"2018-09-30T00:00:00\",\"2018-10-31T00:00:00\",\"2018-11-30T00:00:00\",\"2018-12-31T00:00:00\",\"2019-01-31T00:00:00\",\"2019-02-28T00:00:00\",\"2019-03-31T00:00:00\",\"2019-04-30T00:00:00\",\"2019-05-31T00:00:00\"],\"xaxis\":\"x\",\"y\":[15.78,58.63,54.12,72.16,56.37,40.59,92.45,24.8,40.59,99.22,99.22,144.31,130.78,85.69,94.71,148.82,121.76,47.35,63.14,51.86,56.37,56.37,67.65,155.59,142.06,139.8,101.47,171.37,126.27,126.27,126.27,72.16,56.37,101.47,90.2,112.74,148.82,148.82,144.31,153.33,169.12,110.49,108.23,69.9,87.94,78.92,137.55,162.35,205.2,166.86,135.29,153.33,182.65,81.18,160.1,51.86,47.35,103.73,96.96,137.55,232.25,157.84,155.59,139.8,76.67,103.73,157.84,99.22,67.65,85.69,117.25,22.55],\"yaxis\":\"y\"},{\"hovertemplate\":\"Neighborhood=Bushwick<br>Created Date=%{x}<br>Density per 100000 people=%{y}<extra></extra>\",\"legendgroup\":\"Bushwick\",\"line\":{\"color\":\"#B6E880\",\"dash\":\"solid\"},\"marker\":{\"symbol\":\"circle\"},\"mode\":\"lines\",\"name\":\"Bushwick\",\"orientation\":\"v\",\"showlegend\":true,\"type\":\"scatter\",\"x\":[\"2013-06-30T00:00:00\",\"2013-07-31T00:00:00\",\"2013-08-31T00:00:00\",\"2013-09-30T00:00:00\",\"2013-10-31T00:00:00\",\"2013-11-30T00:00:00\",\"2013-12-31T00:00:00\",\"2014-01-31T00:00:00\",\"2014-02-28T00:00:00\",\"2014-03-31T00:00:00\",\"2014-04-30T00:00:00\",\"2014-05-31T00:00:00\",\"2014-06-30T00:00:00\",\"2014-07-31T00:00:00\",\"2014-08-31T00:00:00\",\"2014-09-30T00:00:00\",\"2014-10-31T00:00:00\",\"2014-11-30T00:00:00\",\"2014-12-31T00:00:00\",\"2015-01-31T00:00:00\",\"2015-02-28T00:00:00\",\"2015-03-31T00:00:00\",\"2015-04-30T00:00:00\",\"2015-05-31T00:00:00\",\"2015-06-30T00:00:00\",\"2015-07-31T00:00:00\",\"2015-08-31T00:00:00\",\"2015-09-30T00:00:00\",\"2015-10-31T00:00:00\",\"2015-11-30T00:00:00\",\"2015-12-31T00:00:00\",\"2016-01-31T00:00:00\",\"2016-02-29T00:00:00\",\"2016-03-31T00:00:00\",\"2016-04-30T00:00:00\",\"2016-05-31T00:00:00\",\"2016-06-30T00:00:00\",\"2016-07-31T00:00:00\",\"2016-08-31T00:00:00\",\"2016-09-30T00:00:00\",\"2016-10-31T00:00:00\",\"2016-11-30T00:00:00\",\"2016-12-31T00:00:00\",\"2017-01-31T00:00:00\",\"2017-02-28T00:00:00\",\"2017-03-31T00:00:00\",\"2017-04-30T00:00:00\",\"2017-05-31T00:00:00\",\"2017-06-30T00:00:00\",\"2017-07-31T00:00:00\",\"2017-08-31T00:00:00\",\"2017-09-30T00:00:00\",\"2017-10-31T00:00:00\",\"2017-11-30T00:00:00\",\"2017-12-31T00:00:00\",\"2018-01-31T00:00:00\",\"2018-02-28T00:00:00\",\"2018-03-31T00:00:00\",\"2018-04-30T00:00:00\",\"2018-05-31T00:00:00\",\"2018-06-30T00:00:00\",\"2018-07-31T00:00:00\",\"2018-08-31T00:00:00\",\"2018-09-30T00:00:00\",\"2018-10-31T00:00:00\",\"2018-11-30T00:00:00\",\"2018-12-31T00:00:00\",\"2019-01-31T00:00:00\",\"2019-02-28T00:00:00\",\"2019-03-31T00:00:00\",\"2019-04-30T00:00:00\",\"2019-05-31T00:00:00\"],\"xaxis\":\"x\",\"y\":[110.48,370.32,648.58,572.88,433.75,388.74,421.47,362.14,315.08,458.3,495.13,726.33,842.95,666.99,965.71,957.53,666.99,658.81,525.82,484.9,488.99,394.88,748.83,1272.61,1084.38,953.43,951.39,977.99,849.09,730.42,775.43,562.65,658.81,793.85,1025.04,1364.68,1266.47,1184.63,1061.87,1336.03,1297.16,881.82,689.5,820.44,828.63,640.4,1331.94,1336.03,1581.55,1395.37,1076.19,1534.5,1452.66,822.49,808.17,601.52,679.27,716.1,1080.28,1246.01,1401.51,1104.84,1084.38,1315.57,898.19,548.33,628.12,607.66,527.87,662.9,1063.92,192.32],\"yaxis\":\"y\"},{\"hovertemplate\":\"Neighborhood=Prospect Heights<br>Created Date=%{x}<br>Density per 100000 people=%{y}<extra></extra>\",\"legendgroup\":\"Prospect Heights\",\"line\":{\"color\":\"#FF97FF\",\"dash\":\"solid\"},\"marker\":{\"symbol\":\"circle\"},\"mode\":\"lines\",\"name\":\"Prospect Heights\",\"orientation\":\"v\",\"showlegend\":true,\"type\":\"scatter\",\"x\":[\"2013-06-30T00:00:00\",\"2013-07-31T00:00:00\",\"2013-08-31T00:00:00\",\"2013-09-30T00:00:00\",\"2013-10-31T00:00:00\",\"2013-11-30T00:00:00\",\"2013-12-31T00:00:00\",\"2014-01-31T00:00:00\",\"2014-02-28T00:00:00\",\"2014-03-31T00:00:00\",\"2014-04-30T00:00:00\",\"2014-05-31T00:00:00\",\"2014-06-30T00:00:00\",\"2014-07-31T00:00:00\",\"2014-08-31T00:00:00\",\"2014-09-30T00:00:00\",\"2014-10-31T00:00:00\",\"2014-11-30T00:00:00\",\"2014-12-31T00:00:00\",\"2015-01-31T00:00:00\",\"2015-02-28T00:00:00\",\"2015-03-31T00:00:00\",\"2015-04-30T00:00:00\",\"2015-05-31T00:00:00\",\"2015-06-30T00:00:00\",\"2015-07-31T00:00:00\",\"2015-08-31T00:00:00\",\"2015-09-30T00:00:00\",\"2015-10-31T00:00:00\",\"2015-11-30T00:00:00\",\"2015-12-31T00:00:00\",\"2016-01-31T00:00:00\",\"2016-02-29T00:00:00\",\"2016-03-31T00:00:00\",\"2016-04-30T00:00:00\",\"2016-05-31T00:00:00\",\"2016-06-30T00:00:00\",\"2016-07-31T00:00:00\",\"2016-08-31T00:00:00\",\"2016-09-30T00:00:00\",\"2016-10-31T00:00:00\",\"2016-11-30T00:00:00\",\"2016-12-31T00:00:00\",\"2017-01-31T00:00:00\",\"2017-02-28T00:00:00\",\"2017-03-31T00:00:00\",\"2017-04-30T00:00:00\",\"2017-05-31T00:00:00\",\"2017-06-30T00:00:00\",\"2017-07-31T00:00:00\",\"2017-08-31T00:00:00\",\"2017-09-30T00:00:00\",\"2017-10-31T00:00:00\",\"2017-11-30T00:00:00\",\"2017-12-31T00:00:00\",\"2018-01-31T00:00:00\",\"2018-02-28T00:00:00\",\"2018-03-31T00:00:00\",\"2018-04-30T00:00:00\",\"2018-05-31T00:00:00\",\"2018-06-30T00:00:00\",\"2018-07-31T00:00:00\",\"2018-08-31T00:00:00\",\"2018-09-30T00:00:00\",\"2018-10-31T00:00:00\",\"2018-11-30T00:00:00\",\"2018-12-31T00:00:00\",\"2019-01-31T00:00:00\",\"2019-02-28T00:00:00\",\"2019-03-31T00:00:00\",\"2019-04-30T00:00:00\",\"2019-05-31T00:00:00\"],\"xaxis\":\"x\",\"y\":[139.47,519.83,827.75,735.37,610.4,541.57,498.1,411.16,340.52,496.29,552.44,1034.23,1028.8,985.33,988.95,905.63,769.79,597.72,599.53,478.17,367.69,585.04,749.86,1396.49,949.1,985.33,1247.96,1209.93,729.94,731.75,682.85,668.36,612.21,782.47,1034.23,1148.34,1454.45,1046.91,1046.91,1094.0,851.3,601.34,666.55,659.3,556.06,552.44,981.71,1037.86,1132.04,1141.1,983.52,1237.09,867.6,590.47,594.1,670.17,619.45,626.7,798.77,1483.43,1360.26,1150.15,1264.26,929.18,691.9,547.0,595.91,581.42,525.27,568.74,954.54,161.2],\"yaxis\":\"y\"},{\"hovertemplate\":\"Neighborhood=Starrett City<br>Created Date=%{x}<br>Density per 100000 people=%{y}<extra></extra>\",\"legendgroup\":\"Starrett City\",\"line\":{\"color\":\"#FECB52\",\"dash\":\"solid\"},\"marker\":{\"symbol\":\"circle\"},\"mode\":\"lines\",\"name\":\"Starrett City\",\"orientation\":\"v\",\"showlegend\":true,\"type\":\"scatter\",\"x\":[\"2013-07-31T00:00:00\",\"2013-08-31T00:00:00\",\"2013-09-30T00:00:00\",\"2013-10-31T00:00:00\",\"2013-11-30T00:00:00\",\"2013-12-31T00:00:00\",\"2014-01-31T00:00:00\",\"2014-02-28T00:00:00\",\"2014-03-31T00:00:00\",\"2014-04-30T00:00:00\",\"2014-05-31T00:00:00\",\"2014-06-30T00:00:00\",\"2014-07-31T00:00:00\",\"2014-08-31T00:00:00\",\"2014-09-30T00:00:00\",\"2014-10-31T00:00:00\",\"2014-11-30T00:00:00\",\"2014-12-31T00:00:00\",\"2015-01-31T00:00:00\",\"2015-02-28T00:00:00\",\"2015-03-31T00:00:00\",\"2015-04-30T00:00:00\",\"2015-05-31T00:00:00\",\"2015-06-30T00:00:00\",\"2015-07-31T00:00:00\",\"2015-08-31T00:00:00\",\"2015-09-30T00:00:00\",\"2015-10-31T00:00:00\",\"2015-11-30T00:00:00\",\"2015-12-31T00:00:00\",\"2016-01-31T00:00:00\",\"2016-02-29T00:00:00\",\"2016-03-31T00:00:00\",\"2016-04-30T00:00:00\",\"2016-05-31T00:00:00\",\"2016-06-30T00:00:00\",\"2016-07-31T00:00:00\",\"2016-08-31T00:00:00\",\"2016-09-30T00:00:00\",\"2016-10-31T00:00:00\",\"2016-11-30T00:00:00\",\"2016-12-31T00:00:00\",\"2017-01-31T00:00:00\",\"2017-02-28T00:00:00\",\"2017-03-31T00:00:00\",\"2017-04-30T00:00:00\",\"2017-05-31T00:00:00\",\"2017-06-30T00:00:00\",\"2017-07-31T00:00:00\",\"2017-08-31T00:00:00\",\"2017-09-30T00:00:00\",\"2017-10-31T00:00:00\",\"2017-11-30T00:00:00\",\"2017-12-31T00:00:00\",\"2018-01-31T00:00:00\",\"2018-02-28T00:00:00\",\"2018-03-31T00:00:00\",\"2018-04-30T00:00:00\",\"2018-05-31T00:00:00\",\"2018-06-30T00:00:00\",\"2018-07-31T00:00:00\",\"2018-08-31T00:00:00\",\"2018-09-30T00:00:00\",\"2018-10-31T00:00:00\",\"2018-11-30T00:00:00\",\"2018-12-31T00:00:00\",\"2019-01-31T00:00:00\",\"2019-02-28T00:00:00\",\"2019-03-31T00:00:00\",\"2019-04-30T00:00:00\",\"2019-05-31T00:00:00\"],\"xaxis\":\"x\",\"y\":[31.32,62.64,31.32,23.49,23.49,31.32,39.15,23.49,78.3,140.93,109.61,70.47,70.47,274.04,164.42,86.13,46.98,62.64,15.66,46.98,54.81,93.96,156.59,156.59,234.89,93.96,78.3,62.64,62.64,39.15,62.64,62.64,70.47,62.64,46.98,86.13,78.3,31.32,70.47,70.47,39.15,23.49,62.64,70.47,39.15,54.81,133.1,109.61,117.44,101.79,78.3,46.98,93.96,125.27,39.15,93.96,125.27,133.1,109.61,156.59,109.61,78.3,172.25,117.44,140.93,328.84,78.3,117.44,93.96,352.33,39.15],\"yaxis\":\"y\"}],                        {\"legend\":{\"title\":{\"text\":\"Neighborhood\"},\"tracegroupgap\":0},\"template\":{\"data\":{\"bar\":[{\"error_x\":{\"color\":\"#2a3f5f\"},\"error_y\":{\"color\":\"#2a3f5f\"},\"marker\":{\"line\":{\"color\":\"#E5ECF6\",\"width\":0.5},\"pattern\":{\"fillmode\":\"overlay\",\"size\":10,\"solidity\":0.2}},\"type\":\"bar\"}],\"barpolar\":[{\"marker\":{\"line\":{\"color\":\"#E5ECF6\",\"width\":0.5},\"pattern\":{\"fillmode\":\"overlay\",\"size\":10,\"solidity\":0.2}},\"type\":\"barpolar\"}],\"carpet\":[{\"aaxis\":{\"endlinecolor\":\"#2a3f5f\",\"gridcolor\":\"white\",\"linecolor\":\"white\",\"minorgridcolor\":\"white\",\"startlinecolor\":\"#2a3f5f\"},\"baxis\":{\"endlinecolor\":\"#2a3f5f\",\"gridcolor\":\"white\",\"linecolor\":\"white\",\"minorgridcolor\":\"white\",\"startlinecolor\":\"#2a3f5f\"},\"type\":\"carpet\"}],\"choropleth\":[{\"colorbar\":{\"outlinewidth\":0,\"ticks\":\"\"},\"type\":\"choropleth\"}],\"contour\":[{\"colorbar\":{\"outlinewidth\":0,\"ticks\":\"\"},\"colorscale\":[[0.0,\"#0d0887\"],[0.1111111111111111,\"#46039f\"],[0.2222222222222222,\"#7201a8\"],[0.3333333333333333,\"#9c179e\"],[0.4444444444444444,\"#bd3786\"],[0.5555555555555556,\"#d8576b\"],[0.6666666666666666,\"#ed7953\"],[0.7777777777777778,\"#fb9f3a\"],[0.8888888888888888,\"#fdca26\"],[1.0,\"#f0f921\"]],\"type\":\"contour\"}],\"contourcarpet\":[{\"colorbar\":{\"outlinewidth\":0,\"ticks\":\"\"},\"type\":\"contourcarpet\"}],\"heatmap\":[{\"colorbar\":{\"outlinewidth\":0,\"ticks\":\"\"},\"colorscale\":[[0.0,\"#0d0887\"],[0.1111111111111111,\"#46039f\"],[0.2222222222222222,\"#7201a8\"],[0.3333333333333333,\"#9c179e\"],[0.4444444444444444,\"#bd3786\"],[0.5555555555555556,\"#d8576b\"],[0.6666666666666666,\"#ed7953\"],[0.7777777777777778,\"#fb9f3a\"],[0.8888888888888888,\"#fdca26\"],[1.0,\"#f0f921\"]],\"type\":\"heatmap\"}],\"heatmapgl\":[{\"colorbar\":{\"outlinewidth\":0,\"ticks\":\"\"},\"colorscale\":[[0.0,\"#0d0887\"],[0.1111111111111111,\"#46039f\"],[0.2222222222222222,\"#7201a8\"],[0.3333333333333333,\"#9c179e\"],[0.4444444444444444,\"#bd3786\"],[0.5555555555555556,\"#d8576b\"],[0.6666666666666666,\"#ed7953\"],[0.7777777777777778,\"#fb9f3a\"],[0.8888888888888888,\"#fdca26\"],[1.0,\"#f0f921\"]],\"type\":\"heatmapgl\"}],\"histogram\":[{\"marker\":{\"pattern\":{\"fillmode\":\"overlay\",\"size\":10,\"solidity\":0.2}},\"type\":\"histogram\"}],\"histogram2d\":[{\"colorbar\":{\"outlinewidth\":0,\"ticks\":\"\"},\"colorscale\":[[0.0,\"#0d0887\"],[0.1111111111111111,\"#46039f\"],[0.2222222222222222,\"#7201a8\"],[0.3333333333333333,\"#9c179e\"],[0.4444444444444444,\"#bd3786\"],[0.5555555555555556,\"#d8576b\"],[0.6666666666666666,\"#ed7953\"],[0.7777777777777778,\"#fb9f3a\"],[0.8888888888888888,\"#fdca26\"],[1.0,\"#f0f921\"]],\"type\":\"histogram2d\"}],\"histogram2dcontour\":[{\"colorbar\":{\"outlinewidth\":0,\"ticks\":\"\"},\"colorscale\":[[0.0,\"#0d0887\"],[0.1111111111111111,\"#46039f\"],[0.2222222222222222,\"#7201a8\"],[0.3333333333333333,\"#9c179e\"],[0.4444444444444444,\"#bd3786\"],[0.5555555555555556,\"#d8576b\"],[0.6666666666666666,\"#ed7953\"],[0.7777777777777778,\"#fb9f3a\"],[0.8888888888888888,\"#fdca26\"],[1.0,\"#f0f921\"]],\"type\":\"histogram2dcontour\"}],\"mesh3d\":[{\"colorbar\":{\"outlinewidth\":0,\"ticks\":\"\"},\"type\":\"mesh3d\"}],\"parcoords\":[{\"line\":{\"colorbar\":{\"outlinewidth\":0,\"ticks\":\"\"}},\"type\":\"parcoords\"}],\"pie\":[{\"automargin\":true,\"type\":\"pie\"}],\"scatter\":[{\"marker\":{\"colorbar\":{\"outlinewidth\":0,\"ticks\":\"\"}},\"type\":\"scatter\"}],\"scatter3d\":[{\"line\":{\"colorbar\":{\"outlinewidth\":0,\"ticks\":\"\"}},\"marker\":{\"colorbar\":{\"outlinewidth\":0,\"ticks\":\"\"}},\"type\":\"scatter3d\"}],\"scattercarpet\":[{\"marker\":{\"colorbar\":{\"outlinewidth\":0,\"ticks\":\"\"}},\"type\":\"scattercarpet\"}],\"scattergeo\":[{\"marker\":{\"colorbar\":{\"outlinewidth\":0,\"ticks\":\"\"}},\"type\":\"scattergeo\"}],\"scattergl\":[{\"marker\":{\"colorbar\":{\"outlinewidth\":0,\"ticks\":\"\"}},\"type\":\"scattergl\"}],\"scattermapbox\":[{\"marker\":{\"colorbar\":{\"outlinewidth\":0,\"ticks\":\"\"}},\"type\":\"scattermapbox\"}],\"scatterpolar\":[{\"marker\":{\"colorbar\":{\"outlinewidth\":0,\"ticks\":\"\"}},\"type\":\"scatterpolar\"}],\"scatterpolargl\":[{\"marker\":{\"colorbar\":{\"outlinewidth\":0,\"ticks\":\"\"}},\"type\":\"scatterpolargl\"}],\"scatterternary\":[{\"marker\":{\"colorbar\":{\"outlinewidth\":0,\"ticks\":\"\"}},\"type\":\"scatterternary\"}],\"surface\":[{\"colorbar\":{\"outlinewidth\":0,\"ticks\":\"\"},\"colorscale\":[[0.0,\"#0d0887\"],[0.1111111111111111,\"#46039f\"],[0.2222222222222222,\"#7201a8\"],[0.3333333333333333,\"#9c179e\"],[0.4444444444444444,\"#bd3786\"],[0.5555555555555556,\"#d8576b\"],[0.6666666666666666,\"#ed7953\"],[0.7777777777777778,\"#fb9f3a\"],[0.8888888888888888,\"#fdca26\"],[1.0,\"#f0f921\"]],\"type\":\"surface\"}],\"table\":[{\"cells\":{\"fill\":{\"color\":\"#EBF0F8\"},\"line\":{\"color\":\"white\"}},\"header\":{\"fill\":{\"color\":\"#C8D4E3\"},\"line\":{\"color\":\"white\"}},\"type\":\"table\"}]},\"layout\":{\"annotationdefaults\":{\"arrowcolor\":\"#2a3f5f\",\"arrowhead\":0,\"arrowwidth\":1},\"autotypenumbers\":\"strict\",\"coloraxis\":{\"colorbar\":{\"outlinewidth\":0,\"ticks\":\"\"}},\"colorscale\":{\"diverging\":[[0,\"#8e0152\"],[0.1,\"#c51b7d\"],[0.2,\"#de77ae\"],[0.3,\"#f1b6da\"],[0.4,\"#fde0ef\"],[0.5,\"#f7f7f7\"],[0.6,\"#e6f5d0\"],[0.7,\"#b8e186\"],[0.8,\"#7fbc41\"],[0.9,\"#4d9221\"],[1,\"#276419\"]],\"sequential\":[[0.0,\"#0d0887\"],[0.1111111111111111,\"#46039f\"],[0.2222222222222222,\"#7201a8\"],[0.3333333333333333,\"#9c179e\"],[0.4444444444444444,\"#bd3786\"],[0.5555555555555556,\"#d8576b\"],[0.6666666666666666,\"#ed7953\"],[0.7777777777777778,\"#fb9f3a\"],[0.8888888888888888,\"#fdca26\"],[1.0,\"#f0f921\"]],\"sequentialminus\":[[0.0,\"#0d0887\"],[0.1111111111111111,\"#46039f\"],[0.2222222222222222,\"#7201a8\"],[0.3333333333333333,\"#9c179e\"],[0.4444444444444444,\"#bd3786\"],[0.5555555555555556,\"#d8576b\"],[0.6666666666666666,\"#ed7953\"],[0.7777777777777778,\"#fb9f3a\"],[0.8888888888888888,\"#fdca26\"],[1.0,\"#f0f921\"]]},\"colorway\":[\"#636efa\",\"#EF553B\",\"#00cc96\",\"#ab63fa\",\"#FFA15A\",\"#19d3f3\",\"#FF6692\",\"#B6E880\",\"#FF97FF\",\"#FECB52\"],\"font\":{\"color\":\"#2a3f5f\"},\"geo\":{\"bgcolor\":\"white\",\"lakecolor\":\"white\",\"landcolor\":\"#E5ECF6\",\"showlakes\":true,\"showland\":true,\"subunitcolor\":\"white\"},\"hoverlabel\":{\"align\":\"left\"},\"hovermode\":\"closest\",\"mapbox\":{\"style\":\"light\"},\"paper_bgcolor\":\"white\",\"plot_bgcolor\":\"#E5ECF6\",\"polar\":{\"angularaxis\":{\"gridcolor\":\"white\",\"linecolor\":\"white\",\"ticks\":\"\"},\"bgcolor\":\"#E5ECF6\",\"radialaxis\":{\"gridcolor\":\"white\",\"linecolor\":\"white\",\"ticks\":\"\"}},\"scene\":{\"xaxis\":{\"backgroundcolor\":\"#E5ECF6\",\"gridcolor\":\"white\",\"gridwidth\":2,\"linecolor\":\"white\",\"showbackground\":true,\"ticks\":\"\",\"zerolinecolor\":\"white\"},\"yaxis\":{\"backgroundcolor\":\"#E5ECF6\",\"gridcolor\":\"white\",\"gridwidth\":2,\"linecolor\":\"white\",\"showbackground\":true,\"ticks\":\"\",\"zerolinecolor\":\"white\"},\"zaxis\":{\"backgroundcolor\":\"#E5ECF6\",\"gridcolor\":\"white\",\"gridwidth\":2,\"linecolor\":\"white\",\"showbackground\":true,\"ticks\":\"\",\"zerolinecolor\":\"white\"}},\"shapedefaults\":{\"line\":{\"color\":\"#2a3f5f\"}},\"ternary\":{\"aaxis\":{\"gridcolor\":\"white\",\"linecolor\":\"white\",\"ticks\":\"\"},\"baxis\":{\"gridcolor\":\"white\",\"linecolor\":\"white\",\"ticks\":\"\"},\"bgcolor\":\"#E5ECF6\",\"caxis\":{\"gridcolor\":\"white\",\"linecolor\":\"white\",\"ticks\":\"\"}},\"title\":{\"x\":0.05},\"xaxis\":{\"automargin\":true,\"gridcolor\":\"white\",\"linecolor\":\"white\",\"ticks\":\"\",\"title\":{\"standoff\":15},\"zerolinecolor\":\"white\",\"zerolinewidth\":2},\"yaxis\":{\"automargin\":true,\"gridcolor\":\"white\",\"linecolor\":\"white\",\"ticks\":\"\",\"title\":{\"standoff\":15},\"zerolinecolor\":\"white\",\"zerolinewidth\":2}}},\"title\":{\"text\":\"All Noise\"},\"xaxis\":{\"anchor\":\"y\",\"domain\":[0.0,1.0],\"title\":{\"text\":\"Created Date\"}},\"yaxis\":{\"anchor\":\"x\",\"domain\":[0.0,1.0],\"title\":{\"text\":\"Density per 100000 people\"}}},                        {\"responsive\": true}                    ).then(function(){\n",
       "                            \n",
       "var gd = document.getElementById('4c80dc20-d7fa-4819-be89-0e459795a1cb');\n",
       "var x = new MutationObserver(function (mutations, observer) {{\n",
       "        var display = window.getComputedStyle(gd).display;\n",
       "        if (!display || display === 'none') {{\n",
       "            console.log([gd, 'removed!']);\n",
       "            Plotly.purge(gd);\n",
       "            observer.disconnect();\n",
       "        }}\n",
       "}});\n",
       "\n",
       "// Listen for the removal of the full notebook cells\n",
       "var notebookContainer = gd.closest('#notebook-container');\n",
       "if (notebookContainer) {{\n",
       "    x.observe(notebookContainer, {childList: true});\n",
       "}}\n",
       "\n",
       "// Listen for the clearing of the current output cell\n",
       "var outputEl = gd.closest('.output');\n",
       "if (outputEl) {{\n",
       "    x.observe(outputEl, {childList: true});\n",
       "}}\n",
       "\n",
       "                        })                };                });            </script>        </div>"
      ]
     },
     "metadata": {},
     "output_type": "display_data"
    }
   ],
   "source": [
    "px.line(extreme_noise_df, x='Created Date', y='Density per 100000 people', color='Neighborhood',title=\"All Noise\").show()"
   ]
  },
  {
   "cell_type": "code",
   "execution_count": 870,
   "id": "bibliographic-swing",
   "metadata": {},
   "outputs": [],
   "source": [
    "rent_df = pd.read_csv(\"rent_cleaned.csv\")\n",
    "rent_df = rent_df.drop([\"Borough\", \"areaType\"], axis=1)\n",
    "rent_df = rent_df.drop([\"Unnamed: 0\"], axis=1)\n",
    "rent_df = rent_df.set_index(\"Neighborhood\")\n",
    "rent_df = rent_df.T.stack(dropna=False)\n",
    "rent_df.to_csv(\"test.csv\")\n",
    "rent_df = pd.read_csv(\"test.csv\")\n",
    "rent_df.columns = [\"Created Date\", \"Neighborhood\", \"Price\"]\n",
    "rent_df.sort_values(by=[\"Neighborhood\", \"Created Date\"])\n",
    "\n",
    "top5rents = rent_df.groupby([\"Neighborhood\"])['Price'].median().nlargest(n=5).index.tolist()\n",
    "bottom5rents = rent_df.groupby([\"Neighborhood\"])['Price'].median().nsmallest(n=5).index.tolist()\n",
    "bottom10rents = rent_df.groupby([\"Neighborhood\"])['Price'].median().nsmallest(n=10).index.tolist()\n"
   ]
  },
  {
   "cell_type": "code",
   "execution_count": 871,
   "id": "cardiac-skirt",
   "metadata": {},
   "outputs": [
    {
     "name": "stdout",
     "output_type": "stream",
     "text": [
      "['Borough Park', 'Bath Beach/Bensonhurst']\n",
      "['Canarsie', 'Vanderveer/Flatbush', 'Gravesend/Homecrest', 'Bath Beach/Bensonhurst', 'Borough Park']\n"
     ]
    }
   ],
   "source": [
    "print(list(set(bottom5rents) & set(bottom5noise_neighborhoods)))\n",
    "print(list(set(bottom10rents) & set(bottom10noise_neighborhoods)))"
   ]
  },
  {
   "cell_type": "code",
   "execution_count": 872,
   "id": "durable-marking",
   "metadata": {},
   "outputs": [
    {
     "data": {
      "text/plain": [
       "Created Date    datetime64[ns]\n",
       "Neighborhood            object\n",
       "Price                  float64\n",
       "dtype: object"
      ]
     },
     "execution_count": 872,
     "metadata": {},
     "output_type": "execute_result"
    }
   ],
   "source": [
    "rent_df['Created Date'] = pd.to_datetime(rent_df['Created Date'])\n",
    "# to corrspond to the 311 data frame\n",
    "rent_df['Created Date'] += pd.offsets.MonthEnd()\n",
    "rent_df.dtypes"
   ]
  },
  {
   "cell_type": "code",
   "execution_count": 873,
   "id": "dependent-customs",
   "metadata": {},
   "outputs": [],
   "source": [
    "extreme_rent_df = rent_df[rent_df['Neighborhood'].isin(bottom5rents+top5rents)]\n",
    "high_rent_df = rent_df[rent_df['Neighborhood'].isin(top5rents)]\n",
    "low_rent_df = rent_df[rent_df['Neighborhood'].isin(bottom5rents)]\n"
   ]
  },
  {
   "cell_type": "code",
   "execution_count": 874,
   "id": "specific-homeless",
   "metadata": {},
   "outputs": [
    {
     "data": {
      "application/vnd.plotly.v1+json": {
       "config": {
        "plotlyServerURL": "https://plot.ly"
       },
       "data": [
        {
         "hovertemplate": "Neighborhood=Borough Park<br>Date=%{x}<br>Price=%{y}<extra></extra>",
         "legendgroup": "Borough Park",
         "line": {
          "color": "#636efa",
          "dash": "solid"
         },
         "marker": {
          "symbol": "circle"
         },
         "mode": "lines",
         "name": "Borough Park",
         "showlegend": true,
         "type": "scattergl",
         "x": [
          "2010-01-31T00:00:00",
          "2010-02-28T00:00:00",
          "2010-03-31T00:00:00",
          "2010-04-30T00:00:00",
          "2010-05-31T00:00:00",
          "2010-06-30T00:00:00",
          "2010-07-31T00:00:00",
          "2010-08-31T00:00:00",
          "2010-09-30T00:00:00",
          "2010-10-31T00:00:00",
          "2010-11-30T00:00:00",
          "2010-12-31T00:00:00",
          "2011-01-31T00:00:00",
          "2011-02-28T00:00:00",
          "2011-03-31T00:00:00",
          "2011-04-30T00:00:00",
          "2011-05-31T00:00:00",
          "2011-06-30T00:00:00",
          "2011-07-31T00:00:00",
          "2011-08-31T00:00:00",
          "2011-09-30T00:00:00",
          "2011-10-31T00:00:00",
          "2011-11-30T00:00:00",
          "2011-12-31T00:00:00",
          "2012-01-31T00:00:00",
          "2012-02-29T00:00:00",
          "2012-03-31T00:00:00",
          "2012-04-30T00:00:00",
          "2012-05-31T00:00:00",
          "2012-06-30T00:00:00",
          "2012-07-31T00:00:00",
          "2012-08-31T00:00:00",
          "2012-09-30T00:00:00",
          "2012-10-31T00:00:00",
          "2012-11-30T00:00:00",
          "2012-12-31T00:00:00",
          "2013-01-31T00:00:00",
          "2013-02-28T00:00:00",
          "2013-03-31T00:00:00",
          "2013-04-30T00:00:00",
          "2013-05-31T00:00:00",
          "2013-06-30T00:00:00",
          "2013-07-31T00:00:00",
          "2013-08-31T00:00:00",
          "2013-09-30T00:00:00",
          "2013-10-31T00:00:00",
          "2013-11-30T00:00:00",
          "2013-12-31T00:00:00",
          "2014-01-31T00:00:00",
          "2014-02-28T00:00:00",
          "2014-03-31T00:00:00",
          "2014-04-30T00:00:00",
          "2014-05-31T00:00:00",
          "2014-06-30T00:00:00",
          "2014-07-31T00:00:00",
          "2014-08-31T00:00:00",
          "2014-09-30T00:00:00",
          "2014-10-31T00:00:00",
          "2014-11-30T00:00:00",
          "2014-12-31T00:00:00",
          "2015-01-31T00:00:00",
          "2015-02-28T00:00:00",
          "2015-03-31T00:00:00",
          "2015-04-30T00:00:00",
          "2015-05-31T00:00:00",
          "2015-06-30T00:00:00",
          "2015-07-31T00:00:00",
          "2015-08-31T00:00:00",
          "2015-09-30T00:00:00",
          "2015-10-31T00:00:00",
          "2015-11-30T00:00:00",
          "2015-12-31T00:00:00",
          "2016-01-31T00:00:00",
          "2016-02-29T00:00:00",
          "2016-03-31T00:00:00",
          "2016-04-30T00:00:00",
          "2016-05-31T00:00:00",
          "2016-06-30T00:00:00",
          "2016-07-31T00:00:00",
          "2016-08-31T00:00:00",
          "2016-09-30T00:00:00",
          "2016-10-31T00:00:00",
          "2016-11-30T00:00:00",
          "2016-12-31T00:00:00",
          "2017-01-31T00:00:00",
          "2017-02-28T00:00:00",
          "2017-03-31T00:00:00",
          "2017-04-30T00:00:00",
          "2017-05-31T00:00:00",
          "2017-06-30T00:00:00",
          "2017-07-31T00:00:00",
          "2017-08-31T00:00:00",
          "2017-09-30T00:00:00",
          "2017-10-31T00:00:00",
          "2017-11-30T00:00:00",
          "2017-12-31T00:00:00",
          "2018-01-31T00:00:00",
          "2018-02-28T00:00:00",
          "2018-03-31T00:00:00",
          "2018-04-30T00:00:00",
          "2018-05-31T00:00:00",
          "2018-06-30T00:00:00",
          "2018-07-31T00:00:00",
          "2018-08-31T00:00:00",
          "2018-09-30T00:00:00",
          "2018-10-31T00:00:00",
          "2018-11-30T00:00:00",
          "2018-12-31T00:00:00",
          "2019-01-31T00:00:00",
          "2019-02-28T00:00:00",
          "2019-03-31T00:00:00",
          "2019-04-30T00:00:00",
          "2019-05-31T00:00:00",
          "2019-06-30T00:00:00",
          "2019-07-31T00:00:00",
          "2019-08-31T00:00:00",
          "2019-09-30T00:00:00",
          "2019-10-31T00:00:00",
          "2019-11-30T00:00:00",
          "2019-12-31T00:00:00",
          "2020-01-31T00:00:00",
          "2020-02-29T00:00:00",
          "2020-03-31T00:00:00",
          "2020-04-30T00:00:00",
          "2020-05-31T00:00:00",
          "2020-06-30T00:00:00",
          "2020-07-31T00:00:00",
          "2020-08-31T00:00:00",
          "2020-09-30T00:00:00",
          "2020-10-31T00:00:00",
          "2020-11-30T00:00:00",
          "2020-12-31T00:00:00",
          "2021-01-31T00:00:00",
          "2021-02-28T00:00:00",
          "2021-03-31T00:00:00",
          "2021-04-30T00:00:00",
          "2021-05-31T00:00:00",
          "2021-06-30T00:00:00",
          "2021-07-31T00:00:00",
          "2021-08-31T00:00:00"
         ],
         "xaxis": "x",
         "y": [
          null,
          null,
          null,
          null,
          null,
          null,
          null,
          null,
          null,
          null,
          1175,
          1191.67,
          1208.33,
          1225,
          1200,
          1150,
          1175,
          1200,
          1225,
          1300,
          1291.67,
          1283.33,
          1275,
          1295.83,
          1316.67,
          1337.5,
          1358.33,
          1379.17,
          1400,
          1350,
          1300,
          1309.06,
          1318.12,
          1327.19,
          1336.25,
          1345.31,
          1354.38,
          1363.44,
          1372.5,
          1381.56,
          1390.62,
          1399.69,
          1408.75,
          1417.81,
          1426.88,
          1435.94,
          1445,
          1300,
          1475,
          1700,
          1750,
          1800,
          1700,
          1695,
          1690,
          1700,
          1690,
          1525,
          1500,
          1500,
          1550,
          1595,
          1595,
          1699,
          1625,
          1600,
          1573,
          1550,
          1799,
          1800,
          1725,
          1750,
          1595,
          1650,
          1700,
          1750,
          1750,
          1900,
          1900,
          1900,
          2083,
          1850,
          1825,
          2025,
          2030,
          1995,
          1750,
          1795,
          1700,
          1750,
          1738,
          1795,
          1788,
          1897,
          1800,
          1650,
          1660,
          1638,
          1750,
          1700,
          1750,
          1850,
          1885,
          1825,
          1800,
          1900,
          1875,
          1700,
          1850,
          1863,
          1875,
          1900,
          1875,
          1863,
          1898,
          1995,
          1949,
          2100,
          1950,
          1900,
          1850,
          1973,
          2098,
          1800,
          1857,
          1700,
          1754,
          1850,
          1795,
          1795,
          1799,
          1797,
          1799,
          1700,
          1700,
          1849,
          1800,
          1800,
          1849,
          1898
         ],
         "yaxis": "y"
        },
        {
         "hovertemplate": "Neighborhood=Brooklyn Heights<br>Date=%{x}<br>Price=%{y}<extra></extra>",
         "legendgroup": "Brooklyn Heights",
         "line": {
          "color": "#EF553B",
          "dash": "solid"
         },
         "marker": {
          "symbol": "circle"
         },
         "mode": "lines",
         "name": "Brooklyn Heights",
         "showlegend": true,
         "type": "scattergl",
         "x": [
          "2010-01-31T00:00:00",
          "2010-02-28T00:00:00",
          "2010-03-31T00:00:00",
          "2010-04-30T00:00:00",
          "2010-05-31T00:00:00",
          "2010-06-30T00:00:00",
          "2010-07-31T00:00:00",
          "2010-08-31T00:00:00",
          "2010-09-30T00:00:00",
          "2010-10-31T00:00:00",
          "2010-11-30T00:00:00",
          "2010-12-31T00:00:00",
          "2011-01-31T00:00:00",
          "2011-02-28T00:00:00",
          "2011-03-31T00:00:00",
          "2011-04-30T00:00:00",
          "2011-05-31T00:00:00",
          "2011-06-30T00:00:00",
          "2011-07-31T00:00:00",
          "2011-08-31T00:00:00",
          "2011-09-30T00:00:00",
          "2011-10-31T00:00:00",
          "2011-11-30T00:00:00",
          "2011-12-31T00:00:00",
          "2012-01-31T00:00:00",
          "2012-02-29T00:00:00",
          "2012-03-31T00:00:00",
          "2012-04-30T00:00:00",
          "2012-05-31T00:00:00",
          "2012-06-30T00:00:00",
          "2012-07-31T00:00:00",
          "2012-08-31T00:00:00",
          "2012-09-30T00:00:00",
          "2012-10-31T00:00:00",
          "2012-11-30T00:00:00",
          "2012-12-31T00:00:00",
          "2013-01-31T00:00:00",
          "2013-02-28T00:00:00",
          "2013-03-31T00:00:00",
          "2013-04-30T00:00:00",
          "2013-05-31T00:00:00",
          "2013-06-30T00:00:00",
          "2013-07-31T00:00:00",
          "2013-08-31T00:00:00",
          "2013-09-30T00:00:00",
          "2013-10-31T00:00:00",
          "2013-11-30T00:00:00",
          "2013-12-31T00:00:00",
          "2014-01-31T00:00:00",
          "2014-02-28T00:00:00",
          "2014-03-31T00:00:00",
          "2014-04-30T00:00:00",
          "2014-05-31T00:00:00",
          "2014-06-30T00:00:00",
          "2014-07-31T00:00:00",
          "2014-08-31T00:00:00",
          "2014-09-30T00:00:00",
          "2014-10-31T00:00:00",
          "2014-11-30T00:00:00",
          "2014-12-31T00:00:00",
          "2015-01-31T00:00:00",
          "2015-02-28T00:00:00",
          "2015-03-31T00:00:00",
          "2015-04-30T00:00:00",
          "2015-05-31T00:00:00",
          "2015-06-30T00:00:00",
          "2015-07-31T00:00:00",
          "2015-08-31T00:00:00",
          "2015-09-30T00:00:00",
          "2015-10-31T00:00:00",
          "2015-11-30T00:00:00",
          "2015-12-31T00:00:00",
          "2016-01-31T00:00:00",
          "2016-02-29T00:00:00",
          "2016-03-31T00:00:00",
          "2016-04-30T00:00:00",
          "2016-05-31T00:00:00",
          "2016-06-30T00:00:00",
          "2016-07-31T00:00:00",
          "2016-08-31T00:00:00",
          "2016-09-30T00:00:00",
          "2016-10-31T00:00:00",
          "2016-11-30T00:00:00",
          "2016-12-31T00:00:00",
          "2017-01-31T00:00:00",
          "2017-02-28T00:00:00",
          "2017-03-31T00:00:00",
          "2017-04-30T00:00:00",
          "2017-05-31T00:00:00",
          "2017-06-30T00:00:00",
          "2017-07-31T00:00:00",
          "2017-08-31T00:00:00",
          "2017-09-30T00:00:00",
          "2017-10-31T00:00:00",
          "2017-11-30T00:00:00",
          "2017-12-31T00:00:00",
          "2018-01-31T00:00:00",
          "2018-02-28T00:00:00",
          "2018-03-31T00:00:00",
          "2018-04-30T00:00:00",
          "2018-05-31T00:00:00",
          "2018-06-30T00:00:00",
          "2018-07-31T00:00:00",
          "2018-08-31T00:00:00",
          "2018-09-30T00:00:00",
          "2018-10-31T00:00:00",
          "2018-11-30T00:00:00",
          "2018-12-31T00:00:00",
          "2019-01-31T00:00:00",
          "2019-02-28T00:00:00",
          "2019-03-31T00:00:00",
          "2019-04-30T00:00:00",
          "2019-05-31T00:00:00",
          "2019-06-30T00:00:00",
          "2019-07-31T00:00:00",
          "2019-08-31T00:00:00",
          "2019-09-30T00:00:00",
          "2019-10-31T00:00:00",
          "2019-11-30T00:00:00",
          "2019-12-31T00:00:00",
          "2020-01-31T00:00:00",
          "2020-02-29T00:00:00",
          "2020-03-31T00:00:00",
          "2020-04-30T00:00:00",
          "2020-05-31T00:00:00",
          "2020-06-30T00:00:00",
          "2020-07-31T00:00:00",
          "2020-08-31T00:00:00",
          "2020-09-30T00:00:00",
          "2020-10-31T00:00:00",
          "2020-11-30T00:00:00",
          "2020-12-31T00:00:00",
          "2021-01-31T00:00:00",
          "2021-02-28T00:00:00",
          "2021-03-31T00:00:00",
          "2021-04-30T00:00:00",
          "2021-05-31T00:00:00",
          "2021-06-30T00:00:00",
          "2021-07-31T00:00:00",
          "2021-08-31T00:00:00"
         ],
         "xaxis": "x",
         "y": [
          2350,
          2300,
          2400,
          2200,
          2400,
          2250,
          2600,
          2900,
          3200,
          3400,
          2621,
          2633,
          2600,
          3050,
          3200,
          3150,
          2450,
          2825,
          2900,
          3000,
          3000,
          2963,
          2850,
          2700,
          2750,
          2700,
          2700,
          2500,
          2900,
          3125,
          3325,
          3500,
          3200,
          3200,
          2950,
          2738,
          2788,
          3000,
          3273,
          2912,
          3100,
          3092,
          3425,
          3340,
          3308,
          3200,
          3078,
          3020,
          3000,
          2900,
          2985,
          3000,
          3000,
          2800,
          2830,
          3000,
          2875,
          2945,
          3000,
          2850,
          2725,
          2898,
          2968,
          3050,
          2925,
          2950,
          3150,
          3260,
          3153,
          3195,
          3155,
          2850,
          3050,
          3300,
          3195,
          3000,
          3155,
          3150,
          3100,
          3160,
          3300,
          3200,
          3150,
          3400,
          3400,
          3250,
          3198,
          3175,
          3000,
          3100,
          3033,
          2985,
          2999,
          3100,
          3000,
          3100,
          3200,
          3053,
          2990,
          2808,
          2979,
          3100,
          3175,
          3250,
          3400,
          3300,
          3200,
          3250,
          3100,
          3215,
          3500,
          3500,
          3381,
          3505,
          3400,
          3626,
          3636,
          3690,
          3620,
          3605,
          3727,
          3540,
          3500,
          3754,
          3480,
          3200,
          3250,
          2971,
          2960,
          2850,
          2800,
          2816,
          2798,
          2795,
          2700,
          2800,
          2950,
          2900,
          2947,
          3100
         ],
         "yaxis": "y"
        },
        {
         "hovertemplate": "Neighborhood=Brownsville<br>Date=%{x}<br>Price=%{y}<extra></extra>",
         "legendgroup": "Brownsville",
         "line": {
          "color": "#00cc96",
          "dash": "solid"
         },
         "marker": {
          "symbol": "circle"
         },
         "mode": "lines",
         "name": "Brownsville",
         "showlegend": true,
         "type": "scattergl",
         "x": [
          "2010-01-31T00:00:00",
          "2010-02-28T00:00:00",
          "2010-03-31T00:00:00",
          "2010-04-30T00:00:00",
          "2010-05-31T00:00:00",
          "2010-06-30T00:00:00",
          "2010-07-31T00:00:00",
          "2010-08-31T00:00:00",
          "2010-09-30T00:00:00",
          "2010-10-31T00:00:00",
          "2010-11-30T00:00:00",
          "2010-12-31T00:00:00",
          "2011-01-31T00:00:00",
          "2011-02-28T00:00:00",
          "2011-03-31T00:00:00",
          "2011-04-30T00:00:00",
          "2011-05-31T00:00:00",
          "2011-06-30T00:00:00",
          "2011-07-31T00:00:00",
          "2011-08-31T00:00:00",
          "2011-09-30T00:00:00",
          "2011-10-31T00:00:00",
          "2011-11-30T00:00:00",
          "2011-12-31T00:00:00",
          "2012-01-31T00:00:00",
          "2012-02-29T00:00:00",
          "2012-03-31T00:00:00",
          "2012-04-30T00:00:00",
          "2012-05-31T00:00:00",
          "2012-06-30T00:00:00",
          "2012-07-31T00:00:00",
          "2012-08-31T00:00:00",
          "2012-09-30T00:00:00",
          "2012-10-31T00:00:00",
          "2012-11-30T00:00:00",
          "2012-12-31T00:00:00",
          "2013-01-31T00:00:00",
          "2013-02-28T00:00:00",
          "2013-03-31T00:00:00",
          "2013-04-30T00:00:00",
          "2013-05-31T00:00:00",
          "2013-06-30T00:00:00",
          "2013-07-31T00:00:00",
          "2013-08-31T00:00:00",
          "2013-09-30T00:00:00",
          "2013-10-31T00:00:00",
          "2013-11-30T00:00:00",
          "2013-12-31T00:00:00",
          "2014-01-31T00:00:00",
          "2014-02-28T00:00:00",
          "2014-03-31T00:00:00",
          "2014-04-30T00:00:00",
          "2014-05-31T00:00:00",
          "2014-06-30T00:00:00",
          "2014-07-31T00:00:00",
          "2014-08-31T00:00:00",
          "2014-09-30T00:00:00",
          "2014-10-31T00:00:00",
          "2014-11-30T00:00:00",
          "2014-12-31T00:00:00",
          "2015-01-31T00:00:00",
          "2015-02-28T00:00:00",
          "2015-03-31T00:00:00",
          "2015-04-30T00:00:00",
          "2015-05-31T00:00:00",
          "2015-06-30T00:00:00",
          "2015-07-31T00:00:00",
          "2015-08-31T00:00:00",
          "2015-09-30T00:00:00",
          "2015-10-31T00:00:00",
          "2015-11-30T00:00:00",
          "2015-12-31T00:00:00",
          "2016-01-31T00:00:00",
          "2016-02-29T00:00:00",
          "2016-03-31T00:00:00",
          "2016-04-30T00:00:00",
          "2016-05-31T00:00:00",
          "2016-06-30T00:00:00",
          "2016-07-31T00:00:00",
          "2016-08-31T00:00:00",
          "2016-09-30T00:00:00",
          "2016-10-31T00:00:00",
          "2016-11-30T00:00:00",
          "2016-12-31T00:00:00",
          "2017-01-31T00:00:00",
          "2017-02-28T00:00:00",
          "2017-03-31T00:00:00",
          "2017-04-30T00:00:00",
          "2017-05-31T00:00:00",
          "2017-06-30T00:00:00",
          "2017-07-31T00:00:00",
          "2017-08-31T00:00:00",
          "2017-09-30T00:00:00",
          "2017-10-31T00:00:00",
          "2017-11-30T00:00:00",
          "2017-12-31T00:00:00",
          "2018-01-31T00:00:00",
          "2018-02-28T00:00:00",
          "2018-03-31T00:00:00",
          "2018-04-30T00:00:00",
          "2018-05-31T00:00:00",
          "2018-06-30T00:00:00",
          "2018-07-31T00:00:00",
          "2018-08-31T00:00:00",
          "2018-09-30T00:00:00",
          "2018-10-31T00:00:00",
          "2018-11-30T00:00:00",
          "2018-12-31T00:00:00",
          "2019-01-31T00:00:00",
          "2019-02-28T00:00:00",
          "2019-03-31T00:00:00",
          "2019-04-30T00:00:00",
          "2019-05-31T00:00:00",
          "2019-06-30T00:00:00",
          "2019-07-31T00:00:00",
          "2019-08-31T00:00:00",
          "2019-09-30T00:00:00",
          "2019-10-31T00:00:00",
          "2019-11-30T00:00:00",
          "2019-12-31T00:00:00",
          "2020-01-31T00:00:00",
          "2020-02-29T00:00:00",
          "2020-03-31T00:00:00",
          "2020-04-30T00:00:00",
          "2020-05-31T00:00:00",
          "2020-06-30T00:00:00",
          "2020-07-31T00:00:00",
          "2020-08-31T00:00:00",
          "2020-09-30T00:00:00",
          "2020-10-31T00:00:00",
          "2020-11-30T00:00:00",
          "2020-12-31T00:00:00",
          "2021-01-31T00:00:00",
          "2021-02-28T00:00:00",
          "2021-03-31T00:00:00",
          "2021-04-30T00:00:00",
          "2021-05-31T00:00:00",
          "2021-06-30T00:00:00",
          "2021-07-31T00:00:00",
          "2021-08-31T00:00:00"
         ],
         "xaxis": "x",
         "y": [
          null,
          null,
          null,
          null,
          null,
          null,
          null,
          null,
          null,
          null,
          null,
          null,
          null,
          null,
          null,
          null,
          null,
          null,
          null,
          null,
          null,
          null,
          null,
          null,
          null,
          null,
          null,
          null,
          null,
          1350,
          1360.71,
          1371.43,
          1382.14,
          1392.86,
          1403.57,
          1414.29,
          1425,
          1450,
          1450,
          1450,
          1450,
          1450,
          1400,
          1500,
          1400,
          1295,
          1400,
          1312.5,
          1225,
          1325,
          1350,
          1300,
          1300,
          1375,
          1375,
          1400,
          1350,
          1350,
          1500,
          1400,
          1313,
          1313,
          1360,
          1400,
          1500,
          1500,
          1500,
          1500,
          1600,
          1599,
          1500,
          1613,
          1600,
          1600,
          1608,
          1600,
          1500,
          1700,
          1650,
          1695,
          1695,
          1650,
          1650,
          1700,
          1750,
          1750,
          1700,
          1800,
          1750,
          1800,
          1800,
          1700,
          1700,
          1795,
          1750,
          1698,
          1700,
          1725,
          1800,
          1750,
          1795,
          1800,
          1850,
          1850,
          1875,
          1950,
          1925,
          1925,
          2100,
          2100,
          2100,
          1950,
          2100,
          2325,
          1997,
          1900,
          2000,
          2000,
          1973,
          2000,
          2000,
          1987,
          2000,
          1843,
          1868,
          1888,
          1925,
          2314,
          2295,
          1908,
          2150,
          2200,
          2000,
          1850,
          1995,
          1900,
          1900,
          1900,
          2100,
          2050
         ],
         "yaxis": "y"
        },
        {
         "hovertemplate": "Neighborhood=Cobble Hill<br>Date=%{x}<br>Price=%{y}<extra></extra>",
         "legendgroup": "Cobble Hill",
         "line": {
          "color": "#ab63fa",
          "dash": "solid"
         },
         "marker": {
          "symbol": "circle"
         },
         "mode": "lines",
         "name": "Cobble Hill",
         "showlegend": true,
         "type": "scattergl",
         "x": [
          "2010-01-31T00:00:00",
          "2010-02-28T00:00:00",
          "2010-03-31T00:00:00",
          "2010-04-30T00:00:00",
          "2010-05-31T00:00:00",
          "2010-06-30T00:00:00",
          "2010-07-31T00:00:00",
          "2010-08-31T00:00:00",
          "2010-09-30T00:00:00",
          "2010-10-31T00:00:00",
          "2010-11-30T00:00:00",
          "2010-12-31T00:00:00",
          "2011-01-31T00:00:00",
          "2011-02-28T00:00:00",
          "2011-03-31T00:00:00",
          "2011-04-30T00:00:00",
          "2011-05-31T00:00:00",
          "2011-06-30T00:00:00",
          "2011-07-31T00:00:00",
          "2011-08-31T00:00:00",
          "2011-09-30T00:00:00",
          "2011-10-31T00:00:00",
          "2011-11-30T00:00:00",
          "2011-12-31T00:00:00",
          "2012-01-31T00:00:00",
          "2012-02-29T00:00:00",
          "2012-03-31T00:00:00",
          "2012-04-30T00:00:00",
          "2012-05-31T00:00:00",
          "2012-06-30T00:00:00",
          "2012-07-31T00:00:00",
          "2012-08-31T00:00:00",
          "2012-09-30T00:00:00",
          "2012-10-31T00:00:00",
          "2012-11-30T00:00:00",
          "2012-12-31T00:00:00",
          "2013-01-31T00:00:00",
          "2013-02-28T00:00:00",
          "2013-03-31T00:00:00",
          "2013-04-30T00:00:00",
          "2013-05-31T00:00:00",
          "2013-06-30T00:00:00",
          "2013-07-31T00:00:00",
          "2013-08-31T00:00:00",
          "2013-09-30T00:00:00",
          "2013-10-31T00:00:00",
          "2013-11-30T00:00:00",
          "2013-12-31T00:00:00",
          "2014-01-31T00:00:00",
          "2014-02-28T00:00:00",
          "2014-03-31T00:00:00",
          "2014-04-30T00:00:00",
          "2014-05-31T00:00:00",
          "2014-06-30T00:00:00",
          "2014-07-31T00:00:00",
          "2014-08-31T00:00:00",
          "2014-09-30T00:00:00",
          "2014-10-31T00:00:00",
          "2014-11-30T00:00:00",
          "2014-12-31T00:00:00",
          "2015-01-31T00:00:00",
          "2015-02-28T00:00:00",
          "2015-03-31T00:00:00",
          "2015-04-30T00:00:00",
          "2015-05-31T00:00:00",
          "2015-06-30T00:00:00",
          "2015-07-31T00:00:00",
          "2015-08-31T00:00:00",
          "2015-09-30T00:00:00",
          "2015-10-31T00:00:00",
          "2015-11-30T00:00:00",
          "2015-12-31T00:00:00",
          "2016-01-31T00:00:00",
          "2016-02-29T00:00:00",
          "2016-03-31T00:00:00",
          "2016-04-30T00:00:00",
          "2016-05-31T00:00:00",
          "2016-06-30T00:00:00",
          "2016-07-31T00:00:00",
          "2016-08-31T00:00:00",
          "2016-09-30T00:00:00",
          "2016-10-31T00:00:00",
          "2016-11-30T00:00:00",
          "2016-12-31T00:00:00",
          "2017-01-31T00:00:00",
          "2017-02-28T00:00:00",
          "2017-03-31T00:00:00",
          "2017-04-30T00:00:00",
          "2017-05-31T00:00:00",
          "2017-06-30T00:00:00",
          "2017-07-31T00:00:00",
          "2017-08-31T00:00:00",
          "2017-09-30T00:00:00",
          "2017-10-31T00:00:00",
          "2017-11-30T00:00:00",
          "2017-12-31T00:00:00",
          "2018-01-31T00:00:00",
          "2018-02-28T00:00:00",
          "2018-03-31T00:00:00",
          "2018-04-30T00:00:00",
          "2018-05-31T00:00:00",
          "2018-06-30T00:00:00",
          "2018-07-31T00:00:00",
          "2018-08-31T00:00:00",
          "2018-09-30T00:00:00",
          "2018-10-31T00:00:00",
          "2018-11-30T00:00:00",
          "2018-12-31T00:00:00",
          "2019-01-31T00:00:00",
          "2019-02-28T00:00:00",
          "2019-03-31T00:00:00",
          "2019-04-30T00:00:00",
          "2019-05-31T00:00:00",
          "2019-06-30T00:00:00",
          "2019-07-31T00:00:00",
          "2019-08-31T00:00:00",
          "2019-09-30T00:00:00",
          "2019-10-31T00:00:00",
          "2019-11-30T00:00:00",
          "2019-12-31T00:00:00",
          "2020-01-31T00:00:00",
          "2020-02-29T00:00:00",
          "2020-03-31T00:00:00",
          "2020-04-30T00:00:00",
          "2020-05-31T00:00:00",
          "2020-06-30T00:00:00",
          "2020-07-31T00:00:00",
          "2020-08-31T00:00:00",
          "2020-09-30T00:00:00",
          "2020-10-31T00:00:00",
          "2020-11-30T00:00:00",
          "2020-12-31T00:00:00",
          "2021-01-31T00:00:00",
          "2021-02-28T00:00:00",
          "2021-03-31T00:00:00",
          "2021-04-30T00:00:00",
          "2021-05-31T00:00:00",
          "2021-06-30T00:00:00",
          "2021-07-31T00:00:00",
          "2021-08-31T00:00:00"
         ],
         "xaxis": "x",
         "y": [
          1900,
          2350,
          2225,
          2340,
          2400,
          2340,
          2450,
          2525,
          2600,
          2600,
          2625,
          2600,
          2500,
          2450,
          2500,
          2900,
          2835,
          2750,
          2750,
          3100,
          3235,
          3050,
          3150,
          3200,
          3000,
          2900,
          3100,
          2850,
          2795,
          2590,
          3025,
          3200,
          3000,
          2895,
          3150,
          3200,
          3000,
          2875,
          2850,
          3100,
          3100,
          3700,
          3400,
          3200,
          3100,
          3050,
          2923,
          2800,
          2950,
          3050,
          2900,
          2800,
          3100,
          3500,
          3330,
          3300,
          3100,
          3100,
          3100,
          3175,
          3100,
          2973,
          2995,
          3150,
          3150,
          3000,
          3200,
          3325,
          3300,
          3275,
          3200,
          3200,
          3210,
          3125,
          3150,
          3150,
          3275,
          3250,
          3100,
          3250,
          3050,
          3150,
          2995,
          2848,
          2756,
          2815,
          2750,
          2688,
          3000,
          2973,
          3000,
          3250,
          3199,
          3200,
          3050,
          3000,
          3082,
          2950,
          2925,
          3100,
          3163,
          3176,
          3313,
          3350,
          3400,
          3125,
          3200,
          3198,
          3200,
          3250,
          3198,
          3140,
          3140,
          3300,
          3631,
          3800,
          3650,
          3575,
          3400,
          3640,
          3125,
          3400,
          3350,
          3500,
          3350,
          3200,
          3000,
          2915,
          2888,
          2800,
          2800,
          2850,
          2800,
          2725,
          2850,
          2600,
          2800,
          2725,
          2950,
          3200
         ],
         "yaxis": "y"
        },
        {
         "hovertemplate": "Neighborhood=DUMBO<br>Date=%{x}<br>Price=%{y}<extra></extra>",
         "legendgroup": "DUMBO",
         "line": {
          "color": "#FFA15A",
          "dash": "solid"
         },
         "marker": {
          "symbol": "circle"
         },
         "mode": "lines",
         "name": "DUMBO",
         "showlegend": true,
         "type": "scattergl",
         "x": [
          "2010-01-31T00:00:00",
          "2010-02-28T00:00:00",
          "2010-03-31T00:00:00",
          "2010-04-30T00:00:00",
          "2010-05-31T00:00:00",
          "2010-06-30T00:00:00",
          "2010-07-31T00:00:00",
          "2010-08-31T00:00:00",
          "2010-09-30T00:00:00",
          "2010-10-31T00:00:00",
          "2010-11-30T00:00:00",
          "2010-12-31T00:00:00",
          "2011-01-31T00:00:00",
          "2011-02-28T00:00:00",
          "2011-03-31T00:00:00",
          "2011-04-30T00:00:00",
          "2011-05-31T00:00:00",
          "2011-06-30T00:00:00",
          "2011-07-31T00:00:00",
          "2011-08-31T00:00:00",
          "2011-09-30T00:00:00",
          "2011-10-31T00:00:00",
          "2011-11-30T00:00:00",
          "2011-12-31T00:00:00",
          "2012-01-31T00:00:00",
          "2012-02-29T00:00:00",
          "2012-03-31T00:00:00",
          "2012-04-30T00:00:00",
          "2012-05-31T00:00:00",
          "2012-06-30T00:00:00",
          "2012-07-31T00:00:00",
          "2012-08-31T00:00:00",
          "2012-09-30T00:00:00",
          "2012-10-31T00:00:00",
          "2012-11-30T00:00:00",
          "2012-12-31T00:00:00",
          "2013-01-31T00:00:00",
          "2013-02-28T00:00:00",
          "2013-03-31T00:00:00",
          "2013-04-30T00:00:00",
          "2013-05-31T00:00:00",
          "2013-06-30T00:00:00",
          "2013-07-31T00:00:00",
          "2013-08-31T00:00:00",
          "2013-09-30T00:00:00",
          "2013-10-31T00:00:00",
          "2013-11-30T00:00:00",
          "2013-12-31T00:00:00",
          "2014-01-31T00:00:00",
          "2014-02-28T00:00:00",
          "2014-03-31T00:00:00",
          "2014-04-30T00:00:00",
          "2014-05-31T00:00:00",
          "2014-06-30T00:00:00",
          "2014-07-31T00:00:00",
          "2014-08-31T00:00:00",
          "2014-09-30T00:00:00",
          "2014-10-31T00:00:00",
          "2014-11-30T00:00:00",
          "2014-12-31T00:00:00",
          "2015-01-31T00:00:00",
          "2015-02-28T00:00:00",
          "2015-03-31T00:00:00",
          "2015-04-30T00:00:00",
          "2015-05-31T00:00:00",
          "2015-06-30T00:00:00",
          "2015-07-31T00:00:00",
          "2015-08-31T00:00:00",
          "2015-09-30T00:00:00",
          "2015-10-31T00:00:00",
          "2015-11-30T00:00:00",
          "2015-12-31T00:00:00",
          "2016-01-31T00:00:00",
          "2016-02-29T00:00:00",
          "2016-03-31T00:00:00",
          "2016-04-30T00:00:00",
          "2016-05-31T00:00:00",
          "2016-06-30T00:00:00",
          "2016-07-31T00:00:00",
          "2016-08-31T00:00:00",
          "2016-09-30T00:00:00",
          "2016-10-31T00:00:00",
          "2016-11-30T00:00:00",
          "2016-12-31T00:00:00",
          "2017-01-31T00:00:00",
          "2017-02-28T00:00:00",
          "2017-03-31T00:00:00",
          "2017-04-30T00:00:00",
          "2017-05-31T00:00:00",
          "2017-06-30T00:00:00",
          "2017-07-31T00:00:00",
          "2017-08-31T00:00:00",
          "2017-09-30T00:00:00",
          "2017-10-31T00:00:00",
          "2017-11-30T00:00:00",
          "2017-12-31T00:00:00",
          "2018-01-31T00:00:00",
          "2018-02-28T00:00:00",
          "2018-03-31T00:00:00",
          "2018-04-30T00:00:00",
          "2018-05-31T00:00:00",
          "2018-06-30T00:00:00",
          "2018-07-31T00:00:00",
          "2018-08-31T00:00:00",
          "2018-09-30T00:00:00",
          "2018-10-31T00:00:00",
          "2018-11-30T00:00:00",
          "2018-12-31T00:00:00",
          "2019-01-31T00:00:00",
          "2019-02-28T00:00:00",
          "2019-03-31T00:00:00",
          "2019-04-30T00:00:00",
          "2019-05-31T00:00:00",
          "2019-06-30T00:00:00",
          "2019-07-31T00:00:00",
          "2019-08-31T00:00:00",
          "2019-09-30T00:00:00",
          "2019-10-31T00:00:00",
          "2019-11-30T00:00:00",
          "2019-12-31T00:00:00",
          "2020-01-31T00:00:00",
          "2020-02-29T00:00:00",
          "2020-03-31T00:00:00",
          "2020-04-30T00:00:00",
          "2020-05-31T00:00:00",
          "2020-06-30T00:00:00",
          "2020-07-31T00:00:00",
          "2020-08-31T00:00:00",
          "2020-09-30T00:00:00",
          "2020-10-31T00:00:00",
          "2020-11-30T00:00:00",
          "2020-12-31T00:00:00",
          "2021-01-31T00:00:00",
          "2021-02-28T00:00:00",
          "2021-03-31T00:00:00",
          "2021-04-30T00:00:00",
          "2021-05-31T00:00:00",
          "2021-06-30T00:00:00",
          "2021-07-31T00:00:00",
          "2021-08-31T00:00:00"
         ],
         "xaxis": "x",
         "y": [
          3275,
          3200,
          2800,
          2875,
          2800,
          2950,
          3400,
          3825,
          4200,
          4150,
          4250,
          4200,
          4100,
          3950,
          3550,
          3650,
          3475,
          4000,
          4150,
          4000,
          4000,
          4000,
          4000,
          3775,
          4200,
          4200,
          4250,
          3500,
          3650,
          3700,
          4100,
          4300,
          4300,
          4300,
          4350,
          4100,
          4100,
          3500,
          3650,
          4200,
          4025,
          3800,
          3775,
          3938,
          3850,
          3650,
          3800,
          3773,
          4000,
          3888,
          4000,
          4000,
          4100,
          4175,
          4173,
          4250,
          4227,
          4300,
          4217,
          4100,
          3900,
          3943,
          4400,
          3950,
          3925,
          4100,
          4145,
          4373,
          4500,
          4350,
          4488,
          4525,
          4250,
          4100,
          4100,
          4300,
          4925,
          4800,
          4800,
          4370,
          4370,
          4550,
          4700,
          4400,
          4498,
          4750,
          4587,
          4473,
          4495,
          4495,
          4500,
          4250,
          4498,
          4375,
          4500,
          4431,
          4225,
          4148,
          4200,
          3918,
          4245,
          4500,
          4246,
          4649,
          4223,
          4745,
          4973,
          4984,
          4564,
          4333,
          4650,
          4498,
          4495,
          4613,
          4875,
          4964,
          4750,
          4500,
          4895,
          4980,
          4973,
          5152,
          4850,
          4600,
          4500,
          4498,
          4496,
          4250,
          4500,
          4495,
          4495,
          4095,
          4000,
          3900,
          3900,
          4150,
          4150,
          4225,
          4500,
          4745
         ],
         "yaxis": "y"
        },
        {
         "hovertemplate": "Neighborhood=Downtown Brooklyn<br>Date=%{x}<br>Price=%{y}<extra></extra>",
         "legendgroup": "Downtown Brooklyn",
         "line": {
          "color": "#19d3f3",
          "dash": "solid"
         },
         "marker": {
          "symbol": "circle"
         },
         "mode": "lines",
         "name": "Downtown Brooklyn",
         "showlegend": true,
         "type": "scattergl",
         "x": [
          "2010-01-31T00:00:00",
          "2010-02-28T00:00:00",
          "2010-03-31T00:00:00",
          "2010-04-30T00:00:00",
          "2010-05-31T00:00:00",
          "2010-06-30T00:00:00",
          "2010-07-31T00:00:00",
          "2010-08-31T00:00:00",
          "2010-09-30T00:00:00",
          "2010-10-31T00:00:00",
          "2010-11-30T00:00:00",
          "2010-12-31T00:00:00",
          "2011-01-31T00:00:00",
          "2011-02-28T00:00:00",
          "2011-03-31T00:00:00",
          "2011-04-30T00:00:00",
          "2011-05-31T00:00:00",
          "2011-06-30T00:00:00",
          "2011-07-31T00:00:00",
          "2011-08-31T00:00:00",
          "2011-09-30T00:00:00",
          "2011-10-31T00:00:00",
          "2011-11-30T00:00:00",
          "2011-12-31T00:00:00",
          "2012-01-31T00:00:00",
          "2012-02-29T00:00:00",
          "2012-03-31T00:00:00",
          "2012-04-30T00:00:00",
          "2012-05-31T00:00:00",
          "2012-06-30T00:00:00",
          "2012-07-31T00:00:00",
          "2012-08-31T00:00:00",
          "2012-09-30T00:00:00",
          "2012-10-31T00:00:00",
          "2012-11-30T00:00:00",
          "2012-12-31T00:00:00",
          "2013-01-31T00:00:00",
          "2013-02-28T00:00:00",
          "2013-03-31T00:00:00",
          "2013-04-30T00:00:00",
          "2013-05-31T00:00:00",
          "2013-06-30T00:00:00",
          "2013-07-31T00:00:00",
          "2013-08-31T00:00:00",
          "2013-09-30T00:00:00",
          "2013-10-31T00:00:00",
          "2013-11-30T00:00:00",
          "2013-12-31T00:00:00",
          "2014-01-31T00:00:00",
          "2014-02-28T00:00:00",
          "2014-03-31T00:00:00",
          "2014-04-30T00:00:00",
          "2014-05-31T00:00:00",
          "2014-06-30T00:00:00",
          "2014-07-31T00:00:00",
          "2014-08-31T00:00:00",
          "2014-09-30T00:00:00",
          "2014-10-31T00:00:00",
          "2014-11-30T00:00:00",
          "2014-12-31T00:00:00",
          "2015-01-31T00:00:00",
          "2015-02-28T00:00:00",
          "2015-03-31T00:00:00",
          "2015-04-30T00:00:00",
          "2015-05-31T00:00:00",
          "2015-06-30T00:00:00",
          "2015-07-31T00:00:00",
          "2015-08-31T00:00:00",
          "2015-09-30T00:00:00",
          "2015-10-31T00:00:00",
          "2015-11-30T00:00:00",
          "2015-12-31T00:00:00",
          "2016-01-31T00:00:00",
          "2016-02-29T00:00:00",
          "2016-03-31T00:00:00",
          "2016-04-30T00:00:00",
          "2016-05-31T00:00:00",
          "2016-06-30T00:00:00",
          "2016-07-31T00:00:00",
          "2016-08-31T00:00:00",
          "2016-09-30T00:00:00",
          "2016-10-31T00:00:00",
          "2016-11-30T00:00:00",
          "2016-12-31T00:00:00",
          "2017-01-31T00:00:00",
          "2017-02-28T00:00:00",
          "2017-03-31T00:00:00",
          "2017-04-30T00:00:00",
          "2017-05-31T00:00:00",
          "2017-06-30T00:00:00",
          "2017-07-31T00:00:00",
          "2017-08-31T00:00:00",
          "2017-09-30T00:00:00",
          "2017-10-31T00:00:00",
          "2017-11-30T00:00:00",
          "2017-12-31T00:00:00",
          "2018-01-31T00:00:00",
          "2018-02-28T00:00:00",
          "2018-03-31T00:00:00",
          "2018-04-30T00:00:00",
          "2018-05-31T00:00:00",
          "2018-06-30T00:00:00",
          "2018-07-31T00:00:00",
          "2018-08-31T00:00:00",
          "2018-09-30T00:00:00",
          "2018-10-31T00:00:00",
          "2018-11-30T00:00:00",
          "2018-12-31T00:00:00",
          "2019-01-31T00:00:00",
          "2019-02-28T00:00:00",
          "2019-03-31T00:00:00",
          "2019-04-30T00:00:00",
          "2019-05-31T00:00:00",
          "2019-06-30T00:00:00",
          "2019-07-31T00:00:00",
          "2019-08-31T00:00:00",
          "2019-09-30T00:00:00",
          "2019-10-31T00:00:00",
          "2019-11-30T00:00:00",
          "2019-12-31T00:00:00",
          "2020-01-31T00:00:00",
          "2020-02-29T00:00:00",
          "2020-03-31T00:00:00",
          "2020-04-30T00:00:00",
          "2020-05-31T00:00:00",
          "2020-06-30T00:00:00",
          "2020-07-31T00:00:00",
          "2020-08-31T00:00:00",
          "2020-09-30T00:00:00",
          "2020-10-31T00:00:00",
          "2020-11-30T00:00:00",
          "2020-12-31T00:00:00",
          "2021-01-31T00:00:00",
          "2021-02-28T00:00:00",
          "2021-03-31T00:00:00",
          "2021-04-30T00:00:00",
          "2021-05-31T00:00:00",
          "2021-06-30T00:00:00",
          "2021-07-31T00:00:00",
          "2021-08-31T00:00:00"
         ],
         "xaxis": "x",
         "y": [
          2247,
          2227,
          2191,
          2250,
          2400,
          2472,
          2550,
          2569,
          2530,
          2505,
          2551,
          2500,
          2600,
          2498,
          2450,
          2495,
          2301,
          2424,
          2500,
          2520,
          2500,
          2500,
          2625,
          2698,
          2500,
          2443,
          2511,
          2452,
          2650,
          2800,
          2800,
          2835,
          2813,
          2800,
          2923,
          3000,
          3000,
          2925,
          2915,
          2900,
          2898,
          2880,
          2900,
          3000,
          2883,
          2905,
          2850,
          2900,
          2900,
          3000,
          2950,
          2895,
          2900,
          2948,
          3000,
          3095,
          3100,
          3170,
          3200,
          3165,
          3181,
          3230,
          3255,
          3228,
          3240,
          3205,
          3184,
          3184,
          3195,
          3185,
          3108,
          3115,
          3123,
          3103,
          3157,
          3161,
          3135,
          3175,
          3177,
          3162,
          3078,
          3093,
          3108,
          3058,
          3051,
          3132,
          3050,
          3131,
          3120,
          3145,
          3195,
          3235,
          3188,
          3195,
          3086,
          3150,
          3195,
          3278,
          3379,
          3465,
          3395,
          3407,
          3365,
          3400,
          3367,
          3345,
          3275,
          3390,
          3336,
          3299,
          3367,
          3480,
          3462,
          3500,
          3612,
          3645,
          3600,
          3500,
          3400,
          3366,
          3482,
          3440,
          3332,
          3193,
          3228,
          3250,
          3200,
          3050,
          2900,
          2888,
          2925,
          2995,
          3000,
          3000,
          3095,
          3275,
          3409,
          3627,
          3654,
          3949
         ],
         "yaxis": "y"
        },
        {
         "hovertemplate": "Neighborhood=Gravesend/Homecrest<br>Date=%{x}<br>Price=%{y}<extra></extra>",
         "legendgroup": "Gravesend/Homecrest",
         "line": {
          "color": "#FF6692",
          "dash": "solid"
         },
         "marker": {
          "symbol": "circle"
         },
         "mode": "lines",
         "name": "Gravesend/Homecrest",
         "showlegend": true,
         "type": "scattergl",
         "x": [
          "2010-01-31T00:00:00",
          "2010-02-28T00:00:00",
          "2010-03-31T00:00:00",
          "2010-04-30T00:00:00",
          "2010-05-31T00:00:00",
          "2010-06-30T00:00:00",
          "2010-07-31T00:00:00",
          "2010-08-31T00:00:00",
          "2010-09-30T00:00:00",
          "2010-10-31T00:00:00",
          "2010-11-30T00:00:00",
          "2010-12-31T00:00:00",
          "2011-01-31T00:00:00",
          "2011-02-28T00:00:00",
          "2011-03-31T00:00:00",
          "2011-04-30T00:00:00",
          "2011-05-31T00:00:00",
          "2011-06-30T00:00:00",
          "2011-07-31T00:00:00",
          "2011-08-31T00:00:00",
          "2011-09-30T00:00:00",
          "2011-10-31T00:00:00",
          "2011-11-30T00:00:00",
          "2011-12-31T00:00:00",
          "2012-01-31T00:00:00",
          "2012-02-29T00:00:00",
          "2012-03-31T00:00:00",
          "2012-04-30T00:00:00",
          "2012-05-31T00:00:00",
          "2012-06-30T00:00:00",
          "2012-07-31T00:00:00",
          "2012-08-31T00:00:00",
          "2012-09-30T00:00:00",
          "2012-10-31T00:00:00",
          "2012-11-30T00:00:00",
          "2012-12-31T00:00:00",
          "2013-01-31T00:00:00",
          "2013-02-28T00:00:00",
          "2013-03-31T00:00:00",
          "2013-04-30T00:00:00",
          "2013-05-31T00:00:00",
          "2013-06-30T00:00:00",
          "2013-07-31T00:00:00",
          "2013-08-31T00:00:00",
          "2013-09-30T00:00:00",
          "2013-10-31T00:00:00",
          "2013-11-30T00:00:00",
          "2013-12-31T00:00:00",
          "2014-01-31T00:00:00",
          "2014-02-28T00:00:00",
          "2014-03-31T00:00:00",
          "2014-04-30T00:00:00",
          "2014-05-31T00:00:00",
          "2014-06-30T00:00:00",
          "2014-07-31T00:00:00",
          "2014-08-31T00:00:00",
          "2014-09-30T00:00:00",
          "2014-10-31T00:00:00",
          "2014-11-30T00:00:00",
          "2014-12-31T00:00:00",
          "2015-01-31T00:00:00",
          "2015-02-28T00:00:00",
          "2015-03-31T00:00:00",
          "2015-04-30T00:00:00",
          "2015-05-31T00:00:00",
          "2015-06-30T00:00:00",
          "2015-07-31T00:00:00",
          "2015-08-31T00:00:00",
          "2015-09-30T00:00:00",
          "2015-10-31T00:00:00",
          "2015-11-30T00:00:00",
          "2015-12-31T00:00:00",
          "2016-01-31T00:00:00",
          "2016-02-29T00:00:00",
          "2016-03-31T00:00:00",
          "2016-04-30T00:00:00",
          "2016-05-31T00:00:00",
          "2016-06-30T00:00:00",
          "2016-07-31T00:00:00",
          "2016-08-31T00:00:00",
          "2016-09-30T00:00:00",
          "2016-10-31T00:00:00",
          "2016-11-30T00:00:00",
          "2016-12-31T00:00:00",
          "2017-01-31T00:00:00",
          "2017-02-28T00:00:00",
          "2017-03-31T00:00:00",
          "2017-04-30T00:00:00",
          "2017-05-31T00:00:00",
          "2017-06-30T00:00:00",
          "2017-07-31T00:00:00",
          "2017-08-31T00:00:00",
          "2017-09-30T00:00:00",
          "2017-10-31T00:00:00",
          "2017-11-30T00:00:00",
          "2017-12-31T00:00:00",
          "2018-01-31T00:00:00",
          "2018-02-28T00:00:00",
          "2018-03-31T00:00:00",
          "2018-04-30T00:00:00",
          "2018-05-31T00:00:00",
          "2018-06-30T00:00:00",
          "2018-07-31T00:00:00",
          "2018-08-31T00:00:00",
          "2018-09-30T00:00:00",
          "2018-10-31T00:00:00",
          "2018-11-30T00:00:00",
          "2018-12-31T00:00:00",
          "2019-01-31T00:00:00",
          "2019-02-28T00:00:00",
          "2019-03-31T00:00:00",
          "2019-04-30T00:00:00",
          "2019-05-31T00:00:00",
          "2019-06-30T00:00:00",
          "2019-07-31T00:00:00",
          "2019-08-31T00:00:00",
          "2019-09-30T00:00:00",
          "2019-10-31T00:00:00",
          "2019-11-30T00:00:00",
          "2019-12-31T00:00:00",
          "2020-01-31T00:00:00",
          "2020-02-29T00:00:00",
          "2020-03-31T00:00:00",
          "2020-04-30T00:00:00",
          "2020-05-31T00:00:00",
          "2020-06-30T00:00:00",
          "2020-07-31T00:00:00",
          "2020-08-31T00:00:00",
          "2020-09-30T00:00:00",
          "2020-10-31T00:00:00",
          "2020-11-30T00:00:00",
          "2020-12-31T00:00:00",
          "2021-01-31T00:00:00",
          "2021-02-28T00:00:00",
          "2021-03-31T00:00:00",
          "2021-04-30T00:00:00",
          "2021-05-31T00:00:00",
          "2021-06-30T00:00:00",
          "2021-07-31T00:00:00",
          "2021-08-31T00:00:00"
         ],
         "xaxis": "x",
         "y": [
          null,
          1519,
          1400,
          1388,
          1377.5,
          1367,
          1356.5,
          1346,
          1335.5,
          1325,
          1313,
          1300,
          1300,
          1275,
          1400,
          1425,
          1450,
          1475,
          1423,
          1498,
          1250,
          1359,
          1250,
          1275,
          1500,
          1445,
          1380,
          1315,
          1250,
          1410,
          1410,
          1500,
          1563,
          1250,
          1325,
          1495,
          1400,
          1375,
          1375,
          1413,
          1393,
          1400,
          1600,
          1700,
          1500,
          1550,
          1525,
          1500,
          1475,
          1450,
          1400,
          1400,
          1400,
          1400,
          1613,
          1716,
          1450,
          1495,
          1625,
          1600,
          1650,
          1688,
          1700,
          1700,
          1695,
          1625,
          1675,
          1700,
          1750,
          1750,
          1750,
          1675,
          1750,
          1725,
          1775,
          1850,
          1925,
          1985,
          1695,
          1775,
          1800,
          1825,
          1910,
          1773,
          1800,
          1895,
          1800,
          1800,
          1750,
          1800,
          1800,
          1713,
          1800,
          1710,
          1875,
          1735,
          1698,
          1700,
          1750,
          1799,
          1913,
          1799,
          1800,
          1850,
          1750,
          1950,
          1800,
          1725,
          1700,
          1713,
          1750,
          1750,
          1795,
          1742,
          1799,
          1799,
          1871,
          1900,
          1900,
          1800,
          1950,
          1950,
          1800,
          1770,
          1800,
          1800,
          1850,
          1800,
          1825,
          1776,
          1776,
          1700,
          1713,
          1750,
          1758,
          1750,
          1800,
          1800,
          1800,
          1820
         ],
         "yaxis": "y"
        },
        {
         "hovertemplate": "Neighborhood=Midwood<br>Date=%{x}<br>Price=%{y}<extra></extra>",
         "legendgroup": "Midwood",
         "line": {
          "color": "#B6E880",
          "dash": "solid"
         },
         "marker": {
          "symbol": "circle"
         },
         "mode": "lines",
         "name": "Midwood",
         "showlegend": true,
         "type": "scattergl",
         "x": [
          "2010-01-31T00:00:00",
          "2010-02-28T00:00:00",
          "2010-03-31T00:00:00",
          "2010-04-30T00:00:00",
          "2010-05-31T00:00:00",
          "2010-06-30T00:00:00",
          "2010-07-31T00:00:00",
          "2010-08-31T00:00:00",
          "2010-09-30T00:00:00",
          "2010-10-31T00:00:00",
          "2010-11-30T00:00:00",
          "2010-12-31T00:00:00",
          "2011-01-31T00:00:00",
          "2011-02-28T00:00:00",
          "2011-03-31T00:00:00",
          "2011-04-30T00:00:00",
          "2011-05-31T00:00:00",
          "2011-06-30T00:00:00",
          "2011-07-31T00:00:00",
          "2011-08-31T00:00:00",
          "2011-09-30T00:00:00",
          "2011-10-31T00:00:00",
          "2011-11-30T00:00:00",
          "2011-12-31T00:00:00",
          "2012-01-31T00:00:00",
          "2012-02-29T00:00:00",
          "2012-03-31T00:00:00",
          "2012-04-30T00:00:00",
          "2012-05-31T00:00:00",
          "2012-06-30T00:00:00",
          "2012-07-31T00:00:00",
          "2012-08-31T00:00:00",
          "2012-09-30T00:00:00",
          "2012-10-31T00:00:00",
          "2012-11-30T00:00:00",
          "2012-12-31T00:00:00",
          "2013-01-31T00:00:00",
          "2013-02-28T00:00:00",
          "2013-03-31T00:00:00",
          "2013-04-30T00:00:00",
          "2013-05-31T00:00:00",
          "2013-06-30T00:00:00",
          "2013-07-31T00:00:00",
          "2013-08-31T00:00:00",
          "2013-09-30T00:00:00",
          "2013-10-31T00:00:00",
          "2013-11-30T00:00:00",
          "2013-12-31T00:00:00",
          "2014-01-31T00:00:00",
          "2014-02-28T00:00:00",
          "2014-03-31T00:00:00",
          "2014-04-30T00:00:00",
          "2014-05-31T00:00:00",
          "2014-06-30T00:00:00",
          "2014-07-31T00:00:00",
          "2014-08-31T00:00:00",
          "2014-09-30T00:00:00",
          "2014-10-31T00:00:00",
          "2014-11-30T00:00:00",
          "2014-12-31T00:00:00",
          "2015-01-31T00:00:00",
          "2015-02-28T00:00:00",
          "2015-03-31T00:00:00",
          "2015-04-30T00:00:00",
          "2015-05-31T00:00:00",
          "2015-06-30T00:00:00",
          "2015-07-31T00:00:00",
          "2015-08-31T00:00:00",
          "2015-09-30T00:00:00",
          "2015-10-31T00:00:00",
          "2015-11-30T00:00:00",
          "2015-12-31T00:00:00",
          "2016-01-31T00:00:00",
          "2016-02-29T00:00:00",
          "2016-03-31T00:00:00",
          "2016-04-30T00:00:00",
          "2016-05-31T00:00:00",
          "2016-06-30T00:00:00",
          "2016-07-31T00:00:00",
          "2016-08-31T00:00:00",
          "2016-09-30T00:00:00",
          "2016-10-31T00:00:00",
          "2016-11-30T00:00:00",
          "2016-12-31T00:00:00",
          "2017-01-31T00:00:00",
          "2017-02-28T00:00:00",
          "2017-03-31T00:00:00",
          "2017-04-30T00:00:00",
          "2017-05-31T00:00:00",
          "2017-06-30T00:00:00",
          "2017-07-31T00:00:00",
          "2017-08-31T00:00:00",
          "2017-09-30T00:00:00",
          "2017-10-31T00:00:00",
          "2017-11-30T00:00:00",
          "2017-12-31T00:00:00",
          "2018-01-31T00:00:00",
          "2018-02-28T00:00:00",
          "2018-03-31T00:00:00",
          "2018-04-30T00:00:00",
          "2018-05-31T00:00:00",
          "2018-06-30T00:00:00",
          "2018-07-31T00:00:00",
          "2018-08-31T00:00:00",
          "2018-09-30T00:00:00",
          "2018-10-31T00:00:00",
          "2018-11-30T00:00:00",
          "2018-12-31T00:00:00",
          "2019-01-31T00:00:00",
          "2019-02-28T00:00:00",
          "2019-03-31T00:00:00",
          "2019-04-30T00:00:00",
          "2019-05-31T00:00:00",
          "2019-06-30T00:00:00",
          "2019-07-31T00:00:00",
          "2019-08-31T00:00:00",
          "2019-09-30T00:00:00",
          "2019-10-31T00:00:00",
          "2019-11-30T00:00:00",
          "2019-12-31T00:00:00",
          "2020-01-31T00:00:00",
          "2020-02-29T00:00:00",
          "2020-03-31T00:00:00",
          "2020-04-30T00:00:00",
          "2020-05-31T00:00:00",
          "2020-06-30T00:00:00",
          "2020-07-31T00:00:00",
          "2020-08-31T00:00:00",
          "2020-09-30T00:00:00",
          "2020-10-31T00:00:00",
          "2020-11-30T00:00:00",
          "2020-12-31T00:00:00",
          "2021-01-31T00:00:00",
          "2021-02-28T00:00:00",
          "2021-03-31T00:00:00",
          "2021-04-30T00:00:00",
          "2021-05-31T00:00:00",
          "2021-06-30T00:00:00",
          "2021-07-31T00:00:00",
          "2021-08-31T00:00:00"
         ],
         "xaxis": "x",
         "y": [
          1825,
          1850,
          1675,
          1725,
          1725,
          1725,
          1650,
          1525,
          1412.5,
          1300,
          1448,
          1300,
          1275,
          1349,
          1349,
          1399,
          1500,
          1500,
          1500,
          1500,
          1473,
          1500,
          1500,
          1400,
          1400,
          1300,
          1300,
          1400,
          1500,
          1450,
          1400,
          1375,
          1363,
          1300,
          1400,
          1350,
          1350,
          1300,
          1300,
          1500,
          1550,
          1575,
          1350,
          1400,
          1350,
          1400,
          1400,
          1350,
          1350,
          1350,
          1475,
          1525,
          1575,
          1595,
          1600,
          1600,
          1508,
          1533,
          1495,
          1495,
          1500,
          1525,
          1560,
          1550,
          1600,
          1700,
          1700,
          1799,
          1750,
          1750,
          1725,
          1700,
          1650,
          1763,
          1775,
          1850,
          1850,
          1897,
          1863,
          1825,
          1838,
          1725,
          1800,
          1830,
          1800,
          1825,
          1900,
          1888,
          1800,
          1850,
          1800,
          1750,
          1850,
          1787,
          1800,
          1700,
          1765,
          1750,
          1725,
          1750,
          1750,
          1750,
          1795,
          1850,
          1895,
          1815,
          1820,
          1799,
          1850,
          1847,
          1850,
          1899,
          1900,
          1875,
          1900,
          2075,
          1950,
          1975,
          2000,
          2100,
          2100,
          2050,
          2100,
          2077,
          2055,
          2000,
          1937,
          1950,
          1865,
          1850,
          1850,
          1850,
          1850,
          1795,
          1800,
          1850,
          1950,
          1995,
          1976,
          1975
         ],
         "yaxis": "y"
        },
        {
         "hovertemplate": "Neighborhood=Williamsburg<br>Date=%{x}<br>Price=%{y}<extra></extra>",
         "legendgroup": "Williamsburg",
         "line": {
          "color": "#FF97FF",
          "dash": "solid"
         },
         "marker": {
          "symbol": "circle"
         },
         "mode": "lines",
         "name": "Williamsburg",
         "showlegend": true,
         "type": "scattergl",
         "x": [
          "2010-01-31T00:00:00",
          "2010-02-28T00:00:00",
          "2010-03-31T00:00:00",
          "2010-04-30T00:00:00",
          "2010-05-31T00:00:00",
          "2010-06-30T00:00:00",
          "2010-07-31T00:00:00",
          "2010-08-31T00:00:00",
          "2010-09-30T00:00:00",
          "2010-10-31T00:00:00",
          "2010-11-30T00:00:00",
          "2010-12-31T00:00:00",
          "2011-01-31T00:00:00",
          "2011-02-28T00:00:00",
          "2011-03-31T00:00:00",
          "2011-04-30T00:00:00",
          "2011-05-31T00:00:00",
          "2011-06-30T00:00:00",
          "2011-07-31T00:00:00",
          "2011-08-31T00:00:00",
          "2011-09-30T00:00:00",
          "2011-10-31T00:00:00",
          "2011-11-30T00:00:00",
          "2011-12-31T00:00:00",
          "2012-01-31T00:00:00",
          "2012-02-29T00:00:00",
          "2012-03-31T00:00:00",
          "2012-04-30T00:00:00",
          "2012-05-31T00:00:00",
          "2012-06-30T00:00:00",
          "2012-07-31T00:00:00",
          "2012-08-31T00:00:00",
          "2012-09-30T00:00:00",
          "2012-10-31T00:00:00",
          "2012-11-30T00:00:00",
          "2012-12-31T00:00:00",
          "2013-01-31T00:00:00",
          "2013-02-28T00:00:00",
          "2013-03-31T00:00:00",
          "2013-04-30T00:00:00",
          "2013-05-31T00:00:00",
          "2013-06-30T00:00:00",
          "2013-07-31T00:00:00",
          "2013-08-31T00:00:00",
          "2013-09-30T00:00:00",
          "2013-10-31T00:00:00",
          "2013-11-30T00:00:00",
          "2013-12-31T00:00:00",
          "2014-01-31T00:00:00",
          "2014-02-28T00:00:00",
          "2014-03-31T00:00:00",
          "2014-04-30T00:00:00",
          "2014-05-31T00:00:00",
          "2014-06-30T00:00:00",
          "2014-07-31T00:00:00",
          "2014-08-31T00:00:00",
          "2014-09-30T00:00:00",
          "2014-10-31T00:00:00",
          "2014-11-30T00:00:00",
          "2014-12-31T00:00:00",
          "2015-01-31T00:00:00",
          "2015-02-28T00:00:00",
          "2015-03-31T00:00:00",
          "2015-04-30T00:00:00",
          "2015-05-31T00:00:00",
          "2015-06-30T00:00:00",
          "2015-07-31T00:00:00",
          "2015-08-31T00:00:00",
          "2015-09-30T00:00:00",
          "2015-10-31T00:00:00",
          "2015-11-30T00:00:00",
          "2015-12-31T00:00:00",
          "2016-01-31T00:00:00",
          "2016-02-29T00:00:00",
          "2016-03-31T00:00:00",
          "2016-04-30T00:00:00",
          "2016-05-31T00:00:00",
          "2016-06-30T00:00:00",
          "2016-07-31T00:00:00",
          "2016-08-31T00:00:00",
          "2016-09-30T00:00:00",
          "2016-10-31T00:00:00",
          "2016-11-30T00:00:00",
          "2016-12-31T00:00:00",
          "2017-01-31T00:00:00",
          "2017-02-28T00:00:00",
          "2017-03-31T00:00:00",
          "2017-04-30T00:00:00",
          "2017-05-31T00:00:00",
          "2017-06-30T00:00:00",
          "2017-07-31T00:00:00",
          "2017-08-31T00:00:00",
          "2017-09-30T00:00:00",
          "2017-10-31T00:00:00",
          "2017-11-30T00:00:00",
          "2017-12-31T00:00:00",
          "2018-01-31T00:00:00",
          "2018-02-28T00:00:00",
          "2018-03-31T00:00:00",
          "2018-04-30T00:00:00",
          "2018-05-31T00:00:00",
          "2018-06-30T00:00:00",
          "2018-07-31T00:00:00",
          "2018-08-31T00:00:00",
          "2018-09-30T00:00:00",
          "2018-10-31T00:00:00",
          "2018-11-30T00:00:00",
          "2018-12-31T00:00:00",
          "2019-01-31T00:00:00",
          "2019-02-28T00:00:00",
          "2019-03-31T00:00:00",
          "2019-04-30T00:00:00",
          "2019-05-31T00:00:00",
          "2019-06-30T00:00:00",
          "2019-07-31T00:00:00",
          "2019-08-31T00:00:00",
          "2019-09-30T00:00:00",
          "2019-10-31T00:00:00",
          "2019-11-30T00:00:00",
          "2019-12-31T00:00:00",
          "2020-01-31T00:00:00",
          "2020-02-29T00:00:00",
          "2020-03-31T00:00:00",
          "2020-04-30T00:00:00",
          "2020-05-31T00:00:00",
          "2020-06-30T00:00:00",
          "2020-07-31T00:00:00",
          "2020-08-31T00:00:00",
          "2020-09-30T00:00:00",
          "2020-10-31T00:00:00",
          "2020-11-30T00:00:00",
          "2020-12-31T00:00:00",
          "2021-01-31T00:00:00",
          "2021-02-28T00:00:00",
          "2021-03-31T00:00:00",
          "2021-04-30T00:00:00",
          "2021-05-31T00:00:00",
          "2021-06-30T00:00:00",
          "2021-07-31T00:00:00",
          "2021-08-31T00:00:00"
         ],
         "xaxis": "x",
         "y": [
          2500,
          2500,
          2500,
          2600,
          2625,
          2700,
          2775,
          2830,
          2900,
          2950,
          2800,
          2723,
          2800,
          2750,
          2763,
          2900,
          2900,
          2973,
          2900,
          2900,
          2973,
          3000,
          3000,
          2850,
          3032,
          3000,
          3000,
          3075,
          3150,
          3250,
          3200,
          3100,
          3325,
          3350,
          3350,
          3499,
          3400,
          3300,
          3200,
          3000,
          3150,
          3250,
          3200,
          3200,
          3195,
          3100,
          3100,
          2997,
          3000,
          3000,
          3071,
          3200,
          3200,
          3250,
          3250,
          3200,
          3200,
          3169,
          3050,
          3050,
          3050,
          3050,
          3070,
          3100,
          3150,
          3300,
          3385,
          3300,
          3207,
          3210,
          3250,
          3300,
          3275,
          3200,
          3100,
          3100,
          3195,
          3199,
          3195,
          3200,
          3150,
          3150,
          3100,
          3057,
          3000,
          3000,
          3050,
          3100,
          3142,
          3180,
          3115,
          3115,
          3100,
          3000,
          2966,
          2900,
          2900,
          2950,
          2950,
          2999,
          3000,
          3000,
          3000,
          3000,
          2999,
          2999,
          2900,
          2886,
          2986,
          3000,
          3000,
          3200,
          3299,
          3300,
          3437,
          3437,
          3500,
          3500,
          3600,
          3600,
          3500,
          3499,
          3499,
          3495,
          3300,
          3199,
          3150,
          3000,
          2900,
          2833,
          2800,
          2800,
          2790,
          2800,
          2800,
          2800,
          2850,
          3075,
          3400,
          3654
         ],
         "yaxis": "y"
        },
        {
         "hovertemplate": "Neighborhood=Bath Beach/Bensonhurst<br>Date=%{x}<br>Price=%{y}<extra></extra>",
         "legendgroup": "Bath Beach/Bensonhurst",
         "line": {
          "color": "#FECB52",
          "dash": "solid"
         },
         "marker": {
          "symbol": "circle"
         },
         "mode": "lines",
         "name": "Bath Beach/Bensonhurst",
         "showlegend": true,
         "type": "scattergl",
         "x": [
          "2010-01-31T00:00:00",
          "2010-02-28T00:00:00",
          "2010-03-31T00:00:00",
          "2010-04-30T00:00:00",
          "2010-05-31T00:00:00",
          "2010-06-30T00:00:00",
          "2010-07-31T00:00:00",
          "2010-08-31T00:00:00",
          "2010-09-30T00:00:00",
          "2010-10-31T00:00:00",
          "2010-11-30T00:00:00",
          "2010-12-31T00:00:00",
          "2011-01-31T00:00:00",
          "2011-02-28T00:00:00",
          "2011-03-31T00:00:00",
          "2011-04-30T00:00:00",
          "2011-05-31T00:00:00",
          "2011-06-30T00:00:00",
          "2011-07-31T00:00:00",
          "2011-08-31T00:00:00",
          "2011-09-30T00:00:00",
          "2011-10-31T00:00:00",
          "2011-11-30T00:00:00",
          "2011-12-31T00:00:00",
          "2012-01-31T00:00:00",
          "2012-02-29T00:00:00",
          "2012-03-31T00:00:00",
          "2012-04-30T00:00:00",
          "2012-05-31T00:00:00",
          "2012-06-30T00:00:00",
          "2012-07-31T00:00:00",
          "2012-08-31T00:00:00",
          "2012-09-30T00:00:00",
          "2012-10-31T00:00:00",
          "2012-11-30T00:00:00",
          "2012-12-31T00:00:00",
          "2013-01-31T00:00:00",
          "2013-02-28T00:00:00",
          "2013-03-31T00:00:00",
          "2013-04-30T00:00:00",
          "2013-05-31T00:00:00",
          "2013-06-30T00:00:00",
          "2013-07-31T00:00:00",
          "2013-08-31T00:00:00",
          "2013-09-30T00:00:00",
          "2013-10-31T00:00:00",
          "2013-11-30T00:00:00",
          "2013-12-31T00:00:00",
          "2014-01-31T00:00:00",
          "2014-02-28T00:00:00",
          "2014-03-31T00:00:00",
          "2014-04-30T00:00:00",
          "2014-05-31T00:00:00",
          "2014-06-30T00:00:00",
          "2014-07-31T00:00:00",
          "2014-08-31T00:00:00",
          "2014-09-30T00:00:00",
          "2014-10-31T00:00:00",
          "2014-11-30T00:00:00",
          "2014-12-31T00:00:00",
          "2015-01-31T00:00:00",
          "2015-02-28T00:00:00",
          "2015-03-31T00:00:00",
          "2015-04-30T00:00:00",
          "2015-05-31T00:00:00",
          "2015-06-30T00:00:00",
          "2015-07-31T00:00:00",
          "2015-08-31T00:00:00",
          "2015-09-30T00:00:00",
          "2015-10-31T00:00:00",
          "2015-11-30T00:00:00",
          "2015-12-31T00:00:00",
          "2016-01-31T00:00:00",
          "2016-02-29T00:00:00",
          "2016-03-31T00:00:00",
          "2016-04-30T00:00:00",
          "2016-05-31T00:00:00",
          "2016-06-30T00:00:00",
          "2016-07-31T00:00:00",
          "2016-08-31T00:00:00",
          "2016-09-30T00:00:00",
          "2016-10-31T00:00:00",
          "2016-11-30T00:00:00",
          "2016-12-31T00:00:00",
          "2017-01-31T00:00:00",
          "2017-02-28T00:00:00",
          "2017-03-31T00:00:00",
          "2017-04-30T00:00:00",
          "2017-05-31T00:00:00",
          "2017-06-30T00:00:00",
          "2017-07-31T00:00:00",
          "2017-08-31T00:00:00",
          "2017-09-30T00:00:00",
          "2017-10-31T00:00:00",
          "2017-11-30T00:00:00",
          "2017-12-31T00:00:00",
          "2018-01-31T00:00:00",
          "2018-02-28T00:00:00",
          "2018-03-31T00:00:00",
          "2018-04-30T00:00:00",
          "2018-05-31T00:00:00",
          "2018-06-30T00:00:00",
          "2018-07-31T00:00:00",
          "2018-08-31T00:00:00",
          "2018-09-30T00:00:00",
          "2018-10-31T00:00:00",
          "2018-11-30T00:00:00",
          "2018-12-31T00:00:00",
          "2019-01-31T00:00:00",
          "2019-02-28T00:00:00",
          "2019-03-31T00:00:00",
          "2019-04-30T00:00:00",
          "2019-05-31T00:00:00",
          "2019-06-30T00:00:00",
          "2019-07-31T00:00:00",
          "2019-08-31T00:00:00",
          "2019-09-30T00:00:00",
          "2019-10-31T00:00:00",
          "2019-11-30T00:00:00",
          "2019-12-31T00:00:00",
          "2020-01-31T00:00:00",
          "2020-02-29T00:00:00",
          "2020-03-31T00:00:00",
          "2020-04-30T00:00:00",
          "2020-05-31T00:00:00",
          "2020-06-30T00:00:00",
          "2020-07-31T00:00:00",
          "2020-08-31T00:00:00",
          "2020-09-30T00:00:00",
          "2020-10-31T00:00:00",
          "2020-11-30T00:00:00",
          "2020-12-31T00:00:00",
          "2021-01-31T00:00:00",
          "2021-02-28T00:00:00",
          "2021-03-31T00:00:00",
          "2021-04-30T00:00:00",
          "2021-05-31T00:00:00",
          "2021-06-30T00:00:00",
          "2021-07-31T00:00:00",
          "2021-08-31T00:00:00"
         ],
         "xaxis": "x",
         "y": [
          null,
          null,
          null,
          null,
          null,
          null,
          null,
          null,
          null,
          null,
          null,
          null,
          null,
          null,
          1300,
          1300,
          1350,
          1488,
          1375,
          1150,
          1075,
          1188,
          1200,
          1075,
          1138,
          1193.29,
          1248.57,
          1303.86,
          1359.14,
          1414.43,
          1469.71,
          1525,
          1550,
          1537.5,
          1525,
          1512.5,
          1500,
          1500,
          1425,
          1238,
          1350,
          1350,
          1400,
          1450,
          1313,
          1550,
          1487.5,
          1518,
          1511.5,
          1395,
          1450,
          1575,
          1900,
          1612.5,
          1650,
          1650,
          1637.5,
          1487.5,
          1500,
          1550,
          1662.5,
          1750,
          1687.5,
          1850,
          1774,
          1631.5,
          1647.5,
          1662.5,
          1725,
          1800,
          1850,
          1824,
          1710,
          1825,
          1899,
          1961.5,
          2025,
          1950,
          1949,
          1950,
          2150,
          2112.5,
          1887.5,
          1812.5,
          2050,
          1899,
          1825,
          1875,
          1825,
          1887.5,
          1837.5,
          1912.5,
          1787.5,
          1818,
          1850,
          1799,
          1787.5,
          1850,
          1900,
          1911.5,
          1940,
          1857.5,
          1700,
          1762.5,
          1787.5,
          1800,
          1794,
          1787.5,
          1775,
          1712.5,
          1797.5,
          1737.5,
          1797.5,
          1725,
          1749.5,
          1747.5,
          1747.5,
          1800,
          1772.5,
          1810,
          1878.5,
          1947.5,
          2012,
          1775,
          1787.5,
          1775,
          1775,
          1900,
          1797.5,
          1700,
          1692.5,
          1610,
          1624,
          1687.5,
          1768.5,
          1700,
          1691.5,
          1749.5,
          1697.5,
          1725
         ],
         "yaxis": "y"
        }
       ],
       "layout": {
        "legend": {
         "title": {
          "text": "Neighborhood"
         },
         "tracegroupgap": 0
        },
        "template": {
         "data": {
          "bar": [
           {
            "error_x": {
             "color": "#2a3f5f"
            },
            "error_y": {
             "color": "#2a3f5f"
            },
            "marker": {
             "line": {
              "color": "#E5ECF6",
              "width": 0.5
             },
             "pattern": {
              "fillmode": "overlay",
              "size": 10,
              "solidity": 0.2
             }
            },
            "type": "bar"
           }
          ],
          "barpolar": [
           {
            "marker": {
             "line": {
              "color": "#E5ECF6",
              "width": 0.5
             },
             "pattern": {
              "fillmode": "overlay",
              "size": 10,
              "solidity": 0.2
             }
            },
            "type": "barpolar"
           }
          ],
          "carpet": [
           {
            "aaxis": {
             "endlinecolor": "#2a3f5f",
             "gridcolor": "white",
             "linecolor": "white",
             "minorgridcolor": "white",
             "startlinecolor": "#2a3f5f"
            },
            "baxis": {
             "endlinecolor": "#2a3f5f",
             "gridcolor": "white",
             "linecolor": "white",
             "minorgridcolor": "white",
             "startlinecolor": "#2a3f5f"
            },
            "type": "carpet"
           }
          ],
          "choropleth": [
           {
            "colorbar": {
             "outlinewidth": 0,
             "ticks": ""
            },
            "type": "choropleth"
           }
          ],
          "contour": [
           {
            "colorbar": {
             "outlinewidth": 0,
             "ticks": ""
            },
            "colorscale": [
             [
              0,
              "#0d0887"
             ],
             [
              0.1111111111111111,
              "#46039f"
             ],
             [
              0.2222222222222222,
              "#7201a8"
             ],
             [
              0.3333333333333333,
              "#9c179e"
             ],
             [
              0.4444444444444444,
              "#bd3786"
             ],
             [
              0.5555555555555556,
              "#d8576b"
             ],
             [
              0.6666666666666666,
              "#ed7953"
             ],
             [
              0.7777777777777778,
              "#fb9f3a"
             ],
             [
              0.8888888888888888,
              "#fdca26"
             ],
             [
              1,
              "#f0f921"
             ]
            ],
            "type": "contour"
           }
          ],
          "contourcarpet": [
           {
            "colorbar": {
             "outlinewidth": 0,
             "ticks": ""
            },
            "type": "contourcarpet"
           }
          ],
          "heatmap": [
           {
            "colorbar": {
             "outlinewidth": 0,
             "ticks": ""
            },
            "colorscale": [
             [
              0,
              "#0d0887"
             ],
             [
              0.1111111111111111,
              "#46039f"
             ],
             [
              0.2222222222222222,
              "#7201a8"
             ],
             [
              0.3333333333333333,
              "#9c179e"
             ],
             [
              0.4444444444444444,
              "#bd3786"
             ],
             [
              0.5555555555555556,
              "#d8576b"
             ],
             [
              0.6666666666666666,
              "#ed7953"
             ],
             [
              0.7777777777777778,
              "#fb9f3a"
             ],
             [
              0.8888888888888888,
              "#fdca26"
             ],
             [
              1,
              "#f0f921"
             ]
            ],
            "type": "heatmap"
           }
          ],
          "heatmapgl": [
           {
            "colorbar": {
             "outlinewidth": 0,
             "ticks": ""
            },
            "colorscale": [
             [
              0,
              "#0d0887"
             ],
             [
              0.1111111111111111,
              "#46039f"
             ],
             [
              0.2222222222222222,
              "#7201a8"
             ],
             [
              0.3333333333333333,
              "#9c179e"
             ],
             [
              0.4444444444444444,
              "#bd3786"
             ],
             [
              0.5555555555555556,
              "#d8576b"
             ],
             [
              0.6666666666666666,
              "#ed7953"
             ],
             [
              0.7777777777777778,
              "#fb9f3a"
             ],
             [
              0.8888888888888888,
              "#fdca26"
             ],
             [
              1,
              "#f0f921"
             ]
            ],
            "type": "heatmapgl"
           }
          ],
          "histogram": [
           {
            "marker": {
             "pattern": {
              "fillmode": "overlay",
              "size": 10,
              "solidity": 0.2
             }
            },
            "type": "histogram"
           }
          ],
          "histogram2d": [
           {
            "colorbar": {
             "outlinewidth": 0,
             "ticks": ""
            },
            "colorscale": [
             [
              0,
              "#0d0887"
             ],
             [
              0.1111111111111111,
              "#46039f"
             ],
             [
              0.2222222222222222,
              "#7201a8"
             ],
             [
              0.3333333333333333,
              "#9c179e"
             ],
             [
              0.4444444444444444,
              "#bd3786"
             ],
             [
              0.5555555555555556,
              "#d8576b"
             ],
             [
              0.6666666666666666,
              "#ed7953"
             ],
             [
              0.7777777777777778,
              "#fb9f3a"
             ],
             [
              0.8888888888888888,
              "#fdca26"
             ],
             [
              1,
              "#f0f921"
             ]
            ],
            "type": "histogram2d"
           }
          ],
          "histogram2dcontour": [
           {
            "colorbar": {
             "outlinewidth": 0,
             "ticks": ""
            },
            "colorscale": [
             [
              0,
              "#0d0887"
             ],
             [
              0.1111111111111111,
              "#46039f"
             ],
             [
              0.2222222222222222,
              "#7201a8"
             ],
             [
              0.3333333333333333,
              "#9c179e"
             ],
             [
              0.4444444444444444,
              "#bd3786"
             ],
             [
              0.5555555555555556,
              "#d8576b"
             ],
             [
              0.6666666666666666,
              "#ed7953"
             ],
             [
              0.7777777777777778,
              "#fb9f3a"
             ],
             [
              0.8888888888888888,
              "#fdca26"
             ],
             [
              1,
              "#f0f921"
             ]
            ],
            "type": "histogram2dcontour"
           }
          ],
          "mesh3d": [
           {
            "colorbar": {
             "outlinewidth": 0,
             "ticks": ""
            },
            "type": "mesh3d"
           }
          ],
          "parcoords": [
           {
            "line": {
             "colorbar": {
              "outlinewidth": 0,
              "ticks": ""
             }
            },
            "type": "parcoords"
           }
          ],
          "pie": [
           {
            "automargin": true,
            "type": "pie"
           }
          ],
          "scatter": [
           {
            "marker": {
             "colorbar": {
              "outlinewidth": 0,
              "ticks": ""
             }
            },
            "type": "scatter"
           }
          ],
          "scatter3d": [
           {
            "line": {
             "colorbar": {
              "outlinewidth": 0,
              "ticks": ""
             }
            },
            "marker": {
             "colorbar": {
              "outlinewidth": 0,
              "ticks": ""
             }
            },
            "type": "scatter3d"
           }
          ],
          "scattercarpet": [
           {
            "marker": {
             "colorbar": {
              "outlinewidth": 0,
              "ticks": ""
             }
            },
            "type": "scattercarpet"
           }
          ],
          "scattergeo": [
           {
            "marker": {
             "colorbar": {
              "outlinewidth": 0,
              "ticks": ""
             }
            },
            "type": "scattergeo"
           }
          ],
          "scattergl": [
           {
            "marker": {
             "colorbar": {
              "outlinewidth": 0,
              "ticks": ""
             }
            },
            "type": "scattergl"
           }
          ],
          "scattermapbox": [
           {
            "marker": {
             "colorbar": {
              "outlinewidth": 0,
              "ticks": ""
             }
            },
            "type": "scattermapbox"
           }
          ],
          "scatterpolar": [
           {
            "marker": {
             "colorbar": {
              "outlinewidth": 0,
              "ticks": ""
             }
            },
            "type": "scatterpolar"
           }
          ],
          "scatterpolargl": [
           {
            "marker": {
             "colorbar": {
              "outlinewidth": 0,
              "ticks": ""
             }
            },
            "type": "scatterpolargl"
           }
          ],
          "scatterternary": [
           {
            "marker": {
             "colorbar": {
              "outlinewidth": 0,
              "ticks": ""
             }
            },
            "type": "scatterternary"
           }
          ],
          "surface": [
           {
            "colorbar": {
             "outlinewidth": 0,
             "ticks": ""
            },
            "colorscale": [
             [
              0,
              "#0d0887"
             ],
             [
              0.1111111111111111,
              "#46039f"
             ],
             [
              0.2222222222222222,
              "#7201a8"
             ],
             [
              0.3333333333333333,
              "#9c179e"
             ],
             [
              0.4444444444444444,
              "#bd3786"
             ],
             [
              0.5555555555555556,
              "#d8576b"
             ],
             [
              0.6666666666666666,
              "#ed7953"
             ],
             [
              0.7777777777777778,
              "#fb9f3a"
             ],
             [
              0.8888888888888888,
              "#fdca26"
             ],
             [
              1,
              "#f0f921"
             ]
            ],
            "type": "surface"
           }
          ],
          "table": [
           {
            "cells": {
             "fill": {
              "color": "#EBF0F8"
             },
             "line": {
              "color": "white"
             }
            },
            "header": {
             "fill": {
              "color": "#C8D4E3"
             },
             "line": {
              "color": "white"
             }
            },
            "type": "table"
           }
          ]
         },
         "layout": {
          "annotationdefaults": {
           "arrowcolor": "#2a3f5f",
           "arrowhead": 0,
           "arrowwidth": 1
          },
          "autotypenumbers": "strict",
          "coloraxis": {
           "colorbar": {
            "outlinewidth": 0,
            "ticks": ""
           }
          },
          "colorscale": {
           "diverging": [
            [
             0,
             "#8e0152"
            ],
            [
             0.1,
             "#c51b7d"
            ],
            [
             0.2,
             "#de77ae"
            ],
            [
             0.3,
             "#f1b6da"
            ],
            [
             0.4,
             "#fde0ef"
            ],
            [
             0.5,
             "#f7f7f7"
            ],
            [
             0.6,
             "#e6f5d0"
            ],
            [
             0.7,
             "#b8e186"
            ],
            [
             0.8,
             "#7fbc41"
            ],
            [
             0.9,
             "#4d9221"
            ],
            [
             1,
             "#276419"
            ]
           ],
           "sequential": [
            [
             0,
             "#0d0887"
            ],
            [
             0.1111111111111111,
             "#46039f"
            ],
            [
             0.2222222222222222,
             "#7201a8"
            ],
            [
             0.3333333333333333,
             "#9c179e"
            ],
            [
             0.4444444444444444,
             "#bd3786"
            ],
            [
             0.5555555555555556,
             "#d8576b"
            ],
            [
             0.6666666666666666,
             "#ed7953"
            ],
            [
             0.7777777777777778,
             "#fb9f3a"
            ],
            [
             0.8888888888888888,
             "#fdca26"
            ],
            [
             1,
             "#f0f921"
            ]
           ],
           "sequentialminus": [
            [
             0,
             "#0d0887"
            ],
            [
             0.1111111111111111,
             "#46039f"
            ],
            [
             0.2222222222222222,
             "#7201a8"
            ],
            [
             0.3333333333333333,
             "#9c179e"
            ],
            [
             0.4444444444444444,
             "#bd3786"
            ],
            [
             0.5555555555555556,
             "#d8576b"
            ],
            [
             0.6666666666666666,
             "#ed7953"
            ],
            [
             0.7777777777777778,
             "#fb9f3a"
            ],
            [
             0.8888888888888888,
             "#fdca26"
            ],
            [
             1,
             "#f0f921"
            ]
           ]
          },
          "colorway": [
           "#636efa",
           "#EF553B",
           "#00cc96",
           "#ab63fa",
           "#FFA15A",
           "#19d3f3",
           "#FF6692",
           "#B6E880",
           "#FF97FF",
           "#FECB52"
          ],
          "font": {
           "color": "#2a3f5f"
          },
          "geo": {
           "bgcolor": "white",
           "lakecolor": "white",
           "landcolor": "#E5ECF6",
           "showlakes": true,
           "showland": true,
           "subunitcolor": "white"
          },
          "hoverlabel": {
           "align": "left"
          },
          "hovermode": "closest",
          "mapbox": {
           "style": "light"
          },
          "paper_bgcolor": "white",
          "plot_bgcolor": "#E5ECF6",
          "polar": {
           "angularaxis": {
            "gridcolor": "white",
            "linecolor": "white",
            "ticks": ""
           },
           "bgcolor": "#E5ECF6",
           "radialaxis": {
            "gridcolor": "white",
            "linecolor": "white",
            "ticks": ""
           }
          },
          "scene": {
           "xaxis": {
            "backgroundcolor": "#E5ECF6",
            "gridcolor": "white",
            "gridwidth": 2,
            "linecolor": "white",
            "showbackground": true,
            "ticks": "",
            "zerolinecolor": "white"
           },
           "yaxis": {
            "backgroundcolor": "#E5ECF6",
            "gridcolor": "white",
            "gridwidth": 2,
            "linecolor": "white",
            "showbackground": true,
            "ticks": "",
            "zerolinecolor": "white"
           },
           "zaxis": {
            "backgroundcolor": "#E5ECF6",
            "gridcolor": "white",
            "gridwidth": 2,
            "linecolor": "white",
            "showbackground": true,
            "ticks": "",
            "zerolinecolor": "white"
           }
          },
          "shapedefaults": {
           "line": {
            "color": "#2a3f5f"
           }
          },
          "ternary": {
           "aaxis": {
            "gridcolor": "white",
            "linecolor": "white",
            "ticks": ""
           },
           "baxis": {
            "gridcolor": "white",
            "linecolor": "white",
            "ticks": ""
           },
           "bgcolor": "#E5ECF6",
           "caxis": {
            "gridcolor": "white",
            "linecolor": "white",
            "ticks": ""
           }
          },
          "title": {
           "x": 0.05
          },
          "xaxis": {
           "automargin": true,
           "gridcolor": "white",
           "linecolor": "white",
           "ticks": "",
           "title": {
            "standoff": 15
           },
           "zerolinecolor": "white",
           "zerolinewidth": 2
          },
          "yaxis": {
           "automargin": true,
           "gridcolor": "white",
           "linecolor": "white",
           "ticks": "",
           "title": {
            "standoff": 15
           },
           "zerolinecolor": "white",
           "zerolinewidth": 2
          }
         }
        },
        "title": {
         "text": "All Rents"
        },
        "xaxis": {
         "anchor": "y",
         "domain": [
          0,
          1
         ],
         "title": {
          "text": "Date"
         }
        },
        "yaxis": {
         "anchor": "x",
         "domain": [
          0,
          1
         ],
         "title": {
          "text": "Price"
         }
        }
       }
      },
      "text/html": [
       "<div>                            <div id=\"8b3453ab-4730-4e88-b1ce-61e7b4f41abf\" class=\"plotly-graph-div\" style=\"height:525px; width:100%;\"></div>            <script type=\"text/javascript\">                require([\"plotly\"], function(Plotly) {                    window.PLOTLYENV=window.PLOTLYENV || {};                                    if (document.getElementById(\"8b3453ab-4730-4e88-b1ce-61e7b4f41abf\")) {                    Plotly.newPlot(                        \"8b3453ab-4730-4e88-b1ce-61e7b4f41abf\",                        [{\"hovertemplate\":\"Neighborhood=Borough Park<br>Date=%{x}<br>Price=%{y}<extra></extra>\",\"legendgroup\":\"Borough Park\",\"line\":{\"color\":\"#636efa\",\"dash\":\"solid\"},\"marker\":{\"symbol\":\"circle\"},\"mode\":\"lines\",\"name\":\"Borough Park\",\"showlegend\":true,\"type\":\"scattergl\",\"x\":[\"2010-01-31T00:00:00\",\"2010-02-28T00:00:00\",\"2010-03-31T00:00:00\",\"2010-04-30T00:00:00\",\"2010-05-31T00:00:00\",\"2010-06-30T00:00:00\",\"2010-07-31T00:00:00\",\"2010-08-31T00:00:00\",\"2010-09-30T00:00:00\",\"2010-10-31T00:00:00\",\"2010-11-30T00:00:00\",\"2010-12-31T00:00:00\",\"2011-01-31T00:00:00\",\"2011-02-28T00:00:00\",\"2011-03-31T00:00:00\",\"2011-04-30T00:00:00\",\"2011-05-31T00:00:00\",\"2011-06-30T00:00:00\",\"2011-07-31T00:00:00\",\"2011-08-31T00:00:00\",\"2011-09-30T00:00:00\",\"2011-10-31T00:00:00\",\"2011-11-30T00:00:00\",\"2011-12-31T00:00:00\",\"2012-01-31T00:00:00\",\"2012-02-29T00:00:00\",\"2012-03-31T00:00:00\",\"2012-04-30T00:00:00\",\"2012-05-31T00:00:00\",\"2012-06-30T00:00:00\",\"2012-07-31T00:00:00\",\"2012-08-31T00:00:00\",\"2012-09-30T00:00:00\",\"2012-10-31T00:00:00\",\"2012-11-30T00:00:00\",\"2012-12-31T00:00:00\",\"2013-01-31T00:00:00\",\"2013-02-28T00:00:00\",\"2013-03-31T00:00:00\",\"2013-04-30T00:00:00\",\"2013-05-31T00:00:00\",\"2013-06-30T00:00:00\",\"2013-07-31T00:00:00\",\"2013-08-31T00:00:00\",\"2013-09-30T00:00:00\",\"2013-10-31T00:00:00\",\"2013-11-30T00:00:00\",\"2013-12-31T00:00:00\",\"2014-01-31T00:00:00\",\"2014-02-28T00:00:00\",\"2014-03-31T00:00:00\",\"2014-04-30T00:00:00\",\"2014-05-31T00:00:00\",\"2014-06-30T00:00:00\",\"2014-07-31T00:00:00\",\"2014-08-31T00:00:00\",\"2014-09-30T00:00:00\",\"2014-10-31T00:00:00\",\"2014-11-30T00:00:00\",\"2014-12-31T00:00:00\",\"2015-01-31T00:00:00\",\"2015-02-28T00:00:00\",\"2015-03-31T00:00:00\",\"2015-04-30T00:00:00\",\"2015-05-31T00:00:00\",\"2015-06-30T00:00:00\",\"2015-07-31T00:00:00\",\"2015-08-31T00:00:00\",\"2015-09-30T00:00:00\",\"2015-10-31T00:00:00\",\"2015-11-30T00:00:00\",\"2015-12-31T00:00:00\",\"2016-01-31T00:00:00\",\"2016-02-29T00:00:00\",\"2016-03-31T00:00:00\",\"2016-04-30T00:00:00\",\"2016-05-31T00:00:00\",\"2016-06-30T00:00:00\",\"2016-07-31T00:00:00\",\"2016-08-31T00:00:00\",\"2016-09-30T00:00:00\",\"2016-10-31T00:00:00\",\"2016-11-30T00:00:00\",\"2016-12-31T00:00:00\",\"2017-01-31T00:00:00\",\"2017-02-28T00:00:00\",\"2017-03-31T00:00:00\",\"2017-04-30T00:00:00\",\"2017-05-31T00:00:00\",\"2017-06-30T00:00:00\",\"2017-07-31T00:00:00\",\"2017-08-31T00:00:00\",\"2017-09-30T00:00:00\",\"2017-10-31T00:00:00\",\"2017-11-30T00:00:00\",\"2017-12-31T00:00:00\",\"2018-01-31T00:00:00\",\"2018-02-28T00:00:00\",\"2018-03-31T00:00:00\",\"2018-04-30T00:00:00\",\"2018-05-31T00:00:00\",\"2018-06-30T00:00:00\",\"2018-07-31T00:00:00\",\"2018-08-31T00:00:00\",\"2018-09-30T00:00:00\",\"2018-10-31T00:00:00\",\"2018-11-30T00:00:00\",\"2018-12-31T00:00:00\",\"2019-01-31T00:00:00\",\"2019-02-28T00:00:00\",\"2019-03-31T00:00:00\",\"2019-04-30T00:00:00\",\"2019-05-31T00:00:00\",\"2019-06-30T00:00:00\",\"2019-07-31T00:00:00\",\"2019-08-31T00:00:00\",\"2019-09-30T00:00:00\",\"2019-10-31T00:00:00\",\"2019-11-30T00:00:00\",\"2019-12-31T00:00:00\",\"2020-01-31T00:00:00\",\"2020-02-29T00:00:00\",\"2020-03-31T00:00:00\",\"2020-04-30T00:00:00\",\"2020-05-31T00:00:00\",\"2020-06-30T00:00:00\",\"2020-07-31T00:00:00\",\"2020-08-31T00:00:00\",\"2020-09-30T00:00:00\",\"2020-10-31T00:00:00\",\"2020-11-30T00:00:00\",\"2020-12-31T00:00:00\",\"2021-01-31T00:00:00\",\"2021-02-28T00:00:00\",\"2021-03-31T00:00:00\",\"2021-04-30T00:00:00\",\"2021-05-31T00:00:00\",\"2021-06-30T00:00:00\",\"2021-07-31T00:00:00\",\"2021-08-31T00:00:00\"],\"xaxis\":\"x\",\"y\":[null,null,null,null,null,null,null,null,null,null,1175.0,1191.67,1208.33,1225.0,1200.0,1150.0,1175.0,1200.0,1225.0,1300.0,1291.67,1283.33,1275.0,1295.83,1316.67,1337.5,1358.33,1379.17,1400.0,1350.0,1300.0,1309.06,1318.12,1327.19,1336.25,1345.31,1354.38,1363.44,1372.5,1381.56,1390.62,1399.69,1408.75,1417.81,1426.88,1435.94,1445.0,1300.0,1475.0,1700.0,1750.0,1800.0,1700.0,1695.0,1690.0,1700.0,1690.0,1525.0,1500.0,1500.0,1550.0,1595.0,1595.0,1699.0,1625.0,1600.0,1573.0,1550.0,1799.0,1800.0,1725.0,1750.0,1595.0,1650.0,1700.0,1750.0,1750.0,1900.0,1900.0,1900.0,2083.0,1850.0,1825.0,2025.0,2030.0,1995.0,1750.0,1795.0,1700.0,1750.0,1738.0,1795.0,1788.0,1897.0,1800.0,1650.0,1660.0,1638.0,1750.0,1700.0,1750.0,1850.0,1885.0,1825.0,1800.0,1900.0,1875.0,1700.0,1850.0,1863.0,1875.0,1900.0,1875.0,1863.0,1898.0,1995.0,1949.0,2100.0,1950.0,1900.0,1850.0,1973.0,2098.0,1800.0,1857.0,1700.0,1754.0,1850.0,1795.0,1795.0,1799.0,1797.0,1799.0,1700.0,1700.0,1849.0,1800.0,1800.0,1849.0,1898.0],\"yaxis\":\"y\"},{\"hovertemplate\":\"Neighborhood=Brooklyn Heights<br>Date=%{x}<br>Price=%{y}<extra></extra>\",\"legendgroup\":\"Brooklyn Heights\",\"line\":{\"color\":\"#EF553B\",\"dash\":\"solid\"},\"marker\":{\"symbol\":\"circle\"},\"mode\":\"lines\",\"name\":\"Brooklyn Heights\",\"showlegend\":true,\"type\":\"scattergl\",\"x\":[\"2010-01-31T00:00:00\",\"2010-02-28T00:00:00\",\"2010-03-31T00:00:00\",\"2010-04-30T00:00:00\",\"2010-05-31T00:00:00\",\"2010-06-30T00:00:00\",\"2010-07-31T00:00:00\",\"2010-08-31T00:00:00\",\"2010-09-30T00:00:00\",\"2010-10-31T00:00:00\",\"2010-11-30T00:00:00\",\"2010-12-31T00:00:00\",\"2011-01-31T00:00:00\",\"2011-02-28T00:00:00\",\"2011-03-31T00:00:00\",\"2011-04-30T00:00:00\",\"2011-05-31T00:00:00\",\"2011-06-30T00:00:00\",\"2011-07-31T00:00:00\",\"2011-08-31T00:00:00\",\"2011-09-30T00:00:00\",\"2011-10-31T00:00:00\",\"2011-11-30T00:00:00\",\"2011-12-31T00:00:00\",\"2012-01-31T00:00:00\",\"2012-02-29T00:00:00\",\"2012-03-31T00:00:00\",\"2012-04-30T00:00:00\",\"2012-05-31T00:00:00\",\"2012-06-30T00:00:00\",\"2012-07-31T00:00:00\",\"2012-08-31T00:00:00\",\"2012-09-30T00:00:00\",\"2012-10-31T00:00:00\",\"2012-11-30T00:00:00\",\"2012-12-31T00:00:00\",\"2013-01-31T00:00:00\",\"2013-02-28T00:00:00\",\"2013-03-31T00:00:00\",\"2013-04-30T00:00:00\",\"2013-05-31T00:00:00\",\"2013-06-30T00:00:00\",\"2013-07-31T00:00:00\",\"2013-08-31T00:00:00\",\"2013-09-30T00:00:00\",\"2013-10-31T00:00:00\",\"2013-11-30T00:00:00\",\"2013-12-31T00:00:00\",\"2014-01-31T00:00:00\",\"2014-02-28T00:00:00\",\"2014-03-31T00:00:00\",\"2014-04-30T00:00:00\",\"2014-05-31T00:00:00\",\"2014-06-30T00:00:00\",\"2014-07-31T00:00:00\",\"2014-08-31T00:00:00\",\"2014-09-30T00:00:00\",\"2014-10-31T00:00:00\",\"2014-11-30T00:00:00\",\"2014-12-31T00:00:00\",\"2015-01-31T00:00:00\",\"2015-02-28T00:00:00\",\"2015-03-31T00:00:00\",\"2015-04-30T00:00:00\",\"2015-05-31T00:00:00\",\"2015-06-30T00:00:00\",\"2015-07-31T00:00:00\",\"2015-08-31T00:00:00\",\"2015-09-30T00:00:00\",\"2015-10-31T00:00:00\",\"2015-11-30T00:00:00\",\"2015-12-31T00:00:00\",\"2016-01-31T00:00:00\",\"2016-02-29T00:00:00\",\"2016-03-31T00:00:00\",\"2016-04-30T00:00:00\",\"2016-05-31T00:00:00\",\"2016-06-30T00:00:00\",\"2016-07-31T00:00:00\",\"2016-08-31T00:00:00\",\"2016-09-30T00:00:00\",\"2016-10-31T00:00:00\",\"2016-11-30T00:00:00\",\"2016-12-31T00:00:00\",\"2017-01-31T00:00:00\",\"2017-02-28T00:00:00\",\"2017-03-31T00:00:00\",\"2017-04-30T00:00:00\",\"2017-05-31T00:00:00\",\"2017-06-30T00:00:00\",\"2017-07-31T00:00:00\",\"2017-08-31T00:00:00\",\"2017-09-30T00:00:00\",\"2017-10-31T00:00:00\",\"2017-11-30T00:00:00\",\"2017-12-31T00:00:00\",\"2018-01-31T00:00:00\",\"2018-02-28T00:00:00\",\"2018-03-31T00:00:00\",\"2018-04-30T00:00:00\",\"2018-05-31T00:00:00\",\"2018-06-30T00:00:00\",\"2018-07-31T00:00:00\",\"2018-08-31T00:00:00\",\"2018-09-30T00:00:00\",\"2018-10-31T00:00:00\",\"2018-11-30T00:00:00\",\"2018-12-31T00:00:00\",\"2019-01-31T00:00:00\",\"2019-02-28T00:00:00\",\"2019-03-31T00:00:00\",\"2019-04-30T00:00:00\",\"2019-05-31T00:00:00\",\"2019-06-30T00:00:00\",\"2019-07-31T00:00:00\",\"2019-08-31T00:00:00\",\"2019-09-30T00:00:00\",\"2019-10-31T00:00:00\",\"2019-11-30T00:00:00\",\"2019-12-31T00:00:00\",\"2020-01-31T00:00:00\",\"2020-02-29T00:00:00\",\"2020-03-31T00:00:00\",\"2020-04-30T00:00:00\",\"2020-05-31T00:00:00\",\"2020-06-30T00:00:00\",\"2020-07-31T00:00:00\",\"2020-08-31T00:00:00\",\"2020-09-30T00:00:00\",\"2020-10-31T00:00:00\",\"2020-11-30T00:00:00\",\"2020-12-31T00:00:00\",\"2021-01-31T00:00:00\",\"2021-02-28T00:00:00\",\"2021-03-31T00:00:00\",\"2021-04-30T00:00:00\",\"2021-05-31T00:00:00\",\"2021-06-30T00:00:00\",\"2021-07-31T00:00:00\",\"2021-08-31T00:00:00\"],\"xaxis\":\"x\",\"y\":[2350.0,2300.0,2400.0,2200.0,2400.0,2250.0,2600.0,2900.0,3200.0,3400.0,2621.0,2633.0,2600.0,3050.0,3200.0,3150.0,2450.0,2825.0,2900.0,3000.0,3000.0,2963.0,2850.0,2700.0,2750.0,2700.0,2700.0,2500.0,2900.0,3125.0,3325.0,3500.0,3200.0,3200.0,2950.0,2738.0,2788.0,3000.0,3273.0,2912.0,3100.0,3092.0,3425.0,3340.0,3308.0,3200.0,3078.0,3020.0,3000.0,2900.0,2985.0,3000.0,3000.0,2800.0,2830.0,3000.0,2875.0,2945.0,3000.0,2850.0,2725.0,2898.0,2968.0,3050.0,2925.0,2950.0,3150.0,3260.0,3153.0,3195.0,3155.0,2850.0,3050.0,3300.0,3195.0,3000.0,3155.0,3150.0,3100.0,3160.0,3300.0,3200.0,3150.0,3400.0,3400.0,3250.0,3198.0,3175.0,3000.0,3100.0,3033.0,2985.0,2999.0,3100.0,3000.0,3100.0,3200.0,3053.0,2990.0,2808.0,2979.0,3100.0,3175.0,3250.0,3400.0,3300.0,3200.0,3250.0,3100.0,3215.0,3500.0,3500.0,3381.0,3505.0,3400.0,3626.0,3636.0,3690.0,3620.0,3605.0,3727.0,3540.0,3500.0,3754.0,3480.0,3200.0,3250.0,2971.0,2960.0,2850.0,2800.0,2816.0,2798.0,2795.0,2700.0,2800.0,2950.0,2900.0,2947.0,3100.0],\"yaxis\":\"y\"},{\"hovertemplate\":\"Neighborhood=Brownsville<br>Date=%{x}<br>Price=%{y}<extra></extra>\",\"legendgroup\":\"Brownsville\",\"line\":{\"color\":\"#00cc96\",\"dash\":\"solid\"},\"marker\":{\"symbol\":\"circle\"},\"mode\":\"lines\",\"name\":\"Brownsville\",\"showlegend\":true,\"type\":\"scattergl\",\"x\":[\"2010-01-31T00:00:00\",\"2010-02-28T00:00:00\",\"2010-03-31T00:00:00\",\"2010-04-30T00:00:00\",\"2010-05-31T00:00:00\",\"2010-06-30T00:00:00\",\"2010-07-31T00:00:00\",\"2010-08-31T00:00:00\",\"2010-09-30T00:00:00\",\"2010-10-31T00:00:00\",\"2010-11-30T00:00:00\",\"2010-12-31T00:00:00\",\"2011-01-31T00:00:00\",\"2011-02-28T00:00:00\",\"2011-03-31T00:00:00\",\"2011-04-30T00:00:00\",\"2011-05-31T00:00:00\",\"2011-06-30T00:00:00\",\"2011-07-31T00:00:00\",\"2011-08-31T00:00:00\",\"2011-09-30T00:00:00\",\"2011-10-31T00:00:00\",\"2011-11-30T00:00:00\",\"2011-12-31T00:00:00\",\"2012-01-31T00:00:00\",\"2012-02-29T00:00:00\",\"2012-03-31T00:00:00\",\"2012-04-30T00:00:00\",\"2012-05-31T00:00:00\",\"2012-06-30T00:00:00\",\"2012-07-31T00:00:00\",\"2012-08-31T00:00:00\",\"2012-09-30T00:00:00\",\"2012-10-31T00:00:00\",\"2012-11-30T00:00:00\",\"2012-12-31T00:00:00\",\"2013-01-31T00:00:00\",\"2013-02-28T00:00:00\",\"2013-03-31T00:00:00\",\"2013-04-30T00:00:00\",\"2013-05-31T00:00:00\",\"2013-06-30T00:00:00\",\"2013-07-31T00:00:00\",\"2013-08-31T00:00:00\",\"2013-09-30T00:00:00\",\"2013-10-31T00:00:00\",\"2013-11-30T00:00:00\",\"2013-12-31T00:00:00\",\"2014-01-31T00:00:00\",\"2014-02-28T00:00:00\",\"2014-03-31T00:00:00\",\"2014-04-30T00:00:00\",\"2014-05-31T00:00:00\",\"2014-06-30T00:00:00\",\"2014-07-31T00:00:00\",\"2014-08-31T00:00:00\",\"2014-09-30T00:00:00\",\"2014-10-31T00:00:00\",\"2014-11-30T00:00:00\",\"2014-12-31T00:00:00\",\"2015-01-31T00:00:00\",\"2015-02-28T00:00:00\",\"2015-03-31T00:00:00\",\"2015-04-30T00:00:00\",\"2015-05-31T00:00:00\",\"2015-06-30T00:00:00\",\"2015-07-31T00:00:00\",\"2015-08-31T00:00:00\",\"2015-09-30T00:00:00\",\"2015-10-31T00:00:00\",\"2015-11-30T00:00:00\",\"2015-12-31T00:00:00\",\"2016-01-31T00:00:00\",\"2016-02-29T00:00:00\",\"2016-03-31T00:00:00\",\"2016-04-30T00:00:00\",\"2016-05-31T00:00:00\",\"2016-06-30T00:00:00\",\"2016-07-31T00:00:00\",\"2016-08-31T00:00:00\",\"2016-09-30T00:00:00\",\"2016-10-31T00:00:00\",\"2016-11-30T00:00:00\",\"2016-12-31T00:00:00\",\"2017-01-31T00:00:00\",\"2017-02-28T00:00:00\",\"2017-03-31T00:00:00\",\"2017-04-30T00:00:00\",\"2017-05-31T00:00:00\",\"2017-06-30T00:00:00\",\"2017-07-31T00:00:00\",\"2017-08-31T00:00:00\",\"2017-09-30T00:00:00\",\"2017-10-31T00:00:00\",\"2017-11-30T00:00:00\",\"2017-12-31T00:00:00\",\"2018-01-31T00:00:00\",\"2018-02-28T00:00:00\",\"2018-03-31T00:00:00\",\"2018-04-30T00:00:00\",\"2018-05-31T00:00:00\",\"2018-06-30T00:00:00\",\"2018-07-31T00:00:00\",\"2018-08-31T00:00:00\",\"2018-09-30T00:00:00\",\"2018-10-31T00:00:00\",\"2018-11-30T00:00:00\",\"2018-12-31T00:00:00\",\"2019-01-31T00:00:00\",\"2019-02-28T00:00:00\",\"2019-03-31T00:00:00\",\"2019-04-30T00:00:00\",\"2019-05-31T00:00:00\",\"2019-06-30T00:00:00\",\"2019-07-31T00:00:00\",\"2019-08-31T00:00:00\",\"2019-09-30T00:00:00\",\"2019-10-31T00:00:00\",\"2019-11-30T00:00:00\",\"2019-12-31T00:00:00\",\"2020-01-31T00:00:00\",\"2020-02-29T00:00:00\",\"2020-03-31T00:00:00\",\"2020-04-30T00:00:00\",\"2020-05-31T00:00:00\",\"2020-06-30T00:00:00\",\"2020-07-31T00:00:00\",\"2020-08-31T00:00:00\",\"2020-09-30T00:00:00\",\"2020-10-31T00:00:00\",\"2020-11-30T00:00:00\",\"2020-12-31T00:00:00\",\"2021-01-31T00:00:00\",\"2021-02-28T00:00:00\",\"2021-03-31T00:00:00\",\"2021-04-30T00:00:00\",\"2021-05-31T00:00:00\",\"2021-06-30T00:00:00\",\"2021-07-31T00:00:00\",\"2021-08-31T00:00:00\"],\"xaxis\":\"x\",\"y\":[null,null,null,null,null,null,null,null,null,null,null,null,null,null,null,null,null,null,null,null,null,null,null,null,null,null,null,null,null,1350.0,1360.71,1371.43,1382.14,1392.86,1403.57,1414.29,1425.0,1450.0,1450.0,1450.0,1450.0,1450.0,1400.0,1500.0,1400.0,1295.0,1400.0,1312.5,1225.0,1325.0,1350.0,1300.0,1300.0,1375.0,1375.0,1400.0,1350.0,1350.0,1500.0,1400.0,1313.0,1313.0,1360.0,1400.0,1500.0,1500.0,1500.0,1500.0,1600.0,1599.0,1500.0,1613.0,1600.0,1600.0,1608.0,1600.0,1500.0,1700.0,1650.0,1695.0,1695.0,1650.0,1650.0,1700.0,1750.0,1750.0,1700.0,1800.0,1750.0,1800.0,1800.0,1700.0,1700.0,1795.0,1750.0,1698.0,1700.0,1725.0,1800.0,1750.0,1795.0,1800.0,1850.0,1850.0,1875.0,1950.0,1925.0,1925.0,2100.0,2100.0,2100.0,1950.0,2100.0,2325.0,1997.0,1900.0,2000.0,2000.0,1973.0,2000.0,2000.0,1987.0,2000.0,1843.0,1868.0,1888.0,1925.0,2314.0,2295.0,1908.0,2150.0,2200.0,2000.0,1850.0,1995.0,1900.0,1900.0,1900.0,2100.0,2050.0],\"yaxis\":\"y\"},{\"hovertemplate\":\"Neighborhood=Cobble Hill<br>Date=%{x}<br>Price=%{y}<extra></extra>\",\"legendgroup\":\"Cobble Hill\",\"line\":{\"color\":\"#ab63fa\",\"dash\":\"solid\"},\"marker\":{\"symbol\":\"circle\"},\"mode\":\"lines\",\"name\":\"Cobble Hill\",\"showlegend\":true,\"type\":\"scattergl\",\"x\":[\"2010-01-31T00:00:00\",\"2010-02-28T00:00:00\",\"2010-03-31T00:00:00\",\"2010-04-30T00:00:00\",\"2010-05-31T00:00:00\",\"2010-06-30T00:00:00\",\"2010-07-31T00:00:00\",\"2010-08-31T00:00:00\",\"2010-09-30T00:00:00\",\"2010-10-31T00:00:00\",\"2010-11-30T00:00:00\",\"2010-12-31T00:00:00\",\"2011-01-31T00:00:00\",\"2011-02-28T00:00:00\",\"2011-03-31T00:00:00\",\"2011-04-30T00:00:00\",\"2011-05-31T00:00:00\",\"2011-06-30T00:00:00\",\"2011-07-31T00:00:00\",\"2011-08-31T00:00:00\",\"2011-09-30T00:00:00\",\"2011-10-31T00:00:00\",\"2011-11-30T00:00:00\",\"2011-12-31T00:00:00\",\"2012-01-31T00:00:00\",\"2012-02-29T00:00:00\",\"2012-03-31T00:00:00\",\"2012-04-30T00:00:00\",\"2012-05-31T00:00:00\",\"2012-06-30T00:00:00\",\"2012-07-31T00:00:00\",\"2012-08-31T00:00:00\",\"2012-09-30T00:00:00\",\"2012-10-31T00:00:00\",\"2012-11-30T00:00:00\",\"2012-12-31T00:00:00\",\"2013-01-31T00:00:00\",\"2013-02-28T00:00:00\",\"2013-03-31T00:00:00\",\"2013-04-30T00:00:00\",\"2013-05-31T00:00:00\",\"2013-06-30T00:00:00\",\"2013-07-31T00:00:00\",\"2013-08-31T00:00:00\",\"2013-09-30T00:00:00\",\"2013-10-31T00:00:00\",\"2013-11-30T00:00:00\",\"2013-12-31T00:00:00\",\"2014-01-31T00:00:00\",\"2014-02-28T00:00:00\",\"2014-03-31T00:00:00\",\"2014-04-30T00:00:00\",\"2014-05-31T00:00:00\",\"2014-06-30T00:00:00\",\"2014-07-31T00:00:00\",\"2014-08-31T00:00:00\",\"2014-09-30T00:00:00\",\"2014-10-31T00:00:00\",\"2014-11-30T00:00:00\",\"2014-12-31T00:00:00\",\"2015-01-31T00:00:00\",\"2015-02-28T00:00:00\",\"2015-03-31T00:00:00\",\"2015-04-30T00:00:00\",\"2015-05-31T00:00:00\",\"2015-06-30T00:00:00\",\"2015-07-31T00:00:00\",\"2015-08-31T00:00:00\",\"2015-09-30T00:00:00\",\"2015-10-31T00:00:00\",\"2015-11-30T00:00:00\",\"2015-12-31T00:00:00\",\"2016-01-31T00:00:00\",\"2016-02-29T00:00:00\",\"2016-03-31T00:00:00\",\"2016-04-30T00:00:00\",\"2016-05-31T00:00:00\",\"2016-06-30T00:00:00\",\"2016-07-31T00:00:00\",\"2016-08-31T00:00:00\",\"2016-09-30T00:00:00\",\"2016-10-31T00:00:00\",\"2016-11-30T00:00:00\",\"2016-12-31T00:00:00\",\"2017-01-31T00:00:00\",\"2017-02-28T00:00:00\",\"2017-03-31T00:00:00\",\"2017-04-30T00:00:00\",\"2017-05-31T00:00:00\",\"2017-06-30T00:00:00\",\"2017-07-31T00:00:00\",\"2017-08-31T00:00:00\",\"2017-09-30T00:00:00\",\"2017-10-31T00:00:00\",\"2017-11-30T00:00:00\",\"2017-12-31T00:00:00\",\"2018-01-31T00:00:00\",\"2018-02-28T00:00:00\",\"2018-03-31T00:00:00\",\"2018-04-30T00:00:00\",\"2018-05-31T00:00:00\",\"2018-06-30T00:00:00\",\"2018-07-31T00:00:00\",\"2018-08-31T00:00:00\",\"2018-09-30T00:00:00\",\"2018-10-31T00:00:00\",\"2018-11-30T00:00:00\",\"2018-12-31T00:00:00\",\"2019-01-31T00:00:00\",\"2019-02-28T00:00:00\",\"2019-03-31T00:00:00\",\"2019-04-30T00:00:00\",\"2019-05-31T00:00:00\",\"2019-06-30T00:00:00\",\"2019-07-31T00:00:00\",\"2019-08-31T00:00:00\",\"2019-09-30T00:00:00\",\"2019-10-31T00:00:00\",\"2019-11-30T00:00:00\",\"2019-12-31T00:00:00\",\"2020-01-31T00:00:00\",\"2020-02-29T00:00:00\",\"2020-03-31T00:00:00\",\"2020-04-30T00:00:00\",\"2020-05-31T00:00:00\",\"2020-06-30T00:00:00\",\"2020-07-31T00:00:00\",\"2020-08-31T00:00:00\",\"2020-09-30T00:00:00\",\"2020-10-31T00:00:00\",\"2020-11-30T00:00:00\",\"2020-12-31T00:00:00\",\"2021-01-31T00:00:00\",\"2021-02-28T00:00:00\",\"2021-03-31T00:00:00\",\"2021-04-30T00:00:00\",\"2021-05-31T00:00:00\",\"2021-06-30T00:00:00\",\"2021-07-31T00:00:00\",\"2021-08-31T00:00:00\"],\"xaxis\":\"x\",\"y\":[1900.0,2350.0,2225.0,2340.0,2400.0,2340.0,2450.0,2525.0,2600.0,2600.0,2625.0,2600.0,2500.0,2450.0,2500.0,2900.0,2835.0,2750.0,2750.0,3100.0,3235.0,3050.0,3150.0,3200.0,3000.0,2900.0,3100.0,2850.0,2795.0,2590.0,3025.0,3200.0,3000.0,2895.0,3150.0,3200.0,3000.0,2875.0,2850.0,3100.0,3100.0,3700.0,3400.0,3200.0,3100.0,3050.0,2923.0,2800.0,2950.0,3050.0,2900.0,2800.0,3100.0,3500.0,3330.0,3300.0,3100.0,3100.0,3100.0,3175.0,3100.0,2973.0,2995.0,3150.0,3150.0,3000.0,3200.0,3325.0,3300.0,3275.0,3200.0,3200.0,3210.0,3125.0,3150.0,3150.0,3275.0,3250.0,3100.0,3250.0,3050.0,3150.0,2995.0,2848.0,2756.0,2815.0,2750.0,2688.0,3000.0,2973.0,3000.0,3250.0,3199.0,3200.0,3050.0,3000.0,3082.0,2950.0,2925.0,3100.0,3163.0,3176.0,3313.0,3350.0,3400.0,3125.0,3200.0,3198.0,3200.0,3250.0,3198.0,3140.0,3140.0,3300.0,3631.0,3800.0,3650.0,3575.0,3400.0,3640.0,3125.0,3400.0,3350.0,3500.0,3350.0,3200.0,3000.0,2915.0,2888.0,2800.0,2800.0,2850.0,2800.0,2725.0,2850.0,2600.0,2800.0,2725.0,2950.0,3200.0],\"yaxis\":\"y\"},{\"hovertemplate\":\"Neighborhood=DUMBO<br>Date=%{x}<br>Price=%{y}<extra></extra>\",\"legendgroup\":\"DUMBO\",\"line\":{\"color\":\"#FFA15A\",\"dash\":\"solid\"},\"marker\":{\"symbol\":\"circle\"},\"mode\":\"lines\",\"name\":\"DUMBO\",\"showlegend\":true,\"type\":\"scattergl\",\"x\":[\"2010-01-31T00:00:00\",\"2010-02-28T00:00:00\",\"2010-03-31T00:00:00\",\"2010-04-30T00:00:00\",\"2010-05-31T00:00:00\",\"2010-06-30T00:00:00\",\"2010-07-31T00:00:00\",\"2010-08-31T00:00:00\",\"2010-09-30T00:00:00\",\"2010-10-31T00:00:00\",\"2010-11-30T00:00:00\",\"2010-12-31T00:00:00\",\"2011-01-31T00:00:00\",\"2011-02-28T00:00:00\",\"2011-03-31T00:00:00\",\"2011-04-30T00:00:00\",\"2011-05-31T00:00:00\",\"2011-06-30T00:00:00\",\"2011-07-31T00:00:00\",\"2011-08-31T00:00:00\",\"2011-09-30T00:00:00\",\"2011-10-31T00:00:00\",\"2011-11-30T00:00:00\",\"2011-12-31T00:00:00\",\"2012-01-31T00:00:00\",\"2012-02-29T00:00:00\",\"2012-03-31T00:00:00\",\"2012-04-30T00:00:00\",\"2012-05-31T00:00:00\",\"2012-06-30T00:00:00\",\"2012-07-31T00:00:00\",\"2012-08-31T00:00:00\",\"2012-09-30T00:00:00\",\"2012-10-31T00:00:00\",\"2012-11-30T00:00:00\",\"2012-12-31T00:00:00\",\"2013-01-31T00:00:00\",\"2013-02-28T00:00:00\",\"2013-03-31T00:00:00\",\"2013-04-30T00:00:00\",\"2013-05-31T00:00:00\",\"2013-06-30T00:00:00\",\"2013-07-31T00:00:00\",\"2013-08-31T00:00:00\",\"2013-09-30T00:00:00\",\"2013-10-31T00:00:00\",\"2013-11-30T00:00:00\",\"2013-12-31T00:00:00\",\"2014-01-31T00:00:00\",\"2014-02-28T00:00:00\",\"2014-03-31T00:00:00\",\"2014-04-30T00:00:00\",\"2014-05-31T00:00:00\",\"2014-06-30T00:00:00\",\"2014-07-31T00:00:00\",\"2014-08-31T00:00:00\",\"2014-09-30T00:00:00\",\"2014-10-31T00:00:00\",\"2014-11-30T00:00:00\",\"2014-12-31T00:00:00\",\"2015-01-31T00:00:00\",\"2015-02-28T00:00:00\",\"2015-03-31T00:00:00\",\"2015-04-30T00:00:00\",\"2015-05-31T00:00:00\",\"2015-06-30T00:00:00\",\"2015-07-31T00:00:00\",\"2015-08-31T00:00:00\",\"2015-09-30T00:00:00\",\"2015-10-31T00:00:00\",\"2015-11-30T00:00:00\",\"2015-12-31T00:00:00\",\"2016-01-31T00:00:00\",\"2016-02-29T00:00:00\",\"2016-03-31T00:00:00\",\"2016-04-30T00:00:00\",\"2016-05-31T00:00:00\",\"2016-06-30T00:00:00\",\"2016-07-31T00:00:00\",\"2016-08-31T00:00:00\",\"2016-09-30T00:00:00\",\"2016-10-31T00:00:00\",\"2016-11-30T00:00:00\",\"2016-12-31T00:00:00\",\"2017-01-31T00:00:00\",\"2017-02-28T00:00:00\",\"2017-03-31T00:00:00\",\"2017-04-30T00:00:00\",\"2017-05-31T00:00:00\",\"2017-06-30T00:00:00\",\"2017-07-31T00:00:00\",\"2017-08-31T00:00:00\",\"2017-09-30T00:00:00\",\"2017-10-31T00:00:00\",\"2017-11-30T00:00:00\",\"2017-12-31T00:00:00\",\"2018-01-31T00:00:00\",\"2018-02-28T00:00:00\",\"2018-03-31T00:00:00\",\"2018-04-30T00:00:00\",\"2018-05-31T00:00:00\",\"2018-06-30T00:00:00\",\"2018-07-31T00:00:00\",\"2018-08-31T00:00:00\",\"2018-09-30T00:00:00\",\"2018-10-31T00:00:00\",\"2018-11-30T00:00:00\",\"2018-12-31T00:00:00\",\"2019-01-31T00:00:00\",\"2019-02-28T00:00:00\",\"2019-03-31T00:00:00\",\"2019-04-30T00:00:00\",\"2019-05-31T00:00:00\",\"2019-06-30T00:00:00\",\"2019-07-31T00:00:00\",\"2019-08-31T00:00:00\",\"2019-09-30T00:00:00\",\"2019-10-31T00:00:00\",\"2019-11-30T00:00:00\",\"2019-12-31T00:00:00\",\"2020-01-31T00:00:00\",\"2020-02-29T00:00:00\",\"2020-03-31T00:00:00\",\"2020-04-30T00:00:00\",\"2020-05-31T00:00:00\",\"2020-06-30T00:00:00\",\"2020-07-31T00:00:00\",\"2020-08-31T00:00:00\",\"2020-09-30T00:00:00\",\"2020-10-31T00:00:00\",\"2020-11-30T00:00:00\",\"2020-12-31T00:00:00\",\"2021-01-31T00:00:00\",\"2021-02-28T00:00:00\",\"2021-03-31T00:00:00\",\"2021-04-30T00:00:00\",\"2021-05-31T00:00:00\",\"2021-06-30T00:00:00\",\"2021-07-31T00:00:00\",\"2021-08-31T00:00:00\"],\"xaxis\":\"x\",\"y\":[3275.0,3200.0,2800.0,2875.0,2800.0,2950.0,3400.0,3825.0,4200.0,4150.0,4250.0,4200.0,4100.0,3950.0,3550.0,3650.0,3475.0,4000.0,4150.0,4000.0,4000.0,4000.0,4000.0,3775.0,4200.0,4200.0,4250.0,3500.0,3650.0,3700.0,4100.0,4300.0,4300.0,4300.0,4350.0,4100.0,4100.0,3500.0,3650.0,4200.0,4025.0,3800.0,3775.0,3938.0,3850.0,3650.0,3800.0,3773.0,4000.0,3888.0,4000.0,4000.0,4100.0,4175.0,4173.0,4250.0,4227.0,4300.0,4217.0,4100.0,3900.0,3943.0,4400.0,3950.0,3925.0,4100.0,4145.0,4373.0,4500.0,4350.0,4488.0,4525.0,4250.0,4100.0,4100.0,4300.0,4925.0,4800.0,4800.0,4370.0,4370.0,4550.0,4700.0,4400.0,4498.0,4750.0,4587.0,4473.0,4495.0,4495.0,4500.0,4250.0,4498.0,4375.0,4500.0,4431.0,4225.0,4148.0,4200.0,3918.0,4245.0,4500.0,4246.0,4649.0,4223.0,4745.0,4973.0,4984.0,4564.0,4333.0,4650.0,4498.0,4495.0,4613.0,4875.0,4964.0,4750.0,4500.0,4895.0,4980.0,4973.0,5152.0,4850.0,4600.0,4500.0,4498.0,4496.0,4250.0,4500.0,4495.0,4495.0,4095.0,4000.0,3900.0,3900.0,4150.0,4150.0,4225.0,4500.0,4745.0],\"yaxis\":\"y\"},{\"hovertemplate\":\"Neighborhood=Downtown Brooklyn<br>Date=%{x}<br>Price=%{y}<extra></extra>\",\"legendgroup\":\"Downtown Brooklyn\",\"line\":{\"color\":\"#19d3f3\",\"dash\":\"solid\"},\"marker\":{\"symbol\":\"circle\"},\"mode\":\"lines\",\"name\":\"Downtown Brooklyn\",\"showlegend\":true,\"type\":\"scattergl\",\"x\":[\"2010-01-31T00:00:00\",\"2010-02-28T00:00:00\",\"2010-03-31T00:00:00\",\"2010-04-30T00:00:00\",\"2010-05-31T00:00:00\",\"2010-06-30T00:00:00\",\"2010-07-31T00:00:00\",\"2010-08-31T00:00:00\",\"2010-09-30T00:00:00\",\"2010-10-31T00:00:00\",\"2010-11-30T00:00:00\",\"2010-12-31T00:00:00\",\"2011-01-31T00:00:00\",\"2011-02-28T00:00:00\",\"2011-03-31T00:00:00\",\"2011-04-30T00:00:00\",\"2011-05-31T00:00:00\",\"2011-06-30T00:00:00\",\"2011-07-31T00:00:00\",\"2011-08-31T00:00:00\",\"2011-09-30T00:00:00\",\"2011-10-31T00:00:00\",\"2011-11-30T00:00:00\",\"2011-12-31T00:00:00\",\"2012-01-31T00:00:00\",\"2012-02-29T00:00:00\",\"2012-03-31T00:00:00\",\"2012-04-30T00:00:00\",\"2012-05-31T00:00:00\",\"2012-06-30T00:00:00\",\"2012-07-31T00:00:00\",\"2012-08-31T00:00:00\",\"2012-09-30T00:00:00\",\"2012-10-31T00:00:00\",\"2012-11-30T00:00:00\",\"2012-12-31T00:00:00\",\"2013-01-31T00:00:00\",\"2013-02-28T00:00:00\",\"2013-03-31T00:00:00\",\"2013-04-30T00:00:00\",\"2013-05-31T00:00:00\",\"2013-06-30T00:00:00\",\"2013-07-31T00:00:00\",\"2013-08-31T00:00:00\",\"2013-09-30T00:00:00\",\"2013-10-31T00:00:00\",\"2013-11-30T00:00:00\",\"2013-12-31T00:00:00\",\"2014-01-31T00:00:00\",\"2014-02-28T00:00:00\",\"2014-03-31T00:00:00\",\"2014-04-30T00:00:00\",\"2014-05-31T00:00:00\",\"2014-06-30T00:00:00\",\"2014-07-31T00:00:00\",\"2014-08-31T00:00:00\",\"2014-09-30T00:00:00\",\"2014-10-31T00:00:00\",\"2014-11-30T00:00:00\",\"2014-12-31T00:00:00\",\"2015-01-31T00:00:00\",\"2015-02-28T00:00:00\",\"2015-03-31T00:00:00\",\"2015-04-30T00:00:00\",\"2015-05-31T00:00:00\",\"2015-06-30T00:00:00\",\"2015-07-31T00:00:00\",\"2015-08-31T00:00:00\",\"2015-09-30T00:00:00\",\"2015-10-31T00:00:00\",\"2015-11-30T00:00:00\",\"2015-12-31T00:00:00\",\"2016-01-31T00:00:00\",\"2016-02-29T00:00:00\",\"2016-03-31T00:00:00\",\"2016-04-30T00:00:00\",\"2016-05-31T00:00:00\",\"2016-06-30T00:00:00\",\"2016-07-31T00:00:00\",\"2016-08-31T00:00:00\",\"2016-09-30T00:00:00\",\"2016-10-31T00:00:00\",\"2016-11-30T00:00:00\",\"2016-12-31T00:00:00\",\"2017-01-31T00:00:00\",\"2017-02-28T00:00:00\",\"2017-03-31T00:00:00\",\"2017-04-30T00:00:00\",\"2017-05-31T00:00:00\",\"2017-06-30T00:00:00\",\"2017-07-31T00:00:00\",\"2017-08-31T00:00:00\",\"2017-09-30T00:00:00\",\"2017-10-31T00:00:00\",\"2017-11-30T00:00:00\",\"2017-12-31T00:00:00\",\"2018-01-31T00:00:00\",\"2018-02-28T00:00:00\",\"2018-03-31T00:00:00\",\"2018-04-30T00:00:00\",\"2018-05-31T00:00:00\",\"2018-06-30T00:00:00\",\"2018-07-31T00:00:00\",\"2018-08-31T00:00:00\",\"2018-09-30T00:00:00\",\"2018-10-31T00:00:00\",\"2018-11-30T00:00:00\",\"2018-12-31T00:00:00\",\"2019-01-31T00:00:00\",\"2019-02-28T00:00:00\",\"2019-03-31T00:00:00\",\"2019-04-30T00:00:00\",\"2019-05-31T00:00:00\",\"2019-06-30T00:00:00\",\"2019-07-31T00:00:00\",\"2019-08-31T00:00:00\",\"2019-09-30T00:00:00\",\"2019-10-31T00:00:00\",\"2019-11-30T00:00:00\",\"2019-12-31T00:00:00\",\"2020-01-31T00:00:00\",\"2020-02-29T00:00:00\",\"2020-03-31T00:00:00\",\"2020-04-30T00:00:00\",\"2020-05-31T00:00:00\",\"2020-06-30T00:00:00\",\"2020-07-31T00:00:00\",\"2020-08-31T00:00:00\",\"2020-09-30T00:00:00\",\"2020-10-31T00:00:00\",\"2020-11-30T00:00:00\",\"2020-12-31T00:00:00\",\"2021-01-31T00:00:00\",\"2021-02-28T00:00:00\",\"2021-03-31T00:00:00\",\"2021-04-30T00:00:00\",\"2021-05-31T00:00:00\",\"2021-06-30T00:00:00\",\"2021-07-31T00:00:00\",\"2021-08-31T00:00:00\"],\"xaxis\":\"x\",\"y\":[2247.0,2227.0,2191.0,2250.0,2400.0,2472.0,2550.0,2569.0,2530.0,2505.0,2551.0,2500.0,2600.0,2498.0,2450.0,2495.0,2301.0,2424.0,2500.0,2520.0,2500.0,2500.0,2625.0,2698.0,2500.0,2443.0,2511.0,2452.0,2650.0,2800.0,2800.0,2835.0,2813.0,2800.0,2923.0,3000.0,3000.0,2925.0,2915.0,2900.0,2898.0,2880.0,2900.0,3000.0,2883.0,2905.0,2850.0,2900.0,2900.0,3000.0,2950.0,2895.0,2900.0,2948.0,3000.0,3095.0,3100.0,3170.0,3200.0,3165.0,3181.0,3230.0,3255.0,3228.0,3240.0,3205.0,3184.0,3184.0,3195.0,3185.0,3108.0,3115.0,3123.0,3103.0,3157.0,3161.0,3135.0,3175.0,3177.0,3162.0,3078.0,3093.0,3108.0,3058.0,3051.0,3132.0,3050.0,3131.0,3120.0,3145.0,3195.0,3235.0,3188.0,3195.0,3086.0,3150.0,3195.0,3278.0,3379.0,3465.0,3395.0,3407.0,3365.0,3400.0,3367.0,3345.0,3275.0,3390.0,3336.0,3299.0,3367.0,3480.0,3462.0,3500.0,3612.0,3645.0,3600.0,3500.0,3400.0,3366.0,3482.0,3440.0,3332.0,3193.0,3228.0,3250.0,3200.0,3050.0,2900.0,2888.0,2925.0,2995.0,3000.0,3000.0,3095.0,3275.0,3409.0,3627.0,3654.0,3949.0],\"yaxis\":\"y\"},{\"hovertemplate\":\"Neighborhood=Gravesend/Homecrest<br>Date=%{x}<br>Price=%{y}<extra></extra>\",\"legendgroup\":\"Gravesend/Homecrest\",\"line\":{\"color\":\"#FF6692\",\"dash\":\"solid\"},\"marker\":{\"symbol\":\"circle\"},\"mode\":\"lines\",\"name\":\"Gravesend/Homecrest\",\"showlegend\":true,\"type\":\"scattergl\",\"x\":[\"2010-01-31T00:00:00\",\"2010-02-28T00:00:00\",\"2010-03-31T00:00:00\",\"2010-04-30T00:00:00\",\"2010-05-31T00:00:00\",\"2010-06-30T00:00:00\",\"2010-07-31T00:00:00\",\"2010-08-31T00:00:00\",\"2010-09-30T00:00:00\",\"2010-10-31T00:00:00\",\"2010-11-30T00:00:00\",\"2010-12-31T00:00:00\",\"2011-01-31T00:00:00\",\"2011-02-28T00:00:00\",\"2011-03-31T00:00:00\",\"2011-04-30T00:00:00\",\"2011-05-31T00:00:00\",\"2011-06-30T00:00:00\",\"2011-07-31T00:00:00\",\"2011-08-31T00:00:00\",\"2011-09-30T00:00:00\",\"2011-10-31T00:00:00\",\"2011-11-30T00:00:00\",\"2011-12-31T00:00:00\",\"2012-01-31T00:00:00\",\"2012-02-29T00:00:00\",\"2012-03-31T00:00:00\",\"2012-04-30T00:00:00\",\"2012-05-31T00:00:00\",\"2012-06-30T00:00:00\",\"2012-07-31T00:00:00\",\"2012-08-31T00:00:00\",\"2012-09-30T00:00:00\",\"2012-10-31T00:00:00\",\"2012-11-30T00:00:00\",\"2012-12-31T00:00:00\",\"2013-01-31T00:00:00\",\"2013-02-28T00:00:00\",\"2013-03-31T00:00:00\",\"2013-04-30T00:00:00\",\"2013-05-31T00:00:00\",\"2013-06-30T00:00:00\",\"2013-07-31T00:00:00\",\"2013-08-31T00:00:00\",\"2013-09-30T00:00:00\",\"2013-10-31T00:00:00\",\"2013-11-30T00:00:00\",\"2013-12-31T00:00:00\",\"2014-01-31T00:00:00\",\"2014-02-28T00:00:00\",\"2014-03-31T00:00:00\",\"2014-04-30T00:00:00\",\"2014-05-31T00:00:00\",\"2014-06-30T00:00:00\",\"2014-07-31T00:00:00\",\"2014-08-31T00:00:00\",\"2014-09-30T00:00:00\",\"2014-10-31T00:00:00\",\"2014-11-30T00:00:00\",\"2014-12-31T00:00:00\",\"2015-01-31T00:00:00\",\"2015-02-28T00:00:00\",\"2015-03-31T00:00:00\",\"2015-04-30T00:00:00\",\"2015-05-31T00:00:00\",\"2015-06-30T00:00:00\",\"2015-07-31T00:00:00\",\"2015-08-31T00:00:00\",\"2015-09-30T00:00:00\",\"2015-10-31T00:00:00\",\"2015-11-30T00:00:00\",\"2015-12-31T00:00:00\",\"2016-01-31T00:00:00\",\"2016-02-29T00:00:00\",\"2016-03-31T00:00:00\",\"2016-04-30T00:00:00\",\"2016-05-31T00:00:00\",\"2016-06-30T00:00:00\",\"2016-07-31T00:00:00\",\"2016-08-31T00:00:00\",\"2016-09-30T00:00:00\",\"2016-10-31T00:00:00\",\"2016-11-30T00:00:00\",\"2016-12-31T00:00:00\",\"2017-01-31T00:00:00\",\"2017-02-28T00:00:00\",\"2017-03-31T00:00:00\",\"2017-04-30T00:00:00\",\"2017-05-31T00:00:00\",\"2017-06-30T00:00:00\",\"2017-07-31T00:00:00\",\"2017-08-31T00:00:00\",\"2017-09-30T00:00:00\",\"2017-10-31T00:00:00\",\"2017-11-30T00:00:00\",\"2017-12-31T00:00:00\",\"2018-01-31T00:00:00\",\"2018-02-28T00:00:00\",\"2018-03-31T00:00:00\",\"2018-04-30T00:00:00\",\"2018-05-31T00:00:00\",\"2018-06-30T00:00:00\",\"2018-07-31T00:00:00\",\"2018-08-31T00:00:00\",\"2018-09-30T00:00:00\",\"2018-10-31T00:00:00\",\"2018-11-30T00:00:00\",\"2018-12-31T00:00:00\",\"2019-01-31T00:00:00\",\"2019-02-28T00:00:00\",\"2019-03-31T00:00:00\",\"2019-04-30T00:00:00\",\"2019-05-31T00:00:00\",\"2019-06-30T00:00:00\",\"2019-07-31T00:00:00\",\"2019-08-31T00:00:00\",\"2019-09-30T00:00:00\",\"2019-10-31T00:00:00\",\"2019-11-30T00:00:00\",\"2019-12-31T00:00:00\",\"2020-01-31T00:00:00\",\"2020-02-29T00:00:00\",\"2020-03-31T00:00:00\",\"2020-04-30T00:00:00\",\"2020-05-31T00:00:00\",\"2020-06-30T00:00:00\",\"2020-07-31T00:00:00\",\"2020-08-31T00:00:00\",\"2020-09-30T00:00:00\",\"2020-10-31T00:00:00\",\"2020-11-30T00:00:00\",\"2020-12-31T00:00:00\",\"2021-01-31T00:00:00\",\"2021-02-28T00:00:00\",\"2021-03-31T00:00:00\",\"2021-04-30T00:00:00\",\"2021-05-31T00:00:00\",\"2021-06-30T00:00:00\",\"2021-07-31T00:00:00\",\"2021-08-31T00:00:00\"],\"xaxis\":\"x\",\"y\":[null,1519.0,1400.0,1388.0,1377.5,1367.0,1356.5,1346.0,1335.5,1325.0,1313.0,1300.0,1300.0,1275.0,1400.0,1425.0,1450.0,1475.0,1423.0,1498.0,1250.0,1359.0,1250.0,1275.0,1500.0,1445.0,1380.0,1315.0,1250.0,1410.0,1410.0,1500.0,1563.0,1250.0,1325.0,1495.0,1400.0,1375.0,1375.0,1413.0,1393.0,1400.0,1600.0,1700.0,1500.0,1550.0,1525.0,1500.0,1475.0,1450.0,1400.0,1400.0,1400.0,1400.0,1613.0,1716.0,1450.0,1495.0,1625.0,1600.0,1650.0,1688.0,1700.0,1700.0,1695.0,1625.0,1675.0,1700.0,1750.0,1750.0,1750.0,1675.0,1750.0,1725.0,1775.0,1850.0,1925.0,1985.0,1695.0,1775.0,1800.0,1825.0,1910.0,1773.0,1800.0,1895.0,1800.0,1800.0,1750.0,1800.0,1800.0,1713.0,1800.0,1710.0,1875.0,1735.0,1698.0,1700.0,1750.0,1799.0,1913.0,1799.0,1800.0,1850.0,1750.0,1950.0,1800.0,1725.0,1700.0,1713.0,1750.0,1750.0,1795.0,1742.0,1799.0,1799.0,1871.0,1900.0,1900.0,1800.0,1950.0,1950.0,1800.0,1770.0,1800.0,1800.0,1850.0,1800.0,1825.0,1776.0,1776.0,1700.0,1713.0,1750.0,1758.0,1750.0,1800.0,1800.0,1800.0,1820.0],\"yaxis\":\"y\"},{\"hovertemplate\":\"Neighborhood=Midwood<br>Date=%{x}<br>Price=%{y}<extra></extra>\",\"legendgroup\":\"Midwood\",\"line\":{\"color\":\"#B6E880\",\"dash\":\"solid\"},\"marker\":{\"symbol\":\"circle\"},\"mode\":\"lines\",\"name\":\"Midwood\",\"showlegend\":true,\"type\":\"scattergl\",\"x\":[\"2010-01-31T00:00:00\",\"2010-02-28T00:00:00\",\"2010-03-31T00:00:00\",\"2010-04-30T00:00:00\",\"2010-05-31T00:00:00\",\"2010-06-30T00:00:00\",\"2010-07-31T00:00:00\",\"2010-08-31T00:00:00\",\"2010-09-30T00:00:00\",\"2010-10-31T00:00:00\",\"2010-11-30T00:00:00\",\"2010-12-31T00:00:00\",\"2011-01-31T00:00:00\",\"2011-02-28T00:00:00\",\"2011-03-31T00:00:00\",\"2011-04-30T00:00:00\",\"2011-05-31T00:00:00\",\"2011-06-30T00:00:00\",\"2011-07-31T00:00:00\",\"2011-08-31T00:00:00\",\"2011-09-30T00:00:00\",\"2011-10-31T00:00:00\",\"2011-11-30T00:00:00\",\"2011-12-31T00:00:00\",\"2012-01-31T00:00:00\",\"2012-02-29T00:00:00\",\"2012-03-31T00:00:00\",\"2012-04-30T00:00:00\",\"2012-05-31T00:00:00\",\"2012-06-30T00:00:00\",\"2012-07-31T00:00:00\",\"2012-08-31T00:00:00\",\"2012-09-30T00:00:00\",\"2012-10-31T00:00:00\",\"2012-11-30T00:00:00\",\"2012-12-31T00:00:00\",\"2013-01-31T00:00:00\",\"2013-02-28T00:00:00\",\"2013-03-31T00:00:00\",\"2013-04-30T00:00:00\",\"2013-05-31T00:00:00\",\"2013-06-30T00:00:00\",\"2013-07-31T00:00:00\",\"2013-08-31T00:00:00\",\"2013-09-30T00:00:00\",\"2013-10-31T00:00:00\",\"2013-11-30T00:00:00\",\"2013-12-31T00:00:00\",\"2014-01-31T00:00:00\",\"2014-02-28T00:00:00\",\"2014-03-31T00:00:00\",\"2014-04-30T00:00:00\",\"2014-05-31T00:00:00\",\"2014-06-30T00:00:00\",\"2014-07-31T00:00:00\",\"2014-08-31T00:00:00\",\"2014-09-30T00:00:00\",\"2014-10-31T00:00:00\",\"2014-11-30T00:00:00\",\"2014-12-31T00:00:00\",\"2015-01-31T00:00:00\",\"2015-02-28T00:00:00\",\"2015-03-31T00:00:00\",\"2015-04-30T00:00:00\",\"2015-05-31T00:00:00\",\"2015-06-30T00:00:00\",\"2015-07-31T00:00:00\",\"2015-08-31T00:00:00\",\"2015-09-30T00:00:00\",\"2015-10-31T00:00:00\",\"2015-11-30T00:00:00\",\"2015-12-31T00:00:00\",\"2016-01-31T00:00:00\",\"2016-02-29T00:00:00\",\"2016-03-31T00:00:00\",\"2016-04-30T00:00:00\",\"2016-05-31T00:00:00\",\"2016-06-30T00:00:00\",\"2016-07-31T00:00:00\",\"2016-08-31T00:00:00\",\"2016-09-30T00:00:00\",\"2016-10-31T00:00:00\",\"2016-11-30T00:00:00\",\"2016-12-31T00:00:00\",\"2017-01-31T00:00:00\",\"2017-02-28T00:00:00\",\"2017-03-31T00:00:00\",\"2017-04-30T00:00:00\",\"2017-05-31T00:00:00\",\"2017-06-30T00:00:00\",\"2017-07-31T00:00:00\",\"2017-08-31T00:00:00\",\"2017-09-30T00:00:00\",\"2017-10-31T00:00:00\",\"2017-11-30T00:00:00\",\"2017-12-31T00:00:00\",\"2018-01-31T00:00:00\",\"2018-02-28T00:00:00\",\"2018-03-31T00:00:00\",\"2018-04-30T00:00:00\",\"2018-05-31T00:00:00\",\"2018-06-30T00:00:00\",\"2018-07-31T00:00:00\",\"2018-08-31T00:00:00\",\"2018-09-30T00:00:00\",\"2018-10-31T00:00:00\",\"2018-11-30T00:00:00\",\"2018-12-31T00:00:00\",\"2019-01-31T00:00:00\",\"2019-02-28T00:00:00\",\"2019-03-31T00:00:00\",\"2019-04-30T00:00:00\",\"2019-05-31T00:00:00\",\"2019-06-30T00:00:00\",\"2019-07-31T00:00:00\",\"2019-08-31T00:00:00\",\"2019-09-30T00:00:00\",\"2019-10-31T00:00:00\",\"2019-11-30T00:00:00\",\"2019-12-31T00:00:00\",\"2020-01-31T00:00:00\",\"2020-02-29T00:00:00\",\"2020-03-31T00:00:00\",\"2020-04-30T00:00:00\",\"2020-05-31T00:00:00\",\"2020-06-30T00:00:00\",\"2020-07-31T00:00:00\",\"2020-08-31T00:00:00\",\"2020-09-30T00:00:00\",\"2020-10-31T00:00:00\",\"2020-11-30T00:00:00\",\"2020-12-31T00:00:00\",\"2021-01-31T00:00:00\",\"2021-02-28T00:00:00\",\"2021-03-31T00:00:00\",\"2021-04-30T00:00:00\",\"2021-05-31T00:00:00\",\"2021-06-30T00:00:00\",\"2021-07-31T00:00:00\",\"2021-08-31T00:00:00\"],\"xaxis\":\"x\",\"y\":[1825.0,1850.0,1675.0,1725.0,1725.0,1725.0,1650.0,1525.0,1412.5,1300.0,1448.0,1300.0,1275.0,1349.0,1349.0,1399.0,1500.0,1500.0,1500.0,1500.0,1473.0,1500.0,1500.0,1400.0,1400.0,1300.0,1300.0,1400.0,1500.0,1450.0,1400.0,1375.0,1363.0,1300.0,1400.0,1350.0,1350.0,1300.0,1300.0,1500.0,1550.0,1575.0,1350.0,1400.0,1350.0,1400.0,1400.0,1350.0,1350.0,1350.0,1475.0,1525.0,1575.0,1595.0,1600.0,1600.0,1508.0,1533.0,1495.0,1495.0,1500.0,1525.0,1560.0,1550.0,1600.0,1700.0,1700.0,1799.0,1750.0,1750.0,1725.0,1700.0,1650.0,1763.0,1775.0,1850.0,1850.0,1897.0,1863.0,1825.0,1838.0,1725.0,1800.0,1830.0,1800.0,1825.0,1900.0,1888.0,1800.0,1850.0,1800.0,1750.0,1850.0,1787.0,1800.0,1700.0,1765.0,1750.0,1725.0,1750.0,1750.0,1750.0,1795.0,1850.0,1895.0,1815.0,1820.0,1799.0,1850.0,1847.0,1850.0,1899.0,1900.0,1875.0,1900.0,2075.0,1950.0,1975.0,2000.0,2100.0,2100.0,2050.0,2100.0,2077.0,2055.0,2000.0,1937.0,1950.0,1865.0,1850.0,1850.0,1850.0,1850.0,1795.0,1800.0,1850.0,1950.0,1995.0,1976.0,1975.0],\"yaxis\":\"y\"},{\"hovertemplate\":\"Neighborhood=Williamsburg<br>Date=%{x}<br>Price=%{y}<extra></extra>\",\"legendgroup\":\"Williamsburg\",\"line\":{\"color\":\"#FF97FF\",\"dash\":\"solid\"},\"marker\":{\"symbol\":\"circle\"},\"mode\":\"lines\",\"name\":\"Williamsburg\",\"showlegend\":true,\"type\":\"scattergl\",\"x\":[\"2010-01-31T00:00:00\",\"2010-02-28T00:00:00\",\"2010-03-31T00:00:00\",\"2010-04-30T00:00:00\",\"2010-05-31T00:00:00\",\"2010-06-30T00:00:00\",\"2010-07-31T00:00:00\",\"2010-08-31T00:00:00\",\"2010-09-30T00:00:00\",\"2010-10-31T00:00:00\",\"2010-11-30T00:00:00\",\"2010-12-31T00:00:00\",\"2011-01-31T00:00:00\",\"2011-02-28T00:00:00\",\"2011-03-31T00:00:00\",\"2011-04-30T00:00:00\",\"2011-05-31T00:00:00\",\"2011-06-30T00:00:00\",\"2011-07-31T00:00:00\",\"2011-08-31T00:00:00\",\"2011-09-30T00:00:00\",\"2011-10-31T00:00:00\",\"2011-11-30T00:00:00\",\"2011-12-31T00:00:00\",\"2012-01-31T00:00:00\",\"2012-02-29T00:00:00\",\"2012-03-31T00:00:00\",\"2012-04-30T00:00:00\",\"2012-05-31T00:00:00\",\"2012-06-30T00:00:00\",\"2012-07-31T00:00:00\",\"2012-08-31T00:00:00\",\"2012-09-30T00:00:00\",\"2012-10-31T00:00:00\",\"2012-11-30T00:00:00\",\"2012-12-31T00:00:00\",\"2013-01-31T00:00:00\",\"2013-02-28T00:00:00\",\"2013-03-31T00:00:00\",\"2013-04-30T00:00:00\",\"2013-05-31T00:00:00\",\"2013-06-30T00:00:00\",\"2013-07-31T00:00:00\",\"2013-08-31T00:00:00\",\"2013-09-30T00:00:00\",\"2013-10-31T00:00:00\",\"2013-11-30T00:00:00\",\"2013-12-31T00:00:00\",\"2014-01-31T00:00:00\",\"2014-02-28T00:00:00\",\"2014-03-31T00:00:00\",\"2014-04-30T00:00:00\",\"2014-05-31T00:00:00\",\"2014-06-30T00:00:00\",\"2014-07-31T00:00:00\",\"2014-08-31T00:00:00\",\"2014-09-30T00:00:00\",\"2014-10-31T00:00:00\",\"2014-11-30T00:00:00\",\"2014-12-31T00:00:00\",\"2015-01-31T00:00:00\",\"2015-02-28T00:00:00\",\"2015-03-31T00:00:00\",\"2015-04-30T00:00:00\",\"2015-05-31T00:00:00\",\"2015-06-30T00:00:00\",\"2015-07-31T00:00:00\",\"2015-08-31T00:00:00\",\"2015-09-30T00:00:00\",\"2015-10-31T00:00:00\",\"2015-11-30T00:00:00\",\"2015-12-31T00:00:00\",\"2016-01-31T00:00:00\",\"2016-02-29T00:00:00\",\"2016-03-31T00:00:00\",\"2016-04-30T00:00:00\",\"2016-05-31T00:00:00\",\"2016-06-30T00:00:00\",\"2016-07-31T00:00:00\",\"2016-08-31T00:00:00\",\"2016-09-30T00:00:00\",\"2016-10-31T00:00:00\",\"2016-11-30T00:00:00\",\"2016-12-31T00:00:00\",\"2017-01-31T00:00:00\",\"2017-02-28T00:00:00\",\"2017-03-31T00:00:00\",\"2017-04-30T00:00:00\",\"2017-05-31T00:00:00\",\"2017-06-30T00:00:00\",\"2017-07-31T00:00:00\",\"2017-08-31T00:00:00\",\"2017-09-30T00:00:00\",\"2017-10-31T00:00:00\",\"2017-11-30T00:00:00\",\"2017-12-31T00:00:00\",\"2018-01-31T00:00:00\",\"2018-02-28T00:00:00\",\"2018-03-31T00:00:00\",\"2018-04-30T00:00:00\",\"2018-05-31T00:00:00\",\"2018-06-30T00:00:00\",\"2018-07-31T00:00:00\",\"2018-08-31T00:00:00\",\"2018-09-30T00:00:00\",\"2018-10-31T00:00:00\",\"2018-11-30T00:00:00\",\"2018-12-31T00:00:00\",\"2019-01-31T00:00:00\",\"2019-02-28T00:00:00\",\"2019-03-31T00:00:00\",\"2019-04-30T00:00:00\",\"2019-05-31T00:00:00\",\"2019-06-30T00:00:00\",\"2019-07-31T00:00:00\",\"2019-08-31T00:00:00\",\"2019-09-30T00:00:00\",\"2019-10-31T00:00:00\",\"2019-11-30T00:00:00\",\"2019-12-31T00:00:00\",\"2020-01-31T00:00:00\",\"2020-02-29T00:00:00\",\"2020-03-31T00:00:00\",\"2020-04-30T00:00:00\",\"2020-05-31T00:00:00\",\"2020-06-30T00:00:00\",\"2020-07-31T00:00:00\",\"2020-08-31T00:00:00\",\"2020-09-30T00:00:00\",\"2020-10-31T00:00:00\",\"2020-11-30T00:00:00\",\"2020-12-31T00:00:00\",\"2021-01-31T00:00:00\",\"2021-02-28T00:00:00\",\"2021-03-31T00:00:00\",\"2021-04-30T00:00:00\",\"2021-05-31T00:00:00\",\"2021-06-30T00:00:00\",\"2021-07-31T00:00:00\",\"2021-08-31T00:00:00\"],\"xaxis\":\"x\",\"y\":[2500.0,2500.0,2500.0,2600.0,2625.0,2700.0,2775.0,2830.0,2900.0,2950.0,2800.0,2723.0,2800.0,2750.0,2763.0,2900.0,2900.0,2973.0,2900.0,2900.0,2973.0,3000.0,3000.0,2850.0,3032.0,3000.0,3000.0,3075.0,3150.0,3250.0,3200.0,3100.0,3325.0,3350.0,3350.0,3499.0,3400.0,3300.0,3200.0,3000.0,3150.0,3250.0,3200.0,3200.0,3195.0,3100.0,3100.0,2997.0,3000.0,3000.0,3071.0,3200.0,3200.0,3250.0,3250.0,3200.0,3200.0,3169.0,3050.0,3050.0,3050.0,3050.0,3070.0,3100.0,3150.0,3300.0,3385.0,3300.0,3207.0,3210.0,3250.0,3300.0,3275.0,3200.0,3100.0,3100.0,3195.0,3199.0,3195.0,3200.0,3150.0,3150.0,3100.0,3057.0,3000.0,3000.0,3050.0,3100.0,3142.0,3180.0,3115.0,3115.0,3100.0,3000.0,2966.0,2900.0,2900.0,2950.0,2950.0,2999.0,3000.0,3000.0,3000.0,3000.0,2999.0,2999.0,2900.0,2886.0,2986.0,3000.0,3000.0,3200.0,3299.0,3300.0,3437.0,3437.0,3500.0,3500.0,3600.0,3600.0,3500.0,3499.0,3499.0,3495.0,3300.0,3199.0,3150.0,3000.0,2900.0,2833.0,2800.0,2800.0,2790.0,2800.0,2800.0,2800.0,2850.0,3075.0,3400.0,3654.0],\"yaxis\":\"y\"},{\"hovertemplate\":\"Neighborhood=Bath Beach/Bensonhurst<br>Date=%{x}<br>Price=%{y}<extra></extra>\",\"legendgroup\":\"Bath Beach/Bensonhurst\",\"line\":{\"color\":\"#FECB52\",\"dash\":\"solid\"},\"marker\":{\"symbol\":\"circle\"},\"mode\":\"lines\",\"name\":\"Bath Beach/Bensonhurst\",\"showlegend\":true,\"type\":\"scattergl\",\"x\":[\"2010-01-31T00:00:00\",\"2010-02-28T00:00:00\",\"2010-03-31T00:00:00\",\"2010-04-30T00:00:00\",\"2010-05-31T00:00:00\",\"2010-06-30T00:00:00\",\"2010-07-31T00:00:00\",\"2010-08-31T00:00:00\",\"2010-09-30T00:00:00\",\"2010-10-31T00:00:00\",\"2010-11-30T00:00:00\",\"2010-12-31T00:00:00\",\"2011-01-31T00:00:00\",\"2011-02-28T00:00:00\",\"2011-03-31T00:00:00\",\"2011-04-30T00:00:00\",\"2011-05-31T00:00:00\",\"2011-06-30T00:00:00\",\"2011-07-31T00:00:00\",\"2011-08-31T00:00:00\",\"2011-09-30T00:00:00\",\"2011-10-31T00:00:00\",\"2011-11-30T00:00:00\",\"2011-12-31T00:00:00\",\"2012-01-31T00:00:00\",\"2012-02-29T00:00:00\",\"2012-03-31T00:00:00\",\"2012-04-30T00:00:00\",\"2012-05-31T00:00:00\",\"2012-06-30T00:00:00\",\"2012-07-31T00:00:00\",\"2012-08-31T00:00:00\",\"2012-09-30T00:00:00\",\"2012-10-31T00:00:00\",\"2012-11-30T00:00:00\",\"2012-12-31T00:00:00\",\"2013-01-31T00:00:00\",\"2013-02-28T00:00:00\",\"2013-03-31T00:00:00\",\"2013-04-30T00:00:00\",\"2013-05-31T00:00:00\",\"2013-06-30T00:00:00\",\"2013-07-31T00:00:00\",\"2013-08-31T00:00:00\",\"2013-09-30T00:00:00\",\"2013-10-31T00:00:00\",\"2013-11-30T00:00:00\",\"2013-12-31T00:00:00\",\"2014-01-31T00:00:00\",\"2014-02-28T00:00:00\",\"2014-03-31T00:00:00\",\"2014-04-30T00:00:00\",\"2014-05-31T00:00:00\",\"2014-06-30T00:00:00\",\"2014-07-31T00:00:00\",\"2014-08-31T00:00:00\",\"2014-09-30T00:00:00\",\"2014-10-31T00:00:00\",\"2014-11-30T00:00:00\",\"2014-12-31T00:00:00\",\"2015-01-31T00:00:00\",\"2015-02-28T00:00:00\",\"2015-03-31T00:00:00\",\"2015-04-30T00:00:00\",\"2015-05-31T00:00:00\",\"2015-06-30T00:00:00\",\"2015-07-31T00:00:00\",\"2015-08-31T00:00:00\",\"2015-09-30T00:00:00\",\"2015-10-31T00:00:00\",\"2015-11-30T00:00:00\",\"2015-12-31T00:00:00\",\"2016-01-31T00:00:00\",\"2016-02-29T00:00:00\",\"2016-03-31T00:00:00\",\"2016-04-30T00:00:00\",\"2016-05-31T00:00:00\",\"2016-06-30T00:00:00\",\"2016-07-31T00:00:00\",\"2016-08-31T00:00:00\",\"2016-09-30T00:00:00\",\"2016-10-31T00:00:00\",\"2016-11-30T00:00:00\",\"2016-12-31T00:00:00\",\"2017-01-31T00:00:00\",\"2017-02-28T00:00:00\",\"2017-03-31T00:00:00\",\"2017-04-30T00:00:00\",\"2017-05-31T00:00:00\",\"2017-06-30T00:00:00\",\"2017-07-31T00:00:00\",\"2017-08-31T00:00:00\",\"2017-09-30T00:00:00\",\"2017-10-31T00:00:00\",\"2017-11-30T00:00:00\",\"2017-12-31T00:00:00\",\"2018-01-31T00:00:00\",\"2018-02-28T00:00:00\",\"2018-03-31T00:00:00\",\"2018-04-30T00:00:00\",\"2018-05-31T00:00:00\",\"2018-06-30T00:00:00\",\"2018-07-31T00:00:00\",\"2018-08-31T00:00:00\",\"2018-09-30T00:00:00\",\"2018-10-31T00:00:00\",\"2018-11-30T00:00:00\",\"2018-12-31T00:00:00\",\"2019-01-31T00:00:00\",\"2019-02-28T00:00:00\",\"2019-03-31T00:00:00\",\"2019-04-30T00:00:00\",\"2019-05-31T00:00:00\",\"2019-06-30T00:00:00\",\"2019-07-31T00:00:00\",\"2019-08-31T00:00:00\",\"2019-09-30T00:00:00\",\"2019-10-31T00:00:00\",\"2019-11-30T00:00:00\",\"2019-12-31T00:00:00\",\"2020-01-31T00:00:00\",\"2020-02-29T00:00:00\",\"2020-03-31T00:00:00\",\"2020-04-30T00:00:00\",\"2020-05-31T00:00:00\",\"2020-06-30T00:00:00\",\"2020-07-31T00:00:00\",\"2020-08-31T00:00:00\",\"2020-09-30T00:00:00\",\"2020-10-31T00:00:00\",\"2020-11-30T00:00:00\",\"2020-12-31T00:00:00\",\"2021-01-31T00:00:00\",\"2021-02-28T00:00:00\",\"2021-03-31T00:00:00\",\"2021-04-30T00:00:00\",\"2021-05-31T00:00:00\",\"2021-06-30T00:00:00\",\"2021-07-31T00:00:00\",\"2021-08-31T00:00:00\"],\"xaxis\":\"x\",\"y\":[null,null,null,null,null,null,null,null,null,null,null,null,null,null,1300.0,1300.0,1350.0,1488.0,1375.0,1150.0,1075.0,1188.0,1200.0,1075.0,1138.0,1193.29,1248.57,1303.86,1359.14,1414.43,1469.71,1525.0,1550.0,1537.5,1525.0,1512.5,1500.0,1500.0,1425.0,1238.0,1350.0,1350.0,1400.0,1450.0,1313.0,1550.0,1487.5,1518.0,1511.5,1395.0,1450.0,1575.0,1900.0,1612.5,1650.0,1650.0,1637.5,1487.5,1500.0,1550.0,1662.5,1750.0,1687.5,1850.0,1774.0,1631.5,1647.5,1662.5,1725.0,1800.0,1850.0,1824.0,1710.0,1825.0,1899.0,1961.5,2025.0,1950.0,1949.0,1950.0,2150.0,2112.5,1887.5,1812.5,2050.0,1899.0,1825.0,1875.0,1825.0,1887.5,1837.5,1912.5,1787.5,1818.0,1850.0,1799.0,1787.5,1850.0,1900.0,1911.5,1940.0,1857.5,1700.0,1762.5,1787.5,1800.0,1794.0,1787.5,1775.0,1712.5,1797.5,1737.5,1797.5,1725.0,1749.5,1747.5,1747.5,1800.0,1772.5,1810.0,1878.5,1947.5,2012.0,1775.0,1787.5,1775.0,1775.0,1900.0,1797.5,1700.0,1692.5,1610.0,1624.0,1687.5,1768.5,1700.0,1691.5,1749.5,1697.5,1725.0],\"yaxis\":\"y\"}],                        {\"legend\":{\"title\":{\"text\":\"Neighborhood\"},\"tracegroupgap\":0},\"template\":{\"data\":{\"bar\":[{\"error_x\":{\"color\":\"#2a3f5f\"},\"error_y\":{\"color\":\"#2a3f5f\"},\"marker\":{\"line\":{\"color\":\"#E5ECF6\",\"width\":0.5},\"pattern\":{\"fillmode\":\"overlay\",\"size\":10,\"solidity\":0.2}},\"type\":\"bar\"}],\"barpolar\":[{\"marker\":{\"line\":{\"color\":\"#E5ECF6\",\"width\":0.5},\"pattern\":{\"fillmode\":\"overlay\",\"size\":10,\"solidity\":0.2}},\"type\":\"barpolar\"}],\"carpet\":[{\"aaxis\":{\"endlinecolor\":\"#2a3f5f\",\"gridcolor\":\"white\",\"linecolor\":\"white\",\"minorgridcolor\":\"white\",\"startlinecolor\":\"#2a3f5f\"},\"baxis\":{\"endlinecolor\":\"#2a3f5f\",\"gridcolor\":\"white\",\"linecolor\":\"white\",\"minorgridcolor\":\"white\",\"startlinecolor\":\"#2a3f5f\"},\"type\":\"carpet\"}],\"choropleth\":[{\"colorbar\":{\"outlinewidth\":0,\"ticks\":\"\"},\"type\":\"choropleth\"}],\"contour\":[{\"colorbar\":{\"outlinewidth\":0,\"ticks\":\"\"},\"colorscale\":[[0.0,\"#0d0887\"],[0.1111111111111111,\"#46039f\"],[0.2222222222222222,\"#7201a8\"],[0.3333333333333333,\"#9c179e\"],[0.4444444444444444,\"#bd3786\"],[0.5555555555555556,\"#d8576b\"],[0.6666666666666666,\"#ed7953\"],[0.7777777777777778,\"#fb9f3a\"],[0.8888888888888888,\"#fdca26\"],[1.0,\"#f0f921\"]],\"type\":\"contour\"}],\"contourcarpet\":[{\"colorbar\":{\"outlinewidth\":0,\"ticks\":\"\"},\"type\":\"contourcarpet\"}],\"heatmap\":[{\"colorbar\":{\"outlinewidth\":0,\"ticks\":\"\"},\"colorscale\":[[0.0,\"#0d0887\"],[0.1111111111111111,\"#46039f\"],[0.2222222222222222,\"#7201a8\"],[0.3333333333333333,\"#9c179e\"],[0.4444444444444444,\"#bd3786\"],[0.5555555555555556,\"#d8576b\"],[0.6666666666666666,\"#ed7953\"],[0.7777777777777778,\"#fb9f3a\"],[0.8888888888888888,\"#fdca26\"],[1.0,\"#f0f921\"]],\"type\":\"heatmap\"}],\"heatmapgl\":[{\"colorbar\":{\"outlinewidth\":0,\"ticks\":\"\"},\"colorscale\":[[0.0,\"#0d0887\"],[0.1111111111111111,\"#46039f\"],[0.2222222222222222,\"#7201a8\"],[0.3333333333333333,\"#9c179e\"],[0.4444444444444444,\"#bd3786\"],[0.5555555555555556,\"#d8576b\"],[0.6666666666666666,\"#ed7953\"],[0.7777777777777778,\"#fb9f3a\"],[0.8888888888888888,\"#fdca26\"],[1.0,\"#f0f921\"]],\"type\":\"heatmapgl\"}],\"histogram\":[{\"marker\":{\"pattern\":{\"fillmode\":\"overlay\",\"size\":10,\"solidity\":0.2}},\"type\":\"histogram\"}],\"histogram2d\":[{\"colorbar\":{\"outlinewidth\":0,\"ticks\":\"\"},\"colorscale\":[[0.0,\"#0d0887\"],[0.1111111111111111,\"#46039f\"],[0.2222222222222222,\"#7201a8\"],[0.3333333333333333,\"#9c179e\"],[0.4444444444444444,\"#bd3786\"],[0.5555555555555556,\"#d8576b\"],[0.6666666666666666,\"#ed7953\"],[0.7777777777777778,\"#fb9f3a\"],[0.8888888888888888,\"#fdca26\"],[1.0,\"#f0f921\"]],\"type\":\"histogram2d\"}],\"histogram2dcontour\":[{\"colorbar\":{\"outlinewidth\":0,\"ticks\":\"\"},\"colorscale\":[[0.0,\"#0d0887\"],[0.1111111111111111,\"#46039f\"],[0.2222222222222222,\"#7201a8\"],[0.3333333333333333,\"#9c179e\"],[0.4444444444444444,\"#bd3786\"],[0.5555555555555556,\"#d8576b\"],[0.6666666666666666,\"#ed7953\"],[0.7777777777777778,\"#fb9f3a\"],[0.8888888888888888,\"#fdca26\"],[1.0,\"#f0f921\"]],\"type\":\"histogram2dcontour\"}],\"mesh3d\":[{\"colorbar\":{\"outlinewidth\":0,\"ticks\":\"\"},\"type\":\"mesh3d\"}],\"parcoords\":[{\"line\":{\"colorbar\":{\"outlinewidth\":0,\"ticks\":\"\"}},\"type\":\"parcoords\"}],\"pie\":[{\"automargin\":true,\"type\":\"pie\"}],\"scatter\":[{\"marker\":{\"colorbar\":{\"outlinewidth\":0,\"ticks\":\"\"}},\"type\":\"scatter\"}],\"scatter3d\":[{\"line\":{\"colorbar\":{\"outlinewidth\":0,\"ticks\":\"\"}},\"marker\":{\"colorbar\":{\"outlinewidth\":0,\"ticks\":\"\"}},\"type\":\"scatter3d\"}],\"scattercarpet\":[{\"marker\":{\"colorbar\":{\"outlinewidth\":0,\"ticks\":\"\"}},\"type\":\"scattercarpet\"}],\"scattergeo\":[{\"marker\":{\"colorbar\":{\"outlinewidth\":0,\"ticks\":\"\"}},\"type\":\"scattergeo\"}],\"scattergl\":[{\"marker\":{\"colorbar\":{\"outlinewidth\":0,\"ticks\":\"\"}},\"type\":\"scattergl\"}],\"scattermapbox\":[{\"marker\":{\"colorbar\":{\"outlinewidth\":0,\"ticks\":\"\"}},\"type\":\"scattermapbox\"}],\"scatterpolar\":[{\"marker\":{\"colorbar\":{\"outlinewidth\":0,\"ticks\":\"\"}},\"type\":\"scatterpolar\"}],\"scatterpolargl\":[{\"marker\":{\"colorbar\":{\"outlinewidth\":0,\"ticks\":\"\"}},\"type\":\"scatterpolargl\"}],\"scatterternary\":[{\"marker\":{\"colorbar\":{\"outlinewidth\":0,\"ticks\":\"\"}},\"type\":\"scatterternary\"}],\"surface\":[{\"colorbar\":{\"outlinewidth\":0,\"ticks\":\"\"},\"colorscale\":[[0.0,\"#0d0887\"],[0.1111111111111111,\"#46039f\"],[0.2222222222222222,\"#7201a8\"],[0.3333333333333333,\"#9c179e\"],[0.4444444444444444,\"#bd3786\"],[0.5555555555555556,\"#d8576b\"],[0.6666666666666666,\"#ed7953\"],[0.7777777777777778,\"#fb9f3a\"],[0.8888888888888888,\"#fdca26\"],[1.0,\"#f0f921\"]],\"type\":\"surface\"}],\"table\":[{\"cells\":{\"fill\":{\"color\":\"#EBF0F8\"},\"line\":{\"color\":\"white\"}},\"header\":{\"fill\":{\"color\":\"#C8D4E3\"},\"line\":{\"color\":\"white\"}},\"type\":\"table\"}]},\"layout\":{\"annotationdefaults\":{\"arrowcolor\":\"#2a3f5f\",\"arrowhead\":0,\"arrowwidth\":1},\"autotypenumbers\":\"strict\",\"coloraxis\":{\"colorbar\":{\"outlinewidth\":0,\"ticks\":\"\"}},\"colorscale\":{\"diverging\":[[0,\"#8e0152\"],[0.1,\"#c51b7d\"],[0.2,\"#de77ae\"],[0.3,\"#f1b6da\"],[0.4,\"#fde0ef\"],[0.5,\"#f7f7f7\"],[0.6,\"#e6f5d0\"],[0.7,\"#b8e186\"],[0.8,\"#7fbc41\"],[0.9,\"#4d9221\"],[1,\"#276419\"]],\"sequential\":[[0.0,\"#0d0887\"],[0.1111111111111111,\"#46039f\"],[0.2222222222222222,\"#7201a8\"],[0.3333333333333333,\"#9c179e\"],[0.4444444444444444,\"#bd3786\"],[0.5555555555555556,\"#d8576b\"],[0.6666666666666666,\"#ed7953\"],[0.7777777777777778,\"#fb9f3a\"],[0.8888888888888888,\"#fdca26\"],[1.0,\"#f0f921\"]],\"sequentialminus\":[[0.0,\"#0d0887\"],[0.1111111111111111,\"#46039f\"],[0.2222222222222222,\"#7201a8\"],[0.3333333333333333,\"#9c179e\"],[0.4444444444444444,\"#bd3786\"],[0.5555555555555556,\"#d8576b\"],[0.6666666666666666,\"#ed7953\"],[0.7777777777777778,\"#fb9f3a\"],[0.8888888888888888,\"#fdca26\"],[1.0,\"#f0f921\"]]},\"colorway\":[\"#636efa\",\"#EF553B\",\"#00cc96\",\"#ab63fa\",\"#FFA15A\",\"#19d3f3\",\"#FF6692\",\"#B6E880\",\"#FF97FF\",\"#FECB52\"],\"font\":{\"color\":\"#2a3f5f\"},\"geo\":{\"bgcolor\":\"white\",\"lakecolor\":\"white\",\"landcolor\":\"#E5ECF6\",\"showlakes\":true,\"showland\":true,\"subunitcolor\":\"white\"},\"hoverlabel\":{\"align\":\"left\"},\"hovermode\":\"closest\",\"mapbox\":{\"style\":\"light\"},\"paper_bgcolor\":\"white\",\"plot_bgcolor\":\"#E5ECF6\",\"polar\":{\"angularaxis\":{\"gridcolor\":\"white\",\"linecolor\":\"white\",\"ticks\":\"\"},\"bgcolor\":\"#E5ECF6\",\"radialaxis\":{\"gridcolor\":\"white\",\"linecolor\":\"white\",\"ticks\":\"\"}},\"scene\":{\"xaxis\":{\"backgroundcolor\":\"#E5ECF6\",\"gridcolor\":\"white\",\"gridwidth\":2,\"linecolor\":\"white\",\"showbackground\":true,\"ticks\":\"\",\"zerolinecolor\":\"white\"},\"yaxis\":{\"backgroundcolor\":\"#E5ECF6\",\"gridcolor\":\"white\",\"gridwidth\":2,\"linecolor\":\"white\",\"showbackground\":true,\"ticks\":\"\",\"zerolinecolor\":\"white\"},\"zaxis\":{\"backgroundcolor\":\"#E5ECF6\",\"gridcolor\":\"white\",\"gridwidth\":2,\"linecolor\":\"white\",\"showbackground\":true,\"ticks\":\"\",\"zerolinecolor\":\"white\"}},\"shapedefaults\":{\"line\":{\"color\":\"#2a3f5f\"}},\"ternary\":{\"aaxis\":{\"gridcolor\":\"white\",\"linecolor\":\"white\",\"ticks\":\"\"},\"baxis\":{\"gridcolor\":\"white\",\"linecolor\":\"white\",\"ticks\":\"\"},\"bgcolor\":\"#E5ECF6\",\"caxis\":{\"gridcolor\":\"white\",\"linecolor\":\"white\",\"ticks\":\"\"}},\"title\":{\"x\":0.05},\"xaxis\":{\"automargin\":true,\"gridcolor\":\"white\",\"linecolor\":\"white\",\"ticks\":\"\",\"title\":{\"standoff\":15},\"zerolinecolor\":\"white\",\"zerolinewidth\":2},\"yaxis\":{\"automargin\":true,\"gridcolor\":\"white\",\"linecolor\":\"white\",\"ticks\":\"\",\"title\":{\"standoff\":15},\"zerolinecolor\":\"white\",\"zerolinewidth\":2}}},\"title\":{\"text\":\"All Rents\"},\"xaxis\":{\"anchor\":\"y\",\"domain\":[0.0,1.0],\"title\":{\"text\":\"Date\"}},\"yaxis\":{\"anchor\":\"x\",\"domain\":[0.0,1.0],\"title\":{\"text\":\"Price\"}}},                        {\"responsive\": true}                    ).then(function(){\n",
       "                            \n",
       "var gd = document.getElementById('8b3453ab-4730-4e88-b1ce-61e7b4f41abf');\n",
       "var x = new MutationObserver(function (mutations, observer) {{\n",
       "        var display = window.getComputedStyle(gd).display;\n",
       "        if (!display || display === 'none') {{\n",
       "            console.log([gd, 'removed!']);\n",
       "            Plotly.purge(gd);\n",
       "            observer.disconnect();\n",
       "        }}\n",
       "}});\n",
       "\n",
       "// Listen for the removal of the full notebook cells\n",
       "var notebookContainer = gd.closest('#notebook-container');\n",
       "if (notebookContainer) {{\n",
       "    x.observe(notebookContainer, {childList: true});\n",
       "}}\n",
       "\n",
       "// Listen for the clearing of the current output cell\n",
       "var outputEl = gd.closest('.output');\n",
       "if (outputEl) {{\n",
       "    x.observe(outputEl, {childList: true});\n",
       "}}\n",
       "\n",
       "                        })                };                });            </script>        </div>"
      ]
     },
     "metadata": {},
     "output_type": "display_data"
    }
   ],
   "source": [
    "px.line(extreme_rent_df, x='Created Date', y='Price', color='Neighborhood',title=\"All Rents\", \n",
    "       labels={\"Created Date\": \"Date\"\n",
    "            },).show()"
   ]
  },
  {
   "cell_type": "code",
   "execution_count": 875,
   "id": "successful-blast",
   "metadata": {},
   "outputs": [
    {
     "data": {
      "text/plain": [
       "Created Date                 datetime64[ns]\n",
       "Zip                                   int64\n",
       "Unnamed: 0                            int64\n",
       "Count                                 int64\n",
       "Neighborhood                         object\n",
       "Population                            int64\n",
       "Density per 100000 people           float64\n",
       "dtype: object"
      ]
     },
     "execution_count": 875,
     "metadata": {},
     "output_type": "execute_result"
    }
   ],
   "source": [
    "extreme_noise_df.dtypes"
   ]
  },
  {
   "cell_type": "code",
   "execution_count": 876,
   "id": "republican-facility",
   "metadata": {},
   "outputs": [
    {
     "data": {
      "text/html": [
       "<div>\n",
       "<style scoped>\n",
       "    .dataframe tbody tr th:only-of-type {\n",
       "        vertical-align: middle;\n",
       "    }\n",
       "\n",
       "    .dataframe tbody tr th {\n",
       "        vertical-align: top;\n",
       "    }\n",
       "\n",
       "    .dataframe thead th {\n",
       "        text-align: right;\n",
       "    }\n",
       "</style>\n",
       "<table border=\"1\" class=\"dataframe\">\n",
       "  <thead>\n",
       "    <tr style=\"text-align: right;\">\n",
       "      <th></th>\n",
       "      <th>Created Date</th>\n",
       "      <th>Zip</th>\n",
       "      <th>Unnamed: 0</th>\n",
       "      <th>Count</th>\n",
       "      <th>Neighborhood</th>\n",
       "      <th>Population</th>\n",
       "      <th>Density per 100000 people</th>\n",
       "      <th>Price</th>\n",
       "    </tr>\n",
       "  </thead>\n",
       "  <tbody>\n",
       "    <tr>\n",
       "      <th>0</th>\n",
       "      <td>2013-06-30</td>\n",
       "      <td>11204</td>\n",
       "      <td>21</td>\n",
       "      <td>21</td>\n",
       "      <td>Parkville/Bensonhurst</td>\n",
       "      <td>76395</td>\n",
       "      <td>27.49</td>\n",
       "      <td>1350.0</td>\n",
       "    </tr>\n",
       "    <tr>\n",
       "      <th>1</th>\n",
       "      <td>2013-06-30</td>\n",
       "      <td>11204</td>\n",
       "      <td>21</td>\n",
       "      <td>21</td>\n",
       "      <td>Parkville/Bensonhurst</td>\n",
       "      <td>76395</td>\n",
       "      <td>27.49</td>\n",
       "      <td>2100.0</td>\n",
       "    </tr>\n",
       "    <tr>\n",
       "      <th>2</th>\n",
       "      <td>2013-07-31</td>\n",
       "      <td>11204</td>\n",
       "      <td>112</td>\n",
       "      <td>112</td>\n",
       "      <td>Parkville/Bensonhurst</td>\n",
       "      <td>76395</td>\n",
       "      <td>146.61</td>\n",
       "      <td>1400.0</td>\n",
       "    </tr>\n",
       "    <tr>\n",
       "      <th>3</th>\n",
       "      <td>2013-07-31</td>\n",
       "      <td>11204</td>\n",
       "      <td>112</td>\n",
       "      <td>112</td>\n",
       "      <td>Parkville/Bensonhurst</td>\n",
       "      <td>76395</td>\n",
       "      <td>146.61</td>\n",
       "      <td>2100.0</td>\n",
       "    </tr>\n",
       "    <tr>\n",
       "      <th>4</th>\n",
       "      <td>2013-08-31</td>\n",
       "      <td>11204</td>\n",
       "      <td>109</td>\n",
       "      <td>109</td>\n",
       "      <td>Parkville/Bensonhurst</td>\n",
       "      <td>76395</td>\n",
       "      <td>142.68</td>\n",
       "      <td>1450.0</td>\n",
       "    </tr>\n",
       "    <tr>\n",
       "      <th>...</th>\n",
       "      <td>...</td>\n",
       "      <td>...</td>\n",
       "      <td>...</td>\n",
       "      <td>...</td>\n",
       "      <td>...</td>\n",
       "      <td>...</td>\n",
       "      <td>...</td>\n",
       "      <td>...</td>\n",
       "    </tr>\n",
       "    <tr>\n",
       "      <th>786</th>\n",
       "      <td>2019-01-31</td>\n",
       "      <td>11239</td>\n",
       "      <td>10</td>\n",
       "      <td>10</td>\n",
       "      <td>Starrett City</td>\n",
       "      <td>12772</td>\n",
       "      <td>78.30</td>\n",
       "      <td>NaN</td>\n",
       "    </tr>\n",
       "    <tr>\n",
       "      <th>787</th>\n",
       "      <td>2019-02-28</td>\n",
       "      <td>11239</td>\n",
       "      <td>15</td>\n",
       "      <td>15</td>\n",
       "      <td>Starrett City</td>\n",
       "      <td>12772</td>\n",
       "      <td>117.44</td>\n",
       "      <td>NaN</td>\n",
       "    </tr>\n",
       "    <tr>\n",
       "      <th>788</th>\n",
       "      <td>2019-03-31</td>\n",
       "      <td>11239</td>\n",
       "      <td>12</td>\n",
       "      <td>12</td>\n",
       "      <td>Starrett City</td>\n",
       "      <td>12772</td>\n",
       "      <td>93.96</td>\n",
       "      <td>NaN</td>\n",
       "    </tr>\n",
       "    <tr>\n",
       "      <th>789</th>\n",
       "      <td>2019-04-30</td>\n",
       "      <td>11239</td>\n",
       "      <td>45</td>\n",
       "      <td>45</td>\n",
       "      <td>Starrett City</td>\n",
       "      <td>12772</td>\n",
       "      <td>352.33</td>\n",
       "      <td>NaN</td>\n",
       "    </tr>\n",
       "    <tr>\n",
       "      <th>790</th>\n",
       "      <td>2019-05-31</td>\n",
       "      <td>11239</td>\n",
       "      <td>5</td>\n",
       "      <td>5</td>\n",
       "      <td>Starrett City</td>\n",
       "      <td>12772</td>\n",
       "      <td>39.15</td>\n",
       "      <td>NaN</td>\n",
       "    </tr>\n",
       "  </tbody>\n",
       "</table>\n",
       "<p>791 rows × 8 columns</p>\n",
       "</div>"
      ],
      "text/plain": [
       "    Created Date    Zip  Unnamed: 0  Count           Neighborhood  Population  \\\n",
       "0     2013-06-30  11204          21     21  Parkville/Bensonhurst       76395   \n",
       "1     2013-06-30  11204          21     21  Parkville/Bensonhurst       76395   \n",
       "2     2013-07-31  11204         112    112  Parkville/Bensonhurst       76395   \n",
       "3     2013-07-31  11204         112    112  Parkville/Bensonhurst       76395   \n",
       "4     2013-08-31  11204         109    109  Parkville/Bensonhurst       76395   \n",
       "..           ...    ...         ...    ...                    ...         ...   \n",
       "786   2019-01-31  11239          10     10          Starrett City       12772   \n",
       "787   2019-02-28  11239          15     15          Starrett City       12772   \n",
       "788   2019-03-31  11239          12     12          Starrett City       12772   \n",
       "789   2019-04-30  11239          45     45          Starrett City       12772   \n",
       "790   2019-05-31  11239           5      5          Starrett City       12772   \n",
       "\n",
       "     Density per 100000 people   Price  \n",
       "0                        27.49  1350.0  \n",
       "1                        27.49  2100.0  \n",
       "2                       146.61  1400.0  \n",
       "3                       146.61  2100.0  \n",
       "4                       142.68  1450.0  \n",
       "..                         ...     ...  \n",
       "786                      78.30     NaN  \n",
       "787                     117.44     NaN  \n",
       "788                      93.96     NaN  \n",
       "789                     352.33     NaN  \n",
       "790                      39.15     NaN  \n",
       "\n",
       "[791 rows x 8 columns]"
      ]
     },
     "execution_count": 876,
     "metadata": {},
     "output_type": "execute_result"
    }
   ],
   "source": [
    "all_extreme_noise_price_df = pd.merge(extreme_noise_df, rent_df, how='left', on=[\"Neighborhood\", \"Created Date\"])\n",
    "all_extreme_noise_price_df"
   ]
  },
  {
   "cell_type": "code",
   "execution_count": 877,
   "id": "following-hopkins",
   "metadata": {},
   "outputs": [
    {
     "data": {
      "text/html": [
       "<div>\n",
       "<style scoped>\n",
       "    .dataframe tbody tr th:only-of-type {\n",
       "        vertical-align: middle;\n",
       "    }\n",
       "\n",
       "    .dataframe tbody tr th {\n",
       "        vertical-align: top;\n",
       "    }\n",
       "\n",
       "    .dataframe thead th {\n",
       "        text-align: right;\n",
       "    }\n",
       "</style>\n",
       "<table border=\"1\" class=\"dataframe\">\n",
       "  <thead>\n",
       "    <tr style=\"text-align: right;\">\n",
       "      <th></th>\n",
       "      <th>Created Date</th>\n",
       "      <th>Zip</th>\n",
       "      <th>Unnamed: 0</th>\n",
       "      <th>Count</th>\n",
       "      <th>Neighborhood</th>\n",
       "      <th>Population</th>\n",
       "      <th>Density per 100000 people</th>\n",
       "      <th>Price</th>\n",
       "    </tr>\n",
       "  </thead>\n",
       "  <tbody>\n",
       "    <tr>\n",
       "      <th>432</th>\n",
       "      <td>2013-06-30</td>\n",
       "      <td>11225</td>\n",
       "      <td>46</td>\n",
       "      <td>46</td>\n",
       "      <td>Crown Heights</td>\n",
       "      <td>56859</td>\n",
       "      <td>80.90</td>\n",
       "      <td>NaN</td>\n",
       "    </tr>\n",
       "    <tr>\n",
       "      <th>433</th>\n",
       "      <td>2013-07-31</td>\n",
       "      <td>11225</td>\n",
       "      <td>284</td>\n",
       "      <td>284</td>\n",
       "      <td>Crown Heights</td>\n",
       "      <td>56859</td>\n",
       "      <td>499.48</td>\n",
       "      <td>NaN</td>\n",
       "    </tr>\n",
       "    <tr>\n",
       "      <th>434</th>\n",
       "      <td>2013-08-31</td>\n",
       "      <td>11225</td>\n",
       "      <td>347</td>\n",
       "      <td>347</td>\n",
       "      <td>Crown Heights</td>\n",
       "      <td>56859</td>\n",
       "      <td>610.28</td>\n",
       "      <td>NaN</td>\n",
       "    </tr>\n",
       "    <tr>\n",
       "      <th>435</th>\n",
       "      <td>2013-09-30</td>\n",
       "      <td>11225</td>\n",
       "      <td>332</td>\n",
       "      <td>332</td>\n",
       "      <td>Crown Heights</td>\n",
       "      <td>56859</td>\n",
       "      <td>583.90</td>\n",
       "      <td>NaN</td>\n",
       "    </tr>\n",
       "    <tr>\n",
       "      <th>436</th>\n",
       "      <td>2013-10-31</td>\n",
       "      <td>11225</td>\n",
       "      <td>301</td>\n",
       "      <td>301</td>\n",
       "      <td>Crown Heights</td>\n",
       "      <td>56859</td>\n",
       "      <td>529.38</td>\n",
       "      <td>NaN</td>\n",
       "    </tr>\n",
       "    <tr>\n",
       "      <th>...</th>\n",
       "      <td>...</td>\n",
       "      <td>...</td>\n",
       "      <td>...</td>\n",
       "      <td>...</td>\n",
       "      <td>...</td>\n",
       "      <td>...</td>\n",
       "      <td>...</td>\n",
       "      <td>...</td>\n",
       "    </tr>\n",
       "    <tr>\n",
       "      <th>786</th>\n",
       "      <td>2019-01-31</td>\n",
       "      <td>11239</td>\n",
       "      <td>10</td>\n",
       "      <td>10</td>\n",
       "      <td>Starrett City</td>\n",
       "      <td>12772</td>\n",
       "      <td>78.30</td>\n",
       "      <td>NaN</td>\n",
       "    </tr>\n",
       "    <tr>\n",
       "      <th>787</th>\n",
       "      <td>2019-02-28</td>\n",
       "      <td>11239</td>\n",
       "      <td>15</td>\n",
       "      <td>15</td>\n",
       "      <td>Starrett City</td>\n",
       "      <td>12772</td>\n",
       "      <td>117.44</td>\n",
       "      <td>NaN</td>\n",
       "    </tr>\n",
       "    <tr>\n",
       "      <th>788</th>\n",
       "      <td>2019-03-31</td>\n",
       "      <td>11239</td>\n",
       "      <td>12</td>\n",
       "      <td>12</td>\n",
       "      <td>Starrett City</td>\n",
       "      <td>12772</td>\n",
       "      <td>93.96</td>\n",
       "      <td>NaN</td>\n",
       "    </tr>\n",
       "    <tr>\n",
       "      <th>789</th>\n",
       "      <td>2019-04-30</td>\n",
       "      <td>11239</td>\n",
       "      <td>45</td>\n",
       "      <td>45</td>\n",
       "      <td>Starrett City</td>\n",
       "      <td>12772</td>\n",
       "      <td>352.33</td>\n",
       "      <td>NaN</td>\n",
       "    </tr>\n",
       "    <tr>\n",
       "      <th>790</th>\n",
       "      <td>2019-05-31</td>\n",
       "      <td>11239</td>\n",
       "      <td>5</td>\n",
       "      <td>5</td>\n",
       "      <td>Starrett City</td>\n",
       "      <td>12772</td>\n",
       "      <td>39.15</td>\n",
       "      <td>NaN</td>\n",
       "    </tr>\n",
       "  </tbody>\n",
       "</table>\n",
       "<p>143 rows × 8 columns</p>\n",
       "</div>"
      ],
      "text/plain": [
       "    Created Date    Zip  Unnamed: 0  Count   Neighborhood  Population  \\\n",
       "432   2013-06-30  11225          46     46  Crown Heights       56859   \n",
       "433   2013-07-31  11225         284    284  Crown Heights       56859   \n",
       "434   2013-08-31  11225         347    347  Crown Heights       56859   \n",
       "435   2013-09-30  11225         332    332  Crown Heights       56859   \n",
       "436   2013-10-31  11225         301    301  Crown Heights       56859   \n",
       "..           ...    ...         ...    ...            ...         ...   \n",
       "786   2019-01-31  11239          10     10  Starrett City       12772   \n",
       "787   2019-02-28  11239          15     15  Starrett City       12772   \n",
       "788   2019-03-31  11239          12     12  Starrett City       12772   \n",
       "789   2019-04-30  11239          45     45  Starrett City       12772   \n",
       "790   2019-05-31  11239           5      5  Starrett City       12772   \n",
       "\n",
       "     Density per 100000 people  Price  \n",
       "432                      80.90    NaN  \n",
       "433                     499.48    NaN  \n",
       "434                     610.28    NaN  \n",
       "435                     583.90    NaN  \n",
       "436                     529.38    NaN  \n",
       "..                         ...    ...  \n",
       "786                      78.30    NaN  \n",
       "787                     117.44    NaN  \n",
       "788                      93.96    NaN  \n",
       "789                     352.33    NaN  \n",
       "790                      39.15    NaN  \n",
       "\n",
       "[143 rows x 8 columns]"
      ]
     },
     "execution_count": 877,
     "metadata": {},
     "output_type": "execute_result"
    }
   ],
   "source": [
    "all_extreme_noise_price_df[all_extreme_noise_price_df[\"Price\"].isna()]"
   ]
  },
  {
   "cell_type": "code",
   "execution_count": 883,
   "id": "alien-feelings",
   "metadata": {},
   "outputs": [
    {
     "data": {
      "text/html": [
       "<div>\n",
       "<style scoped>\n",
       "    .dataframe tbody tr th:only-of-type {\n",
       "        vertical-align: middle;\n",
       "    }\n",
       "\n",
       "    .dataframe tbody tr th {\n",
       "        vertical-align: top;\n",
       "    }\n",
       "\n",
       "    .dataframe thead th {\n",
       "        text-align: right;\n",
       "    }\n",
       "</style>\n",
       "<table border=\"1\" class=\"dataframe\">\n",
       "  <thead>\n",
       "    <tr style=\"text-align: right;\">\n",
       "      <th></th>\n",
       "      <th></th>\n",
       "      <th>Density per 100000 people</th>\n",
       "      <th>Price</th>\n",
       "    </tr>\n",
       "    <tr>\n",
       "      <th>Zip</th>\n",
       "      <th></th>\n",
       "      <th></th>\n",
       "      <th></th>\n",
       "    </tr>\n",
       "  </thead>\n",
       "  <tbody>\n",
       "    <tr>\n",
       "      <th rowspan=\"2\" valign=\"top\">11204</th>\n",
       "      <th>Density per 100000 people</th>\n",
       "      <td>1.000000</td>\n",
       "      <td>0.090045</td>\n",
       "    </tr>\n",
       "    <tr>\n",
       "      <th>Price</th>\n",
       "      <td>0.090045</td>\n",
       "      <td>1.000000</td>\n",
       "    </tr>\n",
       "    <tr>\n",
       "      <th rowspan=\"2\" valign=\"top\">11205</th>\n",
       "      <th>Density per 100000 people</th>\n",
       "      <td>1.000000</td>\n",
       "      <td>0.148696</td>\n",
       "    </tr>\n",
       "    <tr>\n",
       "      <th>Price</th>\n",
       "      <td>0.148696</td>\n",
       "      <td>1.000000</td>\n",
       "    </tr>\n",
       "    <tr>\n",
       "      <th rowspan=\"2\" valign=\"top\">11214</th>\n",
       "      <th>Density per 100000 people</th>\n",
       "      <td>1.000000</td>\n",
       "      <td>0.673749</td>\n",
       "    </tr>\n",
       "    <tr>\n",
       "      <th>Price</th>\n",
       "      <td>0.673749</td>\n",
       "      <td>1.000000</td>\n",
       "    </tr>\n",
       "    <tr>\n",
       "      <th rowspan=\"2\" valign=\"top\">11216</th>\n",
       "      <th>Density per 100000 people</th>\n",
       "      <td>1.000000</td>\n",
       "      <td>0.430811</td>\n",
       "    </tr>\n",
       "    <tr>\n",
       "      <th>Price</th>\n",
       "      <td>0.430811</td>\n",
       "      <td>1.000000</td>\n",
       "    </tr>\n",
       "    <tr>\n",
       "      <th rowspan=\"2\" valign=\"top\">11219</th>\n",
       "      <th>Density per 100000 people</th>\n",
       "      <td>1.000000</td>\n",
       "      <td>0.357872</td>\n",
       "    </tr>\n",
       "    <tr>\n",
       "      <th>Price</th>\n",
       "      <td>0.357872</td>\n",
       "      <td>1.000000</td>\n",
       "    </tr>\n",
       "    <tr>\n",
       "      <th rowspan=\"2\" valign=\"top\">11225</th>\n",
       "      <th>Density per 100000 people</th>\n",
       "      <td>1.000000</td>\n",
       "      <td>NaN</td>\n",
       "    </tr>\n",
       "    <tr>\n",
       "      <th>Price</th>\n",
       "      <td>NaN</td>\n",
       "      <td>NaN</td>\n",
       "    </tr>\n",
       "    <tr>\n",
       "      <th rowspan=\"2\" valign=\"top\">11228</th>\n",
       "      <th>Density per 100000 people</th>\n",
       "      <td>1.000000</td>\n",
       "      <td>0.264778</td>\n",
       "    </tr>\n",
       "    <tr>\n",
       "      <th>Price</th>\n",
       "      <td>0.264778</td>\n",
       "      <td>1.000000</td>\n",
       "    </tr>\n",
       "    <tr>\n",
       "      <th rowspan=\"2\" valign=\"top\">11237</th>\n",
       "      <th>Density per 100000 people</th>\n",
       "      <td>1.000000</td>\n",
       "      <td>0.687986</td>\n",
       "    </tr>\n",
       "    <tr>\n",
       "      <th>Price</th>\n",
       "      <td>0.687986</td>\n",
       "      <td>1.000000</td>\n",
       "    </tr>\n",
       "    <tr>\n",
       "      <th rowspan=\"2\" valign=\"top\">11238</th>\n",
       "      <th>Density per 100000 people</th>\n",
       "      <td>1.000000</td>\n",
       "      <td>0.611046</td>\n",
       "    </tr>\n",
       "    <tr>\n",
       "      <th>Price</th>\n",
       "      <td>0.611046</td>\n",
       "      <td>1.000000</td>\n",
       "    </tr>\n",
       "    <tr>\n",
       "      <th rowspan=\"2\" valign=\"top\">11239</th>\n",
       "      <th>Density per 100000 people</th>\n",
       "      <td>1.000000</td>\n",
       "      <td>NaN</td>\n",
       "    </tr>\n",
       "    <tr>\n",
       "      <th>Price</th>\n",
       "      <td>NaN</td>\n",
       "      <td>NaN</td>\n",
       "    </tr>\n",
       "  </tbody>\n",
       "</table>\n",
       "</div>"
      ],
      "text/plain": [
       "                                 Density per 100000 people     Price\n",
       "Zip                                                                 \n",
       "11204 Density per 100000 people                   1.000000  0.090045\n",
       "      Price                                       0.090045  1.000000\n",
       "11205 Density per 100000 people                   1.000000  0.148696\n",
       "      Price                                       0.148696  1.000000\n",
       "11214 Density per 100000 people                   1.000000  0.673749\n",
       "      Price                                       0.673749  1.000000\n",
       "11216 Density per 100000 people                   1.000000  0.430811\n",
       "      Price                                       0.430811  1.000000\n",
       "11219 Density per 100000 people                   1.000000  0.357872\n",
       "      Price                                       0.357872  1.000000\n",
       "11225 Density per 100000 people                   1.000000       NaN\n",
       "      Price                                            NaN       NaN\n",
       "11228 Density per 100000 people                   1.000000  0.264778\n",
       "      Price                                       0.264778  1.000000\n",
       "11237 Density per 100000 people                   1.000000  0.687986\n",
       "      Price                                       0.687986  1.000000\n",
       "11238 Density per 100000 people                   1.000000  0.611046\n",
       "      Price                                       0.611046  1.000000\n",
       "11239 Density per 100000 people                   1.000000       NaN\n",
       "      Price                                            NaN       NaN"
      ]
     },
     "execution_count": 883,
     "metadata": {},
     "output_type": "execute_result"
    }
   ],
   "source": [
    "all_extreme_noise_price_df.groupby('Zip')[['Density per 100000 people','Price']].corr()"
   ]
  },
  {
   "cell_type": "code",
   "execution_count": 884,
   "id": "correct-feeling",
   "metadata": {},
   "outputs": [
    {
     "name": "stdout",
     "output_type": "stream",
     "text": [
      "Bath Beach/Bensonhurst\n",
      "Bedford-Stuyvesant\n",
      "Borough Park\n",
      "Bushwick\n",
      "Crown Heights\n",
      "Dyker Heights\n",
      "Fort Greene\n",
      "Parkville/Bensonhurst\n",
      "Prospect Heights\n",
      "Starrett City\n"
     ]
    },
    {
     "data": {
      "text/plain": [
       "<matplotlib.legend.Legend at 0x1397c3990>"
      ]
     },
     "execution_count": 884,
     "metadata": {},
     "output_type": "execute_result"
    },
    {
     "data": {
      "image/png": "[encoded data removed]",
      "text/plain": [
       "<Figure size 720x576 with 1 Axes>"
      ]
     },
     "metadata": {
      "needs_background": "light"
     },
     "output_type": "display_data"
    }
   ],
   "source": [
    "# df = pd.DataFrame(np.random.randint(0,10,size=(5, 2)), columns=['x','y'])\n",
    "# df['label'] = ['yes','no','yes','yes','no']\n",
    "\n",
    "# plot groupby results on the same canvas \n",
    "import matplotlib.pylab as plt\n",
    "fig, ax = plt.subplots(figsize=(10,8))\n",
    "\n",
    "for n, grp in all_extreme_noise_price_df.groupby('Neighborhood'):\n",
    "    print(n)\n",
    "    ax.scatter(x = \"Density per 100000 people\", y = \"Price\", data=grp, label=n)\n",
    "plt.xlabel(\"Noise Density per 100000 people\")\n",
    "plt.ylabel(\"Price\")\n",
    "ax.legend(title=\"Label\")"
   ]
  },
  {
   "cell_type": "code",
   "execution_count": 885,
   "id": "beginning-institute",
   "metadata": {},
   "outputs": [
    {
     "data": {
      "application/vnd.plotly.v1+json": {
       "config": {
        "plotlyServerURL": "https://plot.ly"
       },
       "data": [
        {
         "orientation": "h",
         "type": "bar",
         "x": [
          4225,
          3100,
          3097.5,
          3075,
          3050,
          1725,
          1725,
          1700,
          1700,
          1700
         ],
         "y": [
          "DUMBO",
          "Cobble Hill",
          "Downtown Brooklyn",
          "Williamsburg",
          "Brooklyn Heights",
          "Bath Beach/Bensonhurst",
          "Midwood",
          "Borough Park",
          "Brownsville",
          "Gravesend/Homecrest"
         ]
        }
       ],
       "layout": {
        "template": {
         "data": {
          "bar": [
           {
            "error_x": {
             "color": "#2a3f5f"
            },
            "error_y": {
             "color": "#2a3f5f"
            },
            "marker": {
             "line": {
              "color": "#E5ECF6",
              "width": 0.5
             },
             "pattern": {
              "fillmode": "overlay",
              "size": 10,
              "solidity": 0.2
             }
            },
            "type": "bar"
           }
          ],
          "barpolar": [
           {
            "marker": {
             "line": {
              "color": "#E5ECF6",
              "width": 0.5
             },
             "pattern": {
              "fillmode": "overlay",
              "size": 10,
              "solidity": 0.2
             }
            },
            "type": "barpolar"
           }
          ],
          "carpet": [
           {
            "aaxis": {
             "endlinecolor": "#2a3f5f",
             "gridcolor": "white",
             "linecolor": "white",
             "minorgridcolor": "white",
             "startlinecolor": "#2a3f5f"
            },
            "baxis": {
             "endlinecolor": "#2a3f5f",
             "gridcolor": "white",
             "linecolor": "white",
             "minorgridcolor": "white",
             "startlinecolor": "#2a3f5f"
            },
            "type": "carpet"
           }
          ],
          "choropleth": [
           {
            "colorbar": {
             "outlinewidth": 0,
             "ticks": ""
            },
            "type": "choropleth"
           }
          ],
          "contour": [
           {
            "colorbar": {
             "outlinewidth": 0,
             "ticks": ""
            },
            "colorscale": [
             [
              0,
              "#0d0887"
             ],
             [
              0.1111111111111111,
              "#46039f"
             ],
             [
              0.2222222222222222,
              "#7201a8"
             ],
             [
              0.3333333333333333,
              "#9c179e"
             ],
             [
              0.4444444444444444,
              "#bd3786"
             ],
             [
              0.5555555555555556,
              "#d8576b"
             ],
             [
              0.6666666666666666,
              "#ed7953"
             ],
             [
              0.7777777777777778,
              "#fb9f3a"
             ],
             [
              0.8888888888888888,
              "#fdca26"
             ],
             [
              1,
              "#f0f921"
             ]
            ],
            "type": "contour"
           }
          ],
          "contourcarpet": [
           {
            "colorbar": {
             "outlinewidth": 0,
             "ticks": ""
            },
            "type": "contourcarpet"
           }
          ],
          "heatmap": [
           {
            "colorbar": {
             "outlinewidth": 0,
             "ticks": ""
            },
            "colorscale": [
             [
              0,
              "#0d0887"
             ],
             [
              0.1111111111111111,
              "#46039f"
             ],
             [
              0.2222222222222222,
              "#7201a8"
             ],
             [
              0.3333333333333333,
              "#9c179e"
             ],
             [
              0.4444444444444444,
              "#bd3786"
             ],
             [
              0.5555555555555556,
              "#d8576b"
             ],
             [
              0.6666666666666666,
              "#ed7953"
             ],
             [
              0.7777777777777778,
              "#fb9f3a"
             ],
             [
              0.8888888888888888,
              "#fdca26"
             ],
             [
              1,
              "#f0f921"
             ]
            ],
            "type": "heatmap"
           }
          ],
          "heatmapgl": [
           {
            "colorbar": {
             "outlinewidth": 0,
             "ticks": ""
            },
            "colorscale": [
             [
              0,
              "#0d0887"
             ],
             [
              0.1111111111111111,
              "#46039f"
             ],
             [
              0.2222222222222222,
              "#7201a8"
             ],
             [
              0.3333333333333333,
              "#9c179e"
             ],
             [
              0.4444444444444444,
              "#bd3786"
             ],
             [
              0.5555555555555556,
              "#d8576b"
             ],
             [
              0.6666666666666666,
              "#ed7953"
             ],
             [
              0.7777777777777778,
              "#fb9f3a"
             ],
             [
              0.8888888888888888,
              "#fdca26"
             ],
             [
              1,
              "#f0f921"
             ]
            ],
            "type": "heatmapgl"
           }
          ],
          "histogram": [
           {
            "marker": {
             "pattern": {
              "fillmode": "overlay",
              "size": 10,
              "solidity": 0.2
             }
            },
            "type": "histogram"
           }
          ],
          "histogram2d": [
           {
            "colorbar": {
             "outlinewidth": 0,
             "ticks": ""
            },
            "colorscale": [
             [
              0,
              "#0d0887"
             ],
             [
              0.1111111111111111,
              "#46039f"
             ],
             [
              0.2222222222222222,
              "#7201a8"
             ],
             [
              0.3333333333333333,
              "#9c179e"
             ],
             [
              0.4444444444444444,
              "#bd3786"
             ],
             [
              0.5555555555555556,
              "#d8576b"
             ],
             [
              0.6666666666666666,
              "#ed7953"
             ],
             [
              0.7777777777777778,
              "#fb9f3a"
             ],
             [
              0.8888888888888888,
              "#fdca26"
             ],
             [
              1,
              "#f0f921"
             ]
            ],
            "type": "histogram2d"
           }
          ],
          "histogram2dcontour": [
           {
            "colorbar": {
             "outlinewidth": 0,
             "ticks": ""
            },
            "colorscale": [
             [
              0,
              "#0d0887"
             ],
             [
              0.1111111111111111,
              "#46039f"
             ],
             [
              0.2222222222222222,
              "#7201a8"
             ],
             [
              0.3333333333333333,
              "#9c179e"
             ],
             [
              0.4444444444444444,
              "#bd3786"
             ],
             [
              0.5555555555555556,
              "#d8576b"
             ],
             [
              0.6666666666666666,
              "#ed7953"
             ],
             [
              0.7777777777777778,
              "#fb9f3a"
             ],
             [
              0.8888888888888888,
              "#fdca26"
             ],
             [
              1,
              "#f0f921"
             ]
            ],
            "type": "histogram2dcontour"
           }
          ],
          "mesh3d": [
           {
            "colorbar": {
             "outlinewidth": 0,
             "ticks": ""
            },
            "type": "mesh3d"
           }
          ],
          "parcoords": [
           {
            "line": {
             "colorbar": {
              "outlinewidth": 0,
              "ticks": ""
             }
            },
            "type": "parcoords"
           }
          ],
          "pie": [
           {
            "automargin": true,
            "type": "pie"
           }
          ],
          "scatter": [
           {
            "marker": {
             "colorbar": {
              "outlinewidth": 0,
              "ticks": ""
             }
            },
            "type": "scatter"
           }
          ],
          "scatter3d": [
           {
            "line": {
             "colorbar": {
              "outlinewidth": 0,
              "ticks": ""
             }
            },
            "marker": {
             "colorbar": {
              "outlinewidth": 0,
              "ticks": ""
             }
            },
            "type": "scatter3d"
           }
          ],
          "scattercarpet": [
           {
            "marker": {
             "colorbar": {
              "outlinewidth": 0,
              "ticks": ""
             }
            },
            "type": "scattercarpet"
           }
          ],
          "scattergeo": [
           {
            "marker": {
             "colorbar": {
              "outlinewidth": 0,
              "ticks": ""
             }
            },
            "type": "scattergeo"
           }
          ],
          "scattergl": [
           {
            "marker": {
             "colorbar": {
              "outlinewidth": 0,
              "ticks": ""
             }
            },
            "type": "scattergl"
           }
          ],
          "scattermapbox": [
           {
            "marker": {
             "colorbar": {
              "outlinewidth": 0,
              "ticks": ""
             }
            },
            "type": "scattermapbox"
           }
          ],
          "scatterpolar": [
           {
            "marker": {
             "colorbar": {
              "outlinewidth": 0,
              "ticks": ""
             }
            },
            "type": "scatterpolar"
           }
          ],
          "scatterpolargl": [
           {
            "marker": {
             "colorbar": {
              "outlinewidth": 0,
              "ticks": ""
             }
            },
            "type": "scatterpolargl"
           }
          ],
          "scatterternary": [
           {
            "marker": {
             "colorbar": {
              "outlinewidth": 0,
              "ticks": ""
             }
            },
            "type": "scatterternary"
           }
          ],
          "surface": [
           {
            "colorbar": {
             "outlinewidth": 0,
             "ticks": ""
            },
            "colorscale": [
             [
              0,
              "#0d0887"
             ],
             [
              0.1111111111111111,
              "#46039f"
             ],
             [
              0.2222222222222222,
              "#7201a8"
             ],
             [
              0.3333333333333333,
              "#9c179e"
             ],
             [
              0.4444444444444444,
              "#bd3786"
             ],
             [
              0.5555555555555556,
              "#d8576b"
             ],
             [
              0.6666666666666666,
              "#ed7953"
             ],
             [
              0.7777777777777778,
              "#fb9f3a"
             ],
             [
              0.8888888888888888,
              "#fdca26"
             ],
             [
              1,
              "#f0f921"
             ]
            ],
            "type": "surface"
           }
          ],
          "table": [
           {
            "cells": {
             "fill": {
              "color": "#EBF0F8"
             },
             "line": {
              "color": "white"
             }
            },
            "header": {
             "fill": {
              "color": "#C8D4E3"
             },
             "line": {
              "color": "white"
             }
            },
            "type": "table"
           }
          ]
         },
         "layout": {
          "annotationdefaults": {
           "arrowcolor": "#2a3f5f",
           "arrowhead": 0,
           "arrowwidth": 1
          },
          "autotypenumbers": "strict",
          "coloraxis": {
           "colorbar": {
            "outlinewidth": 0,
            "ticks": ""
           }
          },
          "colorscale": {
           "diverging": [
            [
             0,
             "#8e0152"
            ],
            [
             0.1,
             "#c51b7d"
            ],
            [
             0.2,
             "#de77ae"
            ],
            [
             0.3,
             "#f1b6da"
            ],
            [
             0.4,
             "#fde0ef"
            ],
            [
             0.5,
             "#f7f7f7"
            ],
            [
             0.6,
             "#e6f5d0"
            ],
            [
             0.7,
             "#b8e186"
            ],
            [
             0.8,
             "#7fbc41"
            ],
            [
             0.9,
             "#4d9221"
            ],
            [
             1,
             "#276419"
            ]
           ],
           "sequential": [
            [
             0,
             "#0d0887"
            ],
            [
             0.1111111111111111,
             "#46039f"
            ],
            [
             0.2222222222222222,
             "#7201a8"
            ],
            [
             0.3333333333333333,
             "#9c179e"
            ],
            [
             0.4444444444444444,
             "#bd3786"
            ],
            [
             0.5555555555555556,
             "#d8576b"
            ],
            [
             0.6666666666666666,
             "#ed7953"
            ],
            [
             0.7777777777777778,
             "#fb9f3a"
            ],
            [
             0.8888888888888888,
             "#fdca26"
            ],
            [
             1,
             "#f0f921"
            ]
           ],
           "sequentialminus": [
            [
             0,
             "#0d0887"
            ],
            [
             0.1111111111111111,
             "#46039f"
            ],
            [
             0.2222222222222222,
             "#7201a8"
            ],
            [
             0.3333333333333333,
             "#9c179e"
            ],
            [
             0.4444444444444444,
             "#bd3786"
            ],
            [
             0.5555555555555556,
             "#d8576b"
            ],
            [
             0.6666666666666666,
             "#ed7953"
            ],
            [
             0.7777777777777778,
             "#fb9f3a"
            ],
            [
             0.8888888888888888,
             "#fdca26"
            ],
            [
             1,
             "#f0f921"
            ]
           ]
          },
          "colorway": [
           "#636efa",
           "#EF553B",
           "#00cc96",
           "#ab63fa",
           "#FFA15A",
           "#19d3f3",
           "#FF6692",
           "#B6E880",
           "#FF97FF",
           "#FECB52"
          ],
          "font": {
           "color": "#2a3f5f"
          },
          "geo": {
           "bgcolor": "white",
           "lakecolor": "white",
           "landcolor": "#E5ECF6",
           "showlakes": true,
           "showland": true,
           "subunitcolor": "white"
          },
          "hoverlabel": {
           "align": "left"
          },
          "hovermode": "closest",
          "mapbox": {
           "style": "light"
          },
          "paper_bgcolor": "white",
          "plot_bgcolor": "#E5ECF6",
          "polar": {
           "angularaxis": {
            "gridcolor": "white",
            "linecolor": "white",
            "ticks": ""
           },
           "bgcolor": "#E5ECF6",
           "radialaxis": {
            "gridcolor": "white",
            "linecolor": "white",
            "ticks": ""
           }
          },
          "scene": {
           "xaxis": {
            "backgroundcolor": "#E5ECF6",
            "gridcolor": "white",
            "gridwidth": 2,
            "linecolor": "white",
            "showbackground": true,
            "ticks": "",
            "zerolinecolor": "white"
           },
           "yaxis": {
            "backgroundcolor": "#E5ECF6",
            "gridcolor": "white",
            "gridwidth": 2,
            "linecolor": "white",
            "showbackground": true,
            "ticks": "",
            "zerolinecolor": "white"
           },
           "zaxis": {
            "backgroundcolor": "#E5ECF6",
            "gridcolor": "white",
            "gridwidth": 2,
            "linecolor": "white",
            "showbackground": true,
            "ticks": "",
            "zerolinecolor": "white"
           }
          },
          "shapedefaults": {
           "line": {
            "color": "#2a3f5f"
           }
          },
          "ternary": {
           "aaxis": {
            "gridcolor": "white",
            "linecolor": "white",
            "ticks": ""
           },
           "baxis": {
            "gridcolor": "white",
            "linecolor": "white",
            "ticks": ""
           },
           "bgcolor": "#E5ECF6",
           "caxis": {
            "gridcolor": "white",
            "linecolor": "white",
            "ticks": ""
           }
          },
          "title": {
           "x": 0.05
          },
          "xaxis": {
           "automargin": true,
           "gridcolor": "white",
           "linecolor": "white",
           "ticks": "",
           "title": {
            "standoff": 15
           },
           "zerolinecolor": "white",
           "zerolinewidth": 2
          },
          "yaxis": {
           "automargin": true,
           "gridcolor": "white",
           "linecolor": "white",
           "ticks": "",
           "title": {
            "standoff": 15
           },
           "zerolinecolor": "white",
           "zerolinewidth": 2
          }
         }
        },
        "title": {
         "text": "Neighborhood with Highest and Lowest Median Rent Prices"
        }
       }
      },
      "text/html": [
       "<div>                            <div id=\"089557af-def3-453f-804d-dcc3300bfe19\" class=\"plotly-graph-div\" style=\"height:525px; width:100%;\"></div>            <script type=\"text/javascript\">                require([\"plotly\"], function(Plotly) {                    window.PLOTLYENV=window.PLOTLYENV || {};                                    if (document.getElementById(\"089557af-def3-453f-804d-dcc3300bfe19\")) {                    Plotly.newPlot(                        \"089557af-def3-453f-804d-dcc3300bfe19\",                        [{\"orientation\":\"h\",\"type\":\"bar\",\"x\":[4225.0,3100.0,3097.5,3075.0,3050.0,1725.0,1725.0,1700.0,1700.0,1700.0],\"y\":[\"DUMBO\",\"Cobble Hill\",\"Downtown Brooklyn\",\"Williamsburg\",\"Brooklyn Heights\",\"Bath Beach/Bensonhurst\",\"Midwood\",\"Borough Park\",\"Brownsville\",\"Gravesend/Homecrest\"]}],                        {\"template\":{\"data\":{\"bar\":[{\"error_x\":{\"color\":\"#2a3f5f\"},\"error_y\":{\"color\":\"#2a3f5f\"},\"marker\":{\"line\":{\"color\":\"#E5ECF6\",\"width\":0.5},\"pattern\":{\"fillmode\":\"overlay\",\"size\":10,\"solidity\":0.2}},\"type\":\"bar\"}],\"barpolar\":[{\"marker\":{\"line\":{\"color\":\"#E5ECF6\",\"width\":0.5},\"pattern\":{\"fillmode\":\"overlay\",\"size\":10,\"solidity\":0.2}},\"type\":\"barpolar\"}],\"carpet\":[{\"aaxis\":{\"endlinecolor\":\"#2a3f5f\",\"gridcolor\":\"white\",\"linecolor\":\"white\",\"minorgridcolor\":\"white\",\"startlinecolor\":\"#2a3f5f\"},\"baxis\":{\"endlinecolor\":\"#2a3f5f\",\"gridcolor\":\"white\",\"linecolor\":\"white\",\"minorgridcolor\":\"white\",\"startlinecolor\":\"#2a3f5f\"},\"type\":\"carpet\"}],\"choropleth\":[{\"colorbar\":{\"outlinewidth\":0,\"ticks\":\"\"},\"type\":\"choropleth\"}],\"contour\":[{\"colorbar\":{\"outlinewidth\":0,\"ticks\":\"\"},\"colorscale\":[[0.0,\"#0d0887\"],[0.1111111111111111,\"#46039f\"],[0.2222222222222222,\"#7201a8\"],[0.3333333333333333,\"#9c179e\"],[0.4444444444444444,\"#bd3786\"],[0.5555555555555556,\"#d8576b\"],[0.6666666666666666,\"#ed7953\"],[0.7777777777777778,\"#fb9f3a\"],[0.8888888888888888,\"#fdca26\"],[1.0,\"#f0f921\"]],\"type\":\"contour\"}],\"contourcarpet\":[{\"colorbar\":{\"outlinewidth\":0,\"ticks\":\"\"},\"type\":\"contourcarpet\"}],\"heatmap\":[{\"colorbar\":{\"outlinewidth\":0,\"ticks\":\"\"},\"colorscale\":[[0.0,\"#0d0887\"],[0.1111111111111111,\"#46039f\"],[0.2222222222222222,\"#7201a8\"],[0.3333333333333333,\"#9c179e\"],[0.4444444444444444,\"#bd3786\"],[0.5555555555555556,\"#d8576b\"],[0.6666666666666666,\"#ed7953\"],[0.7777777777777778,\"#fb9f3a\"],[0.8888888888888888,\"#fdca26\"],[1.0,\"#f0f921\"]],\"type\":\"heatmap\"}],\"heatmapgl\":[{\"colorbar\":{\"outlinewidth\":0,\"ticks\":\"\"},\"colorscale\":[[0.0,\"#0d0887\"],[0.1111111111111111,\"#46039f\"],[0.2222222222222222,\"#7201a8\"],[0.3333333333333333,\"#9c179e\"],[0.4444444444444444,\"#bd3786\"],[0.5555555555555556,\"#d8576b\"],[0.6666666666666666,\"#ed7953\"],[0.7777777777777778,\"#fb9f3a\"],[0.8888888888888888,\"#fdca26\"],[1.0,\"#f0f921\"]],\"type\":\"heatmapgl\"}],\"histogram\":[{\"marker\":{\"pattern\":{\"fillmode\":\"overlay\",\"size\":10,\"solidity\":0.2}},\"type\":\"histogram\"}],\"histogram2d\":[{\"colorbar\":{\"outlinewidth\":0,\"ticks\":\"\"},\"colorscale\":[[0.0,\"#0d0887\"],[0.1111111111111111,\"#46039f\"],[0.2222222222222222,\"#7201a8\"],[0.3333333333333333,\"#9c179e\"],[0.4444444444444444,\"#bd3786\"],[0.5555555555555556,\"#d8576b\"],[0.6666666666666666,\"#ed7953\"],[0.7777777777777778,\"#fb9f3a\"],[0.8888888888888888,\"#fdca26\"],[1.0,\"#f0f921\"]],\"type\":\"histogram2d\"}],\"histogram2dcontour\":[{\"colorbar\":{\"outlinewidth\":0,\"ticks\":\"\"},\"colorscale\":[[0.0,\"#0d0887\"],[0.1111111111111111,\"#46039f\"],[0.2222222222222222,\"#7201a8\"],[0.3333333333333333,\"#9c179e\"],[0.4444444444444444,\"#bd3786\"],[0.5555555555555556,\"#d8576b\"],[0.6666666666666666,\"#ed7953\"],[0.7777777777777778,\"#fb9f3a\"],[0.8888888888888888,\"#fdca26\"],[1.0,\"#f0f921\"]],\"type\":\"histogram2dcontour\"}],\"mesh3d\":[{\"colorbar\":{\"outlinewidth\":0,\"ticks\":\"\"},\"type\":\"mesh3d\"}],\"parcoords\":[{\"line\":{\"colorbar\":{\"outlinewidth\":0,\"ticks\":\"\"}},\"type\":\"parcoords\"}],\"pie\":[{\"automargin\":true,\"type\":\"pie\"}],\"scatter\":[{\"marker\":{\"colorbar\":{\"outlinewidth\":0,\"ticks\":\"\"}},\"type\":\"scatter\"}],\"scatter3d\":[{\"line\":{\"colorbar\":{\"outlinewidth\":0,\"ticks\":\"\"}},\"marker\":{\"colorbar\":{\"outlinewidth\":0,\"ticks\":\"\"}},\"type\":\"scatter3d\"}],\"scattercarpet\":[{\"marker\":{\"colorbar\":{\"outlinewidth\":0,\"ticks\":\"\"}},\"type\":\"scattercarpet\"}],\"scattergeo\":[{\"marker\":{\"colorbar\":{\"outlinewidth\":0,\"ticks\":\"\"}},\"type\":\"scattergeo\"}],\"scattergl\":[{\"marker\":{\"colorbar\":{\"outlinewidth\":0,\"ticks\":\"\"}},\"type\":\"scattergl\"}],\"scattermapbox\":[{\"marker\":{\"colorbar\":{\"outlinewidth\":0,\"ticks\":\"\"}},\"type\":\"scattermapbox\"}],\"scatterpolar\":[{\"marker\":{\"colorbar\":{\"outlinewidth\":0,\"ticks\":\"\"}},\"type\":\"scatterpolar\"}],\"scatterpolargl\":[{\"marker\":{\"colorbar\":{\"outlinewidth\":0,\"ticks\":\"\"}},\"type\":\"scatterpolargl\"}],\"scatterternary\":[{\"marker\":{\"colorbar\":{\"outlinewidth\":0,\"ticks\":\"\"}},\"type\":\"scatterternary\"}],\"surface\":[{\"colorbar\":{\"outlinewidth\":0,\"ticks\":\"\"},\"colorscale\":[[0.0,\"#0d0887\"],[0.1111111111111111,\"#46039f\"],[0.2222222222222222,\"#7201a8\"],[0.3333333333333333,\"#9c179e\"],[0.4444444444444444,\"#bd3786\"],[0.5555555555555556,\"#d8576b\"],[0.6666666666666666,\"#ed7953\"],[0.7777777777777778,\"#fb9f3a\"],[0.8888888888888888,\"#fdca26\"],[1.0,\"#f0f921\"]],\"type\":\"surface\"}],\"table\":[{\"cells\":{\"fill\":{\"color\":\"#EBF0F8\"},\"line\":{\"color\":\"white\"}},\"header\":{\"fill\":{\"color\":\"#C8D4E3\"},\"line\":{\"color\":\"white\"}},\"type\":\"table\"}]},\"layout\":{\"annotationdefaults\":{\"arrowcolor\":\"#2a3f5f\",\"arrowhead\":0,\"arrowwidth\":1},\"autotypenumbers\":\"strict\",\"coloraxis\":{\"colorbar\":{\"outlinewidth\":0,\"ticks\":\"\"}},\"colorscale\":{\"diverging\":[[0,\"#8e0152\"],[0.1,\"#c51b7d\"],[0.2,\"#de77ae\"],[0.3,\"#f1b6da\"],[0.4,\"#fde0ef\"],[0.5,\"#f7f7f7\"],[0.6,\"#e6f5d0\"],[0.7,\"#b8e186\"],[0.8,\"#7fbc41\"],[0.9,\"#4d9221\"],[1,\"#276419\"]],\"sequential\":[[0.0,\"#0d0887\"],[0.1111111111111111,\"#46039f\"],[0.2222222222222222,\"#7201a8\"],[0.3333333333333333,\"#9c179e\"],[0.4444444444444444,\"#bd3786\"],[0.5555555555555556,\"#d8576b\"],[0.6666666666666666,\"#ed7953\"],[0.7777777777777778,\"#fb9f3a\"],[0.8888888888888888,\"#fdca26\"],[1.0,\"#f0f921\"]],\"sequentialminus\":[[0.0,\"#0d0887\"],[0.1111111111111111,\"#46039f\"],[0.2222222222222222,\"#7201a8\"],[0.3333333333333333,\"#9c179e\"],[0.4444444444444444,\"#bd3786\"],[0.5555555555555556,\"#d8576b\"],[0.6666666666666666,\"#ed7953\"],[0.7777777777777778,\"#fb9f3a\"],[0.8888888888888888,\"#fdca26\"],[1.0,\"#f0f921\"]]},\"colorway\":[\"#636efa\",\"#EF553B\",\"#00cc96\",\"#ab63fa\",\"#FFA15A\",\"#19d3f3\",\"#FF6692\",\"#B6E880\",\"#FF97FF\",\"#FECB52\"],\"font\":{\"color\":\"#2a3f5f\"},\"geo\":{\"bgcolor\":\"white\",\"lakecolor\":\"white\",\"landcolor\":\"#E5ECF6\",\"showlakes\":true,\"showland\":true,\"subunitcolor\":\"white\"},\"hoverlabel\":{\"align\":\"left\"},\"hovermode\":\"closest\",\"mapbox\":{\"style\":\"light\"},\"paper_bgcolor\":\"white\",\"plot_bgcolor\":\"#E5ECF6\",\"polar\":{\"angularaxis\":{\"gridcolor\":\"white\",\"linecolor\":\"white\",\"ticks\":\"\"},\"bgcolor\":\"#E5ECF6\",\"radialaxis\":{\"gridcolor\":\"white\",\"linecolor\":\"white\",\"ticks\":\"\"}},\"scene\":{\"xaxis\":{\"backgroundcolor\":\"#E5ECF6\",\"gridcolor\":\"white\",\"gridwidth\":2,\"linecolor\":\"white\",\"showbackground\":true,\"ticks\":\"\",\"zerolinecolor\":\"white\"},\"yaxis\":{\"backgroundcolor\":\"#E5ECF6\",\"gridcolor\":\"white\",\"gridwidth\":2,\"linecolor\":\"white\",\"showbackground\":true,\"ticks\":\"\",\"zerolinecolor\":\"white\"},\"zaxis\":{\"backgroundcolor\":\"#E5ECF6\",\"gridcolor\":\"white\",\"gridwidth\":2,\"linecolor\":\"white\",\"showbackground\":true,\"ticks\":\"\",\"zerolinecolor\":\"white\"}},\"shapedefaults\":{\"line\":{\"color\":\"#2a3f5f\"}},\"ternary\":{\"aaxis\":{\"gridcolor\":\"white\",\"linecolor\":\"white\",\"ticks\":\"\"},\"baxis\":{\"gridcolor\":\"white\",\"linecolor\":\"white\",\"ticks\":\"\"},\"bgcolor\":\"#E5ECF6\",\"caxis\":{\"gridcolor\":\"white\",\"linecolor\":\"white\",\"ticks\":\"\"}},\"title\":{\"x\":0.05},\"xaxis\":{\"automargin\":true,\"gridcolor\":\"white\",\"linecolor\":\"white\",\"ticks\":\"\",\"title\":{\"standoff\":15},\"zerolinecolor\":\"white\",\"zerolinewidth\":2},\"yaxis\":{\"automargin\":true,\"gridcolor\":\"white\",\"linecolor\":\"white\",\"ticks\":\"\",\"title\":{\"standoff\":15},\"zerolinecolor\":\"white\",\"zerolinewidth\":2}}},\"title\":{\"text\":\"Neighborhood with Highest and Lowest Median Rent Prices\"}},                        {\"responsive\": true}                    ).then(function(){\n",
       "                            \n",
       "var gd = document.getElementById('089557af-def3-453f-804d-dcc3300bfe19');\n",
       "var x = new MutationObserver(function (mutations, observer) {{\n",
       "        var display = window.getComputedStyle(gd).display;\n",
       "        if (!display || display === 'none') {{\n",
       "            console.log([gd, 'removed!']);\n",
       "            Plotly.purge(gd);\n",
       "            observer.disconnect();\n",
       "        }}\n",
       "}});\n",
       "\n",
       "// Listen for the removal of the full notebook cells\n",
       "var notebookContainer = gd.closest('#notebook-container');\n",
       "if (notebookContainer) {{\n",
       "    x.observe(notebookContainer, {childList: true});\n",
       "}}\n",
       "\n",
       "// Listen for the clearing of the current output cell\n",
       "var outputEl = gd.closest('.output');\n",
       "if (outputEl) {{\n",
       "    x.observe(outputEl, {childList: true});\n",
       "}}\n",
       "\n",
       "                        })                };                });            </script>        </div>"
      ]
     },
     "metadata": {},
     "output_type": "display_data"
    }
   ],
   "source": [
    "import plotly.graph_objects as go\n",
    "\n",
    "extreme_rent_df1 = extreme_rent_df.groupby('Neighborhood')['Price'].median().sort_values(ascending = False).reset_index()\n",
    "\n",
    "fig = go.Figure(go.Bar(\n",
    "            x=extreme_rent_df1['Price'],\n",
    "            y=extreme_rent_df1['Neighborhood'],\n",
    "            orientation='h'),\n",
    "               go.Layout(title = \"Neighborhood with Highest and Lowest Median Rent Prices\")\n",
    "               )\n",
    "\n",
    "fig.show()\n"
   ]
  },
  {
   "cell_type": "code",
   "execution_count": 887,
   "id": "reliable-method",
   "metadata": {},
   "outputs": [
    {
     "data": {
      "application/vnd.plotly.v1+json": {
       "config": {
        "plotlyServerURL": "https://plot.ly"
       },
       "data": [
        {
         "orientation": "h",
         "type": "bar",
         "x": [
          801.01,
          733.56,
          696.535,
          601.49,
          535.83,
          131.69,
          125.00999999999999,
          104.62,
          102.6,
          78.3
         ],
         "y": [
          "Bushwick",
          "Prospect Heights",
          "Bedford-Stuyvesant",
          "Crown Heights",
          "Fort Greene",
          "Bath Beach/Bensonhurst",
          "Parkville/Bensonhurst",
          "Borough Park",
          "Dyker Heights",
          "Starrett City"
         ]
        }
       ],
       "layout": {
        "template": {
         "data": {
          "bar": [
           {
            "error_x": {
             "color": "#2a3f5f"
            },
            "error_y": {
             "color": "#2a3f5f"
            },
            "marker": {
             "line": {
              "color": "#E5ECF6",
              "width": 0.5
             },
             "pattern": {
              "fillmode": "overlay",
              "size": 10,
              "solidity": 0.2
             }
            },
            "type": "bar"
           }
          ],
          "barpolar": [
           {
            "marker": {
             "line": {
              "color": "#E5ECF6",
              "width": 0.5
             },
             "pattern": {
              "fillmode": "overlay",
              "size": 10,
              "solidity": 0.2
             }
            },
            "type": "barpolar"
           }
          ],
          "carpet": [
           {
            "aaxis": {
             "endlinecolor": "#2a3f5f",
             "gridcolor": "white",
             "linecolor": "white",
             "minorgridcolor": "white",
             "startlinecolor": "#2a3f5f"
            },
            "baxis": {
             "endlinecolor": "#2a3f5f",
             "gridcolor": "white",
             "linecolor": "white",
             "minorgridcolor": "white",
             "startlinecolor": "#2a3f5f"
            },
            "type": "carpet"
           }
          ],
          "choropleth": [
           {
            "colorbar": {
             "outlinewidth": 0,
             "ticks": ""
            },
            "type": "choropleth"
           }
          ],
          "contour": [
           {
            "colorbar": {
             "outlinewidth": 0,
             "ticks": ""
            },
            "colorscale": [
             [
              0,
              "#0d0887"
             ],
             [
              0.1111111111111111,
              "#46039f"
             ],
             [
              0.2222222222222222,
              "#7201a8"
             ],
             [
              0.3333333333333333,
              "#9c179e"
             ],
             [
              0.4444444444444444,
              "#bd3786"
             ],
             [
              0.5555555555555556,
              "#d8576b"
             ],
             [
              0.6666666666666666,
              "#ed7953"
             ],
             [
              0.7777777777777778,
              "#fb9f3a"
             ],
             [
              0.8888888888888888,
              "#fdca26"
             ],
             [
              1,
              "#f0f921"
             ]
            ],
            "type": "contour"
           }
          ],
          "contourcarpet": [
           {
            "colorbar": {
             "outlinewidth": 0,
             "ticks": ""
            },
            "type": "contourcarpet"
           }
          ],
          "heatmap": [
           {
            "colorbar": {
             "outlinewidth": 0,
             "ticks": ""
            },
            "colorscale": [
             [
              0,
              "#0d0887"
             ],
             [
              0.1111111111111111,
              "#46039f"
             ],
             [
              0.2222222222222222,
              "#7201a8"
             ],
             [
              0.3333333333333333,
              "#9c179e"
             ],
             [
              0.4444444444444444,
              "#bd3786"
             ],
             [
              0.5555555555555556,
              "#d8576b"
             ],
             [
              0.6666666666666666,
              "#ed7953"
             ],
             [
              0.7777777777777778,
              "#fb9f3a"
             ],
             [
              0.8888888888888888,
              "#fdca26"
             ],
             [
              1,
              "#f0f921"
             ]
            ],
            "type": "heatmap"
           }
          ],
          "heatmapgl": [
           {
            "colorbar": {
             "outlinewidth": 0,
             "ticks": ""
            },
            "colorscale": [
             [
              0,
              "#0d0887"
             ],
             [
              0.1111111111111111,
              "#46039f"
             ],
             [
              0.2222222222222222,
              "#7201a8"
             ],
             [
              0.3333333333333333,
              "#9c179e"
             ],
             [
              0.4444444444444444,
              "#bd3786"
             ],
             [
              0.5555555555555556,
              "#d8576b"
             ],
             [
              0.6666666666666666,
              "#ed7953"
             ],
             [
              0.7777777777777778,
              "#fb9f3a"
             ],
             [
              0.8888888888888888,
              "#fdca26"
             ],
             [
              1,
              "#f0f921"
             ]
            ],
            "type": "heatmapgl"
           }
          ],
          "histogram": [
           {
            "marker": {
             "pattern": {
              "fillmode": "overlay",
              "size": 10,
              "solidity": 0.2
             }
            },
            "type": "histogram"
           }
          ],
          "histogram2d": [
           {
            "colorbar": {
             "outlinewidth": 0,
             "ticks": ""
            },
            "colorscale": [
             [
              0,
              "#0d0887"
             ],
             [
              0.1111111111111111,
              "#46039f"
             ],
             [
              0.2222222222222222,
              "#7201a8"
             ],
             [
              0.3333333333333333,
              "#9c179e"
             ],
             [
              0.4444444444444444,
              "#bd3786"
             ],
             [
              0.5555555555555556,
              "#d8576b"
             ],
             [
              0.6666666666666666,
              "#ed7953"
             ],
             [
              0.7777777777777778,
              "#fb9f3a"
             ],
             [
              0.8888888888888888,
              "#fdca26"
             ],
             [
              1,
              "#f0f921"
             ]
            ],
            "type": "histogram2d"
           }
          ],
          "histogram2dcontour": [
           {
            "colorbar": {
             "outlinewidth": 0,
             "ticks": ""
            },
            "colorscale": [
             [
              0,
              "#0d0887"
             ],
             [
              0.1111111111111111,
              "#46039f"
             ],
             [
              0.2222222222222222,
              "#7201a8"
             ],
             [
              0.3333333333333333,
              "#9c179e"
             ],
             [
              0.4444444444444444,
              "#bd3786"
             ],
             [
              0.5555555555555556,
              "#d8576b"
             ],
             [
              0.6666666666666666,
              "#ed7953"
             ],
             [
              0.7777777777777778,
              "#fb9f3a"
             ],
             [
              0.8888888888888888,
              "#fdca26"
             ],
             [
              1,
              "#f0f921"
             ]
            ],
            "type": "histogram2dcontour"
           }
          ],
          "mesh3d": [
           {
            "colorbar": {
             "outlinewidth": 0,
             "ticks": ""
            },
            "type": "mesh3d"
           }
          ],
          "parcoords": [
           {
            "line": {
             "colorbar": {
              "outlinewidth": 0,
              "ticks": ""
             }
            },
            "type": "parcoords"
           }
          ],
          "pie": [
           {
            "automargin": true,
            "type": "pie"
           }
          ],
          "scatter": [
           {
            "marker": {
             "colorbar": {
              "outlinewidth": 0,
              "ticks": ""
             }
            },
            "type": "scatter"
           }
          ],
          "scatter3d": [
           {
            "line": {
             "colorbar": {
              "outlinewidth": 0,
              "ticks": ""
             }
            },
            "marker": {
             "colorbar": {
              "outlinewidth": 0,
              "ticks": ""
             }
            },
            "type": "scatter3d"
           }
          ],
          "scattercarpet": [
           {
            "marker": {
             "colorbar": {
              "outlinewidth": 0,
              "ticks": ""
             }
            },
            "type": "scattercarpet"
           }
          ],
          "scattergeo": [
           {
            "marker": {
             "colorbar": {
              "outlinewidth": 0,
              "ticks": ""
             }
            },
            "type": "scattergeo"
           }
          ],
          "scattergl": [
           {
            "marker": {
             "colorbar": {
              "outlinewidth": 0,
              "ticks": ""
             }
            },
            "type": "scattergl"
           }
          ],
          "scattermapbox": [
           {
            "marker": {
             "colorbar": {
              "outlinewidth": 0,
              "ticks": ""
             }
            },
            "type": "scattermapbox"
           }
          ],
          "scatterpolar": [
           {
            "marker": {
             "colorbar": {
              "outlinewidth": 0,
              "ticks": ""
             }
            },
            "type": "scatterpolar"
           }
          ],
          "scatterpolargl": [
           {
            "marker": {
             "colorbar": {
              "outlinewidth": 0,
              "ticks": ""
             }
            },
            "type": "scatterpolargl"
           }
          ],
          "scatterternary": [
           {
            "marker": {
             "colorbar": {
              "outlinewidth": 0,
              "ticks": ""
             }
            },
            "type": "scatterternary"
           }
          ],
          "surface": [
           {
            "colorbar": {
             "outlinewidth": 0,
             "ticks": ""
            },
            "colorscale": [
             [
              0,
              "#0d0887"
             ],
             [
              0.1111111111111111,
              "#46039f"
             ],
             [
              0.2222222222222222,
              "#7201a8"
             ],
             [
              0.3333333333333333,
              "#9c179e"
             ],
             [
              0.4444444444444444,
              "#bd3786"
             ],
             [
              0.5555555555555556,
              "#d8576b"
             ],
             [
              0.6666666666666666,
              "#ed7953"
             ],
             [
              0.7777777777777778,
              "#fb9f3a"
             ],
             [
              0.8888888888888888,
              "#fdca26"
             ],
             [
              1,
              "#f0f921"
             ]
            ],
            "type": "surface"
           }
          ],
          "table": [
           {
            "cells": {
             "fill": {
              "color": "#EBF0F8"
             },
             "line": {
              "color": "white"
             }
            },
            "header": {
             "fill": {
              "color": "#C8D4E3"
             },
             "line": {
              "color": "white"
             }
            },
            "type": "table"
           }
          ]
         },
         "layout": {
          "annotationdefaults": {
           "arrowcolor": "#2a3f5f",
           "arrowhead": 0,
           "arrowwidth": 1
          },
          "autotypenumbers": "strict",
          "coloraxis": {
           "colorbar": {
            "outlinewidth": 0,
            "ticks": ""
           }
          },
          "colorscale": {
           "diverging": [
            [
             0,
             "#8e0152"
            ],
            [
             0.1,
             "#c51b7d"
            ],
            [
             0.2,
             "#de77ae"
            ],
            [
             0.3,
             "#f1b6da"
            ],
            [
             0.4,
             "#fde0ef"
            ],
            [
             0.5,
             "#f7f7f7"
            ],
            [
             0.6,
             "#e6f5d0"
            ],
            [
             0.7,
             "#b8e186"
            ],
            [
             0.8,
             "#7fbc41"
            ],
            [
             0.9,
             "#4d9221"
            ],
            [
             1,
             "#276419"
            ]
           ],
           "sequential": [
            [
             0,
             "#0d0887"
            ],
            [
             0.1111111111111111,
             "#46039f"
            ],
            [
             0.2222222222222222,
             "#7201a8"
            ],
            [
             0.3333333333333333,
             "#9c179e"
            ],
            [
             0.4444444444444444,
             "#bd3786"
            ],
            [
             0.5555555555555556,
             "#d8576b"
            ],
            [
             0.6666666666666666,
             "#ed7953"
            ],
            [
             0.7777777777777778,
             "#fb9f3a"
            ],
            [
             0.8888888888888888,
             "#fdca26"
            ],
            [
             1,
             "#f0f921"
            ]
           ],
           "sequentialminus": [
            [
             0,
             "#0d0887"
            ],
            [
             0.1111111111111111,
             "#46039f"
            ],
            [
             0.2222222222222222,
             "#7201a8"
            ],
            [
             0.3333333333333333,
             "#9c179e"
            ],
            [
             0.4444444444444444,
             "#bd3786"
            ],
            [
             0.5555555555555556,
             "#d8576b"
            ],
            [
             0.6666666666666666,
             "#ed7953"
            ],
            [
             0.7777777777777778,
             "#fb9f3a"
            ],
            [
             0.8888888888888888,
             "#fdca26"
            ],
            [
             1,
             "#f0f921"
            ]
           ]
          },
          "colorway": [
           "#636efa",
           "#EF553B",
           "#00cc96",
           "#ab63fa",
           "#FFA15A",
           "#19d3f3",
           "#FF6692",
           "#B6E880",
           "#FF97FF",
           "#FECB52"
          ],
          "font": {
           "color": "#2a3f5f"
          },
          "geo": {
           "bgcolor": "white",
           "lakecolor": "white",
           "landcolor": "#E5ECF6",
           "showlakes": true,
           "showland": true,
           "subunitcolor": "white"
          },
          "hoverlabel": {
           "align": "left"
          },
          "hovermode": "closest",
          "mapbox": {
           "style": "light"
          },
          "paper_bgcolor": "white",
          "plot_bgcolor": "#E5ECF6",
          "polar": {
           "angularaxis": {
            "gridcolor": "white",
            "linecolor": "white",
            "ticks": ""
           },
           "bgcolor": "#E5ECF6",
           "radialaxis": {
            "gridcolor": "white",
            "linecolor": "white",
            "ticks": ""
           }
          },
          "scene": {
           "xaxis": {
            "backgroundcolor": "#E5ECF6",
            "gridcolor": "white",
            "gridwidth": 2,
            "linecolor": "white",
            "showbackground": true,
            "ticks": "",
            "zerolinecolor": "white"
           },
           "yaxis": {
            "backgroundcolor": "#E5ECF6",
            "gridcolor": "white",
            "gridwidth": 2,
            "linecolor": "white",
            "showbackground": true,
            "ticks": "",
            "zerolinecolor": "white"
           },
           "zaxis": {
            "backgroundcolor": "#E5ECF6",
            "gridcolor": "white",
            "gridwidth": 2,
            "linecolor": "white",
            "showbackground": true,
            "ticks": "",
            "zerolinecolor": "white"
           }
          },
          "shapedefaults": {
           "line": {
            "color": "#2a3f5f"
           }
          },
          "ternary": {
           "aaxis": {
            "gridcolor": "white",
            "linecolor": "white",
            "ticks": ""
           },
           "baxis": {
            "gridcolor": "white",
            "linecolor": "white",
            "ticks": ""
           },
           "bgcolor": "#E5ECF6",
           "caxis": {
            "gridcolor": "white",
            "linecolor": "white",
            "ticks": ""
           }
          },
          "title": {
           "x": 0.05
          },
          "xaxis": {
           "automargin": true,
           "gridcolor": "white",
           "linecolor": "white",
           "ticks": "",
           "title": {
            "standoff": 15
           },
           "zerolinecolor": "white",
           "zerolinewidth": 2
          },
          "yaxis": {
           "automargin": true,
           "gridcolor": "white",
           "linecolor": "white",
           "ticks": "",
           "title": {
            "standoff": 15
           },
           "zerolinecolor": "white",
           "zerolinewidth": 2
          }
         }
        },
        "title": {
         "text": "Neighborhood with Highest and Lowest Median Noise Density (per 100,000 population)"
        }
       }
      },
      "text/html": [
       "<div>                            <div id=\"f667d113-ac46-4c79-a20d-444ab30d2e14\" class=\"plotly-graph-div\" style=\"height:525px; width:100%;\"></div>            <script type=\"text/javascript\">                require([\"plotly\"], function(Plotly) {                    window.PLOTLYENV=window.PLOTLYENV || {};                                    if (document.getElementById(\"f667d113-ac46-4c79-a20d-444ab30d2e14\")) {                    Plotly.newPlot(                        \"f667d113-ac46-4c79-a20d-444ab30d2e14\",                        [{\"orientation\":\"h\",\"type\":\"bar\",\"x\":[801.01,733.56,696.535,601.49,535.83,131.69,125.00999999999999,104.62,102.6,78.3],\"y\":[\"Bushwick\",\"Prospect Heights\",\"Bedford-Stuyvesant\",\"Crown Heights\",\"Fort Greene\",\"Bath Beach/Bensonhurst\",\"Parkville/Bensonhurst\",\"Borough Park\",\"Dyker Heights\",\"Starrett City\"]}],                        {\"template\":{\"data\":{\"bar\":[{\"error_x\":{\"color\":\"#2a3f5f\"},\"error_y\":{\"color\":\"#2a3f5f\"},\"marker\":{\"line\":{\"color\":\"#E5ECF6\",\"width\":0.5},\"pattern\":{\"fillmode\":\"overlay\",\"size\":10,\"solidity\":0.2}},\"type\":\"bar\"}],\"barpolar\":[{\"marker\":{\"line\":{\"color\":\"#E5ECF6\",\"width\":0.5},\"pattern\":{\"fillmode\":\"overlay\",\"size\":10,\"solidity\":0.2}},\"type\":\"barpolar\"}],\"carpet\":[{\"aaxis\":{\"endlinecolor\":\"#2a3f5f\",\"gridcolor\":\"white\",\"linecolor\":\"white\",\"minorgridcolor\":\"white\",\"startlinecolor\":\"#2a3f5f\"},\"baxis\":{\"endlinecolor\":\"#2a3f5f\",\"gridcolor\":\"white\",\"linecolor\":\"white\",\"minorgridcolor\":\"white\",\"startlinecolor\":\"#2a3f5f\"},\"type\":\"carpet\"}],\"choropleth\":[{\"colorbar\":{\"outlinewidth\":0,\"ticks\":\"\"},\"type\":\"choropleth\"}],\"contour\":[{\"colorbar\":{\"outlinewidth\":0,\"ticks\":\"\"},\"colorscale\":[[0.0,\"#0d0887\"],[0.1111111111111111,\"#46039f\"],[0.2222222222222222,\"#7201a8\"],[0.3333333333333333,\"#9c179e\"],[0.4444444444444444,\"#bd3786\"],[0.5555555555555556,\"#d8576b\"],[0.6666666666666666,\"#ed7953\"],[0.7777777777777778,\"#fb9f3a\"],[0.8888888888888888,\"#fdca26\"],[1.0,\"#f0f921\"]],\"type\":\"contour\"}],\"contourcarpet\":[{\"colorbar\":{\"outlinewidth\":0,\"ticks\":\"\"},\"type\":\"contourcarpet\"}],\"heatmap\":[{\"colorbar\":{\"outlinewidth\":0,\"ticks\":\"\"},\"colorscale\":[[0.0,\"#0d0887\"],[0.1111111111111111,\"#46039f\"],[0.2222222222222222,\"#7201a8\"],[0.3333333333333333,\"#9c179e\"],[0.4444444444444444,\"#bd3786\"],[0.5555555555555556,\"#d8576b\"],[0.6666666666666666,\"#ed7953\"],[0.7777777777777778,\"#fb9f3a\"],[0.8888888888888888,\"#fdca26\"],[1.0,\"#f0f921\"]],\"type\":\"heatmap\"}],\"heatmapgl\":[{\"colorbar\":{\"outlinewidth\":0,\"ticks\":\"\"},\"colorscale\":[[0.0,\"#0d0887\"],[0.1111111111111111,\"#46039f\"],[0.2222222222222222,\"#7201a8\"],[0.3333333333333333,\"#9c179e\"],[0.4444444444444444,\"#bd3786\"],[0.5555555555555556,\"#d8576b\"],[0.6666666666666666,\"#ed7953\"],[0.7777777777777778,\"#fb9f3a\"],[0.8888888888888888,\"#fdca26\"],[1.0,\"#f0f921\"]],\"type\":\"heatmapgl\"}],\"histogram\":[{\"marker\":{\"pattern\":{\"fillmode\":\"overlay\",\"size\":10,\"solidity\":0.2}},\"type\":\"histogram\"}],\"histogram2d\":[{\"colorbar\":{\"outlinewidth\":0,\"ticks\":\"\"},\"colorscale\":[[0.0,\"#0d0887\"],[0.1111111111111111,\"#46039f\"],[0.2222222222222222,\"#7201a8\"],[0.3333333333333333,\"#9c179e\"],[0.4444444444444444,\"#bd3786\"],[0.5555555555555556,\"#d8576b\"],[0.6666666666666666,\"#ed7953\"],[0.7777777777777778,\"#fb9f3a\"],[0.8888888888888888,\"#fdca26\"],[1.0,\"#f0f921\"]],\"type\":\"histogram2d\"}],\"histogram2dcontour\":[{\"colorbar\":{\"outlinewidth\":0,\"ticks\":\"\"},\"colorscale\":[[0.0,\"#0d0887\"],[0.1111111111111111,\"#46039f\"],[0.2222222222222222,\"#7201a8\"],[0.3333333333333333,\"#9c179e\"],[0.4444444444444444,\"#bd3786\"],[0.5555555555555556,\"#d8576b\"],[0.6666666666666666,\"#ed7953\"],[0.7777777777777778,\"#fb9f3a\"],[0.8888888888888888,\"#fdca26\"],[1.0,\"#f0f921\"]],\"type\":\"histogram2dcontour\"}],\"mesh3d\":[{\"colorbar\":{\"outlinewidth\":0,\"ticks\":\"\"},\"type\":\"mesh3d\"}],\"parcoords\":[{\"line\":{\"colorbar\":{\"outlinewidth\":0,\"ticks\":\"\"}},\"type\":\"parcoords\"}],\"pie\":[{\"automargin\":true,\"type\":\"pie\"}],\"scatter\":[{\"marker\":{\"colorbar\":{\"outlinewidth\":0,\"ticks\":\"\"}},\"type\":\"scatter\"}],\"scatter3d\":[{\"line\":{\"colorbar\":{\"outlinewidth\":0,\"ticks\":\"\"}},\"marker\":{\"colorbar\":{\"outlinewidth\":0,\"ticks\":\"\"}},\"type\":\"scatter3d\"}],\"scattercarpet\":[{\"marker\":{\"colorbar\":{\"outlinewidth\":0,\"ticks\":\"\"}},\"type\":\"scattercarpet\"}],\"scattergeo\":[{\"marker\":{\"colorbar\":{\"outlinewidth\":0,\"ticks\":\"\"}},\"type\":\"scattergeo\"}],\"scattergl\":[{\"marker\":{\"colorbar\":{\"outlinewidth\":0,\"ticks\":\"\"}},\"type\":\"scattergl\"}],\"scattermapbox\":[{\"marker\":{\"colorbar\":{\"outlinewidth\":0,\"ticks\":\"\"}},\"type\":\"scattermapbox\"}],\"scatterpolar\":[{\"marker\":{\"colorbar\":{\"outlinewidth\":0,\"ticks\":\"\"}},\"type\":\"scatterpolar\"}],\"scatterpolargl\":[{\"marker\":{\"colorbar\":{\"outlinewidth\":0,\"ticks\":\"\"}},\"type\":\"scatterpolargl\"}],\"scatterternary\":[{\"marker\":{\"colorbar\":{\"outlinewidth\":0,\"ticks\":\"\"}},\"type\":\"scatterternary\"}],\"surface\":[{\"colorbar\":{\"outlinewidth\":0,\"ticks\":\"\"},\"colorscale\":[[0.0,\"#0d0887\"],[0.1111111111111111,\"#46039f\"],[0.2222222222222222,\"#7201a8\"],[0.3333333333333333,\"#9c179e\"],[0.4444444444444444,\"#bd3786\"],[0.5555555555555556,\"#d8576b\"],[0.6666666666666666,\"#ed7953\"],[0.7777777777777778,\"#fb9f3a\"],[0.8888888888888888,\"#fdca26\"],[1.0,\"#f0f921\"]],\"type\":\"surface\"}],\"table\":[{\"cells\":{\"fill\":{\"color\":\"#EBF0F8\"},\"line\":{\"color\":\"white\"}},\"header\":{\"fill\":{\"color\":\"#C8D4E3\"},\"line\":{\"color\":\"white\"}},\"type\":\"table\"}]},\"layout\":{\"annotationdefaults\":{\"arrowcolor\":\"#2a3f5f\",\"arrowhead\":0,\"arrowwidth\":1},\"autotypenumbers\":\"strict\",\"coloraxis\":{\"colorbar\":{\"outlinewidth\":0,\"ticks\":\"\"}},\"colorscale\":{\"diverging\":[[0,\"#8e0152\"],[0.1,\"#c51b7d\"],[0.2,\"#de77ae\"],[0.3,\"#f1b6da\"],[0.4,\"#fde0ef\"],[0.5,\"#f7f7f7\"],[0.6,\"#e6f5d0\"],[0.7,\"#b8e186\"],[0.8,\"#7fbc41\"],[0.9,\"#4d9221\"],[1,\"#276419\"]],\"sequential\":[[0.0,\"#0d0887\"],[0.1111111111111111,\"#46039f\"],[0.2222222222222222,\"#7201a8\"],[0.3333333333333333,\"#9c179e\"],[0.4444444444444444,\"#bd3786\"],[0.5555555555555556,\"#d8576b\"],[0.6666666666666666,\"#ed7953\"],[0.7777777777777778,\"#fb9f3a\"],[0.8888888888888888,\"#fdca26\"],[1.0,\"#f0f921\"]],\"sequentialminus\":[[0.0,\"#0d0887\"],[0.1111111111111111,\"#46039f\"],[0.2222222222222222,\"#7201a8\"],[0.3333333333333333,\"#9c179e\"],[0.4444444444444444,\"#bd3786\"],[0.5555555555555556,\"#d8576b\"],[0.6666666666666666,\"#ed7953\"],[0.7777777777777778,\"#fb9f3a\"],[0.8888888888888888,\"#fdca26\"],[1.0,\"#f0f921\"]]},\"colorway\":[\"#636efa\",\"#EF553B\",\"#00cc96\",\"#ab63fa\",\"#FFA15A\",\"#19d3f3\",\"#FF6692\",\"#B6E880\",\"#FF97FF\",\"#FECB52\"],\"font\":{\"color\":\"#2a3f5f\"},\"geo\":{\"bgcolor\":\"white\",\"lakecolor\":\"white\",\"landcolor\":\"#E5ECF6\",\"showlakes\":true,\"showland\":true,\"subunitcolor\":\"white\"},\"hoverlabel\":{\"align\":\"left\"},\"hovermode\":\"closest\",\"mapbox\":{\"style\":\"light\"},\"paper_bgcolor\":\"white\",\"plot_bgcolor\":\"#E5ECF6\",\"polar\":{\"angularaxis\":{\"gridcolor\":\"white\",\"linecolor\":\"white\",\"ticks\":\"\"},\"bgcolor\":\"#E5ECF6\",\"radialaxis\":{\"gridcolor\":\"white\",\"linecolor\":\"white\",\"ticks\":\"\"}},\"scene\":{\"xaxis\":{\"backgroundcolor\":\"#E5ECF6\",\"gridcolor\":\"white\",\"gridwidth\":2,\"linecolor\":\"white\",\"showbackground\":true,\"ticks\":\"\",\"zerolinecolor\":\"white\"},\"yaxis\":{\"backgroundcolor\":\"#E5ECF6\",\"gridcolor\":\"white\",\"gridwidth\":2,\"linecolor\":\"white\",\"showbackground\":true,\"ticks\":\"\",\"zerolinecolor\":\"white\"},\"zaxis\":{\"backgroundcolor\":\"#E5ECF6\",\"gridcolor\":\"white\",\"gridwidth\":2,\"linecolor\":\"white\",\"showbackground\":true,\"ticks\":\"\",\"zerolinecolor\":\"white\"}},\"shapedefaults\":{\"line\":{\"color\":\"#2a3f5f\"}},\"ternary\":{\"aaxis\":{\"gridcolor\":\"white\",\"linecolor\":\"white\",\"ticks\":\"\"},\"baxis\":{\"gridcolor\":\"white\",\"linecolor\":\"white\",\"ticks\":\"\"},\"bgcolor\":\"#E5ECF6\",\"caxis\":{\"gridcolor\":\"white\",\"linecolor\":\"white\",\"ticks\":\"\"}},\"title\":{\"x\":0.05},\"xaxis\":{\"automargin\":true,\"gridcolor\":\"white\",\"linecolor\":\"white\",\"ticks\":\"\",\"title\":{\"standoff\":15},\"zerolinecolor\":\"white\",\"zerolinewidth\":2},\"yaxis\":{\"automargin\":true,\"gridcolor\":\"white\",\"linecolor\":\"white\",\"ticks\":\"\",\"title\":{\"standoff\":15},\"zerolinecolor\":\"white\",\"zerolinewidth\":2}}},\"title\":{\"text\":\"Neighborhood with Highest and Lowest Median Noise Density (per 100,000 population)\"}},                        {\"responsive\": true}                    ).then(function(){\n",
       "                            \n",
       "var gd = document.getElementById('f667d113-ac46-4c79-a20d-444ab30d2e14');\n",
       "var x = new MutationObserver(function (mutations, observer) {{\n",
       "        var display = window.getComputedStyle(gd).display;\n",
       "        if (!display || display === 'none') {{\n",
       "            console.log([gd, 'removed!']);\n",
       "            Plotly.purge(gd);\n",
       "            observer.disconnect();\n",
       "        }}\n",
       "}});\n",
       "\n",
       "// Listen for the removal of the full notebook cells\n",
       "var notebookContainer = gd.closest('#notebook-container');\n",
       "if (notebookContainer) {{\n",
       "    x.observe(notebookContainer, {childList: true});\n",
       "}}\n",
       "\n",
       "// Listen for the clearing of the current output cell\n",
       "var outputEl = gd.closest('.output');\n",
       "if (outputEl) {{\n",
       "    x.observe(outputEl, {childList: true});\n",
       "}}\n",
       "\n",
       "                        })                };                });            </script>        </div>"
      ]
     },
     "metadata": {},
     "output_type": "display_data"
    }
   ],
   "source": [
    "all_extreme_noise_price_df1 = all_extreme_noise_price_df.groupby('Neighborhood')['Density per 100000 people'].median().sort_values(ascending = False).reset_index()\n",
    "\n",
    "fig = go.Figure(go.Bar(\n",
    "            x=all_extreme_noise_price_df1['Density per 100000 people'],\n",
    "            y=all_extreme_noise_price_df1['Neighborhood'],\n",
    "            orientation='h'),\n",
    "               go.Layout(title = \"Neighborhood with Highest and Lowest Median Noise Density (per 100,000 population)\"))\n",
    "\n",
    "fig.show()\n"
   ]
  },
  {
   "cell_type": "code",
   "execution_count": 888,
   "id": "desirable-destruction",
   "metadata": {},
   "outputs": [
    {
     "data": {
      "text/html": [
       "<div>\n",
       "<style scoped>\n",
       "    .dataframe tbody tr th:only-of-type {\n",
       "        vertical-align: middle;\n",
       "    }\n",
       "\n",
       "    .dataframe tbody tr th {\n",
       "        vertical-align: top;\n",
       "    }\n",
       "\n",
       "    .dataframe thead th {\n",
       "        text-align: right;\n",
       "    }\n",
       "</style>\n",
       "<table border=\"1\" class=\"dataframe\">\n",
       "  <thead>\n",
       "    <tr style=\"text-align: right;\">\n",
       "      <th></th>\n",
       "      <th>Created Date</th>\n",
       "      <th>Zip</th>\n",
       "      <th>Unnamed: 0</th>\n",
       "      <th>Count</th>\n",
       "      <th>Neighborhood</th>\n",
       "      <th>Population</th>\n",
       "      <th>Density per 100000 people</th>\n",
       "      <th>Price</th>\n",
       "    </tr>\n",
       "  </thead>\n",
       "  <tbody>\n",
       "    <tr>\n",
       "      <th>0</th>\n",
       "      <td>2013-06-30</td>\n",
       "      <td>11204</td>\n",
       "      <td>21</td>\n",
       "      <td>21</td>\n",
       "      <td>Parkville/Bensonhurst</td>\n",
       "      <td>76395</td>\n",
       "      <td>27.49</td>\n",
       "      <td>1350.0</td>\n",
       "    </tr>\n",
       "    <tr>\n",
       "      <th>1</th>\n",
       "      <td>2013-06-30</td>\n",
       "      <td>11204</td>\n",
       "      <td>21</td>\n",
       "      <td>21</td>\n",
       "      <td>Parkville/Bensonhurst</td>\n",
       "      <td>76395</td>\n",
       "      <td>27.49</td>\n",
       "      <td>2100.0</td>\n",
       "    </tr>\n",
       "    <tr>\n",
       "      <th>2</th>\n",
       "      <td>2013-07-31</td>\n",
       "      <td>11204</td>\n",
       "      <td>112</td>\n",
       "      <td>112</td>\n",
       "      <td>Parkville/Bensonhurst</td>\n",
       "      <td>76395</td>\n",
       "      <td>146.61</td>\n",
       "      <td>1400.0</td>\n",
       "    </tr>\n",
       "    <tr>\n",
       "      <th>3</th>\n",
       "      <td>2013-07-31</td>\n",
       "      <td>11204</td>\n",
       "      <td>112</td>\n",
       "      <td>112</td>\n",
       "      <td>Parkville/Bensonhurst</td>\n",
       "      <td>76395</td>\n",
       "      <td>146.61</td>\n",
       "      <td>2100.0</td>\n",
       "    </tr>\n",
       "    <tr>\n",
       "      <th>4</th>\n",
       "      <td>2013-08-31</td>\n",
       "      <td>11204</td>\n",
       "      <td>109</td>\n",
       "      <td>109</td>\n",
       "      <td>Parkville/Bensonhurst</td>\n",
       "      <td>76395</td>\n",
       "      <td>142.68</td>\n",
       "      <td>1450.0</td>\n",
       "    </tr>\n",
       "    <tr>\n",
       "      <th>...</th>\n",
       "      <td>...</td>\n",
       "      <td>...</td>\n",
       "      <td>...</td>\n",
       "      <td>...</td>\n",
       "      <td>...</td>\n",
       "      <td>...</td>\n",
       "      <td>...</td>\n",
       "      <td>...</td>\n",
       "    </tr>\n",
       "    <tr>\n",
       "      <th>786</th>\n",
       "      <td>2019-01-31</td>\n",
       "      <td>11239</td>\n",
       "      <td>10</td>\n",
       "      <td>10</td>\n",
       "      <td>Starrett City</td>\n",
       "      <td>12772</td>\n",
       "      <td>78.30</td>\n",
       "      <td>NaN</td>\n",
       "    </tr>\n",
       "    <tr>\n",
       "      <th>787</th>\n",
       "      <td>2019-02-28</td>\n",
       "      <td>11239</td>\n",
       "      <td>15</td>\n",
       "      <td>15</td>\n",
       "      <td>Starrett City</td>\n",
       "      <td>12772</td>\n",
       "      <td>117.44</td>\n",
       "      <td>NaN</td>\n",
       "    </tr>\n",
       "    <tr>\n",
       "      <th>788</th>\n",
       "      <td>2019-03-31</td>\n",
       "      <td>11239</td>\n",
       "      <td>12</td>\n",
       "      <td>12</td>\n",
       "      <td>Starrett City</td>\n",
       "      <td>12772</td>\n",
       "      <td>93.96</td>\n",
       "      <td>NaN</td>\n",
       "    </tr>\n",
       "    <tr>\n",
       "      <th>789</th>\n",
       "      <td>2019-04-30</td>\n",
       "      <td>11239</td>\n",
       "      <td>45</td>\n",
       "      <td>45</td>\n",
       "      <td>Starrett City</td>\n",
       "      <td>12772</td>\n",
       "      <td>352.33</td>\n",
       "      <td>NaN</td>\n",
       "    </tr>\n",
       "    <tr>\n",
       "      <th>790</th>\n",
       "      <td>2019-05-31</td>\n",
       "      <td>11239</td>\n",
       "      <td>5</td>\n",
       "      <td>5</td>\n",
       "      <td>Starrett City</td>\n",
       "      <td>12772</td>\n",
       "      <td>39.15</td>\n",
       "      <td>NaN</td>\n",
       "    </tr>\n",
       "  </tbody>\n",
       "</table>\n",
       "<p>791 rows × 8 columns</p>\n",
       "</div>"
      ],
      "text/plain": [
       "    Created Date    Zip  Unnamed: 0  Count           Neighborhood  Population  \\\n",
       "0     2013-06-30  11204          21     21  Parkville/Bensonhurst       76395   \n",
       "1     2013-06-30  11204          21     21  Parkville/Bensonhurst       76395   \n",
       "2     2013-07-31  11204         112    112  Parkville/Bensonhurst       76395   \n",
       "3     2013-07-31  11204         112    112  Parkville/Bensonhurst       76395   \n",
       "4     2013-08-31  11204         109    109  Parkville/Bensonhurst       76395   \n",
       "..           ...    ...         ...    ...                    ...         ...   \n",
       "786   2019-01-31  11239          10     10          Starrett City       12772   \n",
       "787   2019-02-28  11239          15     15          Starrett City       12772   \n",
       "788   2019-03-31  11239          12     12          Starrett City       12772   \n",
       "789   2019-04-30  11239          45     45          Starrett City       12772   \n",
       "790   2019-05-31  11239           5      5          Starrett City       12772   \n",
       "\n",
       "     Density per 100000 people   Price  \n",
       "0                        27.49  1350.0  \n",
       "1                        27.49  2100.0  \n",
       "2                       146.61  1400.0  \n",
       "3                       146.61  2100.0  \n",
       "4                       142.68  1450.0  \n",
       "..                         ...     ...  \n",
       "786                      78.30     NaN  \n",
       "787                     117.44     NaN  \n",
       "788                      93.96     NaN  \n",
       "789                     352.33     NaN  \n",
       "790                      39.15     NaN  \n",
       "\n",
       "[791 rows x 8 columns]"
      ]
     },
     "execution_count": 888,
     "metadata": {},
     "output_type": "execute_result"
    }
   ],
   "source": [
    "all_extreme_noise_price_df"
   ]
  },
  {
   "cell_type": "code",
   "execution_count": null,
   "id": "portable-explosion",
   "metadata": {},
   "outputs": [],
   "source": []
  }
 ],
 "metadata": {
  "kernelspec": {
   "display_name": "Python 3",
   "language": "python",
   "name": "python3"
  },
  "language_info": {
   "codemirror_mode": {
    "name": "ipython",
    "version": 3
   },
   "file_extension": ".py",
   "mimetype": "text/x-python",
   "name": "python",
   "nbconvert_exporter": "python",
   "pygments_lexer": "ipython3",
   "version": "3.7.4"
  }
 },
 "nbformat": 4,
 "nbformat_minor": 5
}
